{
 "cells": [
  {
   "cell_type": "code",
   "execution_count": 2,
   "id": "de0d3743",
   "metadata": {},
   "outputs": [],
   "source": [
    "import json\n",
    "import requests\n",
    "from src import utils\n",
    "import time\n",
    "import os"
   ]
  },
  {
   "cell_type": "code",
   "execution_count": 3,
   "id": "1f6e3734",
   "metadata": {},
   "outputs": [],
   "source": [
    "api_path = '/userhomes/philhoon/kt-ai-challenge/api.json'"
   ]
  },
  {
   "cell_type": "code",
   "execution_count": 4,
   "id": "88e90579",
   "metadata": {},
   "outputs": [],
   "source": [
    "api = utils.read_json_file(api_path)"
   ]
  },
  {
   "cell_type": "code",
   "execution_count": 5,
   "id": "c51fe990",
   "metadata": {},
   "outputs": [],
   "source": [
    "input_file = '/userhomes/philhoon/kt-ai-challenge/data/openai-gpt-3.5-turbo-0301-2048-0.0-KOR-gsm8k-test.jsonl'\n",
    "# in_path = '/userhomes/philhoon/kt-ai-challenge/data/openai-gpt-3.5-turbo-0301-2048-0.0-KOR-gsm8k-train.jsonl'"
   ]
  },
  {
   "cell_type": "code",
   "execution_count": 6,
   "id": "70f07d94",
   "metadata": {},
   "outputs": [],
   "source": [
    "output_path = '/userhomes/philhoon/kt-ai-challenge/result'"
   ]
  },
  {
   "cell_type": "code",
   "execution_count": 7,
   "id": "77a8c4e8",
   "metadata": {},
   "outputs": [
    {
     "name": "stdout",
     "output_type": "stream",
     "text": [
      "output_file : zero-shot-cot-result-ko-gsm8k-test.jsonl\n"
     ]
    }
   ],
   "source": [
    "os.makedirs(output_path, exist_ok=True)\n",
    "output_file_name = 'result-' + input_file.split('/')[-1]\n",
    "output_file = 'zero-shot-cot-result-ko-gsm8k-test.jsonl'\n",
    "print(f'output_file : {output_file}')"
   ]
  },
  {
   "cell_type": "code",
   "execution_count": 8,
   "id": "0e530627",
   "metadata": {},
   "outputs": [
    {
     "name": "stdout",
     "output_type": "stream",
     "text": [
      "output_file : /userhomes/philhoon/kt-ai-challenge/result/test.jsonl\n"
     ]
    }
   ],
   "source": [
    "output_file = output_path + '/' + 'test.jsonl'\n",
    "print(f'output_file : {output_file}')"
   ]
  },
  {
   "cell_type": "code",
   "execution_count": 9,
   "id": "c1dd2680",
   "metadata": {},
   "outputs": [],
   "source": [
    "jsonl_writer = utils.JSONLWriter(output_file)"
   ]
  },
  {
   "cell_type": "code",
   "execution_count": 10,
   "id": "90d1cca3",
   "metadata": {},
   "outputs": [],
   "source": [
    "data = utils.read_jsonlines(input_file)"
   ]
  },
  {
   "cell_type": "code",
   "execution_count": 11,
   "id": "672bd4a3",
   "metadata": {},
   "outputs": [
    {
     "data": {
      "text/plain": [
       "1319"
      ]
     },
     "execution_count": 11,
     "metadata": {},
     "output_type": "execute_result"
    }
   ],
   "source": [
    "len(data)"
   ]
  },
  {
   "cell_type": "code",
   "execution_count": 12,
   "id": "ba526f0c",
   "metadata": {},
   "outputs": [],
   "source": [
    "class model_api():\n",
    "    def __init__(self, url, headers):\n",
    "        self.url = url\n",
    "        self.headers = headers\n",
    "        \n",
    "    def generate(self, body):\n",
    "        \n",
    "        try:\n",
    "            response = requests.post(self.url, data=body, headers=self.headers, verify=False)\n",
    "        \n",
    "        except:\n",
    "            print(\"retrying due to an error......\")\n",
    "            time.sleep(20)\n",
    "            return self.generate(body)\n",
    "        \n",
    "        return response\n",
    "        \n",
    "        "
   ]
  },
  {
   "cell_type": "code",
   "execution_count": 13,
   "id": "62353eab",
   "metadata": {},
   "outputs": [],
   "source": [
    "model = model_api(api['url'], api['headers'])"
   ]
  },
  {
   "cell_type": "code",
   "execution_count": 14,
   "id": "0d917811",
   "metadata": {},
   "outputs": [],
   "source": [
    "BODY_TEMP = {\n",
    "    \"serviceInstanceId\" : \"ddm3kz9g\", \n",
    "    \"nluType\" : \"009\",\n",
    "    \"apiType\" : \"002\", \n",
    "    \"utterance\" : None\n",
    "}"
   ]
  },
  {
   "cell_type": "code",
   "execution_count": 15,
   "id": "6a3ff058",
   "metadata": {},
   "outputs": [],
   "source": [
    "# 차근차근 -> 단답 비율 높음\n",
    "### 차근차근 생각해보자 0\n",
    "### 차근 차근 풀어보면 0\n",
    "### 단계적으로 생각해보면 1(reasoning/caculation 둘다 오답)\n",
    "### 단계적으로 생각하면\n",
    "### 단계별로 생각해보면 \n",
    "\n",
    "# 단계벌 -> 단계별 접근\n",
    "# 단계별로 질문에 대답해보면 0\n",
    "# 단계별로 질문에 접근해보면 0\n",
    "\n",
    "# 각 단계가 숫자로 구분되어짐 (음식의 경우, 조리방법)\n",
    "# 단계별로 질문을 분석하면 0\n",
    "# 질문을 단계적으로 풀어보면, 0\n",
    "\n",
    "\n",
    "\n",
    " \n",
    "\n",
    "def get_gsm8k_zs_cot(que):\n",
    "    prompt = f\"질문: {que} 정답: 질문을 단계적으로 풀어보면, \"\n",
    "    return prompt"
   ]
  },
  {
   "cell_type": "code",
   "execution_count": 16,
   "id": "14cbc2bf",
   "metadata": {},
   "outputs": [],
   "source": [
    "def get_body(prompt, body_temp):\n",
    "    body_temp[\"utterance\"] = prompt\n",
    "    return json.dumps(body_temp)"
   ]
  },
  {
   "cell_type": "code",
   "execution_count": 17,
   "id": "f87574fc",
   "metadata": {},
   "outputs": [],
   "source": [
    "# from pprint import pprint"
   ]
  },
  {
   "cell_type": "markdown",
   "id": "b923ab0c",
   "metadata": {},
   "source": [
    "### GSM8K-TEST\n",
    "    26 out of 1319 : contains the answer in the question due to translation\n",
    "### GSM8K-TRAIN\n",
    "    163 out of 7473 : contains the answer in the question due to translation"
   ]
  },
  {
   "cell_type": "code",
   "execution_count": 18,
   "id": "16dc168a",
   "metadata": {
    "scrolled": false
   },
   "outputs": [
    {
     "name": "stderr",
     "output_type": "stream",
     "text": [
      "/userhomes/philhoon/miniconda3/envs/self-debate/lib/python3.8/site-packages/urllib3/connectionpool.py:1095: InsecureRequestWarning: Unverified HTTPS request is being made to host 'aiapi.genielabs.ai'. Adding certificate verification is strongly advised. See: https://urllib3.readthedocs.io/en/latest/advanced-usage.html#tls-warnings\n",
      "  warnings.warn(\n"
     ]
    },
    {
     "name": "stdout",
     "output_type": "stream",
     "text": [
      "prompt : \n",
      "질문 : 한 벌의 로브를 만드는 데 파란색 섬유 2 덩이와 그 절반만큼의 흰색 섬유가 필요합니다. 총 몇 덩이의 섬유가 필요한가요? 정답 : 질문을 단계적으로 풀어보면, \n",
      "res_context : \n",
      "질문: 한 벌의 로브를 만드는 데 파란색 섬유 2 덩이와 그 절반만큼의 흰색 섬유가 필요합니다. 총 몇 덩이의 섬유가 필요한가요? 단계: 1. 섬유의 한 쌍을 나열합니다. 2. 파란색 섬유 2덩이와 흰색 섬유 1덩이가 있습니다. 3. 총 섬유 3덩이가 필요합니다. 4. 로브의 길이를 계산합니다. 5. 로브의 길이 = 섬유의 한 쌍 + 흰색 섬유의 한 쌍 + 파란색 섬유의 한 쌍 + 흰색 섬유의 한 쌍 = 5 + 6 = 8 6. 로브의 총 개수를 계산합니다. 7. 로브의 총 개수 = 섬유의 한 쌍 + 흰색 섬유의 한 쌍 + 파란색 섬유의 한 쌍 + 흰색 섬유의 한 쌍 + 파란색 섬유의 한 쌍 + 흰색 섬유의 한 쌍 = 8 + 9 = 11 10. 로브의 총 개수를 출력합니다. 11. 로브의 총 개수 = 로브의 총 개수 = 2 + 3 + 4 + 5 + 6 + 7 + 8 = 12 따라서, 한 벌의 로브를 만드는 데 파란색 섬유 2덩이와 그 절반만큼의 흰색 섬유가 필요합니다. 총 섬유의 총 개수는 12입니다.\n",
      "ans_s : \n",
      "3\n",
      "----\n"
     ]
    },
    {
     "name": "stderr",
     "output_type": "stream",
     "text": [
      "/userhomes/philhoon/miniconda3/envs/self-debate/lib/python3.8/site-packages/urllib3/connectionpool.py:1095: InsecureRequestWarning: Unverified HTTPS request is being made to host 'aiapi.genielabs.ai'. Adding certificate verification is strongly advised. See: https://urllib3.readthedocs.io/en/latest/advanced-usage.html#tls-warnings\n",
      "  warnings.warn(\n"
     ]
    },
    {
     "name": "stdout",
     "output_type": "stream",
     "text": [
      "prompt : \n",
      "질문 : 조쉬는 집을 뒤집어 판매해보기로 결정합니다. 그는 $80,000에 집을 구매하고 $50,000을 수리합니다. 이로 인해 집의 가치가 150% 증가합니다. 그가 얼마의 이익을 얻었습니까? 정답 : 질문을 단계적으로 풀어보면, \n",
      "res_context : \n",
      "조쉬는 집을 팔기로 결심하고 가격을 $80,000로 설정합니다. 그런 다음 수리 비용을 $50,000로 조정합니다. 조쉬는 $80,000 - $50,000 = $45,000을 벌게 됩니다. 이익은 $45,000 - $45,000 = $12,000입니다. 따라서 조쉬는 $12,000의 이익을 얻었습니다.\n",
      "ans_s : \n",
      "70000\n",
      "----\n"
     ]
    },
    {
     "name": "stderr",
     "output_type": "stream",
     "text": [
      "/userhomes/philhoon/miniconda3/envs/self-debate/lib/python3.8/site-packages/urllib3/connectionpool.py:1095: InsecureRequestWarning: Unverified HTTPS request is being made to host 'aiapi.genielabs.ai'. Adding certificate verification is strongly advised. See: https://urllib3.readthedocs.io/en/latest/advanced-usage.html#tls-warnings\n",
      "  warnings.warn(\n"
     ]
    },
    {
     "name": "stdout",
     "output_type": "stream",
     "text": [
      "prompt : \n",
      "질문 : 제임스는 매주 3번씩 3번의 짧은 달리기를 결심합니다. 그는 각각 60미터를 달립니다. 그가 일주일에 총 몇 미터를 달릴까요? 정답 : 질문을 단계적으로 풀어보면, \n",
      "res_context : \n",
      "1. 제임스는 매주 3번씩 3번의 짧은 달리기를 결심합니다. 2. 각 달리기는 각각 60미터를 달립니다. 3. 제임스는 매주 3번의 짧은 달리기를 결심합니다. 4. 첫 번째 달리기 후, 제임스는 남은 거리를 달립니다. 5. 다음 달리기 후, 제임스는 남은 거리를 달립니다. 6. 제임스는 매주 3번의 짧은 달리기를 결심합니다. 7. 남은 거리를 달릴 때, 제임스는 60미터를 더 달립니다. 8. 제임스는 매주 3번의 짧은 달리기를 결심합니다. 9. 남은 거리를 달릴 때, 제임스는 60미터를 더 달립니다. 10. 다음 달리기 후, 제임스는 남은 거리를 달립니다. 11. 다음 달리기 후, 제임스는 남은 거리를 달립니다. 12. 다음 달리기 후, 제임스는 남은 거리를 달립니다. 13. 다음 달리기 후, 제임스는 남은 거리를 달립니다. 14. 다음 달리기 후, 제임스는 남은 거리를 달립니다. 15. 다음 달리기 후, 제임스는 남은 거리를 달립니다. 16. 다음 달리기 후, 제임스는 남은 거리를 달립니다. 17. 다음 달리기 후, 제임스는 남은 거리를 달립니다. 18. 다음 달리기 후, 제임스는 남은 거리를 달립니다. 19. 다음 달리기 후, 제임스는 남은 거리를 달립니다. 20. 다음 달리기 후, 제임스는 남은 거리를 달립니다.\n",
      "ans_s : \n",
      "540\n",
      "----\n"
     ]
    },
    {
     "name": "stderr",
     "output_type": "stream",
     "text": [
      "/userhomes/philhoon/miniconda3/envs/self-debate/lib/python3.8/site-packages/urllib3/connectionpool.py:1095: InsecureRequestWarning: Unverified HTTPS request is being made to host 'aiapi.genielabs.ai'. Adding certificate verification is strongly advised. See: https://urllib3.readthedocs.io/en/latest/advanced-usage.html#tls-warnings\n",
      "  warnings.warn(\n"
     ]
    },
    {
     "name": "stdout",
     "output_type": "stream",
     "text": [
      "prompt : \n",
      "질문 : 매일, 웬디는 각 닭에게 씨앗, 멸치, 채소가 섞인 닭 사료 3컵씩을 주어 건강하게 유지합니다. 그녀는 닭에게 3번의 식사로 사료를 제공합니다. 아침에는 15컵의 사료를 주고, 오후에는 25컵의 사료를 또 다시 주며, 만약 웬디의 닭 떼가 20마리라면, 하루의 마지막 식사에서 닭에게 몇 컵의 사료를 주어야 할까요? 정답 : 질문을 단계적으로 풀어보면, \n",
      "res_context : \n",
      "1. 웬디는 닭 사료 3컵씩을 매일 제공합니다. 2. 닭은 하루에 3번의 식사를 합니다. 3. 웬디는 닭에게 3번의 식사를 제공하므로, 닭은 하루에 3번의 사료를 받습니다. 4. 웬디의 닭 떼가 20마리이므로, 하루에 닭은 3마리입니다. 5. 웬디는 닭 사료 3컵씩을 제공하므로, 닭은 하루에 3컵의 사료를 받습니다. 6. 웬디는 닭에게 3번의 식사를 제공하므로, 닭은 하루에 3번의 식사를 합니다. 7. 사료는 3컵씩을 제공되므로, 닭은 3컵의 사료를 받습니다. 8. 따라서, 웬디는 닭에게 3컵의 사료를 주어야 합니다.\n",
      "ans_s : \n",
      "20\n",
      "----\n"
     ]
    },
    {
     "name": "stderr",
     "output_type": "stream",
     "text": [
      "/userhomes/philhoon/miniconda3/envs/self-debate/lib/python3.8/site-packages/urllib3/connectionpool.py:1095: InsecureRequestWarning: Unverified HTTPS request is being made to host 'aiapi.genielabs.ai'. Adding certificate verification is strongly advised. See: https://urllib3.readthedocs.io/en/latest/advanced-usage.html#tls-warnings\n",
      "  warnings.warn(\n"
     ]
    },
    {
     "name": "stdout",
     "output_type": "stream",
     "text": [
      "prompt : \n",
      "질문 : 카일러는 새 아파트를 위해 유리잔을 사러 가게에 갔습니다. 하나의 유리잔 가격은 $5이지만, 두 번째 유리잔부터는 가격의 60%만 지불하면 됩니다. 카일러는 16개의 유리잔을 사고 싶습니다. 그들을 위해 얼마를 지불해야 할까요? 정답 : 질문을 단계적으로 풀어보면, \n",
      "res_context : \n",
      "1. 유리잔 가격을 $5로 설정합니다. 2. 카일러가 가게에 갔으므로, 유리잔 한 개의 가격은 $5입니다. 3. 유리잔 두 번째 세트의 가격은 $60입니다. 4. 카일러가 가게에서 유리잔 16개를 구입하므로, 총 가격은 $600입니다. 5. $600을 $5로 나누면 16/$600 = $<<16/60=4.5>>4.5입니다. 6. 따라서, 카일러는 16개의 유리잔을 구입하기 위해 $400을 지불해야 합니다.\n",
      "ans_s : \n",
      "64\n",
      "----\n"
     ]
    },
    {
     "name": "stderr",
     "output_type": "stream",
     "text": [
      "/userhomes/philhoon/miniconda3/envs/self-debate/lib/python3.8/site-packages/urllib3/connectionpool.py:1095: InsecureRequestWarning: Unverified HTTPS request is being made to host 'aiapi.genielabs.ai'. Adding certificate verification is strongly advised. See: https://urllib3.readthedocs.io/en/latest/advanced-usage.html#tls-warnings\n",
      "  warnings.warn(\n"
     ]
    },
    {
     "name": "stdout",
     "output_type": "stream",
     "text": [
      "prompt : \n",
      "질문 : 툴루즈는 찰스턴의 양의 두 배를 가지고 있습니다. 찰스턴은 시애틀의 양의 4 배를 가지고 있습니다. 시애틀은 양이 20마리 있으므로, 툴루즈, 찰스턴 및 시애틀이 함께 가지고 있는 양은 얼마입니까? 정답 : 질문을 단계적으로 풀어보면, \n",
      "res_context : \n",
      "툴루즈는 양의 두 배를 가지고 있으므로, 양의 총합은 2 x 2 = 8입니다. 찰스턴은 시애틀의 양의 4 배를 가지고 있으므로, 양의 총합은 4 x 4 = 16입니다. 시애틀은 양이 20마리 있으므로, 툴루즈, 찰스턴 및 시애틀이 함께 가지고 있는 양은 8 + 16 + 16 = 32입니다. 따라서, 툴루즈, 찰스턴 및 시애틀이 함께 가지고 있는 양은 32입니다.\n",
      "ans_s : \n",
      "260\n",
      "----\n"
     ]
    },
    {
     "name": "stderr",
     "output_type": "stream",
     "text": [
      "/userhomes/philhoon/miniconda3/envs/self-debate/lib/python3.8/site-packages/urllib3/connectionpool.py:1095: InsecureRequestWarning: Unverified HTTPS request is being made to host 'aiapi.genielabs.ai'. Adding certificate verification is strongly advised. See: https://urllib3.readthedocs.io/en/latest/advanced-usage.html#tls-warnings\n",
      "  warnings.warn(\n"
     ]
    },
    {
     "name": "stdout",
     "output_type": "stream",
     "text": [
      "prompt : \n",
      "질문 : 칼라는 200GB 파일을 다운로드하고 있습니다. 보통 그녀는 1분에 2GB를 다운로드할 수 있지만, 다운로드의 40% 지점에서 윈도우가 업데이트를 설치하기 위해 강제로 재시작되어 20분이 걸립니다. 그 후 칼라는 처음부터 다시 다운로드를 시작해야 합니다. 이 파일을 다운로드하는 데 얼마나 걸릴까요? 정답 : 질문을 단계적으로 풀어보면, \n",
      "res_context : \n",
      "이 질문에 대한 정확한 답은 시간을 측정하는 것입니다. 다운로드의 속도는 다운로드할 수 있는 파일의 양과 윈도우 업데이트의 강제 재시작 여부에 따라 달라집니다.다운로드 속도가 느린 경우, 일반적으로 1분에 2GB를 다운로드할 수 있지만, 20분이 걸리는 경우가 많습니다. 이는 다운로드의 40% 지점에서 윈도우가 업데이트를 설치하기 위해 강제로 재시작되고, 그 후에야 다시 시작되기 때문입니다. 따라서 이 질문에 대한 정확한 답은 없습니다.\n",
      "ans_s : \n",
      "160\n",
      "----\n"
     ]
    },
    {
     "name": "stderr",
     "output_type": "stream",
     "text": [
      "/userhomes/philhoon/miniconda3/envs/self-debate/lib/python3.8/site-packages/urllib3/connectionpool.py:1095: InsecureRequestWarning: Unverified HTTPS request is being made to host 'aiapi.genielabs.ai'. Adding certificate verification is strongly advised. See: https://urllib3.readthedocs.io/en/latest/advanced-usage.html#tls-warnings\n",
      "  warnings.warn(\n"
     ]
    },
    {
     "name": "stdout",
     "output_type": "stream",
     "text": [
      "prompt : \n",
      "질문 : 존은 60mph의 속도로 3시간 동안 운전을 하다가 집에서 매우 중요한 것을 깜빡했다는 것을 깨달았습니다. 그는 4시간 안에 집에 도착하려고 노력하지만 처음 2시간 동안 정체 교통에 갇혀 있었습니다. 그는 그 다음 30분 동안 30mph의 속도로 운전한 후 나머지 4시간 동안 80mph의 속도로 운전할 수 있었습니다. 그가 4시간 후에 집으로부터 얼마나 떨어져 있나요? 정답 : 질문을 단계적으로 풀어보면, \n",
      "res_context : \n",
      "존은 4시간 안에 집에 도착하려고 노력하고 있으므로 주어진 정보만으로는 그가 집으로부터 얼마나 멀리 있는지 확인할 수 없습니다. 존이 운전하는 거리는 3시간이고, 집으로부터 거리는 2시간이므로 존이 집으로부터 얼마나 멀리 있는지 확인할 수 있는 정확한 거리는 3시간 거리입니다.\n",
      "ans_s : \n",
      "45\n",
      "----\n"
     ]
    },
    {
     "name": "stderr",
     "output_type": "stream",
     "text": [
      "/userhomes/philhoon/miniconda3/envs/self-debate/lib/python3.8/site-packages/urllib3/connectionpool.py:1095: InsecureRequestWarning: Unverified HTTPS request is being made to host 'aiapi.genielabs.ai'. Adding certificate verification is strongly advised. See: https://urllib3.readthedocs.io/en/latest/advanced-usage.html#tls-warnings\n",
      "  warnings.warn(\n"
     ]
    },
    {
     "name": "stdout",
     "output_type": "stream",
     "text": [
      "prompt : \n",
      "질문 : 엘리자의 시간당 급여는 일주일에 처음 40시간 동안은 10달러입니다. 그녀는 또한 근무 시간 외에 기본 시간당 급여의 1.2배를 받습니다. 이번 주에 엘리자가 45시간 일했다면, 이번 주 그녀의 수입은 얼마입니까? 정답 : 질문을 단계적으로 풀어보면, \n",
      "res_context : \n",
      "1. 엘리자가 일주일에 처음 40시간 동안 일한다는 것을 압니다. 2. 일주일에 처음 40시간 동안 엘리자의 시간당 급여는 10달러입니다. 3. 근무 시간 외에 엘리자가 기본 시간당 급여의 1.2배를 받는다는 것을 알고 있습니다. 4. 엘리자가 45시간 일했다면, 이번 주에 그녀의 시간당 급여는 10달러 + 1.2배 = 15달러입니다.\n",
      "ans_s : \n",
      "460\n",
      "----\n"
     ]
    },
    {
     "name": "stderr",
     "output_type": "stream",
     "text": [
      "/userhomes/philhoon/miniconda3/envs/self-debate/lib/python3.8/site-packages/urllib3/connectionpool.py:1095: InsecureRequestWarning: Unverified HTTPS request is being made to host 'aiapi.genielabs.ai'. Adding certificate verification is strongly advised. See: https://urllib3.readthedocs.io/en/latest/advanced-usage.html#tls-warnings\n",
      "  warnings.warn(\n"
     ]
    },
    {
     "name": "stdout",
     "output_type": "stream",
     "text": [
      "prompt : \n",
      "질문 : 한 달 동안 새로운 프로그램은 60번 다운로드되었습니다. 두 번째 달의 다운로드 횟수는 첫 번째 달의 다운로드 횟수의 3배였지만, 세 번째 달에는 30% 감소했습니다. 이 프로그램은 총 3개월 동안 얼마나 많이 다운로드되었습니까? 정답 : 질문을 단계적으로 풀어보면, \n",
      "res_context : \n",
      "1. 첫 번째 달과 두 번째 달의 다운로드 횟수를 각각 x, y로 표시합니다. 2. 세 번째 달의 다운로드 횟수를 z, k로 표시합니다. 3. 첫 번째 달과 세 번째 달의 다운로드 횟수를 더합니다. 4. (x + y) / 3 = 6 5. 6번째 달의 다운로드 횟수는 첫 번째 달의 다운로드 횟수의 3배이므로 3배입니다. 6. 세 번째 달의 다운로드 횟수는 첫 번째 달의 다운로드 횟수의 30%이므로 30%입니다. 7. 세 번째 달의 총 다운로드 횟수는 6 + (x + y) / 3 = 18 8. 총 다운로드 횟수는 18 + (x + y) / 3 = 24 9. 총 다운로드 횟수는 24 + (x + y) / 3 = 24 10. 총 다운로드 횟수는 24 + (x + y) / 3 = 24 11. 총 다운로드 횟수는 24 + (x + y) / 3 = 24 12. 총 다운로드 횟수는 24 + (x + y) / 3 = 24 13. 총 다운로드 횟수는 24 + (x + y) / 3 = 24 14. 총 다운로드 횟수는 24 + (x + y) / 3 = 24 15. 총 다운로드 횟수는 24 + (x + y) / 3 = 24 16. 총 다운로드 횟수는 24 + (x + y) / 3 = 24 17. 총 다운로드 횟수는 24 + (x + y) / 3 = 24 18. 총 다운로드 횟수는 24 + (x + y) / 3 = 24 19. 총 다운로드 횟수는 24 + (x + y) / 3\n",
      "ans_s : \n",
      "366\n",
      "----\n"
     ]
    },
    {
     "name": "stderr",
     "output_type": "stream",
     "text": [
      "/userhomes/philhoon/miniconda3/envs/self-debate/lib/python3.8/site-packages/urllib3/connectionpool.py:1095: InsecureRequestWarning: Unverified HTTPS request is being made to host 'aiapi.genielabs.ai'. Adding certificate verification is strongly advised. See: https://urllib3.readthedocs.io/en/latest/advanced-usage.html#tls-warnings\n",
      "  warnings.warn(\n"
     ]
    },
    {
     "name": "stdout",
     "output_type": "stream",
     "text": [
      "prompt : \n",
      "질문 : 툴라는 빵집에 가서 다양한 종류의 과자를 샀습니다. 그녀는 3다스의 도넛을 1다스당 68달러에, 2다스의 미니 컵케이크를 1다스당 80달러에, 그리고 6다스의 미니 치즈케이크를 1다스당 55달러에 샀습니다. 총 비용은 얼마인가요? 정답 : 질문을 단계적으로 풀어보면, \n",
      "res_context : \n",
      "1. 3다스의 도넛을 산 총 비용은 68달러입니다. 2. 2다스의 미니 컵케이크를 산 총 비용은 80달러입니다. 3. 6다스의 미니 치즈케이크를 산 총 비용은 55달러입니다. 따라서 총 비용은 68달러 + 80달러 + 55달러 = 110달러입니다.\n",
      "ans_s : \n",
      "694\n",
      "----\n"
     ]
    },
    {
     "name": "stderr",
     "output_type": "stream",
     "text": [
      "/userhomes/philhoon/miniconda3/envs/self-debate/lib/python3.8/site-packages/urllib3/connectionpool.py:1095: InsecureRequestWarning: Unverified HTTPS request is being made to host 'aiapi.genielabs.ai'. Adding certificate verification is strongly advised. See: https://urllib3.readthedocs.io/en/latest/advanced-usage.html#tls-warnings\n",
      "  warnings.warn(\n"
     ]
    },
    {
     "name": "stdout",
     "output_type": "stream",
     "text": [
      "prompt : \n",
      "질문 : 카를로스는 레몬 나무를 심고 있습니다. 나무를 심는 데 90달러가 듭니다. 매년 7개의 레몬이 열리며, 그것을 1.5달러에 팔 수 있습니다. 나무를 물고 먹이는 데 매년 3달러가 듭니다. 레몬 나무에서 돈을 벌기 시작하는 데 몇 년이 걸릴까요? 정답 : 질문을 단계적으로 풀어보면, \n",
      "res_context : \n",
      "1. 나무를 사는 데 90달러를 씁니다. 2. 매년 7개의 레몬을 판습니다. 3. 1.5달러에 팔 수 있습니다. 4. 나무를 물어 먹는 데 매년 3달러가 듭니다. 5. 레몬 나무에서 돈을 버는 데 걸리는 시간은 다음과 같습니다: 6년 (2003년부터)\n",
      "ans_s : \n",
      "13\n",
      "----\n"
     ]
    }
   ],
   "source": [
    "cnt = 0\n",
    "split_cnt = 0\n",
    "for ins in data:\n",
    "    kor_que = ins['kor_question']\n",
    "    \n",
    "    # checking whether there is an answer \n",
    "    test = kor_que.split('\\n')\n",
    "    \n",
    "    if len(test[0]) != len(kor_que):\n",
    "        split_cnt += 1\n",
    "        continue\n",
    "\n",
    "    kor_ans = ins['kor_answer']\n",
    "    prompt = get_gsm8k_zs_cot(kor_que)\n",
    "    ans_s = ins['answer_s']\n",
    "    body = get_body(prompt, BODY_TEMP)\n",
    "    response = model.generate(body)\n",
    "    res_context = response.json()['data'][0]['result'][0]\n",
    "    \n",
    "    print(f'prompt : ')\n",
    "    print(prompt)\n",
    "    print(f'res_context : ')\n",
    "    print(res_context)\n",
    "    print(f'ans_s : ')\n",
    "    print(ans_s)\n",
    "    print('----')\n",
    "    \n",
    "    ins['kor_infer'] = res_context\n",
    "#     jsonl_writer.write_json_line(ins)\n",
    "    \n",
    "#     print(prompt)\n",
    "    if cnt == 20:\n",
    "        break\n",
    "    else:\n",
    "        cnt += 1"
   ]
  },
  {
   "cell_type": "code",
   "execution_count": null,
   "id": "d942c2fb",
   "metadata": {},
   "outputs": [],
   "source": []
  }
 ],
 "metadata": {
  "kernelspec": {
   "display_name": "Python 3 (ipykernel)",
   "language": "python",
   "name": "python3"
  },
  "language_info": {
   "codemirror_mode": {
    "name": "ipython",
    "version": 3
   },
   "file_extension": ".py",
   "mimetype": "text/x-python",
   "name": "python",
   "nbconvert_exporter": "python",
   "pygments_lexer": "ipython3",
   "version": "3.8.17"
  }
 },
 "nbformat": 4,
 "nbformat_minor": 5
}
