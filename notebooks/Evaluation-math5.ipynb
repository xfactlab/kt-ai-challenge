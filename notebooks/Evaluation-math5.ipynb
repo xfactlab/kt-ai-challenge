{
 "cells": [
  {
   "cell_type": "code",
   "execution_count": 1,
   "id": "a7d02a58",
   "metadata": {},
   "outputs": [],
   "source": [
    "import json\n",
    "import requests\n",
    "from src import utils\n",
    "import time\n",
    "import os\n",
    "from pprint import pprint\n",
    "import random\n",
    "from tqdm import tqdm"
   ]
  },
  {
   "cell_type": "code",
   "execution_count": 2,
   "id": "dd873523",
   "metadata": {},
   "outputs": [],
   "source": [
    "api_path = '/userhomes/philhoon/kt-ai-challenge/api-zs.json'"
   ]
  },
  {
   "cell_type": "code",
   "execution_count": 3,
   "id": "44bfdbf6",
   "metadata": {},
   "outputs": [],
   "source": [
    "api = utils.read_json_file(api_path)"
   ]
  },
  {
   "cell_type": "code",
   "execution_count": 4,
   "id": "9085f0aa",
   "metadata": {},
   "outputs": [],
   "source": [
    "# output_path = '/userhomes/philhoon/kt-ai-challenge/result'"
   ]
  },
  {
   "cell_type": "code",
   "execution_count": 5,
   "id": "8c9f22cf",
   "metadata": {},
   "outputs": [],
   "source": [
    "# os.makedirs(output_path, exist_ok=True)\n",
    "# output_file_name = 'result-' + input_file.split('/')[-1]\n",
    "# output_file = output_path + '/' + output_file_name\n",
    "# print(f'output_file : {output_file}')"
   ]
  },
  {
   "cell_type": "code",
   "execution_count": 6,
   "id": "be9a8ee6",
   "metadata": {},
   "outputs": [],
   "source": [
    "# peft tunning\n",
    "# peft1 = '/userhomes/philhoon/kt-ai-challenge/result/kor-gsm8k-peft1-test.jsonl'\n",
    "# peft2 = '/userhomes/philhoon/kt-ai-challenge/result/kor-gsm8k-peft2-test.jsonl'\n",
    "\n",
    "# ICL\n",
    "# zs = '/userhomes/philhoon/kt-ai-challenge/result/zero-shot-public_mwp_data_v2_preprocess'\n",
    "# zs_cot = '/userhomes/philhoon/kt-ai-challenge/result/zero-shot-cot-public_mwp_data_v2_preprocess'\n",
    "# one_shot_cot = '/userhomes/philhoon/kt-ai-challenge/result/one-shot-cot-result-ko-gsm8k-test.jsonl'\n"
   ]
  },
  {
   "cell_type": "code",
   "execution_count": 7,
   "id": "17333f13",
   "metadata": {},
   "outputs": [],
   "source": [
    "class model_api():\n",
    "    def __init__(self, url, headers):\n",
    "        self.url = url\n",
    "        self.headers = headers\n",
    "        \n",
    "    def generate(self, body):\n",
    "        \n",
    "        try:\n",
    "            response = requests.post(self.url, data=body, headers=self.headers, verify=False)\n",
    "        \n",
    "        except:\n",
    "            print(\"retrying due to an error......\")\n",
    "            time.sleep(20)\n",
    "            return self.generate(body)\n",
    "        \n",
    "        return response\n",
    "        \n",
    "        "
   ]
  },
  {
   "cell_type": "code",
   "execution_count": 8,
   "id": "c79f67c8",
   "metadata": {},
   "outputs": [],
   "source": [
    "model = model_api(api['url'], api['headers'])\n",
    "BODY_TEMP = api['body']"
   ]
  },
  {
   "cell_type": "code",
   "execution_count": 9,
   "id": "806cf792",
   "metadata": {},
   "outputs": [],
   "source": [
    "def get_body(prompt, body_temp):\n",
    "    body_temp[\"utterance\"] = prompt\n",
    "    return json.dumps(body_temp)"
   ]
  },
  {
   "cell_type": "code",
   "execution_count": 10,
   "id": "8299d7ac",
   "metadata": {},
   "outputs": [],
   "source": [
    "def get_gsm8k_zs3(que):\n",
    "    prompt = f'다음 질문에 차근차근 답하시오. {que}'\n",
    "    return prompt"
   ]
  },
  {
   "cell_type": "code",
   "execution_count": 11,
   "id": "ac2dffdf",
   "metadata": {},
   "outputs": [],
   "source": [
    "## Test dataset\n",
    "\n",
    "# GSM8K 8792 (7473/1319)\n",
    "gsm8k = '/userhomes/philhoon/kt-ai-challenge/data/openai-gpt-3.5-turbo-0301-2048-0.0-KOR-gsm8k-test.jsonl'\n",
    "\n",
    "# MWP_KR_DATA 3750\n",
    "mwp_kr = '/userhomes/philhoon/kt-ai-challenge/data/public_mwp_data_v2_reasoning-test.jsonl'\n",
    "\n",
    "# AddSub 395\n",
    "addsub = '/userhomes/philhoon/kt-ai-challenge/eng_data/kor-D_addsub-test.json'\n",
    "\n",
    "# MultiArith 600\n",
    "multiarith = '/userhomes/philhoon/kt-ai-challenge/eng_data/kor-D_multiarith-test.json'\n",
    "\n",
    "# SingleEq 395\n",
    "single_eq = '/userhomes/philhoon/kt-ai-challenge/eng_data/kor-D_single_eq-test.json'"
   ]
  },
  {
   "cell_type": "code",
   "execution_count": 12,
   "id": "39710798",
   "metadata": {},
   "outputs": [],
   "source": [
    "gsm8k_data = utils.read_jsonlines(gsm8k)\n",
    "mwp_kr_data = utils.read_jsonlines(mwp_kr)\n",
    "addsub_data = utils.read_jsonlines(addsub)\n",
    "multiarith_data = utils.read_jsonlines(multiarith)\n",
    "single_eq_data = utils.read_jsonlines(single_eq)"
   ]
  },
  {
   "cell_type": "code",
   "execution_count": 13,
   "id": "e7439fc2",
   "metadata": {},
   "outputs": [
    {
     "name": "stdout",
     "output_type": "stream",
     "text": [
      "1319\n",
      "720\n",
      "79\n",
      "120\n",
      "102\n"
     ]
    }
   ],
   "source": [
    "print(len(gsm8k_data))\n",
    "print(len(mwp_kr_data))\n",
    "print(len(addsub_data))\n",
    "print(len(multiarith_data))\n",
    "print(len(single_eq_data))"
   ]
  },
  {
   "cell_type": "code",
   "execution_count": 14,
   "id": "3a8bac40",
   "metadata": {},
   "outputs": [],
   "source": [
    "# random_indices"
   ]
  },
  {
   "cell_type": "code",
   "execution_count": 15,
   "id": "ac51e310",
   "metadata": {},
   "outputs": [],
   "source": [
    "data = single_eq_data"
   ]
  },
  {
   "cell_type": "code",
   "execution_count": 16,
   "id": "b5de5420",
   "metadata": {},
   "outputs": [
    {
     "data": {
      "text/plain": [
       "{'sample_index': 1,\n",
       " 'completion_index': 0,\n",
       " 'question': 'There were 28 bales of hay in the barn. Tim stacked more bales in the barn today. There are now 54 bales of hay in the barn. How many bales did he store in the barn ?',\n",
       " 'answer': '26.0',\n",
       " 'reasoning_prompt': \"Q: There were 28 bales of hay in the barn. Tim stacked more bales in the barn today. There are now 54 bales of hay in the barn. How many bales did he store in the barn ?\\nA: Let's think step by step.\",\n",
       " 'reasoning_completion': ' \\n\\nThere were 28 bales of hay in the barn. \\n\\nThis is our starting point, and we are told that Tim stacked more bales in the barn today. \\n\\nThere are now 54 bales of hay in the barn. \\n\\nThis is our ending point. We are trying to find out how many bales Tim stacked in the barn, so this is the information that we need. \\n\\nTo find out how many bales Tim stacked in the barn, we need to find the difference between the starting point and the ending point. \\n\\nThe difference between 28 and 54 is',\n",
       " 'reasoning_finish_reason': 'length',\n",
       " 'prompt': \"Q: There were 28 bales of hay in the barn. Tim stacked more bales in the barn today. There are now 54 bales of hay in the barn. How many bales did he store in the barn ?\\nA: Let's think step by step. \\n\\nThere were 28 bales of hay in the barn. \\n\\nThis is our starting point, and we are told that Tim stacked more bales in the barn today. \\n\\nThere are now 54 bales of hay in the barn. \\n\\nThis is our ending point. We are trying to find out how many bales Tim stacked in the barn, so this is the information that we need. \\n\\nTo find out how many bales Tim stacked in the barn, we need to find the difference between the starting point and the ending point. \\n\\nThe difference between 28 and 54 is\\nTherefore, the answer is\",\n",
       " 'completion': ' 26.',\n",
       " 'kor_question': '헛간에는 28개의 건초 더미가 있었습니다. 팀은 오늘 헛간에 더 많은 건초 더미를 쌓았습니다. 이제 헛간에는 54개의 건초 더미가 있습니다. 그는 헛간에 몇 개의 건초 더미를 저장했을까요?',\n",
       " 'kor_answer': '헛간에는 28개의 건초 더미가 있었습니다. 이것이 우리의 시작점이며, 팀이 오늘 헛간에 더 많은 건초 더미를 쌓았다는 것을 알려줍니다. 이제 헛간에는 54개의 건초 더미가 있습니다. 이것이 우리의 끝점입니다. 우리는 팀이 헛간에 몇 개의 건초 더미를 쌓았는지 알고 싶으므로 이 정보가 필요합니다. 팀이 헛간에 쌓은 건초 더미의 수를 알아내기 위해서는 시작점과 끝점 사이의 차이를 찾아야 합니다. 28과 54 사이의 차이는'}"
      ]
     },
     "execution_count": 16,
     "metadata": {},
     "output_type": "execute_result"
    }
   ],
   "source": [
    "data[0]"
   ]
  },
  {
   "cell_type": "code",
   "execution_count": 17,
   "id": "1393325f",
   "metadata": {
    "scrolled": false
   },
   "outputs": [
    {
     "name": "stderr",
     "output_type": "stream",
     "text": [
      "  0%|                                                                                                         | 0/102 [00:00<?, ?it/s]/userhomes/philhoon/miniconda3/envs/kt/lib/python3.8/site-packages/urllib3/connectionpool.py:1095: InsecureRequestWarning: Unverified HTTPS request is being made to host 'aiapi.genielabs.ai'. Adding certificate verification is strongly advised. See: https://urllib3.readthedocs.io/en/latest/advanced-usage.html#tls-warnings\n",
      "  warnings.warn(\n",
      "  1%|▉                                                                                                | 1/102 [00:01<02:28,  1.47s/it]"
     ]
    },
    {
     "name": "stdout",
     "output_type": "stream",
     "text": [
      "prompt : \n",
      "다음 질문에 차근차근 답하시오. 헛간에는 28개의 건초 더미가 있었습니다. 팀은 오늘 헛간에 더 많은 건초 더미를 쌓았습니다. 이제 헛간에는 54개의 건초 더미가 있습니다. 그는 헛간에 몇 개의 건초 더미를 저장했을까요?\n",
      "response : \n",
      "그는 헛간에 54개의 건초 더미를 저장했습니다.\n",
      "----------------------------\n",
      "answer : \n",
      "26.0\n",
      "=============================\n"
     ]
    },
    {
     "name": "stderr",
     "output_type": "stream",
     "text": [
      "/userhomes/philhoon/miniconda3/envs/kt/lib/python3.8/site-packages/urllib3/connectionpool.py:1095: InsecureRequestWarning: Unverified HTTPS request is being made to host 'aiapi.genielabs.ai'. Adding certificate verification is strongly advised. See: https://urllib3.readthedocs.io/en/latest/advanced-usage.html#tls-warnings\n",
      "  warnings.warn(\n",
      "  2%|█▉                                                                                               | 2/102 [00:09<08:52,  5.33s/it]"
     ]
    },
    {
     "name": "stdout",
     "output_type": "stream",
     "text": [
      "prompt : \n",
      "다음 질문에 차근차근 답하시오. 레스토랑에서 식사를 한 후, 샐리, 샘, 앨리사는 계산서를 균등하게 나누기로 결정했습니다. 각각의 사람이 45달러를 지불했다면, 총 계산서는 얼마인가요?\n",
      "response : \n",
      "샐리, 샘, 앨리사가 45달러를 지불했으므로, 총 계산서는 45 * $45 = $<<45*45=45>>45입니다.각 사람이 계산서를 균등하게 나누기로 결정했으므로, 총 계산서의 분배는 다음과 같습니다:샐리, 샘, 앨리사 (45달러) = $<<45*45=45>>45샘샘샘 앨리사 (45달러) = $<<45*45=45>>45앨리사따라서, 총 계산서는 45 * 45 = $<<45*45=45>>45입니다.\n",
      "----------------------------\n",
      "answer : \n",
      "135.0\n",
      "=============================\n"
     ]
    },
    {
     "name": "stderr",
     "output_type": "stream",
     "text": [
      "/userhomes/philhoon/miniconda3/envs/kt/lib/python3.8/site-packages/urllib3/connectionpool.py:1095: InsecureRequestWarning: Unverified HTTPS request is being made to host 'aiapi.genielabs.ai'. Adding certificate verification is strongly advised. See: https://urllib3.readthedocs.io/en/latest/advanced-usage.html#tls-warnings\n",
      "  warnings.warn(\n",
      "  3%|██▊                                                                                              | 3/102 [00:12<07:23,  4.48s/it]"
     ]
    },
    {
     "name": "stdout",
     "output_type": "stream",
     "text": [
      "prompt : \n",
      "다음 질문에 차근차근 답하시오. 메리는 케이크를 굽고 있습니다. 레시피에는 밀가루 8컵이 필요합니다. 그녀는 이미 2컵을 넣었습니다. 그녀는 더 몇 컵을 더 넣어야 할까요?\n",
      "response : \n",
      "밀가루 8컵에 대한 레시피를 제공한 것으로 보이며, 이미 2컵을 넣었으므로 더 넣을 필요는 없습니다. 최종 결정은 그녀가 사용한 것과 같은 양의 밀가루를 사용하여 만들어질 케이크의 양입니다.\n",
      "----------------------------\n",
      "answer : \n",
      "6.0\n",
      "=============================\n"
     ]
    },
    {
     "name": "stderr",
     "output_type": "stream",
     "text": [
      "/userhomes/philhoon/miniconda3/envs/kt/lib/python3.8/site-packages/urllib3/connectionpool.py:1095: InsecureRequestWarning: Unverified HTTPS request is being made to host 'aiapi.genielabs.ai'. Adding certificate verification is strongly advised. See: https://urllib3.readthedocs.io/en/latest/advanced-usage.html#tls-warnings\n",
      "  warnings.warn(\n",
      "  4%|███▊                                                                                             | 4/102 [00:14<05:20,  3.27s/it]"
     ]
    },
    {
     "name": "stdout",
     "output_type": "stream",
     "text": [
      "prompt : \n",
      "다음 질문에 차근차근 답하시오. 사라의 고등학교는 올해 12경기의 농구 경기를 했습니다. 그 팀은 대부분의 경기에서 승리했습니다. 그들은 4경기에서 패배했습니다. 그들은 몇 경기를 이겼을까요?\n",
      "response : \n",
      "사라의 고등학교는 올해 12경기의 농구 경기 중 10경기를 이겼습니다.\n",
      "----------------------------\n",
      "answer : \n",
      "8.0\n",
      "=============================\n"
     ]
    },
    {
     "name": "stderr",
     "output_type": "stream",
     "text": [
      "/userhomes/philhoon/miniconda3/envs/kt/lib/python3.8/site-packages/urllib3/connectionpool.py:1095: InsecureRequestWarning: Unverified HTTPS request is being made to host 'aiapi.genielabs.ai'. Adding certificate verification is strongly advised. See: https://urllib3.readthedocs.io/en/latest/advanced-usage.html#tls-warnings\n",
      "  warnings.warn(\n",
      "  5%|████▊                                                                                            | 5/102 [00:15<04:12,  2.61s/it]"
     ]
    },
    {
     "name": "stdout",
     "output_type": "stream",
     "text": [
      "prompt : \n",
      "다음 질문에 차근차근 답하시오. 현재 공원에는 호두나무가 22그루 있습니다. 공원 직원들은 오늘 더 많은 호두나무를 심을 예정입니다. 작업이 끝나면 공원에는 총 55그루의 호두나무가 있을 것입니다. 공원 직원들은 오늘 몇 그루의 호두나무를 심었을까요?\n",
      "response : \n",
      "공원 직원들은 오늘 22그루의 호두나무를 심었습니다.\n",
      "----------------------------\n",
      "answer : \n",
      "33.0\n",
      "=============================\n"
     ]
    },
    {
     "name": "stderr",
     "output_type": "stream",
     "text": [
      "/userhomes/philhoon/miniconda3/envs/kt/lib/python3.8/site-packages/urllib3/connectionpool.py:1095: InsecureRequestWarning: Unverified HTTPS request is being made to host 'aiapi.genielabs.ai'. Adding certificate verification is strongly advised. See: https://urllib3.readthedocs.io/en/latest/advanced-usage.html#tls-warnings\n",
      "  warnings.warn(\n",
      "  6%|█████▋                                                                                           | 6/102 [00:18<04:16,  2.67s/it]"
     ]
    },
    {
     "name": "stdout",
     "output_type": "stream",
     "text": [
      "prompt : \n",
      "다음 질문에 차근차근 답하시오. 앨리사는 용돈의 절반을 영화 보는 데 사용했습니다. 그녀는 가족 차량을 세척하여 8달러를 벌었습니다. 그렇다면 그녀의 주간 용돈은 얼마인가요?\n",
      "response : \n",
      "앨리사가 주간 용돈으로 사용한 금액은 $50,000 + $8달러 = $<<50,000,000+8=18,000>>18달러입니다.\n",
      "----------------------------\n",
      "answer : \n",
      "8.0\n",
      "=============================\n"
     ]
    },
    {
     "name": "stderr",
     "output_type": "stream",
     "text": [
      "/userhomes/philhoon/miniconda3/envs/kt/lib/python3.8/site-packages/urllib3/connectionpool.py:1095: InsecureRequestWarning: Unverified HTTPS request is being made to host 'aiapi.genielabs.ai'. Adding certificate verification is strongly advised. See: https://urllib3.readthedocs.io/en/latest/advanced-usage.html#tls-warnings\n",
      "  warnings.warn(\n",
      "  7%|██████▋                                                                                          | 7/102 [00:19<03:27,  2.19s/it]"
     ]
    },
    {
     "name": "stdout",
     "output_type": "stream",
     "text": [
      "prompt : \n",
      "다음 질문에 차근차근 답하시오. 앨리사의 개가 새끼를 낳았습니다. 그녀는 친구들에게 7마리를 주었습니다. 그녀는 지금 5마리의 새끼를 가지고 있습니다. 그녀는 처음에 몇 마리의 새끼를 가지고 있었을까요?\n",
      "response : \n",
      "앨리사는 처음에 7마리의 새끼를 가지고 있었습니다.\n",
      "----------------------------\n",
      "answer : \n",
      "12.0\n",
      "=============================\n"
     ]
    },
    {
     "name": "stderr",
     "output_type": "stream",
     "text": [
      "/userhomes/philhoon/miniconda3/envs/kt/lib/python3.8/site-packages/urllib3/connectionpool.py:1095: InsecureRequestWarning: Unverified HTTPS request is being made to host 'aiapi.genielabs.ai'. Adding certificate verification is strongly advised. See: https://urllib3.readthedocs.io/en/latest/advanced-usage.html#tls-warnings\n",
      "  warnings.warn(\n",
      "  8%|███████▌                                                                                         | 8/102 [00:20<02:49,  1.81s/it]"
     ]
    },
    {
     "name": "stdout",
     "output_type": "stream",
     "text": [
      "prompt : \n",
      "다음 질문에 차근차근 답하시오. 오늘 점심에는 9개의 피자를 제공했고, 저녁에는 6개를 제공했습니다. 오늘 총 몇 개의 피자가 제공되었나요?\n",
      "response : \n",
      "오늘 총 16개의 피자가 제공되었습니다.\n",
      "----------------------------\n",
      "answer : \n",
      "15.0\n",
      "=============================\n"
     ]
    },
    {
     "name": "stderr",
     "output_type": "stream",
     "text": [
      "/userhomes/philhoon/miniconda3/envs/kt/lib/python3.8/site-packages/urllib3/connectionpool.py:1095: InsecureRequestWarning: Unverified HTTPS request is being made to host 'aiapi.genielabs.ai'. Adding certificate verification is strongly advised. See: https://urllib3.readthedocs.io/en/latest/advanced-usage.html#tls-warnings\n",
      "  warnings.warn(\n",
      "  9%|████████▌                                                                                        | 9/102 [00:24<03:44,  2.42s/it]"
     ]
    },
    {
     "name": "stdout",
     "output_type": "stream",
     "text": [
      "prompt : \n",
      "다음 질문에 차근차근 답하시오. 베니는 사과나무에서 사과 2개를 따었고, 댄은 사과나무에서 사과 9개를 따었습니다. 총 몇 개의 사과가 따졌을까요?\n",
      "response : \n",
      "베니와 댄이 따낸 사과의 개수를 각각 2개와 9개로 곱하면 총 16개의 사과가 됩니다. 2 + 9 = 16개 따라서 베니와 댄이 따낸 사과는 총 16개입니다.\n",
      "----------------------------\n",
      "answer : \n",
      "11.0\n",
      "=============================\n"
     ]
    },
    {
     "name": "stderr",
     "output_type": "stream",
     "text": [
      "/userhomes/philhoon/miniconda3/envs/kt/lib/python3.8/site-packages/urllib3/connectionpool.py:1095: InsecureRequestWarning: Unverified HTTPS request is being made to host 'aiapi.genielabs.ai'. Adding certificate verification is strongly advised. See: https://urllib3.readthedocs.io/en/latest/advanced-usage.html#tls-warnings\n",
      "  warnings.warn(\n",
      " 10%|█████████▍                                                                                      | 10/102 [00:29<04:53,  3.19s/it]"
     ]
    },
    {
     "name": "stdout",
     "output_type": "stream",
     "text": [
      "prompt : \n",
      "다음 질문에 차근차근 답하시오. 샐리는 조개껍질을 9개 찾았고, 톰은 7개를 찾았으며, 제시카는 5개를 해변에서 찾았습니다. 그들은 모두 몇 개의 조개껍질을 찾았을까요?\n",
      "response : \n",
      "샐리는 9개의 조개껍질을 찾았고, 톰은 7개, 제시카는 5개를 찾았습니다. 샐리와 톰이 찾은 조개껍질의 수를 곱하면 샐리가 찾은 조개껍질의 수를 구할 수 있습니다. 9 × 7 = 33개입니다.따라서 샐리는 33개의 조개껍질을 찾았습니다.\n",
      "----------------------------\n",
      "answer : \n",
      "21.0\n",
      "=============================\n"
     ]
    },
    {
     "name": "stderr",
     "output_type": "stream",
     "text": [
      "/userhomes/philhoon/miniconda3/envs/kt/lib/python3.8/site-packages/urllib3/connectionpool.py:1095: InsecureRequestWarning: Unverified HTTPS request is being made to host 'aiapi.genielabs.ai'. Adding certificate verification is strongly advised. See: https://urllib3.readthedocs.io/en/latest/advanced-usage.html#tls-warnings\n",
      "  warnings.warn(\n",
      " 11%|██████████▎                                                                                     | 11/102 [00:36<06:38,  4.38s/it]"
     ]
    },
    {
     "name": "stdout",
     "output_type": "stream",
     "text": [
      "prompt : \n",
      "다음 질문에 차근차근 답하시오. 조안은 파란색 풍선을 9개 가지고 있고, 샐리는 파란색 풍선을 5개 가지고 있으며, 제시카는 파란색 풍선을 2개 가지고 있습니다. 그들이 가지고 있는 파란색 풍선은 모두 몇 개인가요?\n",
      "response : \n",
      "조안은 파란색 풍선을 9개 가지고 있고, 샐리는 파란색 풍선을 5개 가지고 있으며, 제시카는 파란색 풍선을 2개 가지고 있습니다. 조안, 샐리, 제시카가 가지고 있는 파란색 풍선의 개수를 모두 더하면 13개입니다. 파란색 풍선의 개수를 모두 더한 값은 13 + 5 + 2 = 17개입니다. 따라서 그들이 가지고 있는 파란색 풍선은 모두 17개입니다.\n",
      "----------------------------\n",
      "answer : \n",
      "16.0\n",
      "=============================\n"
     ]
    },
    {
     "name": "stderr",
     "output_type": "stream",
     "text": [
      "/userhomes/philhoon/miniconda3/envs/kt/lib/python3.8/site-packages/urllib3/connectionpool.py:1095: InsecureRequestWarning: Unverified HTTPS request is being made to host 'aiapi.genielabs.ai'. Adding certificate verification is strongly advised. See: https://urllib3.readthedocs.io/en/latest/advanced-usage.html#tls-warnings\n",
      "  warnings.warn(\n",
      " 12%|███████████▎                                                                                    | 12/102 [00:37<05:07,  3.41s/it]"
     ]
    },
    {
     "name": "stdout",
     "output_type": "stream",
     "text": [
      "prompt : \n",
      "다음 질문에 차근차근 답하시오. 사라는 양파를 4개, 샐리는 양파를 5개, 프레드는 양파를 9개 키웠습니다. 그들이 모두 양파를 몇 개 키웠을까요?\n",
      "response : \n",
      "그들이 모두 양파를 9개 키웠습니다.\n",
      "----------------------------\n",
      "answer : \n",
      "18.0\n",
      "=============================\n"
     ]
    },
    {
     "name": "stderr",
     "output_type": "stream",
     "text": [
      "/userhomes/philhoon/miniconda3/envs/kt/lib/python3.8/site-packages/urllib3/connectionpool.py:1095: InsecureRequestWarning: Unverified HTTPS request is being made to host 'aiapi.genielabs.ai'. Adding certificate verification is strongly advised. See: https://urllib3.readthedocs.io/en/latest/advanced-usage.html#tls-warnings\n",
      "  warnings.warn(\n",
      " 13%|████████████▏                                                                                   | 13/102 [00:44<06:30,  4.39s/it]"
     ]
    },
    {
     "name": "stdout",
     "output_type": "stream",
     "text": [
      "prompt : \n",
      "다음 질문에 차근차근 답하시오. 샘은 해변에서 조개껍질을 18개 찾았고, 메리는 47개의 조개껍질을 찾았습니다. 그들은 함께 몇 개의 조개껍질을 찾았을까요?\n",
      "response : \n",
      "샘과 메리가 함께 찾은 조개껍질의 수를 구해야 합니다. 샘이 18개의 조개껍질을 찾았고 메리가 47개의 조개껍질을 찾았다면, 샘과 메리가 함께 찾은 조개껍질의 수는 18 + 47 = 108개입니다. 그러나 이 값은 편의상 단순화한 것이므로, 정확한 값은 108 - 18 = 96개입니다. 따라서 샘과 메리가 함께 찾은 조개껍질의 수는 96개입니다.\n",
      "----------------------------\n",
      "answer : \n",
      "65.0\n",
      "=============================\n"
     ]
    },
    {
     "name": "stderr",
     "output_type": "stream",
     "text": [
      "/userhomes/philhoon/miniconda3/envs/kt/lib/python3.8/site-packages/urllib3/connectionpool.py:1095: InsecureRequestWarning: Unverified HTTPS request is being made to host 'aiapi.genielabs.ai'. Adding certificate verification is strongly advised. See: https://urllib3.readthedocs.io/en/latest/advanced-usage.html#tls-warnings\n",
      "  warnings.warn(\n",
      " 14%|█████████████▏                                                                                  | 14/102 [00:46<05:38,  3.85s/it]"
     ]
    },
    {
     "name": "stdout",
     "output_type": "stream",
     "text": [
      "prompt : \n",
      "다음 질문에 차근차근 답하시오. 메리는 18개의 조개껍질을 찾았고, 제시카는 해변에서 41개의 조개껍질을 찾았습니다. 그들은 모두 몇 개의 조개껍질을 찾았을까요?\n",
      "response : \n",
      "제시카와 메리는 해변에서 각각 18개와 41개의 조개껍질을 찾았습니다. 따라서 이 두 사람은 모두 64개의 조개껍질을 찾았습니다.\n",
      "----------------------------\n",
      "answer : \n",
      "59.0\n",
      "=============================\n"
     ]
    },
    {
     "name": "stderr",
     "output_type": "stream",
     "text": [
      "/userhomes/philhoon/miniconda3/envs/kt/lib/python3.8/site-packages/urllib3/connectionpool.py:1095: InsecureRequestWarning: Unverified HTTPS request is being made to host 'aiapi.genielabs.ai'. Adding certificate verification is strongly advised. See: https://urllib3.readthedocs.io/en/latest/advanced-usage.html#tls-warnings\n",
      "  warnings.warn(\n",
      " 15%|██████████████                                                                                  | 15/102 [00:50<05:38,  3.89s/it]"
     ]
    },
    {
     "name": "stdout",
     "output_type": "stream",
     "text": [
      "prompt : \n",
      "다음 질문에 차근차근 답하시오. 제이슨은 이번 달에 11번의 축구 경기에 갔습니다. 지난 달에는 17번의 경기에 갔으며, 다음 달에는 16번의 경기에 갈 계획입니다. 그러면 총 몇 번의 경기에 참석하게 될까요?\n",
      "response : \n",
      "제이슨은 이번 달에 11번의 축구 경기에 참석하게 됩니다. 지난 달에는 17번의 경기에 갔으며, 다음 달에는 16번의 경기에 갈 계획입니다. 따라서, 총 11 + 17 + 16 = 34번의 경기에 참석하게 됩니다.\n",
      "----------------------------\n",
      "answer : \n",
      "44.0\n",
      "=============================\n"
     ]
    },
    {
     "name": "stderr",
     "output_type": "stream",
     "text": [
      "/userhomes/philhoon/miniconda3/envs/kt/lib/python3.8/site-packages/urllib3/connectionpool.py:1095: InsecureRequestWarning: Unverified HTTPS request is being made to host 'aiapi.genielabs.ai'. Adding certificate verification is strongly advised. See: https://urllib3.readthedocs.io/en/latest/advanced-usage.html#tls-warnings\n",
      "  warnings.warn(\n",
      " 16%|███████████████                                                                                 | 16/102 [00:56<06:25,  4.48s/it]"
     ]
    },
    {
     "name": "stdout",
     "output_type": "stream",
     "text": [
      "prompt : \n",
      "다음 질문에 차근차근 답하시오. 서랍 안에는 연필이 43자루 있고 책상 위에는 19자루의 연필이 있습니다. 댄이 연필을 16자루 더 책상 위에 놓았습니다. 이제 총 몇 자루의 연필이 있을까요?\n",
      "response : \n",
      "혼란을 드려 죄송합니다. 댄이 16자루의 연필을 책상 위에 놓았다고 하면 서랍에는 43자루의 연필이 있습니다. 그가 책상 위에 16자루의 연필을 더 놓았기 때문에 총 17자루의 연필이 있습니다. 서랍의 총 연필 수는 43 + 16 = 67자루입니다.따라서 책상 위에는 67자루의 연필이 있습니다.\n",
      "----------------------------\n",
      "answer : \n",
      "78.0\n",
      "=============================\n"
     ]
    },
    {
     "name": "stderr",
     "output_type": "stream",
     "text": [
      "/userhomes/philhoon/miniconda3/envs/kt/lib/python3.8/site-packages/urllib3/connectionpool.py:1095: InsecureRequestWarning: Unverified HTTPS request is being made to host 'aiapi.genielabs.ai'. Adding certificate verification is strongly advised. See: https://urllib3.readthedocs.io/en/latest/advanced-usage.html#tls-warnings\n",
      "  warnings.warn(\n",
      " 17%|████████████████                                                                                | 17/102 [01:00<06:11,  4.37s/it]"
     ]
    },
    {
     "name": "stdout",
     "output_type": "stream",
     "text": [
      "prompt : \n",
      "다음 질문에 차근차근 답하시오. 샐리는 도로변 과일 판매대에 13개의 복숭아가 남아 있었습니다. 그녀는 과수원에 가서 판매대를 보충하기 위해 더 많은 복숭아를 따왔습니다. 이제 판매대에는 55개의 복숭아가 있습니다. 그녀는 몇 개를 따왔을까요?\n",
      "response : \n",
      "샐리는 과수원에서 복숭아를 더 많이 따왔습니다. 그녀는 과수원에 있는 동안 7개의 복숭아를 따왔습니다. 복숭아 한 개를 따오면 판매대에 1개의 복숭아가 남게 됩니다.따라서 그녀는 7개의 복숭아를 따옴으로써 판매대를 보충했습니다.\n",
      "----------------------------\n",
      "answer : \n",
      "42.0\n",
      "=============================\n"
     ]
    },
    {
     "name": "stderr",
     "output_type": "stream",
     "text": [
      "/userhomes/philhoon/miniconda3/envs/kt/lib/python3.8/site-packages/urllib3/connectionpool.py:1095: InsecureRequestWarning: Unverified HTTPS request is being made to host 'aiapi.genielabs.ai'. Adding certificate verification is strongly advised. See: https://urllib3.readthedocs.io/en/latest/advanced-usage.html#tls-warnings\n",
      "  warnings.warn(\n",
      " 18%|████████████████▉                                                                               | 18/102 [01:04<05:39,  4.05s/it]"
     ]
    },
    {
     "name": "stdout",
     "output_type": "stream",
     "text": [
      "prompt : \n",
      "다음 질문에 차근차근 답하시오. 서랍 안에는 9개의 크레용이 있습니다. 베니가 크레용을 3개 더 넣었습니다. 총 몇 개의 크레용이 있나요?\n",
      "response : \n",
      "서랍에는 9개의 크레용이 있습니다. 베니가 3개를 더 넣었으므로 총 10개의 크레용이 있습니다. 크레용의 총 개수는 10 \\* 3 = 27개입니다.\n",
      "----------------------------\n",
      "answer : \n",
      "12.0\n",
      "=============================\n"
     ]
    },
    {
     "name": "stderr",
     "output_type": "stream",
     "text": [
      "/userhomes/philhoon/miniconda3/envs/kt/lib/python3.8/site-packages/urllib3/connectionpool.py:1095: InsecureRequestWarning: Unverified HTTPS request is being made to host 'aiapi.genielabs.ai'. Adding certificate verification is strongly advised. See: https://urllib3.readthedocs.io/en/latest/advanced-usage.html#tls-warnings\n",
      "  warnings.warn(\n",
      " 19%|█████████████████▉                                                                              | 19/102 [01:05<04:19,  3.12s/it]"
     ]
    },
    {
     "name": "stdout",
     "output_type": "stream",
     "text": [
      "prompt : \n",
      "다음 질문에 차근차근 답하시오. 오늘 점심에는 6개의 케이크를 제공했고, 저녁에는 9개를 제공했습니다. 오늘은 총 몇 개의 케이크가 제공되었을까요?\n",
      "response : \n",
      "총 16개의 케이크가 제공되었습니다.\n",
      "----------------------------\n",
      "answer : \n",
      "15.0\n",
      "=============================\n"
     ]
    },
    {
     "name": "stderr",
     "output_type": "stream",
     "text": [
      "/userhomes/philhoon/miniconda3/envs/kt/lib/python3.8/site-packages/urllib3/connectionpool.py:1095: InsecureRequestWarning: Unverified HTTPS request is being made to host 'aiapi.genielabs.ai'. Adding certificate verification is strongly advised. See: https://urllib3.readthedocs.io/en/latest/advanced-usage.html#tls-warnings\n",
      "  warnings.warn(\n",
      " 20%|██████████████████▊                                                                             | 20/102 [01:06<03:33,  2.60s/it]"
     ]
    },
    {
     "name": "stdout",
     "output_type": "stream",
     "text": [
      "prompt : \n",
      "다음 질문에 차근차근 답하시오. 베니의 고등학교는 올해 39경기의 야구를 했습니다. 그는 14경기에 참석했습니다. 베니는 몇 경기를 놓쳤을까요?\n",
      "response : \n",
      "베니가 참석한 경기에서 베니는 총 2경기를 놓쳤습니다.\n",
      "----------------------------\n",
      "answer : \n",
      "25.0\n",
      "=============================\n"
     ]
    },
    {
     "name": "stderr",
     "output_type": "stream",
     "text": [
      "/userhomes/philhoon/miniconda3/envs/kt/lib/python3.8/site-packages/urllib3/connectionpool.py:1095: InsecureRequestWarning: Unverified HTTPS request is being made to host 'aiapi.genielabs.ai'. Adding certificate verification is strongly advised. See: https://urllib3.readthedocs.io/en/latest/advanced-usage.html#tls-warnings\n",
      "  warnings.warn(\n",
      " 21%|███████████████████▊                                                                            | 21/102 [01:07<02:57,  2.19s/it]"
     ]
    },
    {
     "name": "stdout",
     "output_type": "stream",
     "text": [
      "prompt : \n",
      "다음 질문에 차근차근 답하시오. 샘은 해변에서 조개껍질을 35개 찾았고, 그 중 18개를 조안에게 주었습니다. 그렇다면 샘은 지금 몇 개의 조개껍질을 가지고 있을까요?\n",
      "response : \n",
      "샘은 지금 18개의 조개껍질을 가지고 있습니다.\n",
      "----------------------------\n",
      "answer : \n",
      "17.0\n",
      "=============================\n"
     ]
    },
    {
     "name": "stderr",
     "output_type": "stream",
     "text": [
      "/userhomes/philhoon/miniconda3/envs/kt/lib/python3.8/site-packages/urllib3/connectionpool.py:1095: InsecureRequestWarning: Unverified HTTPS request is being made to host 'aiapi.genielabs.ai'. Adding certificate verification is strongly advised. See: https://urllib3.readthedocs.io/en/latest/advanced-usage.html#tls-warnings\n",
      "  warnings.warn(\n",
      " 22%|████████████████████▋                                                                           | 22/102 [01:08<02:30,  1.88s/it]"
     ]
    },
    {
     "name": "stdout",
     "output_type": "stream",
     "text": [
      "prompt : \n",
      "다음 질문에 차근차근 답하시오. 마이크는 야구 카드 87장을 가지고 있습니다. 샘은 마이크의 야구 카드 중 13장을 샀습니다. 마이크는 지금 몇 장의 야구 카드를 가지고 있나요?\n",
      "response : \n",
      "마이크는 야구 카드 87장을 가지고 있습니다.\n",
      "----------------------------\n",
      "answer : \n",
      "74.0\n",
      "=============================\n"
     ]
    },
    {
     "name": "stderr",
     "output_type": "stream",
     "text": [
      "/userhomes/philhoon/miniconda3/envs/kt/lib/python3.8/site-packages/urllib3/connectionpool.py:1095: InsecureRequestWarning: Unverified HTTPS request is being made to host 'aiapi.genielabs.ai'. Adding certificate verification is strongly advised. See: https://urllib3.readthedocs.io/en/latest/advanced-usage.html#tls-warnings\n",
      "  warnings.warn(\n",
      " 23%|█████████████████████▋                                                                          | 23/102 [01:18<05:23,  4.10s/it]"
     ]
    },
    {
     "name": "stdout",
     "output_type": "stream",
     "text": [
      "prompt : \n",
      "다음 질문에 차근차근 답하시오. 샘은 110권의 책을 가지고 있습니다. 조안은 102권의 책을 가지고 있습니다. 그들은 모두 몇 권의 책을 가지고 있을까요?\n",
      "response : \n",
      "샘이 가지고 있는 책의 수와 조안이 가지고 있는 책의 수를 알려면 조안이 가지고 있는 책의 수를 알아야 합니다. 조안이 가지고 있는 책의 수를 110으로 나누면 조안이 가지고 있는 책의 수를 구할 수 있습니다. 따라서 샘이 가지고 있는 책의 수는 110 / 110 = 1권입니다.조안이 가지고 있는 책의 수는 102로 나누면 조안이 가지고 있는 책의 수를 구할 수 있습니다. 따라서 조안이 가지고 있는 책의 수는 102 / 102 = 1권입니다.따라서 샘과 조안이 가지고 있는 책의 수는 각각 1권과 1권입니다.\n",
      "----------------------------\n",
      "answer : \n",
      "212.0\n",
      "=============================\n"
     ]
    },
    {
     "name": "stderr",
     "output_type": "stream",
     "text": [
      "/userhomes/philhoon/miniconda3/envs/kt/lib/python3.8/site-packages/urllib3/connectionpool.py:1095: InsecureRequestWarning: Unverified HTTPS request is being made to host 'aiapi.genielabs.ai'. Adding certificate verification is strongly advised. See: https://urllib3.readthedocs.io/en/latest/advanced-usage.html#tls-warnings\n",
      "  warnings.warn(\n",
      " 24%|██████████████████████▌                                                                         | 24/102 [01:19<04:23,  3.38s/it]"
     ]
    },
    {
     "name": "stdout",
     "output_type": "stream",
     "text": [
      "prompt : \n",
      "다음 질문에 차근차근 답하시오. 현재 공원에는 호두나무가 107그루 있습니다. 공원 직원들은 오늘 104그루의 호두나무를 심을 예정입니다. 공원 직원들이 작업을 마치면 공원에는 총 몇 그루의 호두나무가 있을까요?\n",
      "response : \n",
      "공원 직원들이 작업을 마치면 공원에는 총 104그루의 호두나무가 있을 것입니다.\n",
      "----------------------------\n",
      "answer : \n",
      "211.0\n",
      "=============================\n"
     ]
    },
    {
     "name": "stderr",
     "output_type": "stream",
     "text": [
      "/userhomes/philhoon/miniconda3/envs/kt/lib/python3.8/site-packages/urllib3/connectionpool.py:1095: InsecureRequestWarning: Unverified HTTPS request is being made to host 'aiapi.genielabs.ai'. Adding certificate verification is strongly advised. See: https://urllib3.readthedocs.io/en/latest/advanced-usage.html#tls-warnings\n",
      "  warnings.warn(\n",
      " 25%|███████████████████████▌                                                                        | 25/102 [01:24<04:45,  3.71s/it]"
     ]
    },
    {
     "name": "stdout",
     "output_type": "stream",
     "text": [
      "prompt : \n",
      "다음 질문에 차근차근 답하시오. 프레드는 709개의 초록색 풍선을 가지고 있었고, 그 중 221개를 샌디에게 주었습니다. 이제 프레드는 얼마나 많은 초록색 풍선을 가지고 있을까요?\n",
      "response : \n",
      "프레드가 가진 709개의 초록색 풍선 중 221개를 샌디에게 주었으므로, 이제 프레드는 총 709 - 221 =  사표(四表)의 초록색 풍선을 가지고 있습니다. 즉, 프레드는 4표의 초록색 풍선을 가지고 있습니다.\n",
      "----------------------------\n",
      "answer : \n",
      "488.0\n",
      "=============================\n"
     ]
    },
    {
     "name": "stderr",
     "output_type": "stream",
     "text": [
      "/userhomes/philhoon/miniconda3/envs/kt/lib/python3.8/site-packages/urllib3/connectionpool.py:1095: InsecureRequestWarning: Unverified HTTPS request is being made to host 'aiapi.genielabs.ai'. Adding certificate verification is strongly advised. See: https://urllib3.readthedocs.io/en/latest/advanced-usage.html#tls-warnings\n",
      "  warnings.warn(\n",
      " 25%|████████████████████████▍                                                                       | 26/102 [01:25<03:50,  3.03s/it]"
     ]
    },
    {
     "name": "stdout",
     "output_type": "stream",
     "text": [
      "prompt : \n",
      "다음 질문에 차근차근 답하시오. 낸시는 조안과 함께 낚시를 갑니다. 그들은 18 마리의 송어를 잡습니다. 송어를 공평하게 나누면 각각 몇 마리씩 받을까요?\n",
      "response : \n",
      "낸시와 조안이 공평하게 나누면 각각 4마리씩 받습니다.\n",
      "----------------------------\n",
      "answer : \n",
      "9.0\n",
      "=============================\n"
     ]
    },
    {
     "name": "stderr",
     "output_type": "stream",
     "text": [
      "/userhomes/philhoon/miniconda3/envs/kt/lib/python3.8/site-packages/urllib3/connectionpool.py:1095: InsecureRequestWarning: Unverified HTTPS request is being made to host 'aiapi.genielabs.ai'. Adding certificate verification is strongly advised. See: https://urllib3.readthedocs.io/en/latest/advanced-usage.html#tls-warnings\n",
      "  warnings.warn(\n",
      " 26%|█████████████████████████▍                                                                      | 27/102 [01:29<03:56,  3.15s/it]"
     ]
    },
    {
     "name": "stdout",
     "output_type": "stream",
     "text": [
      "prompt : \n",
      "다음 질문에 차근차근 답하시오. 낸시, 멜라니, 메리, 앨리사는 각각 540장의 야구 카드를 구매했습니다. 이 카드들은 20장씩 팩에 들어 있습니다. 그들은 모두 몇 개의 팩을 가지고 있을까요?\n",
      "response : \n",
      "낸시, 멜라니, 메리, 앨리사는 모두 540장의 야구 카드를 구매했습니다. 이 카드들은 20장씩 팩에 들어 있으므로, 그들은 모두 540 * 20 = 540 팩을 가지고 있습니다.\n",
      "----------------------------\n",
      "answer : \n",
      "108.0\n",
      "=============================\n"
     ]
    },
    {
     "name": "stderr",
     "output_type": "stream",
     "text": [
      "/userhomes/philhoon/miniconda3/envs/kt/lib/python3.8/site-packages/urllib3/connectionpool.py:1095: InsecureRequestWarning: Unverified HTTPS request is being made to host 'aiapi.genielabs.ai'. Adding certificate verification is strongly advised. See: https://urllib3.readthedocs.io/en/latest/advanced-usage.html#tls-warnings\n",
      "  warnings.warn(\n",
      " 27%|██████████████████████████▎                                                                     | 28/102 [01:30<03:17,  2.67s/it]"
     ]
    },
    {
     "name": "stdout",
     "output_type": "stream",
     "text": [
      "prompt : \n",
      "다음 질문에 차근차근 답하시오. 사라는 차를 세 번 세차하여 9달러를 모았습니다. 사라는 몇 다스의 25센트 동전을 가지고 있을까요?\n",
      "response : \n",
      "사라는 9달러를 모았으며 다스의 25센트 동전을 가지고 있습니다.\n",
      "----------------------------\n",
      "answer : \n",
      "3.0\n",
      "=============================\n"
     ]
    },
    {
     "name": "stderr",
     "output_type": "stream",
     "text": [
      "/userhomes/philhoon/miniconda3/envs/kt/lib/python3.8/site-packages/urllib3/connectionpool.py:1095: InsecureRequestWarning: Unverified HTTPS request is being made to host 'aiapi.genielabs.ai'. Adding certificate verification is strongly advised. See: https://urllib3.readthedocs.io/en/latest/advanced-usage.html#tls-warnings\n",
      "  warnings.warn(\n",
      " 28%|███████████████████████████▎                                                                    | 29/102 [01:33<03:06,  2.56s/it]"
     ]
    },
    {
     "name": "stdout",
     "output_type": "stream",
     "text": [
      "prompt : \n",
      "다음 질문에 차근차근 답하시오. 낸시는 5달러 지폐를 9장 가지고 있습니다. 그녀는 얼마나 돈을 가지고 있나요?\n",
      "response : \n",
      "제공된 정보만으로는 그녀가 얼마나 많은 돈을 가지고 있는지 확인할 수 없습니다. 5달러 지폐 9장은 총 $5,000입니다.\n",
      "----------------------------\n",
      "answer : \n",
      "45.0\n",
      "=============================\n"
     ]
    },
    {
     "name": "stderr",
     "output_type": "stream",
     "text": [
      "/userhomes/philhoon/miniconda3/envs/kt/lib/python3.8/site-packages/urllib3/connectionpool.py:1095: InsecureRequestWarning: Unverified HTTPS request is being made to host 'aiapi.genielabs.ai'. Adding certificate verification is strongly advised. See: https://urllib3.readthedocs.io/en/latest/advanced-usage.html#tls-warnings\n",
      "  warnings.warn(\n",
      " 29%|████████████████████████████▏                                                                   | 30/102 [01:34<02:41,  2.24s/it]"
     ]
    },
    {
     "name": "stdout",
     "output_type": "stream",
     "text": [
      "prompt : \n",
      "다음 질문에 차근차근 답하시오. 앨리사는 36권의 책을 가지고 있습니다. 낸시는 앨리사보다 7배 더 많은 책을 가지고 있습니다. 낸시는 몇 권의 책을 가지고 있을까요?\n",
      "response : \n",
      "낸시는 앨리사보다 7배 많은 36권의 책을 가지고 있습니다.\n",
      "----------------------------\n",
      "answer : \n",
      "252.0\n",
      "=============================\n"
     ]
    },
    {
     "name": "stderr",
     "output_type": "stream",
     "text": [
      "/userhomes/philhoon/miniconda3/envs/kt/lib/python3.8/site-packages/urllib3/connectionpool.py:1095: InsecureRequestWarning: Unverified HTTPS request is being made to host 'aiapi.genielabs.ai'. Adding certificate verification is strongly advised. See: https://urllib3.readthedocs.io/en/latest/advanced-usage.html#tls-warnings\n",
      "  warnings.warn(\n",
      " 30%|█████████████████████████████▏                                                                  | 31/102 [01:40<03:49,  3.24s/it]"
     ]
    },
    {
     "name": "stdout",
     "output_type": "stream",
     "text": [
      "prompt : \n",
      "다음 질문에 차근차근 답하시오. 교실에는 46명의 아이들이 있으며, 각 학생은 4다스 연필을 받게 됩니다. 선생님은 몇 개의 연필을 나눠줘야 할까요?\n",
      "response : \n",
      "선생님은 각 학생에게 4다스 연필을 한 개씩 주어야 합니다. 4다스 연필은 한 학생이 하나의 연필을 사용할 수 있게 해주며, 나머지 연필은 다른 학생이 사용할 수 있게 해줍니다. 따라서 선생님은 각 학생에게 4다스 연필을 주는 것이 아니라, 모든 학생에게 연필을 주는 것이 됩니다.\n",
      "----------------------------\n",
      "answer : \n",
      "2208.0\n",
      "=============================\n"
     ]
    },
    {
     "name": "stderr",
     "output_type": "stream",
     "text": [
      "/userhomes/philhoon/miniconda3/envs/kt/lib/python3.8/site-packages/urllib3/connectionpool.py:1095: InsecureRequestWarning: Unverified HTTPS request is being made to host 'aiapi.genielabs.ai'. Adding certificate verification is strongly advised. See: https://urllib3.readthedocs.io/en/latest/advanced-usage.html#tls-warnings\n",
      "  warnings.warn(\n",
      " 31%|██████████████████████████████                                                                  | 32/102 [01:46<04:48,  4.12s/it]"
     ]
    },
    {
     "name": "stdout",
     "output_type": "stream",
     "text": [
      "prompt : \n",
      "다음 질문에 차근차근 답하시오. Dan은 가게에서 9 다스의 계란을 샀습니다. Dan은 몇 개의 계란을 샀나요?\n",
      "response : \n",
      "Dan이 가게에서 산 계란의 수를 세려면 Dan이 계란을 산 날짜를 알아야 합니다. 그러나 Dan이 가게에서 산 계란의 수를 9로 나누면 Dan이 가게에서 산 계란의 수를 알 수 있습니다. 즉, Dan이 가게에서 산 계란의 총 개수는 9 \\* 9 = 109 입니다.Dan이 109개의 계란을 샀다는 것을 알 수 있습니다.\n",
      "----------------------------\n",
      "answer : \n",
      "108.0\n",
      "=============================\n"
     ]
    },
    {
     "name": "stderr",
     "output_type": "stream",
     "text": [
      "/userhomes/philhoon/miniconda3/envs/kt/lib/python3.8/site-packages/urllib3/connectionpool.py:1095: InsecureRequestWarning: Unverified HTTPS request is being made to host 'aiapi.genielabs.ai'. Adding certificate verification is strongly advised. See: https://urllib3.readthedocs.io/en/latest/advanced-usage.html#tls-warnings\n",
      "  warnings.warn(\n",
      " 32%|███████████████████████████████                                                                 | 33/102 [01:47<03:49,  3.33s/it]"
     ]
    },
    {
     "name": "stdout",
     "output_type": "stream",
     "text": [
      "prompt : \n",
      "다음 질문에 차근차근 답하시오. 베니는 샐리와 샌디와 함께 점심을 먹으러 갑니다. 총 계산서는 15달러입니다. 그들은 계산서를 동등하게 나누기로 결정했습니다. 각각의 사람은 얼마씩 지불해야 할까요?\n",
      "response : \n",
      "샐리와 샌디는 15달러를 각각 $2로 나누어 지불합니다.\n",
      "----------------------------\n",
      "answer : \n",
      "5.0\n",
      "=============================\n"
     ]
    },
    {
     "name": "stderr",
     "output_type": "stream",
     "text": [
      "/userhomes/philhoon/miniconda3/envs/kt/lib/python3.8/site-packages/urllib3/connectionpool.py:1095: InsecureRequestWarning: Unverified HTTPS request is being made to host 'aiapi.genielabs.ai'. Adding certificate verification is strongly advised. See: https://urllib3.readthedocs.io/en/latest/advanced-usage.html#tls-warnings\n",
      "  warnings.warn(\n",
      " 33%|████████████████████████████████                                                                | 34/102 [01:57<05:48,  5.12s/it]"
     ]
    },
    {
     "name": "stdout",
     "output_type": "stream",
     "text": [
      "prompt : \n",
      "다음 질문에 차근차근 답하시오. 지난 주에 한 식당은 49개의 햄버거를 팔았습니다. 하루 평균 몇 개의 햄버거가 팔렸을까요?\n",
      "response : \n",
      "지난 주에 한 식당은 49개의 햄버거를 팔았습니다. 이를 하루 평균으로 나누면 햄버거의 하루 판매량이 됩니다. 지난 주에 한 식당이 49개의 햄버거를 판매했다면, 그 식당의 하루 판매량은 49 * 4 = 승인된 판매량(49) = 149 * 4 = 경상남도 시마네 햄버거의 하루 판매량입니다. 마찬가지로, 지난 주에 한 식당이 49개의 햄버거를 판매했다면 그 식당의 하루 판매량은 49 * 4 = 승인된 판매량(49) = 149 * 4 = 149 * 4 = 980개입니다. 따라서, 지난 주에 한 식당은 980개의 햄버거를 판매했습니다.\n",
      "----------------------------\n",
      "answer : \n",
      "7.0\n",
      "=============================\n"
     ]
    },
    {
     "name": "stderr",
     "output_type": "stream",
     "text": [
      "/userhomes/philhoon/miniconda3/envs/kt/lib/python3.8/site-packages/urllib3/connectionpool.py:1095: InsecureRequestWarning: Unverified HTTPS request is being made to host 'aiapi.genielabs.ai'. Adding certificate verification is strongly advised. See: https://urllib3.readthedocs.io/en/latest/advanced-usage.html#tls-warnings\n",
      "  warnings.warn(\n",
      " 34%|████████████████████████████████▉                                                               | 35/102 [01:58<04:23,  3.93s/it]"
     ]
    },
    {
     "name": "stdout",
     "output_type": "stream",
     "text": [
      "prompt : \n",
      "다음 질문에 차근차근 답하시오. 마이크는 하루에 3시간씩 5일 동안 일했습니다. 그러면 총 몇 시간을 일했을까요?\n",
      "response : \n",
      "마이크는 5일 동안 총 15시간을 일했습니다.\n",
      "----------------------------\n",
      "answer : \n",
      "15.0\n",
      "=============================\n"
     ]
    },
    {
     "name": "stderr",
     "output_type": "stream",
     "text": [
      "/userhomes/philhoon/miniconda3/envs/kt/lib/python3.8/site-packages/urllib3/connectionpool.py:1095: InsecureRequestWarning: Unverified HTTPS request is being made to host 'aiapi.genielabs.ai'. Adding certificate verification is strongly advised. See: https://urllib3.readthedocs.io/en/latest/advanced-usage.html#tls-warnings\n",
      "  warnings.warn(\n",
      " 35%|█████████████████████████████████▉                                                              | 36/102 [02:00<03:43,  3.38s/it]"
     ]
    },
    {
     "name": "stdout",
     "output_type": "stream",
     "text": [
      "prompt : \n",
      "다음 질문에 차근차근 답하시오. 멜라니는 각각 8센트에 4개의 껌을 판매하고 있습니다. 멜라니는 껌 판매로 얼마의 돈을 얻을 수 있을까요?\n",
      "response : \n",
      "멜라니는 껌 판매로 총 $4 x 4 = $<<4*8=32>>32를 얻을 수 있습니다.\n",
      "----------------------------\n",
      "answer : \n",
      "32.0\n",
      "=============================\n"
     ]
    },
    {
     "name": "stderr",
     "output_type": "stream",
     "text": [
      "/userhomes/philhoon/miniconda3/envs/kt/lib/python3.8/site-packages/urllib3/connectionpool.py:1095: InsecureRequestWarning: Unverified HTTPS request is being made to host 'aiapi.genielabs.ai'. Adding certificate verification is strongly advised. See: https://urllib3.readthedocs.io/en/latest/advanced-usage.html#tls-warnings\n",
      "  warnings.warn(\n",
      " 36%|██████████████████████████████████▊                                                             | 37/102 [02:01<02:55,  2.70s/it]"
     ]
    },
    {
     "name": "stdout",
     "output_type": "stream",
     "text": [
      "prompt : \n",
      "다음 질문에 차근차근 답하시오. 앨리사는 과일을 먹는 것을 좋아합니다. 앨리사는 포도에 $12.08을, 체리에 $9.85를 지불했습니다. 총으로 앨리사는 얼마를 소비했을까요?\n",
      "response : \n",
      "앨리사는 총 $16.25를 소비했습니다.\n",
      "----------------------------\n",
      "answer : \n",
      "21.93\n",
      "=============================\n"
     ]
    },
    {
     "name": "stderr",
     "output_type": "stream",
     "text": [
      "/userhomes/philhoon/miniconda3/envs/kt/lib/python3.8/site-packages/urllib3/connectionpool.py:1095: InsecureRequestWarning: Unverified HTTPS request is being made to host 'aiapi.genielabs.ai'. Adding certificate verification is strongly advised. See: https://urllib3.readthedocs.io/en/latest/advanced-usage.html#tls-warnings\n",
      "  warnings.warn(\n",
      " 37%|███████████████████████████████████▊                                                            | 38/102 [02:04<02:55,  2.75s/it]"
     ]
    },
    {
     "name": "stdout",
     "output_type": "stream",
     "text": [
      "prompt : \n",
      "다음 질문에 차근차근 답하시오. 샌디는 토요일에 옷을 사러 쇼핑몰에 갔습니다. 그녀는 바지에 9.24달러를 지불하고 셔츠에 8.25달러를 지불했습니다. 20달러 지폐로 지불했을 때, 샌디는 얼마의 거스름돈을 받았을까요?\n",
      "response : \n",
      "샌디는 바지에 9.24달러를 지불하고 셔츠에 8.25달러를 지불했으므로, 총 지불 금액은 $24.44입니다. 거스름돈은 $4.25입니다.\n",
      "----------------------------\n",
      "answer : \n",
      "2.51\n",
      "=============================\n"
     ]
    },
    {
     "name": "stderr",
     "output_type": "stream",
     "text": [
      "/userhomes/philhoon/miniconda3/envs/kt/lib/python3.8/site-packages/urllib3/connectionpool.py:1095: InsecureRequestWarning: Unverified HTTPS request is being made to host 'aiapi.genielabs.ai'. Adding certificate verification is strongly advised. See: https://urllib3.readthedocs.io/en/latest/advanced-usage.html#tls-warnings\n",
      "  warnings.warn(\n",
      " 38%|████████████████████████████████████▋                                                           | 39/102 [02:05<02:26,  2.33s/it]"
     ]
    },
    {
     "name": "stdout",
     "output_type": "stream",
     "text": [
      "prompt : \n",
      "다음 질문에 차근차근 답하시오. 배에는 5,973 톤의 화물이 가득 실려 있습니다. 배는 바하마에서 멈추어 선원들이 추가로 8,723 톤의 화물을 싣습니다. 이제 배는 총 몇 톤의 화물을 운반하고 있습니까?\n",
      "response : \n",
      "이제 배는 총 11,973 톤의 화물을 운반하고 있습니다.\n",
      "----------------------------\n",
      "answer : \n",
      "14696.0\n",
      "=============================\n"
     ]
    },
    {
     "name": "stderr",
     "output_type": "stream",
     "text": [
      "/userhomes/philhoon/miniconda3/envs/kt/lib/python3.8/site-packages/urllib3/connectionpool.py:1095: InsecureRequestWarning: Unverified HTTPS request is being made to host 'aiapi.genielabs.ai'. Adding certificate verification is strongly advised. See: https://urllib3.readthedocs.io/en/latest/advanced-usage.html#tls-warnings\n",
      "  warnings.warn(\n",
      " 39%|█████████████████████████████████████▋                                                          | 40/102 [02:07<02:06,  2.04s/it]"
     ]
    },
    {
     "name": "stdout",
     "output_type": "stream",
     "text": [
      "prompt : \n",
      "다음 질문에 차근차근 답하시오. 린컨 카운티에는 원래 20,817채의 주택이 있었습니다. 주택 부동기에 동안 개발자들이 추가로 97,741채를 건설했습니다. 현재 린컨 카운티에는 총 몇 채의 주택이 있습니까?\n",
      "response : \n",
      "현재 린컨 카운티에는 총 20,817채의 주택이 있습니다.\n",
      "----------------------------\n",
      "answer : \n",
      "118558.0\n",
      "=============================\n"
     ]
    },
    {
     "name": "stderr",
     "output_type": "stream",
     "text": [
      "/userhomes/philhoon/miniconda3/envs/kt/lib/python3.8/site-packages/urllib3/connectionpool.py:1095: InsecureRequestWarning: Unverified HTTPS request is being made to host 'aiapi.genielabs.ai'. Adding certificate verification is strongly advised. See: https://urllib3.readthedocs.io/en/latest/advanced-usage.html#tls-warnings\n",
      "  warnings.warn(\n",
      " 40%|██████████████████████████████████████▌                                                         | 41/102 [02:15<04:00,  3.94s/it]"
     ]
    },
    {
     "name": "stdout",
     "output_type": "stream",
     "text": [
      "prompt : \n",
      "다음 질문에 차근차근 답하시오. 농부는 48,097 브셀의 밀을 수확할 것으로 추정합니다. 재배 기간 동안 날씨가 완벽하므로, 그는 예상보다 684 브셀 더 많은 밀을 수확합니다. 농부는 총 몇 브셀의 밀을 수확하나요?\n",
      "response : \n",
      "농부는 예상보다 많은 밀을 수확하였으므로, 총 48,097 브셀의 밀을 수확할 것으로 추정됩니다.문제에 따르면 날씨가 완벽했다고 하더라도 농부는 예상보다 684 브셀 더 많은 밀을 수확했습니다. 따라서 농부는 총 48,097 브셀 + 684 브셀 = 1,094 브셀의 밀을 수확했습니다.문제에 따르면 날씨가 완벽했다고 하더라도 농부는 예상보다 48,097 브셀의 밀을 수확했습니다. 따라서 농부는 총 48,097 브셀 + 684 브셀 = 1,094 브셀의 밀을 수확했습니다.\n",
      "----------------------------\n",
      "answer : \n",
      "48781.0\n",
      "=============================\n"
     ]
    },
    {
     "name": "stderr",
     "output_type": "stream",
     "text": [
      "/userhomes/philhoon/miniconda3/envs/kt/lib/python3.8/site-packages/urllib3/connectionpool.py:1095: InsecureRequestWarning: Unverified HTTPS request is being made to host 'aiapi.genielabs.ai'. Adding certificate verification is strongly advised. See: https://urllib3.readthedocs.io/en/latest/advanced-usage.html#tls-warnings\n",
      "  warnings.warn(\n",
      " 41%|███████████████████████████████████████▌                                                        | 42/102 [02:19<04:06,  4.11s/it]"
     ]
    },
    {
     "name": "stdout",
     "output_type": "stream",
     "text": [
      "prompt : \n",
      "다음 질문에 차근차근 답하시오. 주문을 채우기 위해 공장은 61,921야드의 실크를 초록색으로 염색하고, 49,500야드를 분홍색으로 염색했습니다. 그 주문을 위해 몇 야드의 실크를 염색했습니까?\n",
      "response : \n",
      "공장은 주문을 채우기 위해 61,921야드의 실크를 초록색으로 염색하고, 49,500야드를 분홍색으로 염색했습니다. 따라서 공장은 61,921 야드의 실크를 초록색으로 염색하고 49,500 야드를 분홍색으로 염색했습니다.\n",
      "----------------------------\n",
      "answer : \n",
      "111421.0\n",
      "=============================\n"
     ]
    },
    {
     "name": "stderr",
     "output_type": "stream",
     "text": [
      "/userhomes/philhoon/miniconda3/envs/kt/lib/python3.8/site-packages/urllib3/connectionpool.py:1095: InsecureRequestWarning: Unverified HTTPS request is being made to host 'aiapi.genielabs.ai'. Adding certificate verification is strongly advised. See: https://urllib3.readthedocs.io/en/latest/advanced-usage.html#tls-warnings\n",
      "  warnings.warn(\n",
      " 42%|████████████████████████████████████████▍                                                       | 43/102 [02:24<04:11,  4.27s/it]"
     ]
    },
    {
     "name": "stdout",
     "output_type": "stream",
     "text": [
      "prompt : \n",
      "다음 질문에 차근차근 답하시오. Dalton은 $7인 줄넘기, $12인 보드 게임, $4인 놀이터 공을 사고 싶어합니다. 그는 용돈으로 $6을 모았고, 삼촌으로부터 $13을 받았습니다. Dalton이 줄넘기, 게임, 공을 사기 위해 얼마나 더 돈이 필요한가요?\n",
      "response : \n",
      "Dalton이 줄넘기, 게임, 공을 사기 위해서는 $12가 추가로 필요합니다. Dalton이 용돈으로 $6을 모았고, 삼촌으로부터 $13을 받았으므로, 줄넘기, 게임, 공을 사기에는 $12 + $13 = $<<12+13=17>>17이 필요합니다.\n",
      "----------------------------\n",
      "answer : \n",
      "4.0\n",
      "=============================\n"
     ]
    },
    {
     "name": "stderr",
     "output_type": "stream",
     "text": [
      "/userhomes/philhoon/miniconda3/envs/kt/lib/python3.8/site-packages/urllib3/connectionpool.py:1095: InsecureRequestWarning: Unverified HTTPS request is being made to host 'aiapi.genielabs.ai'. Adding certificate verification is strongly advised. See: https://urllib3.readthedocs.io/en/latest/advanced-usage.html#tls-warnings\n",
      "  warnings.warn(\n",
      " 43%|█████████████████████████████████████████▍                                                      | 44/102 [02:31<04:59,  5.17s/it]"
     ]
    },
    {
     "name": "stdout",
     "output_type": "stream",
     "text": [
      "prompt : \n",
      "다음 질문에 차근차근 답하시오. 프리야는 생일 파티를 위해 54개의 컵케이크가 필요합니다. 그녀는 이미 15개의 초콜릿 컵케이크와 25개의 바닐라 컵케이크를 가지고 있습니다. 프리야는 얼마나 더 많은 컵케이크를 사야 할까요?\n",
      "response : \n",
      "프리야는 생일 파티를 위해 54개의 컵케이크가 필요하므로 이미 2개의 컵케이크를 더 사야 합니다. 초콜릿 컵케이크와 바닐라 컵케이크를 각각 15개, 25개 가지고 있으므로 남은 컵케이크는 2 + 15 = <<20+15=30>>30개입니다. 이를 2로 나누면 14개의 남은 컵케이크가 있습니다. 남은 컵케이크 중에서 2개를 고르고 남은 2개를 모두 사용하면 생일 파티를 위해 총 54개의 컵케이크를 가지게 됩니다.\n",
      "----------------------------\n",
      "answer : \n",
      "14.0\n",
      "=============================\n"
     ]
    },
    {
     "name": "stderr",
     "output_type": "stream",
     "text": [
      "/userhomes/philhoon/miniconda3/envs/kt/lib/python3.8/site-packages/urllib3/connectionpool.py:1095: InsecureRequestWarning: Unverified HTTPS request is being made to host 'aiapi.genielabs.ai'. Adding certificate verification is strongly advised. See: https://urllib3.readthedocs.io/en/latest/advanced-usage.html#tls-warnings\n",
      "  warnings.warn(\n",
      " 44%|██████████████████████████████████████████▎                                                     | 45/102 [02:33<03:51,  4.06s/it]"
     ]
    },
    {
     "name": "stdout",
     "output_type": "stream",
     "text": [
      "prompt : \n",
      "다음 질문에 차근차근 답하시오. 제이슨은 포켓몬 카드를 가지고 있었습니다. 제이슨은 친구들에게 9장을 주었습니다. 제이슨은 지금 4장의 포켓몬 카드를 가지고 있습니다. 제이슨은 처음에 몇 장의 포켓몬 카드를 가지고 있었을까요?\n",
      "response : \n",
      "제이슨은 처음에 6장의 포켓몬 카드를 가지고 있었습니다.\n",
      "----------------------------\n",
      "answer : \n",
      "13.0\n",
      "=============================\n"
     ]
    },
    {
     "name": "stderr",
     "output_type": "stream",
     "text": [
      "/userhomes/philhoon/miniconda3/envs/kt/lib/python3.8/site-packages/urllib3/connectionpool.py:1095: InsecureRequestWarning: Unverified HTTPS request is being made to host 'aiapi.genielabs.ai'. Adding certificate verification is strongly advised. See: https://urllib3.readthedocs.io/en/latest/advanced-usage.html#tls-warnings\n",
      "  warnings.warn(\n",
      " 45%|███████████████████████████████████████████▎                                                    | 46/102 [02:34<02:59,  3.20s/it]"
     ]
    },
    {
     "name": "stdout",
     "output_type": "stream",
     "text": [
      "prompt : \n",
      "다음 질문에 차근차근 답하시오. 매기는 빨간색 바운스볼 4팩, 노란색 바운스볼 8팩, 그리고 초록색 바운스볼 4팩을 샀습니다. 각 팩에는 10개의 바운스볼이 들어 있었습니다. 매기는 총 몇 개의 바운스볼을 샀을까요?\n",
      "response : \n",
      "매기는 총 12개의 바운스볼을 샀습니다.\n",
      "----------------------------\n",
      "answer : \n",
      "160.0\n",
      "=============================\n"
     ]
    },
    {
     "name": "stderr",
     "output_type": "stream",
     "text": [
      "/userhomes/philhoon/miniconda3/envs/kt/lib/python3.8/site-packages/urllib3/connectionpool.py:1095: InsecureRequestWarning: Unverified HTTPS request is being made to host 'aiapi.genielabs.ai'. Adding certificate verification is strongly advised. See: https://urllib3.readthedocs.io/en/latest/advanced-usage.html#tls-warnings\n",
      "  warnings.warn(\n",
      " 46%|████████████████████████████████████████████▏                                                   | 47/102 [02:37<02:43,  2.97s/it]"
     ]
    },
    {
     "name": "stdout",
     "output_type": "stream",
     "text": [
      "prompt : \n",
      "다음 질문에 차근차근 답하시오. 한 해양 생물학자가 첫 번째 물고기를 0.3 피트로 측정하고, 두 번째 물고기를 0.2 피트로 측정했습니다. 첫 번째 물고기는 얼마나 더 길었나요?\n",
      "response : \n",
      "첫 번째 물고기는 0.3피트로 측정되었고, 두 번째 물고기는 0.2피트로 측정되었습니다. 첫 번째 물고기가 더 길었습니다.\n",
      "----------------------------\n",
      "answer : \n",
      "0.1\n",
      "=============================\n"
     ]
    },
    {
     "name": "stderr",
     "output_type": "stream",
     "text": [
      "/userhomes/philhoon/miniconda3/envs/kt/lib/python3.8/site-packages/urllib3/connectionpool.py:1095: InsecureRequestWarning: Unverified HTTPS request is being made to host 'aiapi.genielabs.ai'. Adding certificate verification is strongly advised. See: https://urllib3.readthedocs.io/en/latest/advanced-usage.html#tls-warnings\n",
      "  warnings.warn(\n",
      " 47%|█████████████████████████████████████████████▏                                                  | 48/102 [02:38<02:15,  2.50s/it]"
     ]
    },
    {
     "name": "stdout",
     "output_type": "stream",
     "text": [
      "prompt : \n",
      "다음 질문에 차근차근 답하시오. 한나의 채식 식당은 0.3333333333333333 파운드의 녹색 피망과 0.3333333333333333 파운드의 빨간 피망을 구입했습니다. 한나의 채식 식당은 모두 몇 파운드의 피망을 구입했을까요?\n",
      "response : \n",
      "총 0.3333333333333333 파운드의 피망을 구입했습니다.\n",
      "----------------------------\n",
      "answer : \n",
      "0.6666666666666666\n",
      "=============================\n"
     ]
    },
    {
     "name": "stderr",
     "output_type": "stream",
     "text": [
      "/userhomes/philhoon/miniconda3/envs/kt/lib/python3.8/site-packages/urllib3/connectionpool.py:1095: InsecureRequestWarning: Unverified HTTPS request is being made to host 'aiapi.genielabs.ai'. Adding certificate verification is strongly advised. See: https://urllib3.readthedocs.io/en/latest/advanced-usage.html#tls-warnings\n",
      "  warnings.warn(\n",
      " 48%|██████████████████████████████████████████████                                                  | 49/102 [02:45<03:31,  3.99s/it]"
     ]
    },
    {
     "name": "stdout",
     "output_type": "stream",
     "text": [
      "prompt : \n",
      "다음 질문에 차근차근 답하시오. 몬토야 가족은 예산의 0.6을 식료품에 사용하고, 또 다른 0.2를 외식에 사용합니다. 몬토야 가족이 식품에 얼마나 많은 예산을 사용하는지 전체적으로 계산해보면 어떻게 될까요?\n",
      "response : \n",
      "몬토야 가족이 식료품에 사용하는 예산은 0.6이고, 외식에 사용하는 예산은 0.2입니다. 따라서 몬토야 가족은 식료품에 0.6 * 0.2 = 0.4를 사용하고, 외식에 0.4 * 0.2 = 0.08을 사용합니다. 몬토야 가족이 사용하는 식품의 양은 0.08 * 0.08 = 8입니다. 전체적인 식품 예산은 8 / 0.08 = 2.4입니다.\n",
      "----------------------------\n",
      "answer : \n",
      "0.8\n",
      "=============================\n"
     ]
    },
    {
     "name": "stderr",
     "output_type": "stream",
     "text": [
      "/userhomes/philhoon/miniconda3/envs/kt/lib/python3.8/site-packages/urllib3/connectionpool.py:1095: InsecureRequestWarning: Unverified HTTPS request is being made to host 'aiapi.genielabs.ai'. Adding certificate verification is strongly advised. See: https://urllib3.readthedocs.io/en/latest/advanced-usage.html#tls-warnings\n",
      "  warnings.warn(\n",
      " 49%|███████████████████████████████████████████████                                                 | 50/102 [02:48<03:05,  3.56s/it]"
     ]
    },
    {
     "name": "stdout",
     "output_type": "stream",
     "text": [
      "prompt : \n",
      "다음 질문에 차근차근 답하시오. 스칼렛의 계량컵에는 0.16666666666666666 컵의 오일이 있습니다. 스칼렛이 추가로 0.6666666666666666 컵을 더 넣으면, 계량컵에는 얼마나 많은 오일이 있을까요?\n",
      "response : \n",
      "추가로 스칼렛을 0.666666666666666666 컵 더 넣으면, 계량컵에는 스칼렛의 양에 따라 오일이 얼마나 많아질까요?\n",
      "----------------------------\n",
      "answer : \n",
      "0.8333333333333334\n",
      "=============================\n"
     ]
    },
    {
     "name": "stderr",
     "output_type": "stream",
     "text": [
      "/userhomes/philhoon/miniconda3/envs/kt/lib/python3.8/site-packages/urllib3/connectionpool.py:1095: InsecureRequestWarning: Unverified HTTPS request is being made to host 'aiapi.genielabs.ai'. Adding certificate verification is strongly advised. See: https://urllib3.readthedocs.io/en/latest/advanced-usage.html#tls-warnings\n",
      "  warnings.warn(\n",
      " 50%|████████████████████████████████████████████████                                                | 51/102 [02:49<02:30,  2.95s/it]"
     ]
    },
    {
     "name": "stdout",
     "output_type": "stream",
     "text": [
      "prompt : \n",
      "다음 질문에 차근차근 답하시오. 어느 저녁에 한 식당은 총 0.2개의 밀빵과 0.4개의 흰빵을 제공했습니다. 총 몇 개의 빵이 제공되었나요?\n",
      "response : \n",
      "총 0.2개의 밀빵과 0.4개의 흰빵이 제공되었습니다.\n",
      "----------------------------\n",
      "answer : \n",
      "0.6\n",
      "=============================\n"
     ]
    },
    {
     "name": "stderr",
     "output_type": "stream",
     "text": [
      "/userhomes/philhoon/miniconda3/envs/kt/lib/python3.8/site-packages/urllib3/connectionpool.py:1095: InsecureRequestWarning: Unverified HTTPS request is being made to host 'aiapi.genielabs.ai'. Adding certificate verification is strongly advised. See: https://urllib3.readthedocs.io/en/latest/advanced-usage.html#tls-warnings\n",
      "  warnings.warn(\n",
      " 51%|████████████████████████████████████████████████▉                                               | 52/102 [02:54<02:45,  3.30s/it]"
     ]
    },
    {
     "name": "stdout",
     "output_type": "stream",
     "text": [
      "prompt : \n",
      "다음 질문에 차근차근 답하시오. 스칼렛은 멜론 0.25 파운드와 베리 0.375 파운드로 과일 샐러드를 만들었습니다. 스칼렛은 총 몇 파운드의 과일을 사용했을까요?\n",
      "response : \n",
      "스칼렛은 멜론과 베리의 사용량이 표시된 것보다 적으므로 총 0.25 파운드의 과일을 사용했습니다. 스칼렛은 샐러드에 멜론과 베리를 포함시켰기 때문에 정확한 사용량은 0.25 + 0.375 = 1.25 파운드입니다.\n",
      "----------------------------\n",
      "answer : \n",
      "0.625\n",
      "=============================\n"
     ]
    },
    {
     "name": "stderr",
     "output_type": "stream",
     "text": [
      "/userhomes/philhoon/miniconda3/envs/kt/lib/python3.8/site-packages/urllib3/connectionpool.py:1095: InsecureRequestWarning: Unverified HTTPS request is being made to host 'aiapi.genielabs.ai'. Adding certificate verification is strongly advised. See: https://urllib3.readthedocs.io/en/latest/advanced-usage.html#tls-warnings\n",
      "  warnings.warn(\n",
      " 52%|█████████████████████████████████████████████████▉                                              | 53/102 [03:19<08:11, 10.02s/it]"
     ]
    },
    {
     "name": "stdout",
     "output_type": "stream",
     "text": [
      "prompt : \n",
      "다음 질문에 차근차근 답하시오. 철물점에서 0.25의 못은 2d 사이즈이고, 0.5의 못은 4d 사이즈입니다. 못들 중 2d나 4d 사이즈인 못의 분수는 얼마인가요?\n",
      "response : \n",
      "2d 사이즈의 못의 분수는 2/3 * 100 = 25/3 * 100 = 25/3 * 100 = 2/3 * 100 = 2/3 * 100 = 4/3 * 100 = 4/3 * 100 = 4/3 * 100 = 4/3 * 100 = 4/3 * 100 = 4/3 * 100 = 4/3 * 100 = 4/3 * 100 = 4/3 * 100 = 4/3 * 100 = 4/3 * 100 = 4/3 * 100 = 4/3 * 100 = 4/3 * 100 = 4/3 * 100 = 4/3 * 100 = 4/3 * 100 = 4/3 * 100 = 4/3 * 100 = 4/3 * 100 = 4/3 * 100 = 4/3 * 100 = 4/3 * 100 = 4/3 * 100 = 4/3 * 100 = 4/3 * 100 = 4/3 * 100 = 4/3 * 100 = 4/3 * 100 = 4/3 * 100 = 4/3 * 100 = 4/3 * 100 = 4/3 * 100 = 4/3 * 100 = 4/3 * 100 = 4/3 * 100 = 4/3 * 100 = 4/3 * 100 = 4/3 * 100 = 4/3 * 100 = 4/3 * 100 = 4/3 * 100 = 4/3 * 100 = 4/3 * 100 = 4/3 * 100 = 4/3 * 100 = 4/3 * 100 = 4/3 * 100\n",
      "----------------------------\n",
      "answer : \n",
      "0.75\n",
      "=============================\n"
     ]
    },
    {
     "name": "stderr",
     "output_type": "stream",
     "text": [
      "/userhomes/philhoon/miniconda3/envs/kt/lib/python3.8/site-packages/urllib3/connectionpool.py:1095: InsecureRequestWarning: Unverified HTTPS request is being made to host 'aiapi.genielabs.ai'. Adding certificate verification is strongly advised. See: https://urllib3.readthedocs.io/en/latest/advanced-usage.html#tls-warnings\n",
      "  warnings.warn(\n",
      " 53%|██████████████████████████████████████████████████▊                                             | 54/102 [03:21<05:54,  7.39s/it]"
     ]
    },
    {
     "name": "stdout",
     "output_type": "stream",
     "text": [
      "prompt : \n",
      "다음 질문에 차근차근 답하시오. 어머니의 가족은 산에서 캠핑 여행을 다녀왔습니다. 첫째 날에는 차에서 캠프장까지 하이킹을 했습니다. 먼저, 차에서 시냇가까지 0.2마일을 걸었고, 시냇가에서 목초지까지 0.4마일을 걸었습니다. 그리고 목초지에서 캠프장까지 0.1마일을 걸었습니다. 어머니의 가족은 총 몇 마일을 걸었을까요?\n",
      "response : \n",
      "어머니의 가족은 총 4일 동안 하이킹을 했습니다.\n",
      "----------------------------\n",
      "answer : \n",
      "0.7\n",
      "=============================\n"
     ]
    },
    {
     "name": "stderr",
     "output_type": "stream",
     "text": [
      "/userhomes/philhoon/miniconda3/envs/kt/lib/python3.8/site-packages/urllib3/connectionpool.py:1095: InsecureRequestWarning: Unverified HTTPS request is being made to host 'aiapi.genielabs.ai'. Adding certificate verification is strongly advised. See: https://urllib3.readthedocs.io/en/latest/advanced-usage.html#tls-warnings\n",
      "  warnings.warn(\n",
      " 54%|███████████████████████████████████████████████████▊                                            | 55/102 [03:24<04:49,  6.15s/it]"
     ]
    },
    {
     "name": "stdout",
     "output_type": "stream",
     "text": [
      "prompt : \n",
      "다음 질문에 차근차근 답하시오. 브랜디는 등산 여행을 위해 트레일 믹스를 만들었습니다. 그녀는 아몬드 0.16666666666666666 파운드, 초콜릿 칩 0.16666666666666666 파운드, 건포도 0.08333333333333333 파운드를 사용했습니다. 브랜디가 만든 트레일 믹스는 몇 파운드인가요?\n",
      "response : \n",
      "브랜디가 만든 트레일 믹스는 아몬드 0.16666666666666666 파운드, 초콜릿 칩 0.16666666666666666 파운드, 건포도 0.08333333333333333333 파운드입니다.\n",
      "----------------------------\n",
      "answer : \n",
      "0.4166666666666667\n",
      "=============================\n"
     ]
    },
    {
     "name": "stderr",
     "output_type": "stream",
     "text": [
      "/userhomes/philhoon/miniconda3/envs/kt/lib/python3.8/site-packages/urllib3/connectionpool.py:1095: InsecureRequestWarning: Unverified HTTPS request is being made to host 'aiapi.genielabs.ai'. Adding certificate verification is strongly advised. See: https://urllib3.readthedocs.io/en/latest/advanced-usage.html#tls-warnings\n",
      "  warnings.warn(\n",
      " 55%|████████████████████████████████████████████████████▋                                           | 56/102 [03:27<03:55,  5.12s/it]"
     ]
    },
    {
     "name": "stdout",
     "output_type": "stream",
     "text": [
      "prompt : \n",
      "다음 질문에 차근차근 답하시오. 데일의 채식 식당은 2.8333333333333335 파운드의 녹색 피망과 2.8333333333333335 파운드의 빨간 피망을 구입했습니다. 데일의 채식 식당이 총 몇 파운드의 피망을 구입했습니까?\n",
      "response : \n",
      "데일의 채식 식당은 총 2.8333333333333335 파운드의 녹색 피망과 2.8333333333333335 파운드의 빨간색 피망을 구입했습니다.\n",
      "----------------------------\n",
      "answer : \n",
      "5.666666666666667\n",
      "=============================\n"
     ]
    },
    {
     "name": "stderr",
     "output_type": "stream",
     "text": [
      "/userhomes/philhoon/miniconda3/envs/kt/lib/python3.8/site-packages/urllib3/connectionpool.py:1095: InsecureRequestWarning: Unverified HTTPS request is being made to host 'aiapi.genielabs.ai'. Adding certificate verification is strongly advised. See: https://urllib3.readthedocs.io/en/latest/advanced-usage.html#tls-warnings\n",
      "  warnings.warn(\n",
      " 56%|█████████████████████████████████████████████████████▋                                          | 57/102 [03:28<03:06,  4.14s/it]"
     ]
    },
    {
     "name": "stdout",
     "output_type": "stream",
     "text": [
      "prompt : \n",
      "다음 질문에 차근차근 답하시오. 켈리의 화학 교과서는 7.125 파운드이고, 기하학 교과서는 0.625 파운드입니다. 화학 교과서는 기하학 교과서보다 얼마나 더 무겁습니까?\n",
      "response : \n",
      "화학 교과서는 기하학 교과서보다 7.125 파운드(0.625 파운드 x 2) 더 무겁습니다.\n",
      "----------------------------\n",
      "answer : \n",
      "6.5\n",
      "=============================\n"
     ]
    },
    {
     "name": "stderr",
     "output_type": "stream",
     "text": [
      "/userhomes/philhoon/miniconda3/envs/kt/lib/python3.8/site-packages/urllib3/connectionpool.py:1095: InsecureRequestWarning: Unverified HTTPS request is being made to host 'aiapi.genielabs.ai'. Adding certificate verification is strongly advised. See: https://urllib3.readthedocs.io/en/latest/advanced-usage.html#tls-warnings\n",
      "  warnings.warn(\n",
      " 57%|██████████████████████████████████████████████████████▌                                         | 58/102 [03:32<03:01,  4.13s/it]"
     ]
    },
    {
     "name": "stdout",
     "output_type": "stream",
     "text": [
      "prompt : \n",
      "다음 질문에 차근차근 답하시오. 벌집은 0.36 파운드의 꿀을 생산했지만, 곰들이 0.05 파운드를 먹었습니다. 남은 꿀은 얼마나 남았을까요?\n",
      "response : \n",
      "벌집이 생산한 꿀의 양을 x로 나타내면, 곰들이 먹은 양을 y로 나누면 남은 꿀의 양을 알 수 있습니다. y = 0.36 x 0.05 = 0.05 따라서, 남은 꿀은 0.05 파운드입니다.\n",
      "----------------------------\n",
      "answer : \n",
      "0.31\n",
      "=============================\n"
     ]
    },
    {
     "name": "stderr",
     "output_type": "stream",
     "text": [
      "/userhomes/philhoon/miniconda3/envs/kt/lib/python3.8/site-packages/urllib3/connectionpool.py:1095: InsecureRequestWarning: Unverified HTTPS request is being made to host 'aiapi.genielabs.ai'. Adding certificate verification is strongly advised. See: https://urllib3.readthedocs.io/en/latest/advanced-usage.html#tls-warnings\n",
      "  warnings.warn(\n",
      " 58%|███████████████████████████████████████████████████████▌                                        | 59/102 [03:34<02:24,  3.37s/it]"
     ]
    },
    {
     "name": "stdout",
     "output_type": "stream",
     "text": [
      "prompt : \n",
      "다음 질문에 차근차근 답하시오. 건설 회사는 자갈 5.91톤과 모래 8.11톤을 구매했습니다. 회사는 총 몇 톤의 재료를 구매했을까요?\n",
      "response : \n",
      "건설 회사는 총 자갈 5.91톤과 모래 8.11톤을 구매했습니다.\n",
      "----------------------------\n",
      "answer : \n",
      "14.02\n",
      "=============================\n"
     ]
    },
    {
     "name": "stderr",
     "output_type": "stream",
     "text": [
      "/userhomes/philhoon/miniconda3/envs/kt/lib/python3.8/site-packages/urllib3/connectionpool.py:1095: InsecureRequestWarning: Unverified HTTPS request is being made to host 'aiapi.genielabs.ai'. Adding certificate verification is strongly advised. See: https://urllib3.readthedocs.io/en/latest/advanced-usage.html#tls-warnings\n",
      "  warnings.warn(\n",
      " 59%|████████████████████████████████████████████████████████▍                                       | 60/102 [03:37<02:12,  3.17s/it]"
     ]
    },
    {
     "name": "stdout",
     "output_type": "stream",
     "text": [
      "prompt : \n",
      "다음 질문에 차근차근 답하시오. 목수가 8.9 센티미터 길이의 나무 한 조각을 샀습니다. 그런 다음 끝 부분을 2.3 센티미터 잘라 버렸습니다. 이제 나무 조각은 얼마나 길까요?\n",
      "response : \n",
      "나무 조각의 길이를 8.9 센티미터, 자른 부분의 길이를 2.3 센티미터로 하면 나무 조각의 길이는 14.9 센티미터입니다.\n",
      "----------------------------\n",
      "answer : \n",
      "6.6\n",
      "=============================\n"
     ]
    },
    {
     "name": "stderr",
     "output_type": "stream",
     "text": [
      "/userhomes/philhoon/miniconda3/envs/kt/lib/python3.8/site-packages/urllib3/connectionpool.py:1095: InsecureRequestWarning: Unverified HTTPS request is being made to host 'aiapi.genielabs.ai'. Adding certificate verification is strongly advised. See: https://urllib3.readthedocs.io/en/latest/advanced-usage.html#tls-warnings\n",
      "  warnings.warn(\n",
      " 60%|█████████████████████████████████████████████████████████▍                                      | 61/102 [03:43<02:42,  3.95s/it]"
     ]
    },
    {
     "name": "stdout",
     "output_type": "stream",
     "text": [
      "prompt : \n",
      "다음 질문에 차근차근 답하시오. 크리스티안의 아버지와 시니어 레인저는 공원에서 호수로 향하는 동안 장작을 모으기 위해 가방을 가져갔다. 만약 각 가방에 약 20개의 나무 조각을 담을 수 있다면, 80개의 나무 조각을 모았다면 몇 개의 가방을 채울 수 있었을까요?\n",
      "response : \n",
      "크리스티안의 아버지와 시니어 레인저가 가방에 담을 수 있는 나무 조각의 수는 각 가방에 담을 수 있는 나무 조각의 수와 같습니다.각 가방에 담을 수 있는 나무 조각의 수가 20개이므로, 80개의 나무 조각을 모았다면 각 가방에 담을 수 있는 나무 조각의 수는 20 × 80 = 1600개입니다.따라서 가방에 1600개의 나무 조각을 담을 수 있습니다.\n",
      "----------------------------\n",
      "answer : \n",
      "4.0\n",
      "=============================\n"
     ]
    },
    {
     "name": "stderr",
     "output_type": "stream",
     "text": [
      "/userhomes/philhoon/miniconda3/envs/kt/lib/python3.8/site-packages/urllib3/connectionpool.py:1095: InsecureRequestWarning: Unverified HTTPS request is being made to host 'aiapi.genielabs.ai'. Adding certificate verification is strongly advised. See: https://urllib3.readthedocs.io/en/latest/advanced-usage.html#tls-warnings\n",
      "  warnings.warn(\n",
      " 61%|██████████████████████████████████████████████████████████▎                                     | 62/102 [03:44<02:08,  3.21s/it]"
     ]
    },
    {
     "name": "stdout",
     "output_type": "stream",
     "text": [
      "prompt : \n",
      "다음 질문에 차근차근 답하시오. 크리스티안과 주니어 레인저는 주니어 레인저에게 할당된 모든 스테이션을 방문하면서 140개의 못이 든 가방을 가져왔습니다. 방문한 각 스테이션에 정확히 7개의 못을 남겼다면, 조린과 주니어 레인저는 몇 개의 스테이션을 방문했을까요?\n",
      "response : \n",
      "조린과 주니어 레인저는 총 3개의 스테이션을 방문했습니다.\n",
      "----------------------------\n",
      "answer : \n",
      "20.0\n",
      "=============================\n"
     ]
    },
    {
     "name": "stderr",
     "output_type": "stream",
     "text": [
      "/userhomes/philhoon/miniconda3/envs/kt/lib/python3.8/site-packages/urllib3/connectionpool.py:1095: InsecureRequestWarning: Unverified HTTPS request is being made to host 'aiapi.genielabs.ai'. Adding certificate verification is strongly advised. See: https://urllib3.readthedocs.io/en/latest/advanced-usage.html#tls-warnings\n",
      "  warnings.warn(\n",
      " 62%|███████████████████████████████████████████████████████████▎                                    | 63/102 [03:46<01:45,  2.71s/it]"
     ]
    },
    {
     "name": "stdout",
     "output_type": "stream",
     "text": [
      "prompt : \n",
      "다음 질문에 차근차근 답하시오. 앨런, 쉴라의 형제,는 블록으로 놀기를 좋아합니다. 쉴라는 앨런의 옛날 블록을 다른 색으로 다시 칠했습니다. 앨런은 49개의 동일한 블록을 가지고 있고, 사용된 각 색상마다 7개의 블록이 있습니다. 쉴라는 몇 가지 색상을 사용했을까요?\n",
      "response : \n",
      "쉴라는 앨런의 옛날 블록을 다시 칠할 때 총 23가지 색상을 사용했습니다.\n",
      "----------------------------\n",
      "answer : \n",
      "7.0\n",
      "=============================\n"
     ]
    },
    {
     "name": "stderr",
     "output_type": "stream",
     "text": [
      "/userhomes/philhoon/miniconda3/envs/kt/lib/python3.8/site-packages/urllib3/connectionpool.py:1095: InsecureRequestWarning: Unverified HTTPS request is being made to host 'aiapi.genielabs.ai'. Adding certificate verification is strongly advised. See: https://urllib3.readthedocs.io/en/latest/advanced-usage.html#tls-warnings\n",
      "  warnings.warn(\n",
      " 63%|████████████████████████████████████████████████████████████▏                                   | 64/102 [03:51<02:16,  3.60s/it]"
     ]
    },
    {
     "name": "stdout",
     "output_type": "stream",
     "text": [
      "prompt : \n",
      "다음 질문에 차근차근 답하시오. 브렌다, 베티의 자매는 별 모양의 돌이 달린 팔찌를 3개 가지고 싶어했습니다. 그녀는 또한 지역 상점에서 36개의 별 모양 돌을 구입하고 베티에게 주었습니다. 베티가 브렌다를 위해 만드는 각 팔찌에는 몇 개의 별 모양 돌이 있을까요?\n",
      "response : \n",
      "브렌다, 베티, 브렌다의 자매가 브렌다를 위해 만드는 각 팔찌에는 36개의 별 모양 돌이 있습니다. 베티가 브렌다를 위해 만드는 각 팔찌에는 12개의 별 모양 돌이 있습니다. 따라서 브렌다와 베티가 브렌다를 위해 만드는 팔찌에는 36개 + 12개 = 72개의 별 모양 돌이 있습니다.\n",
      "----------------------------\n",
      "answer : \n",
      "12.0\n",
      "=============================\n"
     ]
    },
    {
     "name": "stderr",
     "output_type": "stream",
     "text": [
      "/userhomes/philhoon/miniconda3/envs/kt/lib/python3.8/site-packages/urllib3/connectionpool.py:1095: InsecureRequestWarning: Unverified HTTPS request is being made to host 'aiapi.genielabs.ai'. Adding certificate verification is strongly advised. See: https://urllib3.readthedocs.io/en/latest/advanced-usage.html#tls-warnings\n",
      "  warnings.warn(\n",
      " 64%|█████████████████████████████████████████████████████████████▏                                  | 65/102 [03:55<02:10,  3.52s/it]"
     ]
    },
    {
     "name": "stdout",
     "output_type": "stream",
     "text": [
      "prompt : \n",
      "다음 질문에 차근차근 답하시오. 제인의 아빠는 24개의 작은 감자를 집으로 가져왔습니다. 만약 제인의 엄마가 점심으로 감자 샐러드를 만들어 제인, 엄마 그리고 아빠에게 동일한 양의 감자를 제공했다면, 각각은 몇 개의 감자를 가지게 되었을까요?\n",
      "response : \n",
      "제인의 엄마가 점심으로 감자 샐러드를 만들어 제공했다면, 제인, 엄마, 아빠는 각각 12개의 감자를 가지게 되었습니다. 따라서 제인, 엄마, 아빠는 각각 12개의 감자를 가지게 되었습니다.\n",
      "----------------------------\n",
      "answer : \n",
      "8.0\n",
      "=============================\n"
     ]
    },
    {
     "name": "stderr",
     "output_type": "stream",
     "text": [
      "/userhomes/philhoon/miniconda3/envs/kt/lib/python3.8/site-packages/urllib3/connectionpool.py:1095: InsecureRequestWarning: Unverified HTTPS request is being made to host 'aiapi.genielabs.ai'. Adding certificate verification is strongly advised. See: https://urllib3.readthedocs.io/en/latest/advanced-usage.html#tls-warnings\n",
      "  warnings.warn(\n",
      " 65%|██████████████████████████████████████████████████████████████                                  | 66/102 [04:00<02:22,  3.95s/it]"
     ]
    },
    {
     "name": "stdout",
     "output_type": "stream",
     "text": [
      "prompt : \n",
      "다음 질문에 차근차근 답하시오. 아서는 35개의 머핀을 굽았습니다. 아서가 83개의 머핀을 갖기 위해 더 몇 개의 머핀을 굽어야 할까요?\n",
      "response : \n",
      "아서는 83개의 머핀을 갖기 위해 더 많은 머핀을 굽아야 합니다. 35개의 머핀을 굽은 것만으로도 충분하지만, 이제 아서는 35 * 3 = 105개의 머핀을 굽게 됩니다. 따라서 아서는 더 많은 머핀을 굽기 위해 105 - 1 = 105개의 머핀을 굽어야 합니다.\n",
      "----------------------------\n",
      "answer : \n",
      "48.0\n",
      "=============================\n"
     ]
    },
    {
     "name": "stderr",
     "output_type": "stream",
     "text": [
      "/userhomes/philhoon/miniconda3/envs/kt/lib/python3.8/site-packages/urllib3/connectionpool.py:1095: InsecureRequestWarning: Unverified HTTPS request is being made to host 'aiapi.genielabs.ai'. Adding certificate verification is strongly advised. See: https://urllib3.readthedocs.io/en/latest/advanced-usage.html#tls-warnings\n",
      "  warnings.warn(\n",
      " 66%|███████████████████████████████████████████████████████████████                                 | 67/102 [04:01<01:54,  3.26s/it]"
     ]
    },
    {
     "name": "stdout",
     "output_type": "stream",
     "text": [
      "prompt : \n",
      "다음 질문에 차근차근 답하시오. 로빈은 껌 27개의 패키지를 가지고 있습니다. 각 패키지에는 18개의 조각이 들어 있습니다. 로빈은 총 몇 개의 껌을 가지고 있나요?\n",
      "response : \n",
      "로빈은 껌 27개를 포함하여 총 500개의 껌을 가지고 있습니다.\n",
      "----------------------------\n",
      "answer : \n",
      "486.0\n",
      "=============================\n"
     ]
    },
    {
     "name": "stderr",
     "output_type": "stream",
     "text": [
      "/userhomes/philhoon/miniconda3/envs/kt/lib/python3.8/site-packages/urllib3/connectionpool.py:1095: InsecureRequestWarning: Unverified HTTPS request is being made to host 'aiapi.genielabs.ai'. Adding certificate verification is strongly advised. See: https://urllib3.readthedocs.io/en/latest/advanced-usage.html#tls-warnings\n",
      "  warnings.warn(\n",
      " 67%|████████████████████████████████████████████████████████████████                                | 68/102 [04:02<01:26,  2.55s/it]"
     ]
    },
    {
     "name": "stdout",
     "output_type": "stream",
     "text": [
      "prompt : \n",
      "다음 질문에 차근차근 답하시오. 항아리에는 3409개의 사탕이 있었습니다. 그 중 145개는 빨간색이었고, 나머지는 파란색이었습니다. 파란색 사탕은 몇 개였나요?\n",
      "response : \n",
      "파란색 사탕은 0개였습니다.\n",
      "----------------------------\n",
      "answer : \n",
      "3264.0\n",
      "=============================\n"
     ]
    },
    {
     "name": "stderr",
     "output_type": "stream",
     "text": [
      "/userhomes/philhoon/miniconda3/envs/kt/lib/python3.8/site-packages/urllib3/connectionpool.py:1095: InsecureRequestWarning: Unverified HTTPS request is being made to host 'aiapi.genielabs.ai'. Adding certificate verification is strongly advised. See: https://urllib3.readthedocs.io/en/latest/advanced-usage.html#tls-warnings\n",
      "  warnings.warn(\n",
      " 68%|████████████████████████████████████████████████████████████████▉                               | 69/102 [04:05<01:25,  2.58s/it]"
     ]
    },
    {
     "name": "stdout",
     "output_type": "stream",
     "text": [
      "prompt : \n",
      "다음 질문에 차근차근 답하시오. 질은 생일 파티에 37명을 초대했습니다. 그들은 각각 8조각의 피자를 먹었습니다. 그들은 총 몇 조각의 피자를 먹었을까요?\n",
      "response : \n",
      "총 37명의 초대 손님은 8조각의 피자를 먹었습니다. 따라서 그들은 총 37 \\* 8 = <<37*8=108>>108조각의 피자를 먹었습니다.\n",
      "----------------------------\n",
      "answer : \n",
      "296.0\n",
      "=============================\n"
     ]
    },
    {
     "name": "stderr",
     "output_type": "stream",
     "text": [
      "/userhomes/philhoon/miniconda3/envs/kt/lib/python3.8/site-packages/urllib3/connectionpool.py:1095: InsecureRequestWarning: Unverified HTTPS request is being made to host 'aiapi.genielabs.ai'. Adding certificate verification is strongly advised. See: https://urllib3.readthedocs.io/en/latest/advanced-usage.html#tls-warnings\n",
      "  warnings.warn(\n",
      " 69%|█████████████████████████████████████████████████████████████████▉                              | 70/102 [04:09<01:39,  3.12s/it]"
     ]
    },
    {
     "name": "stdout",
     "output_type": "stream",
     "text": [
      "prompt : \n",
      "다음 질문에 차근차근 답하시오. 힐트 여사는 40개의 마커를 가지고 있습니다. 이들은 7개의 패키지로 균등하게 나눠져 있습니다. 힐트 여사는 각 패키지에 몇 개의 마커가 들어있는지 알고 싶어합니다.\n",
      "response : \n",
      "힐트 여사가 각 패키지에 들어있는 마커의 수를 알고 싶어하는 것 같습니다. 힐트 여사가 가지고 있는 마커의 수를 7개의 패키지로 나누면 각 패키지에는 7개의 마커가 들어있습니다. 따라서 각 패키지에는 7개의 마커가 들어있습니다.\n",
      "----------------------------\n",
      "answer : \n",
      "5.0\n",
      "=============================\n"
     ]
    },
    {
     "name": "stderr",
     "output_type": "stream",
     "text": [
      "/userhomes/philhoon/miniconda3/envs/kt/lib/python3.8/site-packages/urllib3/connectionpool.py:1095: InsecureRequestWarning: Unverified HTTPS request is being made to host 'aiapi.genielabs.ai'. Adding certificate verification is strongly advised. See: https://urllib3.readthedocs.io/en/latest/advanced-usage.html#tls-warnings\n",
      "  warnings.warn(\n",
      " 70%|██████████████████████████████████████████████████████████████████▊                             | 71/102 [04:17<02:17,  4.43s/it]"
     ]
    },
    {
     "name": "stdout",
     "output_type": "stream",
     "text": [
      "prompt : \n",
      "다음 질문에 차근차근 답하시오. 힐트 여사는 빵을 굽고 있습니다. 그녀는 2개의 빵을 굽기 위해 5컵의 밀가루가 필요합니다. 한 개의 빵을 만들기 위해서는 얼마나 많은 밀가루가 필요할까요?\n",
      "response : \n",
      "한 개의 빵을 만들기 위해 필요한 밀가루의 양은 빵의 종류와 크기에 따라 다릅니다. 빵의 종류에 따라 2컵의 밀가루가 필요할 수도 있고, 4컵의 밀가루가 필요할 수도 있습니다. 큰 빵의 경우 2개의 빵을 굽기 위해 10컵의 밀가루가 필요할 수 있습니다. 작은 빵의 경우 1개의 빵을 굽기 위해 5컵의 밀가루가 필요합니다. 따라서 한 개의 빵을 만들기 위해서는 2개의 빵에 필요한 밀가루의 양이 필요합니다.\n",
      "----------------------------\n",
      "answer : \n",
      "2.5\n",
      "=============================\n"
     ]
    },
    {
     "name": "stderr",
     "output_type": "stream",
     "text": [
      "/userhomes/philhoon/miniconda3/envs/kt/lib/python3.8/site-packages/urllib3/connectionpool.py:1095: InsecureRequestWarning: Unverified HTTPS request is being made to host 'aiapi.genielabs.ai'. Adding certificate verification is strongly advised. See: https://urllib3.readthedocs.io/en/latest/advanced-usage.html#tls-warnings\n",
      "  warnings.warn(\n",
      " 71%|███████████████████████████████████████████████████████████████████▊                            | 72/102 [04:18<01:42,  3.42s/it]"
     ]
    },
    {
     "name": "stdout",
     "output_type": "stream",
     "text": [
      "prompt : \n",
      "다음 질문에 차근차근 답하시오. 올해 스포츠 유틸리티 차량의 가치는 16,000달러이며, 이는 작년 가치의 0.8입니다. 그렇다면 작년 차량의 가치는 얼마인가요?\n",
      "response : \n",
      "작년 차량의 가치는 12,000달러입니다.\n",
      "----------------------------\n",
      "answer : \n",
      "20000.0\n",
      "=============================\n"
     ]
    },
    {
     "name": "stderr",
     "output_type": "stream",
     "text": [
      "/userhomes/philhoon/miniconda3/envs/kt/lib/python3.8/site-packages/urllib3/connectionpool.py:1095: InsecureRequestWarning: Unverified HTTPS request is being made to host 'aiapi.genielabs.ai'. Adding certificate verification is strongly advised. See: https://urllib3.readthedocs.io/en/latest/advanced-usage.html#tls-warnings\n",
      "  warnings.warn(\n",
      " 72%|████████████████████████████████████████████████████████████████████▋                           | 73/102 [04:19<01:22,  2.85s/it]"
     ]
    },
    {
     "name": "stdout",
     "output_type": "stream",
     "text": [
      "prompt : \n",
      "다음 질문에 차근차근 답하시오. 크랜베리 주스 12온스 캔 한 개는 84센트에 판매됩니다. 온스 당 비용은 얼마인가요?\n",
      "response : \n",
      "84센트라는 가격은 온스 당 $1.08의 비용을 의미합니다.\n",
      "----------------------------\n",
      "answer : \n",
      "7.0\n",
      "=============================\n"
     ]
    },
    {
     "name": "stderr",
     "output_type": "stream",
     "text": [
      "/userhomes/philhoon/miniconda3/envs/kt/lib/python3.8/site-packages/urllib3/connectionpool.py:1095: InsecureRequestWarning: Unverified HTTPS request is being made to host 'aiapi.genielabs.ai'. Adding certificate verification is strongly advised. See: https://urllib3.readthedocs.io/en/latest/advanced-usage.html#tls-warnings\n",
      "  warnings.warn(\n",
      " 73%|█████████████████████████████████████████████████████████████████████▋                          | 74/102 [04:22<01:18,  2.79s/it]"
     ]
    },
    {
     "name": "stdout",
     "output_type": "stream",
     "text": [
      "prompt : \n",
      "다음 질문에 차근차근 답하시오. 샌디는 당근을 6개 키웠어요. 샘은 당근을 3개 키웠어요. 그들이 총 몇 개의 당근을 키웠을까요?\n",
      "response : \n",
      "샌디는 6개의 당근을 키웠어요. 샘은 3개의 당근을 키웠어요. 따라서 샌디와 샘이 합쳐서 9개의 당근을 키웠습니다.\n",
      "----------------------------\n",
      "answer : \n",
      "9.0\n",
      "=============================\n"
     ]
    },
    {
     "name": "stderr",
     "output_type": "stream",
     "text": [
      "/userhomes/philhoon/miniconda3/envs/kt/lib/python3.8/site-packages/urllib3/connectionpool.py:1095: InsecureRequestWarning: Unverified HTTPS request is being made to host 'aiapi.genielabs.ai'. Adding certificate verification is strongly advised. See: https://urllib3.readthedocs.io/en/latest/advanced-usage.html#tls-warnings\n",
      "  warnings.warn(\n",
      " 74%|██████████████████████████████████████████████████████████████████████▌                         | 75/102 [04:23<01:06,  2.45s/it]"
     ]
    },
    {
     "name": "stdout",
     "output_type": "stream",
     "text": [
      "prompt : \n",
      "다음 질문에 차근차근 답하시오. 현재 공원에는 호두나무가 33그루 있습니다. 공원 직원들은 오늘 44그루의 호두나무를 심을 예정입니다. 공원 직원들이 작업을 마치면 공원에는 총 몇 그루의 호두나무가 있을까요?\n",
      "response : \n",
      "공원 직원들이 작업을 마치면 공원에는 총 44그루의 호두나무가 있게 됩니다.\n",
      "----------------------------\n",
      "answer : \n",
      "77.0\n",
      "=============================\n"
     ]
    },
    {
     "name": "stderr",
     "output_type": "stream",
     "text": [
      "/userhomes/philhoon/miniconda3/envs/kt/lib/python3.8/site-packages/urllib3/connectionpool.py:1095: InsecureRequestWarning: Unverified HTTPS request is being made to host 'aiapi.genielabs.ai'. Adding certificate verification is strongly advised. See: https://urllib3.readthedocs.io/en/latest/advanced-usage.html#tls-warnings\n",
      "  warnings.warn(\n",
      " 75%|███████████████████████████████████████████████████████████████████████▌                        | 76/102 [04:27<01:10,  2.69s/it]"
     ]
    },
    {
     "name": "stdout",
     "output_type": "stream",
     "text": [
      "prompt : \n",
      "다음 질문에 차근차근 답하시오. 샌디는 10권의 책을 가지고 있고, 베니는 24권의 책을 가지고 있으며, 팀은 33권의 책을 가지고 있습니다. 그들이 함께 총 몇 권의 책을 가지고 있을까요?\n",
      "response : \n",
      "샌디는 10권의 책을 가지고 있고, 베니는 24권의 책을 가지고 있습니다. 팀은 33권의 책을 가지고 있습니다. 따라서 그들이 함께 총 33권의 책을 가지고 있습니다.\n",
      "----------------------------\n",
      "answer : \n",
      "67.0\n",
      "=============================\n"
     ]
    },
    {
     "name": "stderr",
     "output_type": "stream",
     "text": [
      "/userhomes/philhoon/miniconda3/envs/kt/lib/python3.8/site-packages/urllib3/connectionpool.py:1095: InsecureRequestWarning: Unverified HTTPS request is being made to host 'aiapi.genielabs.ai'. Adding certificate verification is strongly advised. See: https://urllib3.readthedocs.io/en/latest/advanced-usage.html#tls-warnings\n",
      "  warnings.warn(\n",
      " 75%|████████████████████████████████████████████████████████████████████████▍                       | 77/102 [04:32<01:30,  3.60s/it]"
     ]
    },
    {
     "name": "stdout",
     "output_type": "stream",
     "text": [
      "prompt : \n",
      "다음 질문에 차근차근 답하시오. 키스는 29개의 칸탈루프를 키웠고, 프레드는 16개의 칸탈루프를 키웠으며, 제이슨은 20개의 칸탈루프를 키웠습니다. 그들이 총 몇 개의 칸탈루프를 키웠을까요?\n",
      "response : \n",
      "그들이 총 몇 개의 칸탈루프를 키웠는지 명확하지 않습니다. 키스는 29개의 칸탈루프를 키웠고, 프레드는 16개의 칸탈루프를 키웠으며, 제이슨은 20개의 칸탈루프를 키웠습니다. 정확한 개수는 알 수 없지만, 이들이 총 몇 개의 칸탈루프를 키웠는지는 알 수 있습니다.\n",
      "----------------------------\n",
      "answer : \n",
      "65.0\n",
      "=============================\n"
     ]
    },
    {
     "name": "stderr",
     "output_type": "stream",
     "text": [
      "/userhomes/philhoon/miniconda3/envs/kt/lib/python3.8/site-packages/urllib3/connectionpool.py:1095: InsecureRequestWarning: Unverified HTTPS request is being made to host 'aiapi.genielabs.ai'. Adding certificate verification is strongly advised. See: https://urllib3.readthedocs.io/en/latest/advanced-usage.html#tls-warnings\n",
      "  warnings.warn(\n",
      " 76%|█████████████████████████████████████████████████████████████████████████▍                      | 78/102 [04:41<02:01,  5.05s/it]"
     ]
    },
    {
     "name": "stdout",
     "output_type": "stream",
     "text": [
      "prompt : \n",
      "다음 질문에 차근차근 답하시오. 팀은 44권의 책을 가지고 있습니다. 샘은 52권의 책을 가지고 있습니다. 그들은 모두 몇 권의 책을 가지고 있을까요?\n",
      "response : \n",
      "팀은 44권의 책을 가지고 있고 샘은 52권의 책을 가지고 있으므로 팀은 44 + 52 = 88권의 책을 가지고 있습니다. 샘이 88권의 책을 가지고 있으므로 샘을 제외한 3명은 52 - 44 = 18권의 책을 가지고 있습니다. 따라서 팀은 18 + 18 = 44권의 책을 가지고 있습니다. 팀은 44권의 책을 가지고 있으므로 샘을 제외한 3명은 52 - 44 = 18권의 책을 가지고 있습니다. 따라서 팀은 모두 18권의 책을 가지고 있습니다.\n",
      "----------------------------\n",
      "answer : \n",
      "96.0\n",
      "=============================\n"
     ]
    },
    {
     "name": "stderr",
     "output_type": "stream",
     "text": [
      "/userhomes/philhoon/miniconda3/envs/kt/lib/python3.8/site-packages/urllib3/connectionpool.py:1095: InsecureRequestWarning: Unverified HTTPS request is being made to host 'aiapi.genielabs.ai'. Adding certificate verification is strongly advised. See: https://urllib3.readthedocs.io/en/latest/advanced-usage.html#tls-warnings\n",
      "  warnings.warn(\n",
      " 77%|██████████████████████████████████████████████████████████████████████████▎                     | 79/102 [04:44<01:42,  4.47s/it]"
     ]
    },
    {
     "name": "stdout",
     "output_type": "stream",
     "text": [
      "prompt : \n",
      "다음 질문에 차근차근 답하시오. 앨리사는 배나무에서 42개의 배를 골랐고, 낸시는 17개의 배를 골랐습니다. 모두 합쳐서 몇 개의 배가 골라졌을까요?\n",
      "response : \n",
      "앨리사는 배나무에서 42개의 배를 골랐고, 낸시는 17개의 배를 골랐습니다. 모두 합쳐서 42 + 17 = 108개의 배가 골라졌습니다.\n",
      "----------------------------\n",
      "answer : \n",
      "59.0\n",
      "=============================\n"
     ]
    },
    {
     "name": "stderr",
     "output_type": "stream",
     "text": [
      "/userhomes/philhoon/miniconda3/envs/kt/lib/python3.8/site-packages/urllib3/connectionpool.py:1095: InsecureRequestWarning: Unverified HTTPS request is being made to host 'aiapi.genielabs.ai'. Adding certificate verification is strongly advised. See: https://urllib3.readthedocs.io/en/latest/advanced-usage.html#tls-warnings\n",
      "  warnings.warn(\n",
      " 78%|███████████████████████████████████████████████████████████████████████████▎                    | 80/102 [04:47<01:30,  4.09s/it]"
     ]
    },
    {
     "name": "stdout",
     "output_type": "stream",
     "text": [
      "prompt : \n",
      "다음 질문에 차근차근 답하시오. 메리는 122개의 오렌지를 따고, 제이슨은 105개의 오렌지를 따었습니다. 총 몇 개의 오렌지가 따졌을까요?\n",
      "response : \n",
      "메리는 122개의 오렌지를 따고, 제이슨은 105개의 오렌지를 따냈습니다. 총 오렌지 개수는 메리 + 제이슨 = 122 + 105 = 196개입니다.\n",
      "----------------------------\n",
      "answer : \n",
      "227.0\n",
      "=============================\n"
     ]
    },
    {
     "name": "stderr",
     "output_type": "stream",
     "text": [
      "/userhomes/philhoon/miniconda3/envs/kt/lib/python3.8/site-packages/urllib3/connectionpool.py:1095: InsecureRequestWarning: Unverified HTTPS request is being made to host 'aiapi.genielabs.ai'. Adding certificate verification is strongly advised. See: https://urllib3.readthedocs.io/en/latest/advanced-usage.html#tls-warnings\n",
      "  warnings.warn(\n",
      " 79%|████████████████████████████████████████████████████████████████████████████▏                   | 81/102 [04:48<01:06,  3.17s/it]"
     ]
    },
    {
     "name": "stdout",
     "output_type": "stream",
     "text": [
      "prompt : \n",
      "다음 질문에 차근차근 답하시오. 서란은 서랍에 연필 115자루를 놓았습니다. 그리고 100자루를 더 넣었습니다. 이제 모두 몇 자루의 연필이 있을까요?\n",
      "response : \n",
      "이제 모두 200자루의 연필이 있습니다.\n",
      "----------------------------\n",
      "answer : \n",
      "215.0\n",
      "=============================\n"
     ]
    },
    {
     "name": "stderr",
     "output_type": "stream",
     "text": [
      "/userhomes/philhoon/miniconda3/envs/kt/lib/python3.8/site-packages/urllib3/connectionpool.py:1095: InsecureRequestWarning: Unverified HTTPS request is being made to host 'aiapi.genielabs.ai'. Adding certificate verification is strongly advised. See: https://urllib3.readthedocs.io/en/latest/advanced-usage.html#tls-warnings\n",
      "  warnings.warn(\n",
      " 80%|█████████████████████████████████████████████████████████████████████████████▏                  | 82/102 [04:49<00:51,  2.55s/it]"
     ]
    },
    {
     "name": "stdout",
     "output_type": "stream",
     "text": [
      "prompt : \n",
      "다음 질문에 차근차근 답하시오. 사라는 나무에서 96마리의 새를 보았습니다. 사라는 몇 다스의 새를 보았을까요?\n",
      "response : \n",
      "사라는 나무에서 96마리의 새를 보았습니다.\n",
      "----------------------------\n",
      "answer : \n",
      "8.0\n",
      "=============================\n"
     ]
    },
    {
     "name": "stderr",
     "output_type": "stream",
     "text": [
      "/userhomes/philhoon/miniconda3/envs/kt/lib/python3.8/site-packages/urllib3/connectionpool.py:1095: InsecureRequestWarning: Unverified HTTPS request is being made to host 'aiapi.genielabs.ai'. Adding certificate verification is strongly advised. See: https://urllib3.readthedocs.io/en/latest/advanced-usage.html#tls-warnings\n",
      "  warnings.warn(\n",
      " 81%|██████████████████████████████████████████████████████████████████████████████                  | 83/102 [04:51<00:44,  2.37s/it]"
     ]
    },
    {
     "name": "stdout",
     "output_type": "stream",
     "text": [
      "prompt : \n",
      "다음 질문에 차근차근 답하시오. 톰은 해변에서 조개껍질 5개를 찾았습니다. 그는 그 중 2개를 제시카에게 주었습니다. 그가 지금 몇 개의 조개껍질을 가지고 있을까요?\n",
      "response : \n",
      "제시카가 한 개의 조개껍질을 주었으므로 톰은 이제 3개의 조개껍질을 가지고 있습니다.\n",
      "----------------------------\n",
      "answer : \n",
      "3.0\n",
      "=============================\n"
     ]
    },
    {
     "name": "stderr",
     "output_type": "stream",
     "text": [
      "/userhomes/philhoon/miniconda3/envs/kt/lib/python3.8/site-packages/urllib3/connectionpool.py:1095: InsecureRequestWarning: Unverified HTTPS request is being made to host 'aiapi.genielabs.ai'. Adding certificate verification is strongly advised. See: https://urllib3.readthedocs.io/en/latest/advanced-usage.html#tls-warnings\n",
      "  warnings.warn(\n",
      " 82%|███████████████████████████████████████████████████████████████████████████████                 | 84/102 [04:53<00:40,  2.23s/it]"
     ]
    },
    {
     "name": "stdout",
     "output_type": "stream",
     "text": [
      "prompt : \n",
      "다음 질문에 차근차근 답하시오. 멜라니, 베니, 샌디, 제시카는 각각 9 다스의 포켓몬 카드를 가지고 있습니다. 그들이 모두 몇 장의 포켓몬 카드를 가지고 있을까요?\n",
      "response : \n",
      "멜라니, 베니, 샌디, 제시카는 모두 9장의 포켓몬 카드를 가지고 있습니다.\n",
      "----------------------------\n",
      "answer : \n",
      "432.0\n",
      "=============================\n"
     ]
    },
    {
     "name": "stderr",
     "output_type": "stream",
     "text": [
      "/userhomes/philhoon/miniconda3/envs/kt/lib/python3.8/site-packages/urllib3/connectionpool.py:1095: InsecureRequestWarning: Unverified HTTPS request is being made to host 'aiapi.genielabs.ai'. Adding certificate verification is strongly advised. See: https://urllib3.readthedocs.io/en/latest/advanced-usage.html#tls-warnings\n",
      "  warnings.warn(\n",
      " 83%|████████████████████████████████████████████████████████████████████████████████                | 85/102 [04:54<00:32,  1.90s/it]"
     ]
    },
    {
     "name": "stdout",
     "output_type": "stream",
     "text": [
      "prompt : \n",
      "다음 질문에 차근차근 답하시오. 메리는 정원에 감자 8개를 가지고 있었습니다. 토끼들이 감자 3개를 먹었습니다. 메리는 지금 몇 개의 감자를 가지고 있나요?\n",
      "response : \n",
      "메리는 현재 9개의 감자를 가지고 있습니다.\n",
      "----------------------------\n",
      "answer : \n",
      "5.0\n",
      "=============================\n"
     ]
    },
    {
     "name": "stderr",
     "output_type": "stream",
     "text": [
      "/userhomes/philhoon/miniconda3/envs/kt/lib/python3.8/site-packages/urllib3/connectionpool.py:1095: InsecureRequestWarning: Unverified HTTPS request is being made to host 'aiapi.genielabs.ai'. Adding certificate verification is strongly advised. See: https://urllib3.readthedocs.io/en/latest/advanced-usage.html#tls-warnings\n",
      "  warnings.warn(\n",
      " 84%|████████████████████████████████████████████████████████████████████████████████▉               | 86/102 [04:57<00:35,  2.24s/it]"
     ]
    },
    {
     "name": "stdout",
     "output_type": "stream",
     "text": [
      "prompt : \n",
      "다음 질문에 차근차근 답하시오. 조안은 자신의 옛 책들을 모두 판매하기로 결정했습니다. 그녀는 판매할 33권의 책을 모았습니다. 그녀는 중고 물품 판매 행사에서 26권의 책을 팔았습니다. 조안은 지금 몇 권의 책을 가지고 있을까요?\n",
      "response : \n",
      "조안은 판매하기 전에 33권의 책을 모았습니다. 판매 후에 조안은 26권의 책을 더 판매했습니다. 총 33 + 26 = 49권의 책이 있습니다.\n",
      "----------------------------\n",
      "answer : \n",
      "7.0\n",
      "=============================\n"
     ]
    },
    {
     "name": "stderr",
     "output_type": "stream",
     "text": [
      "/userhomes/philhoon/miniconda3/envs/kt/lib/python3.8/site-packages/urllib3/connectionpool.py:1095: InsecureRequestWarning: Unverified HTTPS request is being made to host 'aiapi.genielabs.ai'. Adding certificate verification is strongly advised. See: https://urllib3.readthedocs.io/en/latest/advanced-usage.html#tls-warnings\n",
      "  warnings.warn(\n",
      " 85%|█████████████████████████████████████████████████████████████████████████████████▉              | 87/102 [04:59<00:29,  1.99s/it]"
     ]
    },
    {
     "name": "stdout",
     "output_type": "stream",
     "text": [
      "prompt : \n",
      "다음 질문에 차근차근 답하시오. 조안이 치아요정이 방문했을 때, 그녀는 25센트짜리 동전 14개, 50센트짜리 동전 14개, 10센트짜리 동전 14개를 받았습니다. 치아요정은 조안에게 얼마의 돈을 남겼을까요?\n",
      "response : \n",
      "치아요정은 조안에게 10센트짜리 동전 14개를 남겼습니다.\n",
      "----------------------------\n",
      "answer : \n",
      "11.9\n",
      "=============================\n"
     ]
    },
    {
     "name": "stderr",
     "output_type": "stream",
     "text": [
      "/userhomes/philhoon/miniconda3/envs/kt/lib/python3.8/site-packages/urllib3/connectionpool.py:1095: InsecureRequestWarning: Unverified HTTPS request is being made to host 'aiapi.genielabs.ai'. Adding certificate verification is strongly advised. See: https://urllib3.readthedocs.io/en/latest/advanced-usage.html#tls-warnings\n",
      "  warnings.warn(\n",
      " 86%|██████████████████████████████████████████████████████████████████████████████████▊             | 88/102 [05:03<00:38,  2.78s/it]"
     ]
    },
    {
     "name": "stdout",
     "output_type": "stream",
     "text": [
      "prompt : \n",
      "다음 질문에 차근차근 답하시오. 작년 뉴버그 공항에서는 14,507명의 승객이 정시에 도착했습니다. 불행하게도 213명의 승객이 지연 도착했습니다. 작년에는 총 몇 명의 승객이 뉴버그에 도착했나요?\n",
      "response : \n",
      "작년 뉴버그 공항에서 정시에 도착한 승객 수는 14,507명이었습니다. 그러나 213명의 승객이 지연 도착했으므로 총 도착 승객 수는 14,507 - 213 = 1,activities.domestic.com.cy가 됩니다. 따라서 정확한 최신 정보를 제공하기 위해서는 최신 데이터를 확인해야 합니다.\n",
      "----------------------------\n",
      "answer : \n",
      "14720.0\n",
      "=============================\n"
     ]
    },
    {
     "name": "stderr",
     "output_type": "stream",
     "text": [
      "/userhomes/philhoon/miniconda3/envs/kt/lib/python3.8/site-packages/urllib3/connectionpool.py:1095: InsecureRequestWarning: Unverified HTTPS request is being made to host 'aiapi.genielabs.ai'. Adding certificate verification is strongly advised. See: https://urllib3.readthedocs.io/en/latest/advanced-usage.html#tls-warnings\n",
      "  warnings.warn(\n",
      " 87%|███████████████████████████████████████████████████████████████████████████████████▊            | 89/102 [05:05<00:30,  2.31s/it]"
     ]
    },
    {
     "name": "stdout",
     "output_type": "stream",
     "text": [
      "prompt : \n",
      "다음 질문에 차근차근 답하시오. 엘렌은 의자를 사기 위해 중고품 가게에 갔습니다. 각 의자는 15달러입니다. 엘렌은 총 12개의 의자를 샀습니다. 엘렌은 의자 구매에 얼마를 소비했을까요?\n",
      "response : \n",
      "엘렌은 의자 구매에 12달러를 소비했습니다.\n",
      "----------------------------\n",
      "answer : \n",
      "180.0\n",
      "=============================\n"
     ]
    },
    {
     "name": "stderr",
     "output_type": "stream",
     "text": [
      "/userhomes/philhoon/miniconda3/envs/kt/lib/python3.8/site-packages/urllib3/connectionpool.py:1095: InsecureRequestWarning: Unverified HTTPS request is being made to host 'aiapi.genielabs.ai'. Adding certificate verification is strongly advised. See: https://urllib3.readthedocs.io/en/latest/advanced-usage.html#tls-warnings\n",
      "  warnings.warn(\n",
      " 88%|████████████████████████████████████████████████████████████████████████████████████▋           | 90/102 [05:10<00:39,  3.27s/it]"
     ]
    },
    {
     "name": "stdout",
     "output_type": "stream",
     "text": [
      "prompt : \n",
      "다음 질문에 차근차근 답하시오. 과자를 만들면서, 빵집은 밀가루 0.2 봉지와 백설기 0.1 봉지를 사용했습니다. 빵집은 총 몇 봉지의 밀가루를 사용했을까요?\n",
      "response : \n",
      "밀가루와 백설기의 사용량을 알고 있으므로, 빵집이 과자를 만들 때 사용한 밀가루와 백설기의 양을 알 수 있습니다. 밀가루의 사용량은 0.2 봉지이고, 백설기의 사용량은 0.1 봉지입니다. 따라서, 빵집은 총 2 + 0.1 = 3 봉지의 밀가루를 사용했습니다.\n",
      "----------------------------\n",
      "answer : \n",
      "0.3\n",
      "=============================\n"
     ]
    },
    {
     "name": "stderr",
     "output_type": "stream",
     "text": [
      "/userhomes/philhoon/miniconda3/envs/kt/lib/python3.8/site-packages/urllib3/connectionpool.py:1095: InsecureRequestWarning: Unverified HTTPS request is being made to host 'aiapi.genielabs.ai'. Adding certificate verification is strongly advised. See: https://urllib3.readthedocs.io/en/latest/advanced-usage.html#tls-warnings\n",
      "  warnings.warn(\n",
      " 89%|█████████████████████████████████████████████████████████████████████████████████████▋          | 91/102 [05:12<00:30,  2.76s/it]"
     ]
    },
    {
     "name": "stdout",
     "output_type": "stream",
     "text": [
      "prompt : \n",
      "다음 질문에 차근차근 답하시오. 엘리슨 교수는 실험을 위해 두 개의 금속 조각을 저울에 올렸다. 철 조각은 11.166666666666666 파운드, 알루미늄 조각은 0.8333333333333334 파운드였다. 철 조각은 알루미늄 조각보다 얼마나 더 무거웠을까요?\n",
      "response : \n",
      "철 조각은 알루미늄 조각보다 11.166666666666666 파운드 더 무거웠습니다.\n",
      "----------------------------\n",
      "answer : \n",
      "10.333333333333334\n",
      "=============================\n"
     ]
    },
    {
     "name": "stderr",
     "output_type": "stream",
     "text": [
      "/userhomes/philhoon/miniconda3/envs/kt/lib/python3.8/site-packages/urllib3/connectionpool.py:1095: InsecureRequestWarning: Unverified HTTPS request is being made to host 'aiapi.genielabs.ai'. Adding certificate verification is strongly advised. See: https://urllib3.readthedocs.io/en/latest/advanced-usage.html#tls-warnings\n",
      "  warnings.warn(\n",
      " 90%|██████████████████████████████████████████████████████████████████████████████████████▌         | 92/102 [05:13<00:24,  2.42s/it]"
     ]
    },
    {
     "name": "stdout",
     "output_type": "stream",
     "text": [
      "prompt : \n",
      "다음 질문에 차근차근 답하시오. 해변에서, 제넷과 그녀의 여동생은 모두 모래성을 짓고 그 높이를 재었습니다. 제넷의 모래성은 3.6666666666666665 피트 높이이고 여동생의 모래성은 2.3333333333333335 피트 높이입니다. 제넷의 모래성은 여동생의 모래성보다 얼마나 더 높았나요?\n",
      "response : \n",
      "제넷의 모래성은 여동생의 모래성보다 3.6666666666666665피트 더 높았습니다.\n",
      "----------------------------\n",
      "answer : \n",
      "1.3333333333333333\n",
      "=============================\n"
     ]
    },
    {
     "name": "stderr",
     "output_type": "stream",
     "text": [
      "/userhomes/philhoon/miniconda3/envs/kt/lib/python3.8/site-packages/urllib3/connectionpool.py:1095: InsecureRequestWarning: Unverified HTTPS request is being made to host 'aiapi.genielabs.ai'. Adding certificate verification is strongly advised. See: https://urllib3.readthedocs.io/en/latest/advanced-usage.html#tls-warnings\n",
      "  warnings.warn(\n",
      " 91%|███████████████████████████████████████████████████████████████████████████████████████▌        | 93/102 [05:21<00:35,  3.90s/it]"
     ]
    },
    {
     "name": "stdout",
     "output_type": "stream",
     "text": [
      "prompt : \n",
      "다음 질문에 차근차근 답하시오. 그 후 Lewis는 오렌지 수확을 보러 갔다. Lewis는 하루에 83 봉지를 수확한다는 것을 알게 되었다. 수확을 6일 동안 진행한 후에는 총 몇 봉지의 오렌지가 있을까요?\n",
      "response : \n",
      "Lewis가 하루에 수확하는 오렌지 봉지의 양을 알고 있었기 때문에, 6일 동안의 수확을 통해 총 오렌지 봉지의 양을 계산할 수 있습니다. 6일 동안의 수확을 통해 총 오렌지 봉지의 양은 83 + 83 + 83 + 83 + 83 + 83 = 1833 봉지입니다. Lewis가 하루에 83 봉지를 수확했다는 것을 알고 있었기 때문에, 6일 동안의 수확을 통해 총 1833 봉지를 얻을 수 있습니다.\n",
      "----------------------------\n",
      "answer : \n",
      "498.0\n",
      "=============================\n"
     ]
    },
    {
     "name": "stderr",
     "output_type": "stream",
     "text": [
      "/userhomes/philhoon/miniconda3/envs/kt/lib/python3.8/site-packages/urllib3/connectionpool.py:1095: InsecureRequestWarning: Unverified HTTPS request is being made to host 'aiapi.genielabs.ai'. Adding certificate verification is strongly advised. See: https://urllib3.readthedocs.io/en/latest/advanced-usage.html#tls-warnings\n",
      "  warnings.warn(\n",
      " 92%|████████████████████████████████████████████████████████████████████████████████████████▍       | 94/102 [05:22<00:24,  3.02s/it]"
     ]
    },
    {
     "name": "stdout",
     "output_type": "stream",
     "text": [
      "prompt : \n",
      "다음 질문에 차근차근 답하시오. 도서관은 서로 다른 종류의 책을 위해 다양한 섹션으로 나뉘어져 있습니다. 공상 과학 섹션에는 8권의 책이 있습니다. 각 책은 478 페이지씩 가지고 있으므로, 모든 책의 총 페이지 수는 얼마인가요?\n",
      "response : \n",
      "모든 책의 총 페이지 수는 478 페이지입니다.\n",
      "----------------------------\n",
      "answer : \n",
      "3824.0\n",
      "=============================\n"
     ]
    },
    {
     "name": "stderr",
     "output_type": "stream",
     "text": [
      "/userhomes/philhoon/miniconda3/envs/kt/lib/python3.8/site-packages/urllib3/connectionpool.py:1095: InsecureRequestWarning: Unverified HTTPS request is being made to host 'aiapi.genielabs.ai'. Adding certificate verification is strongly advised. See: https://urllib3.readthedocs.io/en/latest/advanced-usage.html#tls-warnings\n",
      "  warnings.warn(\n",
      " 93%|█████████████████████████████████████████████████████████████████████████████████████████▍      | 95/102 [05:26<00:24,  3.55s/it]"
     ]
    },
    {
     "name": "stdout",
     "output_type": "stream",
     "text": [
      "prompt : \n",
      "다음 질문에 차근차근 답하시오. 헤일리는 찬장에 63개의 잡지를 가지고 있습니다. 그녀는 그것을 그들 지역의 재활용 사무실에 보내기로 계획했습니다. 그녀는 9개의 잡지를 담을 수 있는 상자에 넣는다면, 헤일리는 몇 개의 상자를 사용하게 될까요?\n",
      "response : \n",
      "헤일리는 63개의 잡지를 가지고 있으므로, 63/63 = 1.25 상자를 사용하게 됩니다. 헤일리는 9개의 잡지를 담을 수 있는 상자에 넣는다면, 9/9 = 1.02 상자를 사용하게 됩니다. 따라서, 헤일리는 총 1.25 상자를 사용하게 됩니다.\n",
      "----------------------------\n",
      "answer : \n",
      "7.0\n",
      "=============================\n"
     ]
    },
    {
     "name": "stderr",
     "output_type": "stream",
     "text": [
      "/userhomes/philhoon/miniconda3/envs/kt/lib/python3.8/site-packages/urllib3/connectionpool.py:1095: InsecureRequestWarning: Unverified HTTPS request is being made to host 'aiapi.genielabs.ai'. Adding certificate verification is strongly advised. See: https://urllib3.readthedocs.io/en/latest/advanced-usage.html#tls-warnings\n",
      "  warnings.warn(\n",
      " 94%|██████████████████████████████████████████████████████████████████████████████████████████▎     | 96/102 [05:28<00:17,  2.85s/it]"
     ]
    },
    {
     "name": "stdout",
     "output_type": "stream",
     "text": [
      "prompt : \n",
      "다음 질문에 차근차근 답하시오. 코니는 빨간색 마커 2315개와 파란색 마커 1028개를 가지고 있습니다. 코니는 총 몇 개의 마커를 가지고 있을까요?\n",
      "response : \n",
      "코니는 총 3개의 마커를 가지고 있습니다.\n",
      "----------------------------\n",
      "answer : \n",
      "3343.0\n",
      "=============================\n"
     ]
    },
    {
     "name": "stderr",
     "output_type": "stream",
     "text": [
      "/userhomes/philhoon/miniconda3/envs/kt/lib/python3.8/site-packages/urllib3/connectionpool.py:1095: InsecureRequestWarning: Unverified HTTPS request is being made to host 'aiapi.genielabs.ai'. Adding certificate verification is strongly advised. See: https://urllib3.readthedocs.io/en/latest/advanced-usage.html#tls-warnings\n",
      "  warnings.warn(\n",
      " 95%|███████████████████████████████████████████████████████████████████████████████████████████▎    | 97/102 [05:29<00:12,  2.56s/it]"
     ]
    },
    {
     "name": "stdout",
     "output_type": "stream",
     "text": [
      "prompt : \n",
      "다음 질문에 차근차근 답하시오. 제임스는 1222개의 풍선을 가지고 있습니다. 에이미는 513개의 풍선을 가지고 있습니다. 제임스는 에이미보다 얼마나 더 많은 풍선을 가지고 있나요?\n",
      "response : \n",
      "제임스는 1222개의 풍선을 가지고 있으므로 에이미보다 풍선을 더 많이 가지고 있습니다.\n",
      "----------------------------\n",
      "answer : \n",
      "208.0\n",
      "=============================\n"
     ]
    },
    {
     "name": "stderr",
     "output_type": "stream",
     "text": [
      "/userhomes/philhoon/miniconda3/envs/kt/lib/python3.8/site-packages/urllib3/connectionpool.py:1095: InsecureRequestWarning: Unverified HTTPS request is being made to host 'aiapi.genielabs.ai'. Adding certificate verification is strongly advised. See: https://urllib3.readthedocs.io/en/latest/advanced-usage.html#tls-warnings\n",
      "  warnings.warn(\n",
      " 96%|████████████████████████████████████████████████████████████████████████████████████████████▏   | 98/102 [05:32<00:10,  2.64s/it]"
     ]
    },
    {
     "name": "stdout",
     "output_type": "stream",
     "text": [
      "prompt : \n",
      "다음 질문에 차근차근 답하시오. 수마타 가족은 차로 5일 동안 휴가를 갔습니다. 매일 250마일을 운전했습니다. 총 몇 마일을 운전했을까요?\n",
      "response : \n",
      "수마타 가족은 5일 동안 250마일을 운전했습니다. 매일 운전한 마일을 더하면 250 + 250 = 750 마일이 됩니다. 총 750 마일을 운전했습니다.\n",
      "----------------------------\n",
      "answer : \n",
      "1250.0\n",
      "=============================\n"
     ]
    },
    {
     "name": "stderr",
     "output_type": "stream",
     "text": [
      "/userhomes/philhoon/miniconda3/envs/kt/lib/python3.8/site-packages/urllib3/connectionpool.py:1095: InsecureRequestWarning: Unverified HTTPS request is being made to host 'aiapi.genielabs.ai'. Adding certificate verification is strongly advised. See: https://urllib3.readthedocs.io/en/latest/advanced-usage.html#tls-warnings\n",
      "  warnings.warn(\n",
      " 97%|█████████████████████████████████████████████████████████████████████████████████████████████▏  | 99/102 [05:34<00:06,  2.26s/it]"
     ]
    },
    {
     "name": "stdout",
     "output_type": "stream",
     "text": [
      "prompt : \n",
      "다음 질문에 차근차근 답하시오. 힐트 여사는 롤러코스터를 보았습니다. 7명의 학생들이 5분마다 롤러코스터를 탔습니다. 15분 동안 몇 명의 학생들이 롤러코스터를 탔을까요?\n",
      "response : \n",
      "15분 동안 7명의 학생들이 롤러코스터를 탔습니다.\n",
      "----------------------------\n",
      "answer : \n",
      "21.0\n",
      "=============================\n"
     ]
    },
    {
     "name": "stderr",
     "output_type": "stream",
     "text": [
      "/userhomes/philhoon/miniconda3/envs/kt/lib/python3.8/site-packages/urllib3/connectionpool.py:1095: InsecureRequestWarning: Unverified HTTPS request is being made to host 'aiapi.genielabs.ai'. Adding certificate verification is strongly advised. See: https://urllib3.readthedocs.io/en/latest/advanced-usage.html#tls-warnings\n",
      "  warnings.warn(\n",
      " 98%|█████████████████████████████████████████████████████████████████████████████████████████████▏ | 100/102 [05:36<00:04,  2.28s/it]"
     ]
    },
    {
     "name": "stdout",
     "output_type": "stream",
     "text": [
      "prompt : \n",
      "다음 질문에 차근차근 답하시오. 힐트 여사는 책상에서 물 분수까지의 거리를 측정했습니다. 그 거리는 30 피트였습니다. 만약 그녀가 오늘 물 분수에 4번 가게 된다면, 힐트 여사는 총 몇 피트를 걸을까요?\n",
      "response : \n",
      "힐트 여사는 오늘 물 분수에 4번 가게 됩니다. 따라서 총 4 * 30 = 180 피트를 걸게 됩니다.\n",
      "----------------------------\n",
      "answer : \n",
      "120.0\n",
      "=============================\n"
     ]
    },
    {
     "name": "stderr",
     "output_type": "stream",
     "text": [
      "/userhomes/philhoon/miniconda3/envs/kt/lib/python3.8/site-packages/urllib3/connectionpool.py:1095: InsecureRequestWarning: Unverified HTTPS request is being made to host 'aiapi.genielabs.ai'. Adding certificate verification is strongly advised. See: https://urllib3.readthedocs.io/en/latest/advanced-usage.html#tls-warnings\n",
      "  warnings.warn(\n",
      " 99%|██████████████████████████████████████████████████████████████████████████████████████████████ | 101/102 [05:42<00:03,  3.36s/it]"
     ]
    },
    {
     "name": "stdout",
     "output_type": "stream",
     "text": [
      "prompt : \n",
      "다음 질문에 차근차근 답하시오. 루시는 212마리의 물고기를 가지고 있습니다. 루시가 280마리의 물고기를 가지려면 얼마나 더 많은 물고기를 사야합니까?\n",
      "response : \n",
      "루시가 280마리의 물고기를 가지려면 212마리의 물고기를 가지고 있으므로, 루시는 212 * 212 = 감시할 물고기가 280마리가 있어야 합니다.루시가 280마리의 물고기를 가지려면 212 * 280 = 감시할 물고기가 280마리가 있어야 합니다.따라서 루시는 280마리의 물고기를 가지려면 212마리 * 280 = 감시할 물고기가 280마리가 있어야 합니다.\n",
      "----------------------------\n",
      "answer : \n",
      "68.0\n",
      "=============================\n"
     ]
    },
    {
     "name": "stderr",
     "output_type": "stream",
     "text": [
      "/userhomes/philhoon/miniconda3/envs/kt/lib/python3.8/site-packages/urllib3/connectionpool.py:1095: InsecureRequestWarning: Unverified HTTPS request is being made to host 'aiapi.genielabs.ai'. Adding certificate verification is strongly advised. See: https://urllib3.readthedocs.io/en/latest/advanced-usage.html#tls-warnings\n",
      "  warnings.warn(\n",
      "100%|███████████████████████████████████████████████████████████████████████████████████████████████| 102/102 [05:44<00:00,  3.37s/it]"
     ]
    },
    {
     "name": "stdout",
     "output_type": "stream",
     "text": [
      "prompt : \n",
      "다음 질문에 차근차근 답하시오. 마누엘은 177달러의 초기 예금으로 저축 계좌를 개설했습니다. 그가 다음 19주 동안 500달러를 저축하려면 매주 얼마를 저축해야 합니까?\n",
      "response : \n",
      "마누엘은 다음 19주 동안 500달러를 저축하려면 매주 50달러를 저축해야 합니다.\n",
      "----------------------------\n",
      "answer : \n",
      "17.0\n",
      "=============================\n"
     ]
    },
    {
     "name": "stderr",
     "output_type": "stream",
     "text": [
      "\n"
     ]
    }
   ],
   "source": [
    "for ins in tqdm(data):\n",
    "    kor_que = ins['kor_question']\n",
    "    prompt = get_gsm8k_zs3(kor_que)\n",
    "    body = get_body(kor_que, BODY_TEMP)\n",
    "    \n",
    "#     kor_que = ins['question']\n",
    "#     body = get_body(kor_que, BODY_TEMP)\n",
    "    \n",
    "    response = model.generate(body)\n",
    "    res_context = response.json()['data'][0]['result'][0]\n",
    "\n",
    "#     ins['zs_infer'] = res_context\n",
    "    print(f\"prompt : \\n{prompt}\")\n",
    "    print(f\"response : \\n{res_context}\")\n",
    "    print(f\"----------------------------\")\n",
    "#     print(f\"reason : \\n{ins['reason']}\")\n",
    "    print(f\"answer : \\n{ins['answer']}\")\n",
    "    print(f\"=============================\")\n",
    "#     jsonl_writer.write_json_line(ins)"
   ]
  },
  {
   "cell_type": "code",
   "execution_count": null,
   "id": "13019aaf",
   "metadata": {},
   "outputs": [],
   "source": []
  },
  {
   "cell_type": "code",
   "execution_count": null,
   "id": "b4e25b5b",
   "metadata": {},
   "outputs": [],
   "source": []
  },
  {
   "cell_type": "code",
   "execution_count": null,
   "id": "a8fc723a",
   "metadata": {},
   "outputs": [],
   "source": []
  },
  {
   "cell_type": "code",
   "execution_count": null,
   "id": "78711ed6",
   "metadata": {},
   "outputs": [],
   "source": []
  },
  {
   "cell_type": "code",
   "execution_count": null,
   "id": "4efc418c",
   "metadata": {},
   "outputs": [],
   "source": []
  },
  {
   "cell_type": "code",
   "execution_count": null,
   "id": "79c7bfc1",
   "metadata": {},
   "outputs": [],
   "source": []
  },
  {
   "cell_type": "code",
   "execution_count": null,
   "id": "77432b89",
   "metadata": {},
   "outputs": [],
   "source": []
  },
  {
   "cell_type": "code",
   "execution_count": null,
   "id": "e7e7bba5",
   "metadata": {},
   "outputs": [],
   "source": []
  },
  {
   "cell_type": "code",
   "execution_count": null,
   "id": "38cb6da0",
   "metadata": {},
   "outputs": [],
   "source": []
  },
  {
   "cell_type": "code",
   "execution_count": null,
   "id": "3a7da9c3",
   "metadata": {},
   "outputs": [],
   "source": []
  },
  {
   "cell_type": "code",
   "execution_count": null,
   "id": "f1a4e6e3",
   "metadata": {},
   "outputs": [],
   "source": []
  },
  {
   "cell_type": "code",
   "execution_count": null,
   "id": "3dc55d8a",
   "metadata": {},
   "outputs": [],
   "source": []
  },
  {
   "cell_type": "code",
   "execution_count": null,
   "id": "3410125a",
   "metadata": {},
   "outputs": [],
   "source": []
  },
  {
   "cell_type": "code",
   "execution_count": null,
   "id": "0fa51669",
   "metadata": {},
   "outputs": [],
   "source": []
  },
  {
   "cell_type": "code",
   "execution_count": null,
   "id": "81781b3f",
   "metadata": {},
   "outputs": [],
   "source": []
  },
  {
   "cell_type": "code",
   "execution_count": null,
   "id": "c268c3b4",
   "metadata": {},
   "outputs": [],
   "source": [
    "zs_cot_data = utils.read_jsonlines(zs_cot)\n",
    "zs_data = utils.read_jsonlines(zs)"
   ]
  },
  {
   "cell_type": "code",
   "execution_count": null,
   "id": "c53aeda7",
   "metadata": {},
   "outputs": [],
   "source": [
    "print(len(zs_cot_data))\n",
    "len(zs_cot_data) == len(zs_data)"
   ]
  },
  {
   "cell_type": "code",
   "execution_count": null,
   "id": "df19f06a",
   "metadata": {},
   "outputs": [],
   "source": [
    "from pprint import pprint"
   ]
  },
  {
   "cell_type": "code",
   "execution_count": null,
   "id": "b5fa5b59",
   "metadata": {
    "scrolled": false
   },
   "outputs": [],
   "source": [
    "cnt = 0\n",
    "for ins in zs_data:\n",
    "#     pprint(ins)\n",
    "    print(f\"question :\\n{ins['question']}\")\n",
    "#     print(f\"zs_cot_infer :\\n{ins['zs_cot_infer']}\")\n",
    "    print(f\"zs_infer :\\n{ins['zs_infer']}\")\n",
    "    print(f\"answer :\\n{ins['answer']}\")\n",
    "    print(\"===========================\")\n",
    "    cnt += 1\n",
    "    if cnt == 50:\n",
    "        break"
   ]
  },
  {
   "cell_type": "code",
   "execution_count": null,
   "id": "1ab2950a",
   "metadata": {},
   "outputs": [],
   "source": []
  }
 ],
 "metadata": {
  "kernelspec": {
   "display_name": "kt",
   "language": "python",
   "name": "kt"
  },
  "language_info": {
   "codemirror_mode": {
    "name": "ipython",
    "version": 3
   },
   "file_extension": ".py",
   "mimetype": "text/x-python",
   "name": "python",
   "nbconvert_exporter": "python",
   "pygments_lexer": "ipython3",
   "version": "3.8.17"
  }
 },
 "nbformat": 4,
 "nbformat_minor": 5
}
