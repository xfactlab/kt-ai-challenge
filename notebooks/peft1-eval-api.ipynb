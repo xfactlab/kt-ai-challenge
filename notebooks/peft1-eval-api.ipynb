{
 "cells": [
  {
   "cell_type": "markdown",
   "id": "cd133517",
   "metadata": {},
   "source": [
    "### Format\n",
    "    \n",
    "    Input\n",
    "    \"\"\"\n",
    "    질문 : <question>\n",
    "    \"\"\"\n",
    "    \n",
    "    Output\n",
    "    \"\"\" \n",
    "    풀이 : <reasoning>\n",
    "    정답 : <answer>\n",
    "    "
   ]
  },
  {
   "cell_type": "markdown",
   "id": "0f3d98f1",
   "metadata": {},
   "source": [
    "## 각각의 데이터는 같음\n",
    "    - /userhomes/philhoon/kt-ai-challenge/result\n",
    "    # kor-gsm8k-peft1-test.jsonl\n",
    "    # kor-gsm8k-reason-test.jsonl\n",
    "\n",
    "    # kor-gsm8k-peft1-train.csv\n",
    "    # kor-gsm8k-reason-train.csv"
   ]
  },
  {
   "cell_type": "code",
   "execution_count": 1,
   "id": "de0d3743",
   "metadata": {},
   "outputs": [],
   "source": [
    "import json\n",
    "import requests\n",
    "from src import utils\n",
    "import time\n",
    "import os\n",
    "import csv\n",
    "import re"
   ]
  },
  {
   "cell_type": "code",
   "execution_count": 2,
   "id": "4df15af6",
   "metadata": {},
   "outputs": [],
   "source": [
    "class model_api():\n",
    "    def __init__(self, url, headers):\n",
    "        self.url = url\n",
    "        self.headers = headers\n",
    "        \n",
    "    def generate(self, body):\n",
    "        \n",
    "        try:\n",
    "            response = requests.post(self.url, data=body, headers=self.headers, verify=False)\n",
    "        \n",
    "        except:\n",
    "            print(\"retrying due to an error......\")\n",
    "            time.sleep(20)\n",
    "            return self.generate(body)\n",
    "        \n",
    "        return response\n",
    "        \n",
    "        "
   ]
  },
  {
   "cell_type": "code",
   "execution_count": 3,
   "id": "1d45164e",
   "metadata": {},
   "outputs": [],
   "source": [
    "api_path = '/userhomes/philhoon/kt-ai-challenge/api-peft1.json'\n",
    "api = utils.read_json_file(api_path)"
   ]
  },
  {
   "cell_type": "code",
   "execution_count": 4,
   "id": "9dc61459",
   "metadata": {},
   "outputs": [],
   "source": [
    "BODY_TEMP = api['body']"
   ]
  },
  {
   "cell_type": "code",
   "execution_count": 5,
   "id": "38e438c8",
   "metadata": {},
   "outputs": [],
   "source": [
    "model = model_api(api['url'], api['headers'])"
   ]
  },
  {
   "cell_type": "code",
   "execution_count": 6,
   "id": "c51fe990",
   "metadata": {},
   "outputs": [],
   "source": [
    "# input_file = '/userhomes/philhoon/kt-ai-challenge/data/openai-gpt-3.5-turbo-0301-2048-0.0-KOR-gsm8k-test.jsonl'\n",
    "input_file = '/userhomes/philhoon/kt-ai-challenge/result/kor-gsm8k-peft1-test.jsonl'"
   ]
  },
  {
   "cell_type": "code",
   "execution_count": 7,
   "id": "90d1cca3",
   "metadata": {},
   "outputs": [],
   "source": [
    "data = utils.read_jsonlines(input_file)"
   ]
  },
  {
   "cell_type": "code",
   "execution_count": 8,
   "id": "0d312a2f",
   "metadata": {},
   "outputs": [
    {
     "data": {
      "text/plain": [
       "1293"
      ]
     },
     "execution_count": 8,
     "metadata": {},
     "output_type": "execute_result"
    }
   ],
   "source": [
    "len(data)"
   ]
  },
  {
   "cell_type": "code",
   "execution_count": 21,
   "id": "e455f89d",
   "metadata": {},
   "outputs": [
    {
     "name": "stdout",
     "output_type": "stream",
     "text": [
      "output_file : /userhomes/philhoon/kt-ai-challenge/result/peft1-result-ko-gsm8k-test.jsonl\n"
     ]
    }
   ],
   "source": [
    "# os.makedirs(output_path, exist_ok=True)\n",
    "output_path = '/userhomes/philhoon/kt-ai-challenge/result'\n",
    "output_file_name = 'peft1-result-ko-gsm8k-test.jsonl'\n",
    "output_file = output_path + '/' + output_file_name\n",
    "print(f'output_file : {output_file}')\n",
    "# jsonl_writer = utils.JSONLWriter(output_file)"
   ]
  },
  {
   "cell_type": "code",
   "execution_count": 9,
   "id": "6a3ff058",
   "metadata": {},
   "outputs": [],
   "source": [
    "# def get_gsm8k_zs(que):\n",
    "#     prompt = f'질문 : {que} \\n정답 : '\n",
    "#     return prompt"
   ]
  },
  {
   "cell_type": "code",
   "execution_count": 10,
   "id": "06afe0f0",
   "metadata": {},
   "outputs": [],
   "source": [
    "# def get_gsm8k_build_data_with_reason(kor_que, kor_ans, ans_s):\n",
    "#     prompt = f\"질문: {kor_que}\"\n",
    "#     output = f\"풀이: {kor_ans} 정답: {ans_s}\"\n",
    "#     return prompt, output"
   ]
  },
  {
   "cell_type": "code",
   "execution_count": 11,
   "id": "14cbc2bf",
   "metadata": {},
   "outputs": [],
   "source": [
    "def get_body(prompt, body_temp):\n",
    "    body_temp[\"utterance\"] = prompt\n",
    "    return json.dumps(body_temp)"
   ]
  },
  {
   "cell_type": "code",
   "execution_count": 12,
   "id": "f87574fc",
   "metadata": {},
   "outputs": [],
   "source": [
    "# from pprint import pprint"
   ]
  },
  {
   "cell_type": "code",
   "execution_count": 13,
   "id": "122da20d",
   "metadata": {},
   "outputs": [],
   "source": [
    "def remove_line_slit(context):\n",
    "    context = re.sub(r\"\\n\", \" \", context)\n",
    "    return context"
   ]
  },
  {
   "cell_type": "markdown",
   "id": "b923ab0c",
   "metadata": {},
   "source": [
    "### GSM8K-TEST\n",
    "    26 out of 1319 : contains the answer in the question due to translation\n",
    "### GSM8K-TRAIN\n",
    "    163 out of 7473 : contains the answer in the question due to translation"
   ]
  },
  {
   "cell_type": "code",
   "execution_count": 14,
   "id": "f2c49d11",
   "metadata": {},
   "outputs": [],
   "source": [
    "from pprint import pprint"
   ]
  },
  {
   "cell_type": "code",
   "execution_count": 18,
   "id": "16dc168a",
   "metadata": {
    "scrolled": false
   },
   "outputs": [
    {
     "name": "stderr",
     "output_type": "stream",
     "text": [
      "/userhomes/philhoon/miniconda3/envs/kt/lib/python3.8/site-packages/urllib3/connectionpool.py:1095: InsecureRequestWarning: Unverified HTTPS request is being made to host 'aiapi.genielabs.ai'. Adding certificate verification is strongly advised. See: https://urllib3.readthedocs.io/en/latest/advanced-usage.html#tls-warnings\n",
      "  warnings.warn(\n"
     ]
    },
    {
     "name": "stdout",
     "output_type": "stream",
     "text": [
      "prompt : \n",
      "질문: 한 벌의 로브를 만드는 데 파란색 섬유 2 덩이와 그 절반만큼의 흰색 섬유가 필요합니다. 총 몇 덩이의 섬유가 필요한가요?\n",
      "res_context : \n",
      "\"풀이: 로브를 만드는 데 2 * 2 = 4 덩이의 섬유가 필요합니다. 그러므로\n",
      "----\n"
     ]
    },
    {
     "name": "stderr",
     "output_type": "stream",
     "text": [
      "/userhomes/philhoon/miniconda3/envs/kt/lib/python3.8/site-packages/urllib3/connectionpool.py:1095: InsecureRequestWarning: Unverified HTTPS request is being made to host 'aiapi.genielabs.ai'. Adding certificate verification is strongly advised. See: https://urllib3.readthedocs.io/en/latest/advanced-usage.html#tls-warnings\n",
      "  warnings.warn(\n"
     ]
    },
    {
     "name": "stdout",
     "output_type": "stream",
     "text": [
      "prompt : \n",
      "질문: 조쉬는 집을 뒤집어 판매해보기로 결정합니다. 그는 $80,000에 집을 구매하고 $50,000을 수리합니다. 이로 인해 집의 가치가 150% 증가합니다. 그가 얼마의 이익을 얻었습니까?\n",
      "res_context : \n",
      "풀이: 그는 80*.5=$40\n",
      "----\n"
     ]
    },
    {
     "name": "stderr",
     "output_type": "stream",
     "text": [
      "/userhomes/philhoon/miniconda3/envs/kt/lib/python3.8/site-packages/urllib3/connectionpool.py:1095: InsecureRequestWarning: Unverified HTTPS request is being made to host 'aiapi.genielabs.ai'. Adding certificate verification is strongly advised. See: https://urllib3.readthedocs.io/en/latest/advanced-usage.html#tls-warnings\n",
      "  warnings.warn(\n"
     ]
    },
    {
     "name": "stdout",
     "output_type": "stream",
     "text": [
      "prompt : \n",
      "질문: 제임스는 매주 3번씩 3번의 짧은 달리기를 결심합니다. 그는 각각 60미터를 달립니다. 그가 일주일에 총 몇 미터를 달릴까요?\n",
      "res_context : \n",
      "풀이: 그는 매주 3*60=120미터를 달립니다. 그래서 그는 일주일에 120*3=240미터를 달립니다. 정답: 240\n",
      "----\n"
     ]
    },
    {
     "name": "stderr",
     "output_type": "stream",
     "text": [
      "/userhomes/philhoon/miniconda3/envs/kt/lib/python3.8/site-packages/urllib3/connectionpool.py:1095: InsecureRequestWarning: Unverified HTTPS request is being made to host 'aiapi.genielabs.ai'. Adding certificate verification is strongly advised. See: https://urllib3.readthedocs.io/en/latest/advanced-usage.html#tls-warnings\n",
      "  warnings.warn(\n"
     ]
    },
    {
     "name": "stdout",
     "output_type": "stream",
     "text": [
      "prompt : \n",
      "질문: 매일, 웬디는 각 닭에게 씨앗, 멸치, 채소가 섞인 닭 사료 3컵씩을 주어 건강하게 유지합니다. 그녀는 닭에게 3번의 식사로 사료를 제공합니다. 아침에는 15컵의 사료를 주고, 오후에는 25컵의 사료를 또 다시 주며, 만약 웬디의 닭 떼가 20마리라면, 하루의 마지막 식사에서 닭에게 몇 컵의 사료를 주어야 할까요?\n",
      "res_context : \n",
      "\"풀이: 웬디는 매일 3 x 15 = 45 컵의 사료를 줍니다. 따라서\n",
      "----\n"
     ]
    },
    {
     "name": "stderr",
     "output_type": "stream",
     "text": [
      "/userhomes/philhoon/miniconda3/envs/kt/lib/python3.8/site-packages/urllib3/connectionpool.py:1095: InsecureRequestWarning: Unverified HTTPS request is being made to host 'aiapi.genielabs.ai'. Adding certificate verification is strongly advised. See: https://urllib3.readthedocs.io/en/latest/advanced-usage.html#tls-warnings\n",
      "  warnings.warn(\n"
     ]
    },
    {
     "name": "stdout",
     "output_type": "stream",
     "text": [
      "prompt : \n",
      "질문: 카일러는 새 아파트를 위해 유리잔을 사러 가게에 갔습니다. 하나의 유리잔 가격은 $5이지만, 두 번째 유리잔부터는 가격의 60%만 지불하면 됩니다. 카일러는 16개의 유리잔을 사고 싶습니다. 그들을 위해 얼마를 지불해야 할까요?\n",
      "res_context : \n",
      "\"풀이: 두 번째 유리잔 가격은 $5 * 60/2 = $5입니다. 따라서\n",
      "----\n"
     ]
    },
    {
     "name": "stderr",
     "output_type": "stream",
     "text": [
      "/userhomes/philhoon/miniconda3/envs/kt/lib/python3.8/site-packages/urllib3/connectionpool.py:1095: InsecureRequestWarning: Unverified HTTPS request is being made to host 'aiapi.genielabs.ai'. Adding certificate verification is strongly advised. See: https://urllib3.readthedocs.io/en/latest/advanced-usage.html#tls-warnings\n",
      "  warnings.warn(\n"
     ]
    },
    {
     "name": "stdout",
     "output_type": "stream",
     "text": [
      "prompt : \n",
      "질문: 툴루즈는 찰스턴의 양의 두 배를 가지고 있습니다. 찰스턴은 시애틀의 양의 4 배를 가지고 있습니다. 시애틀은 양이 20마리 있으므로, 툴루즈, 찰스턴 및 시애틀이 함께 가지고 있는 양은 얼마입니까?\n",
      "res_context : \n",
      "\"풀이: 툴루즈는 양의 두 배를 가지고 있으므로\n",
      "----\n"
     ]
    },
    {
     "name": "stderr",
     "output_type": "stream",
     "text": [
      "/userhomes/philhoon/miniconda3/envs/kt/lib/python3.8/site-packages/urllib3/connectionpool.py:1095: InsecureRequestWarning: Unverified HTTPS request is being made to host 'aiapi.genielabs.ai'. Adding certificate verification is strongly advised. See: https://urllib3.readthedocs.io/en/latest/advanced-usage.html#tls-warnings\n",
      "  warnings.warn(\n"
     ]
    },
    {
     "name": "stdout",
     "output_type": "stream",
     "text": [
      "prompt : \n",
      "질문: 칼라는 200GB 파일을 다운로드하고 있습니다. 보통 그녀는 1분에 2GB를 다운로드할 수 있지만, 다운로드의 40% 지점에서 윈도우가 업데이트를 설치하기 위해 강제로 재시작되어 20분이 걸립니다. 그 후 칼라는 처음부터 다시 다운로드를 시작해야 합니다. 이 파일을 다운로드하는 데 얼마나 걸릴까요?\n",
      "res_context : \n",
      "\"풀이: 보통 1분에 2GB를 다운로드할 수 있으므로\n",
      "----\n"
     ]
    },
    {
     "name": "stderr",
     "output_type": "stream",
     "text": [
      "/userhomes/philhoon/miniconda3/envs/kt/lib/python3.8/site-packages/urllib3/connectionpool.py:1095: InsecureRequestWarning: Unverified HTTPS request is being made to host 'aiapi.genielabs.ai'. Adding certificate verification is strongly advised. See: https://urllib3.readthedocs.io/en/latest/advanced-usage.html#tls-warnings\n",
      "  warnings.warn(\n"
     ]
    },
    {
     "name": "stdout",
     "output_type": "stream",
     "text": [
      "prompt : \n",
      "질문: 존은 60mph의 속도로 3시간 동안 운전을 하다가 집에서 매우 중요한 것을 깜빡했다는 것을 깨달았습니다. 그는 4시간 안에 집에 도착하려고 노력하지만 처음 2시간 동안 정체 교통에 갇혀 있었습니다. 그는 그 다음 30분 동안 30mph의 속도로 운전한 후 나머지 4시간 동안 80mph의 속도로 운전할 수 있었습니다. 그가 4시간 후에 집으로부터 얼마나 떨어져 있나요?\n",
      "res_context : \n",
      "\"풀이: 그는 2시간 동안 정체로 인해 60mph로 운전하여 집에 도착하지 못했습니다. 그는 30분 동안 30mph로 운전하여 집에 도착했습니다. 그는 4시간 동안 80mph로 운전하여 집에 도착했습니다. 그러므로\n",
      "----\n"
     ]
    },
    {
     "name": "stderr",
     "output_type": "stream",
     "text": [
      "/userhomes/philhoon/miniconda3/envs/kt/lib/python3.8/site-packages/urllib3/connectionpool.py:1095: InsecureRequestWarning: Unverified HTTPS request is being made to host 'aiapi.genielabs.ai'. Adding certificate verification is strongly advised. See: https://urllib3.readthedocs.io/en/latest/advanced-usage.html#tls-warnings\n",
      "  warnings.warn(\n"
     ]
    },
    {
     "name": "stdout",
     "output_type": "stream",
     "text": [
      "prompt : \n",
      "질문: 엘리자의 시간당 급여는 일주일에 처음 40시간 동안은 10달러입니다. 그녀는 또한 근무 시간 외에 기본 시간당 급여의 1.2배를 받습니다. 이번 주에 엘리자가 45시간 일했다면, 이번 주 그녀의 수입은 얼마입니까?\n",
      "res_context : \n",
      "\"풀이: 엘리자의 시간당 급여는 40시간 동안 10달러이므로\n",
      "----\n"
     ]
    },
    {
     "name": "stderr",
     "output_type": "stream",
     "text": [
      "/userhomes/philhoon/miniconda3/envs/kt/lib/python3.8/site-packages/urllib3/connectionpool.py:1095: InsecureRequestWarning: Unverified HTTPS request is being made to host 'aiapi.genielabs.ai'. Adding certificate verification is strongly advised. See: https://urllib3.readthedocs.io/en/latest/advanced-usage.html#tls-warnings\n",
      "  warnings.warn(\n"
     ]
    },
    {
     "name": "stdout",
     "output_type": "stream",
     "text": [
      "prompt : \n",
      "질문: 한 달 동안 새로운 프로그램은 60번 다운로드되었습니다. 두 번째 달의 다운로드 횟수는 첫 번째 달의 다운로드 횟수의 3배였지만, 세 번째 달에는 30% 감소했습니다. 이 프로그램은 총 3개월 동안 얼마나 많이 다운로드되었습니까?\n",
      "res_context : \n",
      "\"풀이: 두 번째 달에는 첫 번째 달의 다운로드 횟수의 3배가 있으므로\n",
      "----\n"
     ]
    },
    {
     "name": "stderr",
     "output_type": "stream",
     "text": [
      "/userhomes/philhoon/miniconda3/envs/kt/lib/python3.8/site-packages/urllib3/connectionpool.py:1095: InsecureRequestWarning: Unverified HTTPS request is being made to host 'aiapi.genielabs.ai'. Adding certificate verification is strongly advised. See: https://urllib3.readthedocs.io/en/latest/advanced-usage.html#tls-warnings\n",
      "  warnings.warn(\n"
     ]
    },
    {
     "name": "stdout",
     "output_type": "stream",
     "text": [
      "prompt : \n",
      "질문: 툴라는 빵집에 가서 다양한 종류의 과자를 샀습니다. 그녀는 3다스의 도넛을 1다스당 68달러에, 2다스의 미니 컵케이크를 1다스당 80달러에, 그리고 6다스의 미니 치즈케이크를 1다스당 55달러에 샀습니다. 총 비용은 얼마인가요?\n",
      "res_context : \n",
      "\"풀이: 툴라는 3 + 2 + 6 = 12개의 도넛을 샀습니다. 따라서\n",
      "----\n"
     ]
    }
   ],
   "source": [
    "cnt = 0\n",
    "split_cnt = 0\n",
    "input_lst = []\n",
    "output_lst = []\n",
    "\n",
    "for ins in data:\n",
    "    prompt = ins['kor_question_reason']\n",
    "\n",
    "#     print(prompt)\n",
    "    body = get_body(prompt, BODY_TEMP)\n",
    "#     print(body)\n",
    "    response = model.generate(body)\n",
    "    res_context = response.json()['data'][0]['result'][0]\n",
    "    \n",
    "    print(f'prompt : ')\n",
    "    print(prompt)\n",
    "    print(f'res_context : ')\n",
    "    print(res_context)\n",
    "    print('----')\n",
    "    \n",
    "#     break\n",
    "    # checking whether there is an answer \n",
    "#     test = kor_que.split('\\n')\n",
    "    \n",
    "#     if len(test[0]) != len(kor_que):\n",
    "#         split_cnt += 1\n",
    "#         continue\n",
    "    \n",
    "#     print(f'kor_que')\n",
    "#     print(f'{kor_que}')\n",
    "#     print(f'kor_ans')\n",
    "#     print(f'{kor_ans}')\n",
    "#     print(f'ans_s')\n",
    "#     print(f'{ans_s}')\n",
    "    \n",
    "    ins['peft1_infer'] = res_context\n",
    "#     jsonl_writer.write_json_line(ins)\n",
    "    \n",
    "    if cnt == 10:\n",
    "        break\n",
    "    else:\n",
    "        cnt += 1"
   ]
  },
  {
   "cell_type": "code",
   "execution_count": null,
   "id": "2b4bd594",
   "metadata": {},
   "outputs": [],
   "source": [
    "len(data) - split_cnt"
   ]
  },
  {
   "cell_type": "code",
   "execution_count": null,
   "id": "d942c2fb",
   "metadata": {},
   "outputs": [],
   "source": [
    "len(input_lst)"
   ]
  },
  {
   "cell_type": "code",
   "execution_count": null,
   "id": "22777d6d",
   "metadata": {},
   "outputs": [],
   "source": [
    "len(output_lst)"
   ]
  },
  {
   "cell_type": "code",
   "execution_count": null,
   "id": "a55b80bb",
   "metadata": {},
   "outputs": [],
   "source": [
    "def save_csv_file(file_path, sentence_a_list, sentence_b_list):\n",
    "    with open(file_path, 'w', newline='', encoding='utf-8') as csv_file:\n",
    "        writer = csv.writer(csv_file)\n",
    "        for sentence_a, sentence_b in zip(sentence_a_list, sentence_b_list):\n",
    "            writer.writerow([sentence_a, sentence_b])"
   ]
  },
  {
   "cell_type": "code",
   "execution_count": null,
   "id": "7e71d4f2",
   "metadata": {},
   "outputs": [],
   "source": [
    "output_path = '/userhomes/philhoon/kt-ai-challenge/result'"
   ]
  },
  {
   "cell_type": "code",
   "execution_count": null,
   "id": "83b04f11",
   "metadata": {},
   "outputs": [],
   "source": [
    "output_file = output_path + '/kor-gsm8k-reason-train.csv'"
   ]
  },
  {
   "cell_type": "code",
   "execution_count": null,
   "id": "339b6d5b",
   "metadata": {},
   "outputs": [],
   "source": [
    "output_file"
   ]
  },
  {
   "cell_type": "code",
   "execution_count": null,
   "id": "f20d1402",
   "metadata": {},
   "outputs": [],
   "source": [
    "save_csv_file(output_file, input_lst, output_lst)"
   ]
  },
  {
   "cell_type": "code",
   "execution_count": null,
   "id": "b8d7a499",
   "metadata": {},
   "outputs": [],
   "source": [
    "input_lst[1]"
   ]
  },
  {
   "cell_type": "code",
   "execution_count": null,
   "id": "705bf356",
   "metadata": {},
   "outputs": [],
   "source": [
    "output_lst[1]"
   ]
  }
 ],
 "metadata": {
  "kernelspec": {
   "display_name": "Python 3 (ipykernel)",
   "language": "python",
   "name": "python3"
  },
  "language_info": {
   "codemirror_mode": {
    "name": "ipython",
    "version": 3
   },
   "file_extension": ".py",
   "mimetype": "text/x-python",
   "name": "python",
   "nbconvert_exporter": "python",
   "pygments_lexer": "ipython3",
   "version": "3.8.17"
  }
 },
 "nbformat": 4,
 "nbformat_minor": 5
}
