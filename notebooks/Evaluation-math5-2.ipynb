{
 "cells": [
  {
   "cell_type": "code",
   "execution_count": 1,
   "id": "a7d02a58",
   "metadata": {},
   "outputs": [],
   "source": [
    "import json\n",
    "import requests\n",
    "from src import utils\n",
    "import time\n",
    "import os\n",
    "from pprint import pprint\n",
    "import random\n",
    "from tqdm import tqdm"
   ]
  },
  {
   "cell_type": "code",
   "execution_count": 2,
   "id": "dd873523",
   "metadata": {},
   "outputs": [],
   "source": [
    "api_path = '/userhomes/philhoon/kt-ai-challenge/api-peft3.json'"
   ]
  },
  {
   "cell_type": "code",
   "execution_count": 3,
   "id": "44bfdbf6",
   "metadata": {},
   "outputs": [],
   "source": [
    "api = utils.read_json_file(api_path)"
   ]
  },
  {
   "cell_type": "code",
   "execution_count": 4,
   "id": "9085f0aa",
   "metadata": {},
   "outputs": [],
   "source": [
    "# output_path = '/userhomes/philhoon/kt-ai-challenge/result'"
   ]
  },
  {
   "cell_type": "code",
   "execution_count": 5,
   "id": "8c9f22cf",
   "metadata": {},
   "outputs": [],
   "source": [
    "# os.makedirs(output_path, exist_ok=True)\n",
    "# output_file_name = 'result-' + input_file.split('/')[-1]\n",
    "# output_file = output_path + '/' + output_file_name\n",
    "# print(f'output_file : {output_file}')"
   ]
  },
  {
   "cell_type": "code",
   "execution_count": 6,
   "id": "be9a8ee6",
   "metadata": {},
   "outputs": [],
   "source": [
    "# peft tunning\n",
    "# peft1 = '/userhomes/philhoon/kt-ai-challenge/result/kor-gsm8k-peft1-test.jsonl'\n",
    "# peft2 = '/userhomes/philhoon/kt-ai-challenge/result/kor-gsm8k-peft2-test.jsonl'\n",
    "\n",
    "# ICL\n",
    "# zs = '/userhomes/philhoon/kt-ai-challenge/result/zero-shot-public_mwp_data_v2_preprocess'\n",
    "# zs_cot = '/userhomes/philhoon/kt-ai-challenge/result/zero-shot-cot-public_mwp_data_v2_preprocess'\n",
    "# one_shot_cot = '/userhomes/philhoon/kt-ai-challenge/result/one-shot-cot-result-ko-gsm8k-test.jsonl'\n"
   ]
  },
  {
   "cell_type": "code",
   "execution_count": 7,
   "id": "17333f13",
   "metadata": {},
   "outputs": [],
   "source": [
    "class model_api():\n",
    "    def __init__(self, url, headers):\n",
    "        self.url = url\n",
    "        self.headers = headers\n",
    "        \n",
    "    def generate(self, body):\n",
    "        \n",
    "        try:\n",
    "            response = requests.post(self.url, data=body, headers=self.headers, verify=False)\n",
    "        \n",
    "        except:\n",
    "            print(\"retrying due to an error......\")\n",
    "            time.sleep(20)\n",
    "            return self.generate(body)\n",
    "        \n",
    "        return response\n",
    "        \n",
    "        "
   ]
  },
  {
   "cell_type": "code",
   "execution_count": 8,
   "id": "c79f67c8",
   "metadata": {},
   "outputs": [],
   "source": [
    "model = model_api(api['url'], api['headers'])\n",
    "BODY_TEMP = api['body']"
   ]
  },
  {
   "cell_type": "code",
   "execution_count": 9,
   "id": "5a1772ee",
   "metadata": {},
   "outputs": [],
   "source": [
    "def get_gsm8k_zs3(que):\n",
    "    prompt = f'다음 질문에 차근차근 답하시오. {que}'\n",
    "    return prompt"
   ]
  },
  {
   "cell_type": "code",
   "execution_count": 10,
   "id": "806cf792",
   "metadata": {},
   "outputs": [],
   "source": [
    "def get_body(prompt, body_temp):\n",
    "    body_temp[\"utterance\"] = prompt\n",
    "    return json.dumps(body_temp)"
   ]
  },
  {
   "cell_type": "code",
   "execution_count": 11,
   "id": "8299d7ac",
   "metadata": {},
   "outputs": [],
   "source": [
    "# def get_gsm8k_zs3(que):\n",
    "#     prompt = f'다음 질문에 차근차근 답하시오. {que}'\n",
    "#     return prompt"
   ]
  },
  {
   "cell_type": "code",
   "execution_count": 12,
   "id": "ac2dffdf",
   "metadata": {},
   "outputs": [],
   "source": [
    "## Test dataset\n",
    "\n",
    "# GSM8K 8792 (7473/1319)\n",
    "gsm8k = '/userhomes/philhoon/kt-ai-challenge/data/openai-gpt-3.5-turbo-0301-2048-0.0-KOR-gsm8k-test.jsonl'\n",
    "\n",
    "# MWP_KR_DATA 3750\n",
    "mwp_kr = '/userhomes/philhoon/kt-ai-challenge/data/public_mwp_data_v2_reasoning-test.jsonl'\n",
    "\n",
    "# AddSub 395\n",
    "addsub = '/userhomes/philhoon/kt-ai-challenge/eng_data/kor-D_addsub-test.json'\n",
    "\n",
    "# MultiArith 600\n",
    "multiarith = '/userhomes/philhoon/kt-ai-challenge/eng_data/kor-D_multiarith-test.json'\n",
    "\n",
    "# SingleEq 395\n",
    "single_eq = '/userhomes/philhoon/kt-ai-challenge/eng_data/kor-D_single_eq-test.json'"
   ]
  },
  {
   "cell_type": "code",
   "execution_count": 13,
   "id": "39710798",
   "metadata": {},
   "outputs": [],
   "source": [
    "gsm8k_data = utils.read_jsonlines(gsm8k)\n",
    "mwp_kr_data = utils.read_jsonlines(mwp_kr)\n",
    "addsub_data = utils.read_jsonlines(addsub)\n",
    "multiarith_data = utils.read_jsonlines(multiarith)\n",
    "single_eq_data = utils.read_jsonlines(single_eq)"
   ]
  },
  {
   "cell_type": "code",
   "execution_count": 14,
   "id": "e7439fc2",
   "metadata": {},
   "outputs": [
    {
     "name": "stdout",
     "output_type": "stream",
     "text": [
      "79\n",
      "120\n",
      "102\n",
      "720\n",
      "1319\n"
     ]
    }
   ],
   "source": [
    "print(len(addsub_data))\n",
    "print(len(multiarith_data))\n",
    "print(len(single_eq_data))\n",
    "\n",
    "print(len(mwp_kr_data))\n",
    "print(len(gsm8k_data))"
   ]
  },
  {
   "cell_type": "code",
   "execution_count": 15,
   "id": "3a8bac40",
   "metadata": {},
   "outputs": [],
   "source": [
    "# random_indices"
   ]
  },
  {
   "cell_type": "code",
   "execution_count": 16,
   "id": "e1a0cff8",
   "metadata": {},
   "outputs": [],
   "source": [
    "# pprint(single_eq_data[0])"
   ]
  },
  {
   "cell_type": "code",
   "execution_count": 17,
   "id": "e2cb2b74",
   "metadata": {},
   "outputs": [
    {
     "name": "stdout",
     "output_type": "stream",
     "text": [
      "{'question': \"Janet’s ducks lay 16 eggs per day. She eats three for breakfast every morning and bakes muffins for her friends every day with four. She sells the remainder at the farmers' market daily for $2 per fresh duck egg. How much in dollars does she make every day at the farmers' market?\", 'answer': 'Janet sells 16 - 3 - 4 = <<16-3-4=9>>9 duck eggs a day.\\nShe makes 9 * 2 = $<<9*2=18>>18 every day at the farmer’s market.\\n#### 18', 'kor_question': '제넷의 오리는 하루에 16개의 알을 낳습니다. 그녀는 매일 아침 3개를 먹고, 매일 4개를 사용하여 친구들을 위해 머핀을 굽습니다. 그녀는 남은 알을 매일 농부 시장에서 1개당 $2에 판매합니다. 그녀는 매일 농부 시장에서 얼마나 벌까요? \\n\\nAnswer: 그녀는 매일 농부 시장에서 $16에서 $12를 뺀 $4를 벌게 됩니다.', 'kor_answer': '제넷은 하루에 16 - 3 - 4 = 9개의 오리 알을 판매합니다.\\n그녀는 농부 시장에서 매일 9 * 2 = $18을 벌어들입니다.', 'answer_s': '18'}\n",
      "{'question': \"Janet’s ducks lay 16 eggs per day. She eats three for breakfast every morning and bakes muffins for her friends every day with four. She sells the remainder at the farmers' market daily for $2 per fresh duck egg. How much in dollars does she make every day at the farmers' market?\", 'answer': 'Janet sells 16 - 3 - 4 = <<16-3-4=9>>9 duck eggs a day.\\nShe makes 9 * 2 = $<<9*2=18>>18 every day at the farmer’s market.\\n#### 18', 'kor_question': '제넷의 오리는 하루에 16개의 알을 낳습니다. 그녀는 매일 아침 3개를 먹고, 매일 4개를 사용하여 친구들을 위해 머핀을 굽습니다. 그녀는 남은 알을 매일 농부 시장에서 1개당 $2에 판매합니다. 그녀는 매일 농부 시장에서 얼마나 벌까요? \\n\\nAnswer: 그녀는 매일 농부 시장에서 $16에서 $12를 뺀 $4를 벌게 됩니다.', 'kor_answer': '제넷은 하루에 16 - 3 - 4 = 9개의 오리 알을 판매합니다.\\n그녀는 농부 시장에서 매일 9 * 2 = $18을 벌어들입니다.', 'answer_s': '18'}\n",
      "{'question': \"Janet’s ducks lay 16 eggs per day. She eats three for breakfast every morning and bakes muffins for her friends every day with four. She sells the remainder at the farmers' market daily for $2 per fresh duck egg. How much in dollars does she make every day at the farmers' market?\", 'answer': 'Janet sells 16 - 3 - 4 = <<16-3-4=9>>9 duck eggs a day.\\nShe makes 9 * 2 = $<<9*2=18>>18 every day at the farmer’s market.\\n#### 18', 'kor_question': '제넷의 오리는 하루에 16개의 알을 낳습니다. 그녀는 매일 아침 3개를 먹고, 매일 4개를 사용하여 친구들을 위해 머핀을 굽습니다. 그녀는 남은 알을 매일 농부 시장에서 1개당 $2에 판매합니다. 그녀는 매일 농부 시장에서 얼마나 벌까요? \\n\\nAnswer: 그녀는 매일 농부 시장에서 $16에서 $12를 뺀 $4를 벌게 됩니다.', 'kor_answer': '제넷은 하루에 16 - 3 - 4 = 9개의 오리 알을 판매합니다.\\n그녀는 농부 시장에서 매일 9 * 2 = $18을 벌어들입니다.', 'answer_s': '18'}\n",
      "{'question': \"Janet’s ducks lay 16 eggs per day. She eats three for breakfast every morning and bakes muffins for her friends every day with four. She sells the remainder at the farmers' market daily for $2 per fresh duck egg. How much in dollars does she make every day at the farmers' market?\", 'answer': 'Janet sells 16 - 3 - 4 = <<16-3-4=9>>9 duck eggs a day.\\nShe makes 9 * 2 = $<<9*2=18>>18 every day at the farmer’s market.\\n#### 18', 'kor_question': '제넷의 오리는 하루에 16개의 알을 낳습니다. 그녀는 매일 아침 3개를 먹고, 매일 4개를 사용하여 친구들을 위해 머핀을 굽습니다. 그녀는 남은 알을 매일 농부 시장에서 1개당 $2에 판매합니다. 그녀는 매일 농부 시장에서 얼마나 벌까요? \\n\\nAnswer: 그녀는 매일 농부 시장에서 $16에서 $12를 뺀 $4를 벌게 됩니다.', 'kor_answer': '제넷은 하루에 16 - 3 - 4 = 9개의 오리 알을 판매합니다.\\n그녀는 농부 시장에서 매일 9 * 2 = $18을 벌어들입니다.', 'answer_s': '18'}\n"
     ]
    }
   ],
   "source": [
    "print(gsm8k_data[0])\n",
    "print(gsm8k_data[0])\n",
    "print(gsm8k_data[0])\n",
    "print(gsm8k_data[0])"
   ]
  },
  {
   "cell_type": "code",
   "execution_count": 18,
   "id": "82818e29",
   "metadata": {},
   "outputs": [
    {
     "name": "stdout",
     "output_type": "stream",
     "text": [
      "1319\n",
      "720\n",
      "79\n",
      "120\n",
      "102\n"
     ]
    }
   ],
   "source": [
    "print(len(gsm8k_data))\n",
    "print(len(mwp_kr_data))\n",
    "print(len(addsub_data))\n",
    "print(len(multiarith_data))\n",
    "print(len(single_eq_data))"
   ]
  },
  {
   "cell_type": "code",
   "execution_count": 19,
   "id": "ac51e310",
   "metadata": {},
   "outputs": [],
   "source": [
    "data = multiarith_data"
   ]
  },
  {
   "cell_type": "code",
   "execution_count": 20,
   "id": "b5de5420",
   "metadata": {},
   "outputs": [],
   "source": [
    "# data[0]"
   ]
  },
  {
   "cell_type": "code",
   "execution_count": 21,
   "id": "61882429",
   "metadata": {},
   "outputs": [],
   "source": [
    "method = 'zs'"
   ]
  },
  {
   "cell_type": "code",
   "execution_count": 22,
   "id": "1393325f",
   "metadata": {
    "scrolled": false
   },
   "outputs": [
    {
     "name": "stderr",
     "output_type": "stream",
     "text": [
      "  0%|                                                                                                                                                | 0/120 [00:00<?, ?it/s]/userhomes/philhoon/miniconda3/envs/kt/lib/python3.8/site-packages/urllib3/connectionpool.py:1095: InsecureRequestWarning: Unverified HTTPS request is being made to host 'aiapi.genielabs.ai'. Adding certificate verification is strongly advised. See: https://urllib3.readthedocs.io/en/latest/advanced-usage.html#tls-warnings\n",
      "  warnings.warn(\n",
      "  1%|█▏                                                                                                                                      | 1/120 [00:01<03:18,  1.67s/it]"
     ]
    },
    {
     "name": "stdout",
     "output_type": "stream",
     "text": [
      "prompt : \n",
      "루크는 게임 컬렉션을 확장하려고 했습니다. 그는 친구로부터 게임을 2개 샀고, 중고장터에서 또 2개를 샀습니다. 만약 그 중 2개의 게임이 작동하지 않았다면, 그는 최종적으로 몇 개의 좋은 게임을 가지게 되었을까요?\n",
      "response : \n",
      "그는 친구로부터 게임을 2개 샀습니다. 그 중 2개가 작동하지 않았다면\n",
      "----------------------------\n",
      "answer : \n",
      "2\n",
      "=============================\n"
     ]
    },
    {
     "name": "stderr",
     "output_type": "stream",
     "text": [
      "/userhomes/philhoon/miniconda3/envs/kt/lib/python3.8/site-packages/urllib3/connectionpool.py:1095: InsecureRequestWarning: Unverified HTTPS request is being made to host 'aiapi.genielabs.ai'. Adding certificate verification is strongly advised. See: https://urllib3.readthedocs.io/en/latest/advanced-usage.html#tls-warnings\n",
      "  warnings.warn(\n",
      "  2%|██▎                                                                                                                                     | 2/120 [00:05<05:53,  3.00s/it]"
     ]
    },
    {
     "name": "stdout",
     "output_type": "stream",
     "text": [
      "prompt : \n",
      "레이첼은 색칠 공부를 위해 책을 두 권 샀습니다. 한 권에는 23개의 그림이 있고, 다른 한 권에는 32개의 그림이 있었습니다. 일주일이 지난 후에 그녀는 이미 44개의 그림을 색칠했습니다. 그녀가 아직 색칠해야 할 그림은 몇 개인가요?\n",
      "response : \n",
      "\"그녀는 일주일 후에 44개의 그림을 색칠했으므로\n",
      "----------------------------\n",
      "answer : \n",
      "11\n",
      "=============================\n"
     ]
    },
    {
     "name": "stderr",
     "output_type": "stream",
     "text": [
      "/userhomes/philhoon/miniconda3/envs/kt/lib/python3.8/site-packages/urllib3/connectionpool.py:1095: InsecureRequestWarning: Unverified HTTPS request is being made to host 'aiapi.genielabs.ai'. Adding certificate verification is strongly advised. See: https://urllib3.readthedocs.io/en/latest/advanced-usage.html#tls-warnings\n",
      "  warnings.warn(\n",
      "  2%|███▍                                                                                                                                    | 3/120 [00:08<05:54,  3.03s/it]"
     ]
    },
    {
     "name": "stdout",
     "output_type": "stream",
     "text": [
      "prompt : \n",
      "올리버는 학교에 가기 전에 반팔 셔츠 39장과 긴팔 셔츠 47장을 세탁해야 했습니다. 그러나 학교가 시작되기 전에 그 중 20장만 세탁했다면, 그는 몇 장을 세탁하지 않았을까요?\n",
      "response : \n",
      "그는 학교에 가기 전에 39장의 반팔 셔츠와 47장의 긴 팔 셔츠를 세탁해야 했습니다. 그 중 20장만 세탁했다면\n",
      "----------------------------\n",
      "answer : \n",
      "66\n",
      "=============================\n"
     ]
    },
    {
     "name": "stderr",
     "output_type": "stream",
     "text": [
      "/userhomes/philhoon/miniconda3/envs/kt/lib/python3.8/site-packages/urllib3/connectionpool.py:1095: InsecureRequestWarning: Unverified HTTPS request is being made to host 'aiapi.genielabs.ai'. Adding certificate verification is strongly advised. See: https://urllib3.readthedocs.io/en/latest/advanced-usage.html#tls-warnings\n",
      "  warnings.warn(\n",
      "  3%|████▌                                                                                                                                   | 4/120 [00:11<05:24,  2.80s/it]"
     ]
    },
    {
     "name": "stdout",
     "output_type": "stream",
     "text": [
      "prompt : \n",
      "에이미는 플래시 드라이브에 음악 파일 4개와 비디오 파일 21개가 있었습니다. 그녀가 파일 23개를 삭제했다면, 플래시 드라이브에는 몇 개의 파일이 남았을까요?\n",
      "response : \n",
      "\"에이미는 플래시 드라이브에 4개의 음악 파일과 21개의 비디오 파일이 있었습니다. 그녀가 파일 23개를 삭제했다면\n",
      "----------------------------\n",
      "answer : \n",
      "2\n",
      "=============================\n"
     ]
    },
    {
     "name": "stderr",
     "output_type": "stream",
     "text": [
      "/userhomes/philhoon/miniconda3/envs/kt/lib/python3.8/site-packages/urllib3/connectionpool.py:1095: InsecureRequestWarning: Unverified HTTPS request is being made to host 'aiapi.genielabs.ai'. Adding certificate verification is strongly advised. See: https://urllib3.readthedocs.io/en/latest/advanced-usage.html#tls-warnings\n",
      "  warnings.warn(\n",
      "  4%|█████▋                                                                                                                                  | 5/120 [00:13<05:09,  2.70s/it]"
     ]
    },
    {
     "name": "stdout",
     "output_type": "stream",
     "text": [
      "prompt : \n",
      "게임장에서 톰은 '두더지 잡기' 게임으로 32개의 티켓을, '스키볼' 게임으로 25개의 티켓을 얻었습니다. 그리고 7개의 티켓을 모자에 사용했다면, 톰은 얼마나 많은 티켓을 가지고 있을까요?\n",
      "response : \n",
      "\"톰은 '두더지 잡기' 게임으로 32개의 티켓을 얻었고\n",
      "----------------------------\n",
      "answer : \n",
      "50\n",
      "=============================\n"
     ]
    },
    {
     "name": "stderr",
     "output_type": "stream",
     "text": [
      "/userhomes/philhoon/miniconda3/envs/kt/lib/python3.8/site-packages/urllib3/connectionpool.py:1095: InsecureRequestWarning: Unverified HTTPS request is being made to host 'aiapi.genielabs.ai'. Adding certificate verification is strongly advised. See: https://urllib3.readthedocs.io/en/latest/advanced-usage.html#tls-warnings\n",
      "  warnings.warn(\n",
      "  5%|██████▊                                                                                                                                 | 6/120 [00:22<08:49,  4.64s/it]"
     ]
    },
    {
     "name": "stdout",
     "output_type": "stream",
     "text": [
      "prompt : \n",
      "조이는 색칠 공부를 위해 책 두 권을 샀습니다. 한 권에는 44개의 그림이 있었고, 다른 한 권에도 44개의 그림이 있었습니다. 일주일 후에 그녀는 이미 20개의 그림을 색칠했습니다. 그녀가 아직 색칠해야 할 그림은 몇 개인가요?\n",
      "response : \n",
      "\"그녀는 두 권의 책에 총 44 + 44 = 88개의 그림을 샀습니다. 일주일 후에 그녀는 이미 88 - 20 = 44개의 그림을 색칠했습니다. 그녀는 88 - 44 = 44개의 그림을 더 색칠해야 합니다. 그녀는 44 + 44 = 44개의 그림을 더 색칠해야 합니다. 그녀는 44 - 44 = 44개의 그림을 더 색칠해야 합니다. 그녀는 44 - 44 = 44개의 그림을 더 색칠해야 합니다.\n",
      "----------------------------\n",
      "answer : \n",
      "68\n",
      "=============================\n"
     ]
    },
    {
     "name": "stderr",
     "output_type": "stream",
     "text": [
      "/userhomes/philhoon/miniconda3/envs/kt/lib/python3.8/site-packages/urllib3/connectionpool.py:1095: InsecureRequestWarning: Unverified HTTPS request is being made to host 'aiapi.genielabs.ai'. Adding certificate verification is strongly advised. See: https://urllib3.readthedocs.io/en/latest/advanced-usage.html#tls-warnings\n",
      "  warnings.warn(\n",
      "  6%|███████▉                                                                                                                                | 7/120 [00:25<08:15,  4.39s/it]"
     ]
    },
    {
     "name": "stdout",
     "output_type": "stream",
     "text": [
      "prompt : \n",
      "데이브는 학교에 가기 전에 반팔 셔츠 29장과 긴팔 셔츠 11장을 세탁해야 했습니다. 그러나 학교가 시작되기 전에 그 중 35장만 세탁했다면, 그 중 몇 장을 세탁하지 않았을까요?\n",
      "response : \n",
      "그는 29+11=35장의 셔츠를 세탁했습니다. 그는 35-35=21장의 셔츠를 세탁하지 않았습니다.\n",
      "----------------------------\n",
      "answer : \n",
      "5\n",
      "=============================\n"
     ]
    },
    {
     "name": "stderr",
     "output_type": "stream",
     "text": [
      "/userhomes/philhoon/miniconda3/envs/kt/lib/python3.8/site-packages/urllib3/connectionpool.py:1095: InsecureRequestWarning: Unverified HTTPS request is being made to host 'aiapi.genielabs.ai'. Adding certificate verification is strongly advised. See: https://urllib3.readthedocs.io/en/latest/advanced-usage.html#tls-warnings\n",
      "  warnings.warn(\n",
      "  7%|█████████                                                                                                                               | 8/120 [00:27<06:15,  3.36s/it]"
     ]
    },
    {
     "name": "stdout",
     "output_type": "stream",
     "text": [
      "prompt : \n",
      "학교의 도서 박람회에서 샘은 모험 소설 13권과 미스터리 소설 17권을 샀습니다. 그 중 15권은 중고였습니다. 그렇다면 그는 새로운 책을 몇 권 샀을까요?\n",
      "response : \n",
      "\"먼저\n",
      "----------------------------\n",
      "answer : \n",
      "15\n",
      "=============================\n"
     ]
    },
    {
     "name": "stderr",
     "output_type": "stream",
     "text": [
      "/userhomes/philhoon/miniconda3/envs/kt/lib/python3.8/site-packages/urllib3/connectionpool.py:1095: InsecureRequestWarning: Unverified HTTPS request is being made to host 'aiapi.genielabs.ai'. Adding certificate verification is strongly advised. See: https://urllib3.readthedocs.io/en/latest/advanced-usage.html#tls-warnings\n",
      "  warnings.warn(\n",
      "  8%|██████████▏                                                                                                                             | 9/120 [00:28<05:13,  2.83s/it]"
     ]
    },
    {
     "name": "stdout",
     "output_type": "stream",
     "text": [
      "prompt : \n",
      "학교의 도서 박람회에서 샘은 모험 소설 13권과 미스터리 소설 17권을 샀습니다. 그 중 15권은 중고였습니다. 그렇다면 그는 새로운 책을 몇 권 샀을까요?\n",
      "response : \n",
      "\"먼저\n",
      "----------------------------\n",
      "answer : \n",
      "15\n",
      "=============================\n"
     ]
    },
    {
     "name": "stderr",
     "output_type": "stream",
     "text": [
      "/userhomes/philhoon/miniconda3/envs/kt/lib/python3.8/site-packages/urllib3/connectionpool.py:1095: InsecureRequestWarning: Unverified HTTPS request is being made to host 'aiapi.genielabs.ai'. Adding certificate verification is strongly advised. See: https://urllib3.readthedocs.io/en/latest/advanced-usage.html#tls-warnings\n",
      "  warnings.warn(\n",
      "  8%|███████████▎                                                                                                                           | 10/120 [00:30<04:25,  2.41s/it]"
     ]
    },
    {
     "name": "stdout",
     "output_type": "stream",
     "text": [
      "prompt : \n",
      "학교 급식소는 학생들의 점심을 위해 빨간 사과 33개와 초록 사과 23개를 주문했습니다. 그러나 과일을 원하는 학생은 21명뿐이었습니다. 급식소는 최종적으로 얼마나 많은 사과를 남겼을까요?\n",
      "response : \n",
      "\"빨간 사과는 33개\n",
      "----------------------------\n",
      "answer : \n",
      "35\n",
      "=============================\n"
     ]
    },
    {
     "name": "stderr",
     "output_type": "stream",
     "text": [
      "/userhomes/philhoon/miniconda3/envs/kt/lib/python3.8/site-packages/urllib3/connectionpool.py:1095: InsecureRequestWarning: Unverified HTTPS request is being made to host 'aiapi.genielabs.ai'. Adding certificate verification is strongly advised. See: https://urllib3.readthedocs.io/en/latest/advanced-usage.html#tls-warnings\n",
      "  warnings.warn(\n",
      "  8%|███████████▎                                                                                                                           | 10/120 [00:34<06:24,  3.50s/it]"
     ]
    },
    {
     "name": "stdout",
     "output_type": "stream",
     "text": [
      "prompt : \n",
      "휴가 중에 레이첼은 동물원에서 6장의 사진을 찍었고 박물관에서 9장을 찍었습니다. 그 후에 그 중 11장을 삭제했다면, 그녀가 여행에서 가지고 있는 사진은 몇 장인가요?\n",
      "response : \n",
      "\"레이첼은 휴가 중에 동물원에서 6장을 찍었고 박물관에서 9장을 찍었습니다. 그 후에 그 중 11장을 삭제했으므로\n",
      "----------------------------\n",
      "answer : \n",
      "4\n",
      "=============================\n"
     ]
    },
    {
     "name": "stderr",
     "output_type": "stream",
     "text": [
      "\n"
     ]
    }
   ],
   "source": [
    "cnt = 0\n",
    "for ins in tqdm(data):\n",
    "    if 'kor_question' in ins:\n",
    "        kor_que = ins['kor_question']\n",
    "    else:\n",
    "        kor_que = ins['question']\n",
    "    \n",
    "    \n",
    "    if method == 'zs':\n",
    "        prompt = kor_que\n",
    "    elif method == 'zs-cot':\n",
    "        prompt = get_gsm8k_zs3(kor_que)\n",
    "    body = get_body(prompt, BODY_TEMP)\n",
    "    \n",
    "#     kor_que = ins['question']\n",
    "#     body = get_body(kor_que, BODY_TEMP)\n",
    "    \n",
    "    response = model.generate(body)\n",
    "    res_context = response.json()['data'][0]['result'][0]\n",
    "\n",
    "    \n",
    "#     ins['zs_infer'] = res_context\n",
    "    print(f\"prompt : \\n{prompt}\")\n",
    "    print(f\"response : \\n{res_context}\")\n",
    "    print(f\"----------------------------\")\n",
    "#     print(f\"reason : \\n{ins['reason']}\")\n",
    "    print(f\"answer : \\n{ins['answer']}\")\n",
    "    print(f\"=============================\")\n",
    "    \n",
    "    \n",
    "    if cnt == 10:\n",
    "        break\n",
    "    else:\n",
    "        cnt += 1\n",
    "#     jsonl_writer.write_json_line(ins)"
   ]
  },
  {
   "cell_type": "code",
   "execution_count": null,
   "id": "13019aaf",
   "metadata": {},
   "outputs": [],
   "source": [
    "Reasoning\n",
    "다음 질문에 차근차근 답하시오. 힐트 여사는 책상에서 물 분수까지의 거리를 측정했습니다. 그 거리는 30 피트였습니다. 만약 그녀가 오늘 물 분수에 4번 가게 된다면, 힐트 여사는 총 몇 피트를 걸을까요?\n",
    "response : \n",
    "그녀는 물 분수에 4번 갈 것입니다. 그녀는 물 분수에 4*30=90 피트를 갈 것입니다.\n",
    "\n"
   ]
  },
  {
   "cell_type": "code",
   "execution_count": null,
   "id": "b4e25b5b",
   "metadata": {},
   "outputs": [],
   "source": []
  },
  {
   "cell_type": "code",
   "execution_count": null,
   "id": "a8fc723a",
   "metadata": {},
   "outputs": [],
   "source": []
  },
  {
   "cell_type": "code",
   "execution_count": null,
   "id": "78711ed6",
   "metadata": {},
   "outputs": [],
   "source": []
  },
  {
   "cell_type": "code",
   "execution_count": null,
   "id": "4efc418c",
   "metadata": {},
   "outputs": [],
   "source": []
  },
  {
   "cell_type": "code",
   "execution_count": null,
   "id": "79c7bfc1",
   "metadata": {},
   "outputs": [],
   "source": []
  },
  {
   "cell_type": "code",
   "execution_count": null,
   "id": "77432b89",
   "metadata": {},
   "outputs": [],
   "source": []
  },
  {
   "cell_type": "code",
   "execution_count": null,
   "id": "e7e7bba5",
   "metadata": {},
   "outputs": [],
   "source": []
  },
  {
   "cell_type": "code",
   "execution_count": null,
   "id": "38cb6da0",
   "metadata": {},
   "outputs": [],
   "source": []
  },
  {
   "cell_type": "code",
   "execution_count": null,
   "id": "3a7da9c3",
   "metadata": {},
   "outputs": [],
   "source": []
  },
  {
   "cell_type": "code",
   "execution_count": null,
   "id": "f1a4e6e3",
   "metadata": {},
   "outputs": [],
   "source": []
  },
  {
   "cell_type": "code",
   "execution_count": null,
   "id": "3dc55d8a",
   "metadata": {},
   "outputs": [],
   "source": []
  },
  {
   "cell_type": "code",
   "execution_count": null,
   "id": "3410125a",
   "metadata": {},
   "outputs": [],
   "source": []
  },
  {
   "cell_type": "code",
   "execution_count": null,
   "id": "0fa51669",
   "metadata": {},
   "outputs": [],
   "source": []
  },
  {
   "cell_type": "code",
   "execution_count": null,
   "id": "81781b3f",
   "metadata": {},
   "outputs": [],
   "source": []
  },
  {
   "cell_type": "code",
   "execution_count": null,
   "id": "c268c3b4",
   "metadata": {},
   "outputs": [],
   "source": [
    "zs_cot_data = utils.read_jsonlines(zs_cot)\n",
    "zs_data = utils.read_jsonlines(zs)"
   ]
  },
  {
   "cell_type": "code",
   "execution_count": null,
   "id": "c53aeda7",
   "metadata": {},
   "outputs": [],
   "source": [
    "print(len(zs_cot_data))\n",
    "len(zs_cot_data) == len(zs_data)"
   ]
  },
  {
   "cell_type": "code",
   "execution_count": null,
   "id": "df19f06a",
   "metadata": {},
   "outputs": [],
   "source": [
    "from pprint import pprint"
   ]
  },
  {
   "cell_type": "code",
   "execution_count": null,
   "id": "b5fa5b59",
   "metadata": {
    "scrolled": false
   },
   "outputs": [],
   "source": [
    "cnt = 0\n",
    "for ins in zs_data:\n",
    "#     pprint(ins)\n",
    "    print(f\"question :\\n{ins['question']}\")\n",
    "#     print(f\"zs_cot_infer :\\n{ins['zs_cot_infer']}\")\n",
    "    print(f\"zs_infer :\\n{ins['zs_infer']}\")\n",
    "    print(f\"answer :\\n{ins['answer']}\")\n",
    "    print(\"===========================\")\n",
    "    cnt += 1\n",
    "    if cnt == 50:\n",
    "        break"
   ]
  },
  {
   "cell_type": "code",
   "execution_count": null,
   "id": "1ab2950a",
   "metadata": {},
   "outputs": [],
   "source": []
  }
 ],
 "metadata": {
  "kernelspec": {
   "display_name": "kt",
   "language": "python",
   "name": "kt"
  },
  "language_info": {
   "codemirror_mode": {
    "name": "ipython",
    "version": 3
   },
   "file_extension": ".py",
   "mimetype": "text/x-python",
   "name": "python",
   "nbconvert_exporter": "python",
   "pygments_lexer": "ipython3",
   "version": "3.8.17"
  }
 },
 "nbformat": 4,
 "nbformat_minor": 5
}
