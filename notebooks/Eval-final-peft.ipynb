{
 "cells": [
  {
   "cell_type": "code",
   "execution_count": 139,
   "id": "fbfbaf78",
   "metadata": {},
   "outputs": [],
   "source": [
    "import json\n",
    "import requests\n",
    "from src import utils\n",
    "import time\n",
    "import os\n",
    "import random\n",
    "import re\n",
    "import csv"
   ]
  },
  {
   "cell_type": "code",
   "execution_count": 140,
   "id": "ae500d31",
   "metadata": {},
   "outputs": [],
   "source": [
    "# f1 = '/userhomes/philhoon/kt-ai-challenge/result/no-peft-1shot-cot-kor-D_addsub-test.json'\n",
    "# f2 = '/userhomes/philhoon/kt-ai-challenge/result/no-peft-3shot-cot-kor-D_addsub-test.json'\n",
    "\n",
    "# f3 = '/userhomes/philhoon/kt-ai-challenge/result/no-peft-1shot-cot-kor-D_multiarith-test.json'\n",
    "# f4 = '/userhomes/philhoon/kt-ai-challenge/result/no-peft-3shot-cot-kor-D_multiarith-test.json'\n",
    "\n",
    "# f5 = '/userhomes/philhoon/kt-ai-challenge/result/no-peft-1shot-cot-kor-D_single_eq-test.json'\n",
    "# f6 = '/userhomes/philhoon/kt-ai-challenge/result/no-peft-3shot-cot-kor-D_single_eq-test.json'"
   ]
  },
  {
   "cell_type": "code",
   "execution_count": 141,
   "id": "00f6c268",
   "metadata": {},
   "outputs": [],
   "source": [
    "# f1 = '/userhomes/philhoon/kt-ai-challenge/result/peft4-zs-cot-kor-D_addsub-test.json'\n",
    "# f2 = '/userhomes/philhoon/kt-ai-challenge/result/peft4-1shot-cot-kor-D_addsub-test.json'\n",
    "# f3 = '/userhomes/philhoon/kt-ai-challenge/result/peft4-3shot-cot-kor-D_addsub-test.json'\n",
    "\n",
    "# f4 = '/userhomes/philhoon/kt-ai-challenge/result/peft4-zs-cot-kor-D_multiarith-test.json'\n",
    "# f5 = '/userhomes/philhoon/kt-ai-challenge/result/peft4-1shot-cot-kor-D_multiarith-test.json'\n",
    "# f6 = '/userhomes/philhoon/kt-ai-challenge/result/peft4-3shot-cot-kor-D_multiarith-test.json'\n",
    "\n",
    "f7 = '/userhomes/philhoon/kt-ai-challenge/result/peft4-zs-cot-kor-D_single_eq-test.json'\n",
    "# f8 = '/userhomes/philhoon/kt-ai-challenge/result/peft4-1shot-cot-kor-D_single_eq-test.json'\n",
    "# f9 = '/userhomes/philhoon/kt-ai-challenge/result/peft4-3shot-cot-kor-D_single_eq-test.json'"
   ]
  },
  {
   "cell_type": "code",
   "execution_count": 142,
   "id": "72e1fb15",
   "metadata": {},
   "outputs": [],
   "source": [
    "def save_csv_file(file_path, sentence_a_list, sentence_b_list):\n",
    "    with open(file_path, 'w', newline='', encoding='utf-8') as csv_file:\n",
    "        writer = csv.writer(csv_file)\n",
    "        for sentence_a, sentence_b in zip(sentence_a_list, sentence_b_list):\n",
    "            writer.writerow([sentence_a, sentence_b])"
   ]
  },
  {
   "cell_type": "code",
   "execution_count": 143,
   "id": "d7a82197",
   "metadata": {},
   "outputs": [],
   "source": [
    "delimiter = '\\t'\n",
    "\n"
   ]
  },
  {
   "cell_type": "markdown",
   "id": "b649d6e4",
   "metadata": {},
   "source": [
    "# ADD SUB"
   ]
  },
  {
   "cell_type": "code",
   "execution_count": 144,
   "id": "a88fa0bf",
   "metadata": {},
   "outputs": [],
   "source": [
    "file_name = f7"
   ]
  },
  {
   "cell_type": "code",
   "execution_count": 145,
   "id": "772b3b5f",
   "metadata": {},
   "outputs": [
    {
     "name": "stdout",
     "output_type": "stream",
     "text": [
      "102\n"
     ]
    }
   ],
   "source": [
    "data = utils.read_jsonlines(file_name)\n",
    "print(len(data))"
   ]
  },
  {
   "cell_type": "code",
   "execution_count": 146,
   "id": "ba61dcbe",
   "metadata": {},
   "outputs": [
    {
     "data": {
      "text/plain": [
       "{'sample_index': 1,\n",
       " 'completion_index': 0,\n",
       " 'question': 'There were 28 bales of hay in the barn. Tim stacked more bales in the barn today. There are now 54 bales of hay in the barn. How many bales did he store in the barn ?',\n",
       " 'answer': '26.0',\n",
       " 'reasoning_prompt': \"Q: There were 28 bales of hay in the barn. Tim stacked more bales in the barn today. There are now 54 bales of hay in the barn. How many bales did he store in the barn ?\\nA: Let's think step by step.\",\n",
       " 'reasoning_completion': ' \\n\\nThere were 28 bales of hay in the barn. \\n\\nThis is our starting point, and we are told that Tim stacked more bales in the barn today. \\n\\nThere are now 54 bales of hay in the barn. \\n\\nThis is our ending point. We are trying to find out how many bales Tim stacked in the barn, so this is the information that we need. \\n\\nTo find out how many bales Tim stacked in the barn, we need to find the difference between the starting point and the ending point. \\n\\nThe difference between 28 and 54 is',\n",
       " 'reasoning_finish_reason': 'length',\n",
       " 'prompt': \"Q: There were 28 bales of hay in the barn. Tim stacked more bales in the barn today. There are now 54 bales of hay in the barn. How many bales did he store in the barn ?\\nA: Let's think step by step. \\n\\nThere were 28 bales of hay in the barn. \\n\\nThis is our starting point, and we are told that Tim stacked more bales in the barn today. \\n\\nThere are now 54 bales of hay in the barn. \\n\\nThis is our ending point. We are trying to find out how many bales Tim stacked in the barn, so this is the information that we need. \\n\\nTo find out how many bales Tim stacked in the barn, we need to find the difference between the starting point and the ending point. \\n\\nThe difference between 28 and 54 is\\nTherefore, the answer is\",\n",
       " 'completion': ' 26.',\n",
       " 'kor_question': '헛간에는 28개의 건초 더미가 있었습니다. 팀은 오늘 헛간에 더 많은 건초 더미를 쌓았습니다. 이제 헛간에는 54개의 건초 더미가 있습니다. 그는 헛간에 몇 개의 건초 더미를 저장했을까요?',\n",
       " 'kor_answer': '헛간에는 28개의 건초 더미가 있었습니다. 이것이 우리의 시작점이며, 팀이 오늘 헛간에 더 많은 건초 더미를 쌓았다는 것을 알려줍니다. 이제 헛간에는 54개의 건초 더미가 있습니다. 이것이 우리의 끝점입니다. 우리는 팀이 헛간에 몇 개의 건초 더미를 쌓았는지 알고 싶으므로 이 정보가 필요합니다. 팀이 헛간에 쌓은 건초 더미의 수를 알아내기 위해서는 시작점과 끝점 사이의 차이를 찾아야 합니다. 28과 54 사이의 차이는',\n",
       " 'peft3_infer': '그는 28개의 건초 더미를 가지고 있었고 팀은 오늘 이를 더 많이 쌓았습니다. 그렇다면 그는 28 + 1 = 29개의 건초 더미를 가지고 있습니다. 이제 그는 54개의 건초 더미가 있습니다. 그렇다면 그는 29 - 54 = 11개의 건초 더미를 가지고 있습니다.'}"
      ]
     },
     "execution_count": 146,
     "metadata": {},
     "output_type": "execute_result"
    }
   ],
   "source": [
    "data[0]"
   ]
  },
  {
   "cell_type": "code",
   "execution_count": 147,
   "id": "3e94aeb6",
   "metadata": {},
   "outputs": [
    {
     "name": "stdout",
     "output_type": "stream",
     "text": [
      "102\n"
     ]
    }
   ],
   "source": [
    "print(len(data))"
   ]
  },
  {
   "cell_type": "code",
   "execution_count": 148,
   "id": "aad7e9a6",
   "metadata": {},
   "outputs": [
    {
     "name": "stdout",
     "output_type": "stream",
     "text": [
      "/userhomes/philhoon/kt-ai-challenge/result/peft4-zs-cot-kor-D_single_eq-test.tsv\n"
     ]
    }
   ],
   "source": [
    "output_file = re.sub('.json','.tsv', file_name)\n",
    "print(output_file)"
   ]
  },
  {
   "cell_type": "code",
   "execution_count": 149,
   "id": "b034a68c",
   "metadata": {},
   "outputs": [],
   "source": [
    "# with open(csv_file, mode='w', newline='', encoding='utf-8') as file:\n",
    "#     writer = csv.writer(file, delimiter=delimiter)\n",
    "#     # Write the data as a single row\n",
    "#     writer.writerow(data)"
   ]
  },
  {
   "cell_type": "code",
   "execution_count": 150,
   "id": "25334c8f",
   "metadata": {},
   "outputs": [],
   "source": [
    "# data[0]"
   ]
  },
  {
   "cell_type": "code",
   "execution_count": 151,
   "id": "ff091052",
   "metadata": {},
   "outputs": [],
   "source": [
    "# for ins in data:\n",
    "#     row = [ins['kor_question'],ins['answer'],ins['peft3_infer']]\n",
    "\n",
    "#     writer = csv.writer(file, delimiter=delimiter)\n",
    "#     # Write the data as a single row\n",
    "#     writer.writerow(data)\n"
   ]
  },
  {
   "cell_type": "code",
   "execution_count": 152,
   "id": "cdd26686",
   "metadata": {
    "scrolled": false
   },
   "outputs": [],
   "source": [
    "def write(csv_file, data):\n",
    "    with open(csv_file, mode='w', newline='', encoding='utf-8') as file:\n",
    "        for ins in data:\n",
    "            row = [ins['kor_question'],ins['answer'],ins['peft3_infer']]\n",
    "\n",
    "            writer = csv.writer(file, delimiter=delimiter)\n",
    "            # Write the data as a single row\n",
    "            writer.writerow(row)"
   ]
  },
  {
   "cell_type": "code",
   "execution_count": 153,
   "id": "663b95c0",
   "metadata": {
    "scrolled": true
   },
   "outputs": [],
   "source": [
    "write(output_file, data)"
   ]
  },
  {
   "cell_type": "code",
   "execution_count": null,
   "id": "ea40f86d",
   "metadata": {},
   "outputs": [],
   "source": []
  },
  {
   "cell_type": "code",
   "execution_count": null,
   "id": "064b1748",
   "metadata": {},
   "outputs": [],
   "source": []
  },
  {
   "cell_type": "code",
   "execution_count": null,
   "id": "0d2c8b49",
   "metadata": {},
   "outputs": [],
   "source": [
    "# # GSM8K 8792 (7473/1319)\n",
    "# gsm8k_train = '/userhomes/philhoon/kt-ai-challenge/data/openai-gpt-3.5-turbo-0301-2048-0.0-KOR-gsm8k-train.jsonl'\n",
    "\n",
    "# # MWP_KR_DATA 3750\n",
    "# mwp_kr = '/userhomes/philhoon/kt-ai-challenge/data/public_mwp_data_v2_reasoning.jsonl'\n",
    "\n",
    "# # AddSub 395\n",
    "# addsub = '/userhomes/philhoon/kt-ai-challenge/eng_data/kor-D_addsub.json'\n",
    "\n",
    "# # MultiArith 600\n",
    "# multiarith = '/userhomes/philhoon/kt-ai-challenge/eng_data/kor-D_multiarith.json'\n",
    "\n",
    "# # SingleEq 395\n",
    "# single_eq = '/userhomes/philhoon/kt-ai-challenge/eng_data/kor-D_single_eq.json'"
   ]
  },
  {
   "cell_type": "code",
   "execution_count": null,
   "id": "b4ddd479",
   "metadata": {},
   "outputs": [],
   "source": [
    "# gsm8k_train_data = utils.read_jsonlines(gsm8k_train)\n",
    "# mwp_data = utils.read_jsonlines(mwp_kr)\n",
    "# addsub_data = utils.read_jsonlines(addsub)\n",
    "# multi_data = utils.read_jsonlines(multiarith)\n",
    "# single_data = utils.read_jsonlines(single_eq)"
   ]
  },
  {
   "cell_type": "code",
   "execution_count": null,
   "id": "044302d8",
   "metadata": {},
   "outputs": [],
   "source": [
    "print(len(gsm8k_train_data))\n",
    "print(len(mwp_data))\n",
    "\n",
    "print(len(addsub_data))\n",
    "print(len(multi_data))\n",
    "print(len(single_data))"
   ]
  },
  {
   "cell_type": "markdown",
   "id": "acc580aa",
   "metadata": {},
   "source": [
    "# mwp_kr"
   ]
  },
  {
   "cell_type": "code",
   "execution_count": null,
   "id": "862994c4",
   "metadata": {},
   "outputs": [],
   "source": [
    "input_file = mwp_kr\n",
    "print(input_file)"
   ]
  },
  {
   "cell_type": "code",
   "execution_count": null,
   "id": "a56fb447",
   "metadata": {},
   "outputs": [],
   "source": [
    "path = '/userhomes/philhoon/kt-ai-challenge/data/'\n",
    "output_train = path + re.sub('.json', '-train.json', input_file.split('/')[-1])\n",
    "output_test = path + re.sub('.json', '-test.json', input_file.split('/')[-1])\n",
    "print(output_train)\n",
    "print(output_test)"
   ]
  },
  {
   "cell_type": "code",
   "execution_count": null,
   "id": "7a8d9b36",
   "metadata": {},
   "outputs": [],
   "source": [
    "train_writer = utils.JSONLWriter(output_train)\n",
    "test_writer = utils.JSONLWriter(output_test)"
   ]
  },
  {
   "cell_type": "code",
   "execution_count": null,
   "id": "04cc7112",
   "metadata": {},
   "outputs": [],
   "source": [
    "train_data, test_data = random_split_8_2(mwp_data)\n",
    "print(len(train_data))\n",
    "print(len(test_data))"
   ]
  },
  {
   "cell_type": "code",
   "execution_count": null,
   "id": "c0a86f2f",
   "metadata": {},
   "outputs": [],
   "source": [
    "for ins in train_data:\n",
    "    train_writer.write_json_line(ins)\n",
    "    \n",
    "for ins in test_data:\n",
    "    test_writer.write_json_line(ins)"
   ]
  },
  {
   "cell_type": "markdown",
   "id": "00f739de",
   "metadata": {},
   "source": [
    "# AddSub"
   ]
  },
  {
   "cell_type": "code",
   "execution_count": null,
   "id": "db8f480b",
   "metadata": {},
   "outputs": [],
   "source": [
    "input_file = addsub"
   ]
  },
  {
   "cell_type": "code",
   "execution_count": null,
   "id": "b7b67510",
   "metadata": {},
   "outputs": [],
   "source": [
    "print(input_file)"
   ]
  },
  {
   "cell_type": "code",
   "execution_count": null,
   "id": "a64e97c9",
   "metadata": {},
   "outputs": [],
   "source": [
    "path = '/userhomes/philhoon/kt-ai-challenge/eng_data/'\n",
    "output_train = path + re.sub('.json', '-train.json', input_file.split('/')[-1])\n",
    "output_test = path + re.sub('.json', '-test.json', input_file.split('/')[-1])"
   ]
  },
  {
   "cell_type": "code",
   "execution_count": null,
   "id": "1f0a3f61",
   "metadata": {},
   "outputs": [],
   "source": [
    "print(output_train)\n",
    "print(output_test)"
   ]
  },
  {
   "cell_type": "code",
   "execution_count": null,
   "id": "fdd5b33b",
   "metadata": {},
   "outputs": [],
   "source": [
    "train_writer = utils.JSONLWriter(output_train)\n",
    "test_writer = utils.JSONLWriter(output_test)"
   ]
  },
  {
   "cell_type": "code",
   "execution_count": null,
   "id": "fa2dfdf7",
   "metadata": {},
   "outputs": [],
   "source": [
    "def random_split_8_2(input_list):\n",
    "    # Calculate the sizes of the two splits\n",
    "    total_length = len(input_list)\n",
    "    split_1_size = int(0.8 * total_length)\n",
    "    split_2_size = total_length - split_1_size\n",
    "\n",
    "    # Randomly sample the elements for each split\n",
    "    split_1 = random.sample(input_list, split_1_size)\n",
    "    split_2 = [item for item in input_list if item not in split_1]\n",
    "\n",
    "    return split_1, split_2"
   ]
  },
  {
   "cell_type": "code",
   "execution_count": null,
   "id": "b1b5beed",
   "metadata": {},
   "outputs": [],
   "source": [
    "print(len(addsub_data))"
   ]
  },
  {
   "cell_type": "code",
   "execution_count": null,
   "id": "4ce7c940",
   "metadata": {},
   "outputs": [],
   "source": [
    "train_data, test_data = random_split_8_2(addsub_data)\n",
    "print(len(train_data))\n",
    "print(len(test_data))"
   ]
  },
  {
   "cell_type": "code",
   "execution_count": null,
   "id": "899c8a1c",
   "metadata": {},
   "outputs": [],
   "source": [
    "for ins in train_data:\n",
    "    train_writer.write_json_line(ins)\n",
    "    \n",
    "for ins in test_data:\n",
    "    test_writer.write_json_line(ins)"
   ]
  },
  {
   "cell_type": "markdown",
   "id": "77f5404c",
   "metadata": {},
   "source": [
    "# multi"
   ]
  },
  {
   "cell_type": "code",
   "execution_count": null,
   "id": "b02110f0",
   "metadata": {},
   "outputs": [],
   "source": [
    "input_file = multiarith\n",
    "print(input_file)"
   ]
  },
  {
   "cell_type": "code",
   "execution_count": null,
   "id": "23dc1141",
   "metadata": {},
   "outputs": [],
   "source": [
    "path = '/userhomes/philhoon/kt-ai-challenge/eng_data/'\n",
    "output_train = path + re.sub('.json', '-train.json', input_file.split('/')[-1])\n",
    "output_test = path + re.sub('.json', '-test.json', input_file.split('/')[-1])\n",
    "print(output_train)\n",
    "print(output_test)\n",
    "train_writer = utils.JSONLWriter(output_train)\n",
    "test_writer = utils.JSONLWriter(output_test)"
   ]
  },
  {
   "cell_type": "code",
   "execution_count": null,
   "id": "744ab220",
   "metadata": {},
   "outputs": [],
   "source": [
    "train_data, test_data = random_split_8_2(multi_data)\n",
    "print(len(train_data))\n",
    "print(len(test_data))"
   ]
  },
  {
   "cell_type": "code",
   "execution_count": null,
   "id": "4472f25b",
   "metadata": {},
   "outputs": [],
   "source": [
    "for ins in train_data:\n",
    "    train_writer.write_json_line(ins)\n",
    "    \n",
    "for ins in test_data:\n",
    "    test_writer.write_json_line(ins)"
   ]
  },
  {
   "cell_type": "markdown",
   "id": "32e933ee",
   "metadata": {},
   "source": [
    "# single"
   ]
  },
  {
   "cell_type": "code",
   "execution_count": null,
   "id": "516f264c",
   "metadata": {},
   "outputs": [],
   "source": [
    "input_file = single_eq\n",
    "print(input_file)"
   ]
  },
  {
   "cell_type": "code",
   "execution_count": null,
   "id": "542b86a6",
   "metadata": {},
   "outputs": [],
   "source": [
    "path = '/userhomes/philhoon/kt-ai-challenge/eng_data/'\n",
    "output_train = path + re.sub('.json', '-train.json', input_file.split('/')[-1])\n",
    "output_test = path + re.sub('.json', '-test.json', input_file.split('/')[-1])\n",
    "print(output_train)\n",
    "print(output_test)\n",
    "train_writer = utils.JSONLWriter(output_train)\n",
    "test_writer = utils.JSONLWriter(output_test)"
   ]
  },
  {
   "cell_type": "code",
   "execution_count": null,
   "id": "9779f96e",
   "metadata": {},
   "outputs": [],
   "source": [
    "train_data, test_data = random_split_8_2(single_data)\n",
    "print(len(train_data))\n",
    "print(len(test_data))"
   ]
  },
  {
   "cell_type": "code",
   "execution_count": null,
   "id": "7ccfdcce",
   "metadata": {},
   "outputs": [],
   "source": [
    "for ins in train_data:\n",
    "    train_writer.write_json_line(ins)\n",
    "    \n",
    "for ins in test_data:\n",
    "    test_writer.write_json_line(ins)"
   ]
  },
  {
   "cell_type": "code",
   "execution_count": null,
   "id": "ea667256",
   "metadata": {},
   "outputs": [],
   "source": [
    "kor-D_addsub-test.json\n",
    "kor-D_addsub-train.json\n",
    "kor-D_multiarith-test.json\n",
    "kor-D_multiarith-train.json\n",
    "kor-D_single_eq-test.json\n",
    "kor-D_single_eq-train.json"
   ]
  },
  {
   "cell_type": "markdown",
   "id": "2b75894b",
   "metadata": {},
   "source": [
    "# Merge (Train/Test)"
   ]
  },
  {
   "cell_type": "code",
   "execution_count": null,
   "id": "eee6e39b",
   "metadata": {},
   "outputs": [],
   "source": [
    "output_train = '/userhomes/philhoon/kt-ai-challenge/final_data/train-v2.csv'\n",
    "output_test = '/userhomes/philhoon/kt-ai-challenge/final_data/train-v2.jsonl'"
   ]
  },
  {
   "cell_type": "code",
   "execution_count": null,
   "id": "17f354d8",
   "metadata": {},
   "outputs": [],
   "source": [
    "def save_csv_file(file_path, sentence_a_list, sentence_b_list):\n",
    "    with open(file_path, 'w', newline='', encoding='utf-8') as csv_file:\n",
    "        writer = csv.writer(csv_file)\n",
    "        for sentence_a, sentence_b in zip(sentence_a_list, sentence_b_list):\n",
    "            writer.writerow([sentence_a, sentence_b])"
   ]
  },
  {
   "cell_type": "code",
   "execution_count": null,
   "id": "048131ff",
   "metadata": {},
   "outputs": [],
   "source": [
    "path = '/userhomes/philhoon/kt-ai-challenge/final_data'\n",
    "\n",
    "file_lst = [\n",
    "    'kor-D_addsub-train.json',\n",
    "    'kor-D_multiarith-train.json',\n",
    "    'kor-D_single_eq-train.json',\n",
    "    'openai-gpt-3.5-turbo-0301-2048-0.0-KOR-gsm8k-train.jsonl',\n",
    "    'public_mwp_data_v2_reasoning-train.jsonl'\n",
    "]"
   ]
  },
  {
   "cell_type": "code",
   "execution_count": null,
   "id": "c67a7f4b",
   "metadata": {},
   "outputs": [],
   "source": [
    "# def get_prompt(ques, answer):\n",
    "#     ques = f\"질문: {ques}\"\n",
    "#     answer = f\"{answer}\"\n",
    "#     return ques, answer"
   ]
  },
  {
   "cell_type": "code",
   "execution_count": null,
   "id": "077814d3",
   "metadata": {},
   "outputs": [],
   "source": [
    "def remove_line_slit(context):\n",
    "    context = re.sub(r\"\\n{1,}\", \" \", context)\n",
    "    context = re.sub(r\"\\s{2,}\", \" \", context)\n",
    "    return context"
   ]
  },
  {
   "cell_type": "code",
   "execution_count": null,
   "id": "1731fb74",
   "metadata": {},
   "outputs": [],
   "source": [
    "def remove_comma_list(context):\n",
    "    context = re.sub(r\", \", \" \", context)\n",
    "    context = re.sub(r\",\", \"\", context)\n",
    "    return context"
   ]
  },
  {
   "cell_type": "markdown",
   "id": "7cfe0c13",
   "metadata": {},
   "source": [
    "## Merge Train"
   ]
  },
  {
   "cell_type": "code",
   "execution_count": null,
   "id": "10acd44c",
   "metadata": {},
   "outputs": [],
   "source": [
    "data_lst = []"
   ]
  },
  {
   "cell_type": "code",
   "execution_count": null,
   "id": "558160fd",
   "metadata": {},
   "outputs": [],
   "source": [
    "addsub_data = utils.read_jsonlines('/userhomes/philhoon/kt-ai-challenge/final_data/kor-D_addsub-train.json')\n",
    "print(len(addsub_data))"
   ]
  },
  {
   "cell_type": "code",
   "execution_count": null,
   "id": "2034416c",
   "metadata": {},
   "outputs": [],
   "source": [
    "for ins in addsub_data:\n",
    "    temp = {}\n",
    "    if 'kor_question' in ins:\n",
    "        temp['input'] = remove_comma_list(remove_line_slit(ins['kor_question']))\n",
    "    if 'kor_answer' in ins:\n",
    "        temp['output'] = remove_comma_list(remove_line_slit(ins['kor_answer']))\n",
    "    if 'answer' in ins:\n",
    "        temp['answer'] = remove_comma_list(remove_line_slit(ins['answer']))\n",
    "    data_lst.append(temp)"
   ]
  },
  {
   "cell_type": "code",
   "execution_count": null,
   "id": "e832b3fb",
   "metadata": {},
   "outputs": [],
   "source": [
    "data_lst[-1]"
   ]
  },
  {
   "cell_type": "code",
   "execution_count": null,
   "id": "d948f951",
   "metadata": {},
   "outputs": [],
   "source": [
    "print(len(data_lst))"
   ]
  },
  {
   "cell_type": "code",
   "execution_count": null,
   "id": "88ffca23",
   "metadata": {},
   "outputs": [],
   "source": [
    "multi_data = utils.read_jsonlines('/userhomes/philhoon/kt-ai-challenge/final_data/kor-D_multiarith-train.json')\n",
    "print(len(multi_data))"
   ]
  },
  {
   "cell_type": "code",
   "execution_count": null,
   "id": "49ad1315",
   "metadata": {},
   "outputs": [],
   "source": [
    "for ins in multi_data:\n",
    "    temp = {}\n",
    "    if 'kor_question' in ins:\n",
    "        temp['input'] = remove_comma_list(remove_line_slit(ins['kor_question']))\n",
    "    if 'kor_answer' in ins:\n",
    "        temp['output'] = remove_comma_list(remove_line_slit(ins['kor_answer']))\n",
    "    if 'answer' in ins:\n",
    "        temp['answer'] = remove_comma_list(remove_line_slit(ins['answer']))\n",
    "    data_lst.append(temp)"
   ]
  },
  {
   "cell_type": "code",
   "execution_count": null,
   "id": "0059b4a9",
   "metadata": {},
   "outputs": [],
   "source": [
    "data_lst[-1]"
   ]
  },
  {
   "cell_type": "code",
   "execution_count": null,
   "id": "a28fb52b",
   "metadata": {},
   "outputs": [],
   "source": [
    "print(len(data_lst))"
   ]
  },
  {
   "cell_type": "code",
   "execution_count": null,
   "id": "dd235334",
   "metadata": {},
   "outputs": [],
   "source": [
    "single = utils.read_jsonlines('/userhomes/philhoon/kt-ai-challenge/final_data/kor-D_single_eq-train.json')\n",
    "print(len(single))"
   ]
  },
  {
   "cell_type": "code",
   "execution_count": null,
   "id": "f867634e",
   "metadata": {},
   "outputs": [],
   "source": [
    "for ins in single:\n",
    "    temp = {}\n",
    "    if 'kor_question' in ins:\n",
    "        temp['input'] = remove_comma_list(remove_line_slit(ins['kor_question']))\n",
    "    if 'kor_answer' in ins:\n",
    "        temp['output'] = remove_comma_list(remove_line_slit(ins['kor_answer']))\n",
    "    if 'answer' in ins:\n",
    "        temp['answer'] = remove_comma_list(remove_line_slit(ins['answer']))\n",
    "    data_lst.append(temp)"
   ]
  },
  {
   "cell_type": "code",
   "execution_count": null,
   "id": "000ef15f",
   "metadata": {},
   "outputs": [],
   "source": [
    "data_lst[-1]"
   ]
  },
  {
   "cell_type": "code",
   "execution_count": null,
   "id": "5abed527",
   "metadata": {},
   "outputs": [],
   "source": [
    "print(len(data_lst))"
   ]
  },
  {
   "cell_type": "code",
   "execution_count": null,
   "id": "597e639b",
   "metadata": {},
   "outputs": [],
   "source": [
    "gsm8k = utils.read_jsonlines('/userhomes/philhoon/kt-ai-challenge/final_data/openai-gpt-3.5-turbo-0301-2048-0.0-KOR-gsm8k-train.jsonl')\n",
    "print(len(gsm8k))"
   ]
  },
  {
   "cell_type": "code",
   "execution_count": null,
   "id": "a6fbbb32",
   "metadata": {},
   "outputs": [],
   "source": [
    "for ins in gsm8k:\n",
    "    temp = {}\n",
    "    if 'kor_question' in ins:\n",
    "        temp['input'] = remove_comma_list(remove_line_slit(ins['kor_question']))\n",
    "    if 'kor_answer' in ins:\n",
    "        temp['output'] = remove_comma_list(remove_line_slit(ins['kor_answer']))\n",
    "    if 'answer' in ins:\n",
    "        temp['answer'] = remove_comma_list(remove_line_slit(ins['answer']))\n",
    "    data_lst.append(temp)"
   ]
  },
  {
   "cell_type": "code",
   "execution_count": null,
   "id": "6006b040",
   "metadata": {},
   "outputs": [],
   "source": [
    "data_lst[-1]"
   ]
  },
  {
   "cell_type": "code",
   "execution_count": null,
   "id": "4e5cc857",
   "metadata": {},
   "outputs": [],
   "source": [
    "print(len(data_lst))"
   ]
  },
  {
   "cell_type": "code",
   "execution_count": null,
   "id": "5be5a3a0",
   "metadata": {},
   "outputs": [],
   "source": [
    "mwp_d = utils.read_jsonlines('/userhomes/philhoon/kt-ai-challenge/final_data/public_mwp_data_v2_reasoning-train.jsonl')\n",
    "print(len(mwp_d))"
   ]
  },
  {
   "cell_type": "code",
   "execution_count": null,
   "id": "e4d365a4",
   "metadata": {},
   "outputs": [],
   "source": [
    "for ins in mwp_d:\n",
    "    temp = {}\n",
    "    if 'question' in ins:\n",
    "        temp['input'] = remove_comma_list(remove_line_slit(ins['question']))\n",
    "    if 'reason' in ins:\n",
    "        temp['output'] = remove_comma_list(remove_line_slit(ins['reason']))\n",
    "    if 'answer' in ins:\n",
    "        temp['answer'] = remove_comma_list(remove_line_slit(ins['answer']))\n",
    "    data_lst.append(temp)"
   ]
  },
  {
   "cell_type": "code",
   "execution_count": null,
   "id": "e132f68a",
   "metadata": {},
   "outputs": [],
   "source": [
    "data_lst[-1]"
   ]
  },
  {
   "cell_type": "code",
   "execution_count": null,
   "id": "82d1f91c",
   "metadata": {},
   "outputs": [],
   "source": [
    "print(len(data_lst))"
   ]
  },
  {
   "cell_type": "code",
   "execution_count": null,
   "id": "5a19adeb",
   "metadata": {
    "scrolled": false
   },
   "outputs": [],
   "source": [
    "# cnt = 0\n",
    "# for ins in data_lst:\n",
    "#     if \",\" in ins['input'] or \",\" in ins['output']:\n",
    "#         cnt+=1\n",
    "#     print(ins['input'])\n",
    "#     print(ins['output'])\n",
    "#     print('----------------')\n"
   ]
  },
  {
   "cell_type": "code",
   "execution_count": null,
   "id": "63013101",
   "metadata": {},
   "outputs": [],
   "source": [
    "import random\n",
    "random.seed(42)\n",
    "\n",
    "\n",
    "shuffled_list = data_lst.copy()\n",
    "\n",
    "# Shuffle the copy\n",
    "random.shuffle(shuffled_list)"
   ]
  },
  {
   "cell_type": "code",
   "execution_count": null,
   "id": "743da69f",
   "metadata": {},
   "outputs": [],
   "source": [
    "output_train = '/userhomes/philhoon/kt-ai-challenge/final_data/train_merged-v3.jsonl'"
   ]
  },
  {
   "cell_type": "code",
   "execution_count": null,
   "id": "e9c15297",
   "metadata": {},
   "outputs": [],
   "source": [
    "shuffled_list[1234]"
   ]
  },
  {
   "cell_type": "code",
   "execution_count": null,
   "id": "e47ba768",
   "metadata": {},
   "outputs": [],
   "source": []
  },
  {
   "cell_type": "code",
   "execution_count": null,
   "id": "abdb6785",
   "metadata": {},
   "outputs": [],
   "source": []
  },
  {
   "cell_type": "code",
   "execution_count": null,
   "id": "54167e11",
   "metadata": {},
   "outputs": [],
   "source": []
  },
  {
   "cell_type": "code",
   "execution_count": null,
   "id": "3cccd05a",
   "metadata": {},
   "outputs": [],
   "source": [
    "train_writer = utils.JSONLWriter(output_train)"
   ]
  },
  {
   "cell_type": "code",
   "execution_count": null,
   "id": "31e04b2a",
   "metadata": {},
   "outputs": [],
   "source": [
    "# data_lst[0]"
   ]
  },
  {
   "cell_type": "code",
   "execution_count": null,
   "id": "65911750",
   "metadata": {},
   "outputs": [],
   "source": [
    "# for ins in shuffled_list:\n",
    "#     train_writer.write_json_line(ins)"
   ]
  },
  {
   "cell_type": "code",
   "execution_count": null,
   "id": "e200e4e1",
   "metadata": {},
   "outputs": [],
   "source": [
    "# shuffled_list[0]"
   ]
  },
  {
   "cell_type": "code",
   "execution_count": null,
   "id": "d0821add",
   "metadata": {},
   "outputs": [],
   "source": [
    "input_lst = []\n",
    "output_lst = []"
   ]
  },
  {
   "cell_type": "code",
   "execution_count": null,
   "id": "c078611c",
   "metadata": {},
   "outputs": [],
   "source": [
    "output_csv = '/userhomes/philhoon/kt-ai-challenge/final_data/train_merged-v3.csv'"
   ]
  },
  {
   "cell_type": "code",
   "execution_count": null,
   "id": "9f781af7",
   "metadata": {},
   "outputs": [],
   "source": [
    "data_lst[0]"
   ]
  },
  {
   "cell_type": "code",
   "execution_count": null,
   "id": "920639a3",
   "metadata": {},
   "outputs": [],
   "source": [
    "def get_gsm8k_zs3(que):\n",
    "    prompt = f'다음 질문에 차근차근 답하시오. {que}'\n",
    "    return prompt"
   ]
  },
  {
   "cell_type": "code",
   "execution_count": null,
   "id": "8e55bdc4",
   "metadata": {},
   "outputs": [],
   "source": [
    "for ins in shuffled_list:\n",
    "    question = get_gsm8k_zs3(ins['input'])\n",
    "    answer = ins['output']\n",
    "    input_lst.append(question)\n",
    "    output_lst.append(answer)"
   ]
  },
  {
   "cell_type": "code",
   "execution_count": null,
   "id": "9e5493ad",
   "metadata": {},
   "outputs": [],
   "source": [
    "input_lst[0]"
   ]
  },
  {
   "cell_type": "code",
   "execution_count": null,
   "id": "4d025d54",
   "metadata": {},
   "outputs": [],
   "source": [
    "print(len(input_lst))\n",
    "print(len(output_lst))"
   ]
  },
  {
   "cell_type": "code",
   "execution_count": null,
   "id": "87e2aa1f",
   "metadata": {},
   "outputs": [],
   "source": [
    "save_csv_file(output_csv, input_lst, output_lst)"
   ]
  },
  {
   "cell_type": "code",
   "execution_count": null,
   "id": "8add3cdb",
   "metadata": {},
   "outputs": [],
   "source": []
  }
 ],
 "metadata": {
  "kernelspec": {
   "display_name": "kt",
   "language": "python",
   "name": "kt"
  },
  "language_info": {
   "codemirror_mode": {
    "name": "ipython",
    "version": 3
   },
   "file_extension": ".py",
   "mimetype": "text/x-python",
   "name": "python",
   "nbconvert_exporter": "python",
   "pygments_lexer": "ipython3",
   "version": "3.8.17"
  }
 },
 "nbformat": 4,
 "nbformat_minor": 5
}
