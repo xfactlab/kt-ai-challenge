{
 "cells": [
  {
   "cell_type": "markdown",
   "id": "cd133517",
   "metadata": {},
   "source": [
    "### Format\n",
    "    \n",
    "    Input\n",
    "    \"\"\"\n",
    "    질문 : <question>\n",
    "    \"\"\"\n",
    "    \n",
    "    Output\n",
    "    \"\"\" \n",
    "    풀이 : <reasoning>\n",
    "    정답 : <answer>\n",
    "    "
   ]
  },
  {
   "cell_type": "code",
   "execution_count": 43,
   "id": "de0d3743",
   "metadata": {},
   "outputs": [],
   "source": [
    "import json\n",
    "import requests\n",
    "from src import utils\n",
    "import time\n",
    "import os\n",
    "import csv\n",
    "import re"
   ]
  },
  {
   "cell_type": "markdown",
   "id": "d863b514",
   "metadata": {},
   "source": [
    "### Making Training set"
   ]
  },
  {
   "cell_type": "code",
   "execution_count": 46,
   "id": "c51fe990",
   "metadata": {},
   "outputs": [],
   "source": [
    "# input_file = '/userhomes/philhoon/kt-ai-challenge/data/openai-gpt-3.5-turbo-0301-2048-0.0-KOR-gsm8k-test.jsonl'\n",
    "input_file = '/userhomes/philhoon/kt-ai-challenge/data/openai-gpt-3.5-turbo-0301-2048-0.0-KOR-gsm8k-test.jsonl'"
   ]
  },
  {
   "cell_type": "code",
   "execution_count": 50,
   "id": "90d1cca3",
   "metadata": {},
   "outputs": [],
   "source": [
    "data = utils.read_jsonlines(input_file)"
   ]
  },
  {
   "cell_type": "code",
   "execution_count": 71,
   "id": "0d312a2f",
   "metadata": {},
   "outputs": [
    {
     "data": {
      "text/plain": [
       "1319"
      ]
     },
     "execution_count": 71,
     "metadata": {},
     "output_type": "execute_result"
    }
   ],
   "source": [
    "len(data)"
   ]
  },
  {
   "cell_type": "code",
   "execution_count": 66,
   "id": "6a3ff058",
   "metadata": {},
   "outputs": [],
   "source": [
    "def get_gsm8k_zs(que):\n",
    "    prompt = f'질문 : {que} \\n정답 : '\n",
    "    return prompt"
   ]
  },
  {
   "cell_type": "code",
   "execution_count": 67,
   "id": "06afe0f0",
   "metadata": {},
   "outputs": [],
   "source": [
    "def get_gsm8k_build_data_with_reason(kor_que, kor_ans, ans_s):\n",
    "    prompt = f\"질문: {kor_que}\"\n",
    "    output = f\"풀이: {kor_ans} 정답: {ans_s}\"\n",
    "    return prompt, output"
   ]
  },
  {
   "cell_type": "code",
   "execution_count": 68,
   "id": "14cbc2bf",
   "metadata": {},
   "outputs": [],
   "source": [
    "def get_body(prompt, body_temp):\n",
    "    body_temp[\"utterance\"] = prompt\n",
    "    return json.dumps(body_temp)"
   ]
  },
  {
   "cell_type": "code",
   "execution_count": 69,
   "id": "f87574fc",
   "metadata": {},
   "outputs": [],
   "source": [
    "# from pprint import pprint"
   ]
  },
  {
   "cell_type": "code",
   "execution_count": 70,
   "id": "122da20d",
   "metadata": {},
   "outputs": [],
   "source": [
    "def remove_line_slit(context):\n",
    "    context = re.sub(r\"\\n\", \" \", context)\n",
    "    return context"
   ]
  },
  {
   "cell_type": "markdown",
   "id": "b923ab0c",
   "metadata": {},
   "source": [
    "### GSM8K-TEST\n",
    "    26 out of 1319 : contains the answer in the question due to translation\n",
    "### GSM8K-TRAIN\n",
    "    163 out of 7473 : contains the answer in the question due to translation"
   ]
  },
  {
   "cell_type": "code",
   "execution_count": 29,
   "id": "16dc168a",
   "metadata": {
    "scrolled": false
   },
   "outputs": [],
   "source": [
    "# cnt = 0\n",
    "split_cnt = 0\n",
    "input_lst = []\n",
    "output_lst = []\n",
    "\n",
    "for ins in data:\n",
    "    \n",
    "    \n",
    "    kor_que = ins['kor_question']\n",
    "    kor_ans = ins['kor_answer']\n",
    "    ans_s = ins['answer_s']\n",
    "    \n",
    "    # checking whether there is an answer \n",
    "    test = kor_que.split('\\n')\n",
    "    \n",
    "    if len(test[0]) != len(kor_que):\n",
    "        split_cnt += 1\n",
    "        continue\n",
    "    \n",
    "#     print(f'kor_que')\n",
    "#     print(f'{kor_que}')\n",
    "#     print(f'kor_ans')\n",
    "#     print(f'{kor_ans}')\n",
    "#     print(f'ans_s')\n",
    "#     print(f'{ans_s}')\n",
    "    \n",
    "    kor_ans = ins['kor_answer']\n",
    "    in_, out_ = get_gsm8k_build_data_with_reason(kor_que, kor_ans, ans_s)\n",
    "    \n",
    "    \n",
    "    input_lst.append(remove_line_slit(in_))\n",
    "    output_lst.append(remove_line_slit(out_))\n",
    "\n",
    "#     if cnt == 5:\n",
    "#         break\n",
    "#     else:\n",
    "#         cnt += 1"
   ]
  },
  {
   "cell_type": "code",
   "execution_count": 32,
   "id": "2b4bd594",
   "metadata": {},
   "outputs": [
    {
     "data": {
      "text/plain": [
       "7310"
      ]
     },
     "execution_count": 32,
     "metadata": {},
     "output_type": "execute_result"
    }
   ],
   "source": [
    "len(data) - split_cnt"
   ]
  },
  {
   "cell_type": "code",
   "execution_count": 30,
   "id": "d942c2fb",
   "metadata": {},
   "outputs": [
    {
     "data": {
      "text/plain": [
       "7310"
      ]
     },
     "execution_count": 30,
     "metadata": {},
     "output_type": "execute_result"
    }
   ],
   "source": [
    "len(input_lst)"
   ]
  },
  {
   "cell_type": "code",
   "execution_count": 31,
   "id": "22777d6d",
   "metadata": {},
   "outputs": [
    {
     "data": {
      "text/plain": [
       "7310"
      ]
     },
     "execution_count": 31,
     "metadata": {},
     "output_type": "execute_result"
    }
   ],
   "source": [
    "len(output_lst)"
   ]
  },
  {
   "cell_type": "code",
   "execution_count": 33,
   "id": "a55b80bb",
   "metadata": {},
   "outputs": [],
   "source": [
    "def save_csv_file(file_path, sentence_a_list, sentence_b_list):\n",
    "    with open(file_path, 'w', newline='', encoding='utf-8') as csv_file:\n",
    "        writer = csv.writer(csv_file)\n",
    "        for sentence_a, sentence_b in zip(sentence_a_list, sentence_b_list):\n",
    "            writer.writerow([sentence_a, sentence_b])"
   ]
  },
  {
   "cell_type": "code",
   "execution_count": 34,
   "id": "7e71d4f2",
   "metadata": {},
   "outputs": [],
   "source": [
    "output_path = '/userhomes/philhoon/kt-ai-challenge/result'"
   ]
  },
  {
   "cell_type": "code",
   "execution_count": 35,
   "id": "83b04f11",
   "metadata": {},
   "outputs": [],
   "source": [
    "output_file = output_path + '/kor-gsm8k-reason-train.csv'"
   ]
  },
  {
   "cell_type": "code",
   "execution_count": 36,
   "id": "339b6d5b",
   "metadata": {},
   "outputs": [
    {
     "data": {
      "text/plain": [
       "'/userhomes/philhoon/kt-ai-challenge/result/kor-gsm8k-reason-train.csv'"
      ]
     },
     "execution_count": 36,
     "metadata": {},
     "output_type": "execute_result"
    }
   ],
   "source": [
    "output_file"
   ]
  },
  {
   "cell_type": "code",
   "execution_count": 39,
   "id": "f20d1402",
   "metadata": {},
   "outputs": [],
   "source": [
    "save_csv_file(output_file, input_lst, output_lst)"
   ]
  },
  {
   "cell_type": "code",
   "execution_count": 40,
   "id": "b8d7a499",
   "metadata": {},
   "outputs": [
    {
     "data": {
      "text/plain": [
       "'질문: 웽은 베이비시팅을 시간당 $12로 받습니다. 어제 그녀는 50분 동안 베이비시팅을 했습니다. 그녀가 벌은 돈은 얼마인가요?'"
      ]
     },
     "execution_count": 40,
     "metadata": {},
     "output_type": "execute_result"
    }
   ],
   "source": [
    "input_lst[1]"
   ]
  },
  {
   "cell_type": "code",
   "execution_count": 41,
   "id": "705bf356",
   "metadata": {},
   "outputs": [
    {
     "data": {
      "text/plain": [
       "'풀이: 웽은 1분당 12/60 = $0.2를 벌었습니다. 50분 동안 일한 결과, 그녀는 0.2 x 50 = $10을 벌었습니다. 정답: 10'"
      ]
     },
     "execution_count": 41,
     "metadata": {},
     "output_type": "execute_result"
    }
   ],
   "source": [
    "output_lst[1]"
   ]
  },
  {
   "cell_type": "markdown",
   "id": "f7b45dec",
   "metadata": {},
   "source": [
    "### Making Test Set"
   ]
  },
  {
   "cell_type": "code",
   "execution_count": 76,
   "id": "90a9a034",
   "metadata": {},
   "outputs": [],
   "source": [
    "output_file = output_path + '/kor-gsm8k-reason-test.jsonl'"
   ]
  },
  {
   "cell_type": "code",
   "execution_count": 77,
   "id": "ef37034a",
   "metadata": {},
   "outputs": [
    {
     "name": "stdout",
     "output_type": "stream",
     "text": [
      "/userhomes/philhoon/kt-ai-challenge/result/kor-gsm8k-reason-test.jsonl\n"
     ]
    }
   ],
   "source": [
    "print(output_file)"
   ]
  },
  {
   "cell_type": "code",
   "execution_count": 73,
   "id": "5c04d798",
   "metadata": {},
   "outputs": [],
   "source": [
    "jsonl_writer = utils.JSONLWriter(output_file)"
   ]
  },
  {
   "cell_type": "code",
   "execution_count": 74,
   "id": "617a5cd2",
   "metadata": {},
   "outputs": [
    {
     "data": {
      "text/plain": [
       "1319"
      ]
     },
     "execution_count": 74,
     "metadata": {},
     "output_type": "execute_result"
    }
   ],
   "source": [
    "len(data)"
   ]
  },
  {
   "cell_type": "code",
   "execution_count": 78,
   "id": "31e90953",
   "metadata": {},
   "outputs": [],
   "source": [
    "# cnt = 0\n",
    "split_cnt = 0\n",
    "input_lst = []\n",
    "output_lst = []\n",
    "\n",
    "for ins in data:\n",
    "    \n",
    "    \n",
    "    kor_que = ins['kor_question']\n",
    "    kor_ans = ins['kor_answer']\n",
    "    ans_s = ins['answer_s']\n",
    "    \n",
    "    # checking whether there is an answer \n",
    "    test = kor_que.split('\\n')\n",
    "    \n",
    "    if len(test[0]) != len(kor_que):\n",
    "        split_cnt += 1\n",
    "        continue\n",
    "    \n",
    "    kor_ans = ins['kor_answer']\n",
    "    in_, out_ = get_gsm8k_build_data_with_reason(kor_que, kor_ans, ans_s)\n",
    "    \n",
    "    ins['kor_question_reason'] = in_\n",
    "    ins['kor_question_reason_answer'] = out_\n",
    "\n",
    "    jsonl_writer.write_json_line(ins)"
   ]
  },
  {
   "cell_type": "code",
   "execution_count": 79,
   "id": "8d0a1687",
   "metadata": {},
   "outputs": [
    {
     "data": {
      "text/plain": [
       "1293"
      ]
     },
     "execution_count": 79,
     "metadata": {},
     "output_type": "execute_result"
    }
   ],
   "source": [
    "len(data) - split_cnt"
   ]
  },
  {
   "cell_type": "code",
   "execution_count": 80,
   "id": "ae78a599",
   "metadata": {},
   "outputs": [
    {
     "data": {
      "text/plain": [
       "26"
      ]
     },
     "execution_count": 80,
     "metadata": {},
     "output_type": "execute_result"
    }
   ],
   "source": [
    "split_cnt"
   ]
  },
  {
   "cell_type": "code",
   "execution_count": null,
   "id": "62099bce",
   "metadata": {},
   "outputs": [],
   "source": []
  }
 ],
 "metadata": {
  "kernelspec": {
   "display_name": "Python 3 (ipykernel)",
   "language": "python",
   "name": "python3"
  },
  "language_info": {
   "codemirror_mode": {
    "name": "ipython",
    "version": 3
   },
   "file_extension": ".py",
   "mimetype": "text/x-python",
   "name": "python",
   "nbconvert_exporter": "python",
   "pygments_lexer": "ipython3",
   "version": "3.8.17"
  }
 },
 "nbformat": 4,
 "nbformat_minor": 5
}
