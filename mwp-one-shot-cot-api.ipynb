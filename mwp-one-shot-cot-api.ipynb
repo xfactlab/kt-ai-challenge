{
 "cells": [
  {
   "cell_type": "code",
   "execution_count": 66,
   "id": "de0d3743",
   "metadata": {},
   "outputs": [],
   "source": [
    "import json\n",
    "import requests\n",
    "from src import utils\n",
    "import time\n",
    "import os"
   ]
  },
  {
   "cell_type": "code",
   "execution_count": 67,
   "id": "1f6e3734",
   "metadata": {},
   "outputs": [],
   "source": [
    "api_path = '/userhomes/philhoon/kt-ai-challenge/api.json'"
   ]
  },
  {
   "cell_type": "code",
   "execution_count": 68,
   "id": "88e90579",
   "metadata": {},
   "outputs": [],
   "source": [
    "api = utils.read_json_file(api_path)"
   ]
  },
  {
   "cell_type": "code",
   "execution_count": 69,
   "id": "c51fe990",
   "metadata": {},
   "outputs": [],
   "source": [
    "input_file = '/userhomes/philhoon/kt-ai-challenge/data/public_mwp_data_v2_reasoning.jsonl'\n",
    "# in_path = '/userhomes/philhoon/kt-ai-challenge/data/openai-gpt-3.5-turbo-0301-2048-0.0-KOR-gsm8k-train.jsonl'"
   ]
  },
  {
   "cell_type": "code",
   "execution_count": 70,
   "id": "70f07d94",
   "metadata": {},
   "outputs": [],
   "source": [
    "output_path = '/userhomes/philhoon/kt-ai-challenge/result'"
   ]
  },
  {
   "cell_type": "code",
   "execution_count": 71,
   "id": "09e1ddbf",
   "metadata": {},
   "outputs": [],
   "source": [
    "output_file_name = 'one-shot-cot-public_mwp_data_v2_test.jsonl'"
   ]
  },
  {
   "cell_type": "code",
   "execution_count": 72,
   "id": "77a8c4e8",
   "metadata": {},
   "outputs": [
    {
     "name": "stdout",
     "output_type": "stream",
     "text": [
      "output_file : /userhomes/philhoon/kt-ai-challenge/result/one-shot-cot-public_mwp_data_v2_test.jsonl\n"
     ]
    }
   ],
   "source": [
    "# os.makedirs(output_path, exist_ok=True)\n",
    "# output_file_name = 'result-' + input_file.split('/')[-1]\n",
    "output_file = output_path + '/' + output_file_name\n",
    "print(f'output_file : {output_file}')"
   ]
  },
  {
   "cell_type": "code",
   "execution_count": 73,
   "id": "c1dd2680",
   "metadata": {},
   "outputs": [],
   "source": [
    "# jsonl_writer = utils.JSONLWriter(output_file)"
   ]
  },
  {
   "cell_type": "code",
   "execution_count": 74,
   "id": "90d1cca3",
   "metadata": {},
   "outputs": [],
   "source": [
    "data = utils.read_jsonlines(input_file)"
   ]
  },
  {
   "cell_type": "code",
   "execution_count": null,
   "id": "697e32c7",
   "metadata": {},
   "outputs": [],
   "source": []
  },
  {
   "cell_type": "code",
   "execution_count": 75,
   "id": "672bd4a3",
   "metadata": {},
   "outputs": [
    {
     "data": {
      "text/plain": [
       "3750"
      ]
     },
     "execution_count": 75,
     "metadata": {},
     "output_type": "execute_result"
    }
   ],
   "source": [
    "len(data)"
   ]
  },
  {
   "cell_type": "code",
   "execution_count": null,
   "id": "a7ec6f48",
   "metadata": {},
   "outputs": [],
   "source": []
  },
  {
   "cell_type": "code",
   "execution_count": null,
   "id": "d1eee113",
   "metadata": {},
   "outputs": [],
   "source": []
  },
  {
   "cell_type": "code",
   "execution_count": null,
   "id": "19e65f33",
   "metadata": {},
   "outputs": [],
   "source": []
  },
  {
   "cell_type": "code",
   "execution_count": 76,
   "id": "0d312a2f",
   "metadata": {},
   "outputs": [],
   "source": [
    "# api"
   ]
  },
  {
   "cell_type": "code",
   "execution_count": 77,
   "id": "3baf76e7",
   "metadata": {},
   "outputs": [],
   "source": [
    "# url = api['url']"
   ]
  },
  {
   "cell_type": "code",
   "execution_count": 78,
   "id": "23fb58fd",
   "metadata": {},
   "outputs": [],
   "source": [
    "# headers = api['headers']"
   ]
  },
  {
   "cell_type": "code",
   "execution_count": 79,
   "id": "e39dbe5d",
   "metadata": {},
   "outputs": [],
   "source": [
    "# question = \"질문 : 파운드 스털링은 가치가 있나요? 용어설명 :  사실목록 : ['1파운드는 법정 화폐입니다.', '법정 화폐는 정부 법령에 의해 뒷받침되며 내재적 가치가 없습니다', '2020년 5월 기준 1파운드 스털링은 약 1.24달러의 가치가 있습니다.']. 사실목록을 바탕으로 질문에 대한 답변을 사실 또는 거짓으로 대답하세요\"/"
   ]
  },
  {
   "cell_type": "code",
   "execution_count": 80,
   "id": "a648a380",
   "metadata": {},
   "outputs": [],
   "source": [
    "# headers"
   ]
  },
  {
   "cell_type": "code",
   "execution_count": 81,
   "id": "4b76202f",
   "metadata": {},
   "outputs": [],
   "source": [
    "PROMPT1 = \"질문: 반짇고리 안에는 여러 가지 모양의 단추가 있습니다. 동그란 단추는 6개가 들어있고, 네모난 단추와 세모난 단추는 각각 3개씩 들어 있습니다. 동그란 단추는 네모난 단추보다 몇 개가 더 많습니까? \\\n",
    "풀이: 동그란 단추는 6개, 네모난 단추는 3개, 세모난 단추는 3개가 있습니다. 동그란 단추는 네모난 단추보다 3개가 더 많습니다. 이를 수식으로 나타내면, 동그란 단추의 개수(6개) - 네모난 단추의 개수(3개) = 3개입니다. 따라서 동그란 단추는 네모난 단추보다 3개가 더 많습니다. \\\n",
    "정답: 3 \\\\n\"\n"
   ]
  },
  {
   "cell_type": "code",
   "execution_count": null,
   "id": "8e6dcd75",
   "metadata": {},
   "outputs": [],
   "source": []
  },
  {
   "cell_type": "code",
   "execution_count": 82,
   "id": "622dccd2",
   "metadata": {},
   "outputs": [],
   "source": [
    "# data[1]"
   ]
  },
  {
   "cell_type": "code",
   "execution_count": 83,
   "id": "ba526f0c",
   "metadata": {},
   "outputs": [],
   "source": [
    "class model_api():\n",
    "    def __init__(self, url, headers):\n",
    "        self.url = url\n",
    "        self.headers = headers\n",
    "        \n",
    "    def generate(self, body):\n",
    "        \n",
    "        try:\n",
    "            response = requests.post(self.url, data=body, headers=self.headers, verify=False)\n",
    "        \n",
    "        except:\n",
    "            print(\"retrying due to an error......\")\n",
    "            time.sleep(20)\n",
    "            return self.generate(body)\n",
    "        \n",
    "        return response\n",
    "        \n",
    "        "
   ]
  },
  {
   "cell_type": "code",
   "execution_count": 84,
   "id": "62353eab",
   "metadata": {},
   "outputs": [],
   "source": [
    "model = model_api(api['url'], api['headers'])"
   ]
  },
  {
   "cell_type": "code",
   "execution_count": 85,
   "id": "0d917811",
   "metadata": {},
   "outputs": [],
   "source": [
    "BODY_TEMP = api['body']"
   ]
  },
  {
   "cell_type": "code",
   "execution_count": 86,
   "id": "e1b92c2b",
   "metadata": {},
   "outputs": [],
   "source": [
    "# body = json.dumps(body_temp)"
   ]
  },
  {
   "cell_type": "code",
   "execution_count": 87,
   "id": "e17f99b4",
   "metadata": {},
   "outputs": [],
   "source": [
    "# print(body)"
   ]
  },
  {
   "cell_type": "code",
   "execution_count": 88,
   "id": "3a1c7748",
   "metadata": {},
   "outputs": [],
   "source": [
    "# response = api.generate(body)"
   ]
  },
  {
   "cell_type": "code",
   "execution_count": 89,
   "id": "f1badbc7",
   "metadata": {},
   "outputs": [],
   "source": [
    "# context = response.json()['data'][0]['result'][0]"
   ]
  },
  {
   "cell_type": "code",
   "execution_count": 90,
   "id": "71e1480a",
   "metadata": {},
   "outputs": [],
   "source": [
    "# print(context)"
   ]
  },
  {
   "cell_type": "code",
   "execution_count": 91,
   "id": "1f33ccb5",
   "metadata": {},
   "outputs": [],
   "source": [
    "def get_mwp_one_shot_cot(pre_prompt, que):\n",
    "    suf_prompt = f'질문: {que} 풀이 : '\n",
    "    prompt = pre_prompt + suf_prompt\n",
    "    return prompt"
   ]
  },
  {
   "cell_type": "code",
   "execution_count": 92,
   "id": "c4be2cf2",
   "metadata": {},
   "outputs": [],
   "source": [
    "def get_mwp_zs_cot(que):\n",
    "    prompt = f\"질문: {que} 정답: 질문을 단계적으로 풀어보면, \"\n",
    "    return prompt"
   ]
  },
  {
   "cell_type": "code",
   "execution_count": 93,
   "id": "9ad5cdfd",
   "metadata": {},
   "outputs": [],
   "source": [
    "def get_mwp_zs(que):\n",
    "    prompt = f'질문: {que} 정답 : '\n",
    "    return prompt"
   ]
  },
  {
   "cell_type": "code",
   "execution_count": 94,
   "id": "14cbc2bf",
   "metadata": {},
   "outputs": [],
   "source": [
    "def get_body(prompt, body_temp):\n",
    "    body_temp[\"utterance\"] = prompt\n",
    "    return json.dumps(body_temp)"
   ]
  },
  {
   "cell_type": "code",
   "execution_count": 95,
   "id": "f87574fc",
   "metadata": {},
   "outputs": [],
   "source": [
    "# from pprint import pprint"
   ]
  },
  {
   "cell_type": "markdown",
   "id": "b923ab0c",
   "metadata": {},
   "source": [
    "### GSM8K-TEST\n",
    "    26 out of 1319 : contains the answer in the question due to translation\n",
    "### GSM8K-TRAIN\n",
    "    163 out of 7473 : contains the answer in the question due to translation"
   ]
  },
  {
   "cell_type": "code",
   "execution_count": 96,
   "id": "16dc168a",
   "metadata": {
    "scrolled": false
   },
   "outputs": [
    {
     "name": "stderr",
     "output_type": "stream",
     "text": [
      "/userhomes/philhoon/miniconda3/envs/self-debate/lib/python3.8/site-packages/urllib3/connectionpool.py:1095: InsecureRequestWarning: Unverified HTTPS request is being made to host 'aiapi.genielabs.ai'. Adding certificate verification is strongly advised. See: https://urllib3.readthedocs.io/en/latest/advanced-usage.html#tls-warnings\n",
      "  warnings.warn(\n"
     ]
    },
    {
     "name": "stdout",
     "output_type": "stream",
     "text": [
      "prompt : \n",
      "질문: 반짇고리 안에는 여러 가지 모양의 단추가 있습니다. 동그란 단추는 6개가 들어있고, 네모난 단추와 세모난 단추는 각각 3개씩 들어 있습니다. 동그란 단추는 네모난 단추보다 몇 개가 더 많습니까? 풀이: 동그란 단추는 6개, 네모난 단추는 3개, 세모난 단추는 3개가 있습니다. 동그란 단추는 네모난 단추보다 3개가 더 많습니다. 이를 수식으로 나타내면, 동그란 단추의 개수(6개) - 네모난 단추의 개수(3개) = 3개입니다. 따라서 동그란 단추는 네모난 단추보다 3개가 더 많습니다. 정답: 3 \\n질문: 지영이네 반 친구들이 키가 작은 순서대로 줄을 서있습니다. 지영이는 앞에서부터 6번째에 줄을 섰으며, 지영이네 반은 모두 18명입니다. 키가 큰 사람부터 다시 줄을 세운다면, 지영이는 앞에서부터 몇 번째로 줄을 서게 될까요? 풀이 : \n",
      "res_context : \n",
      "6번째\n",
      "------------\n",
      "answer:\n",
      "13\n",
      "============\n"
     ]
    },
    {
     "name": "stderr",
     "output_type": "stream",
     "text": [
      "/userhomes/philhoon/miniconda3/envs/self-debate/lib/python3.8/site-packages/urllib3/connectionpool.py:1095: InsecureRequestWarning: Unverified HTTPS request is being made to host 'aiapi.genielabs.ai'. Adding certificate verification is strongly advised. See: https://urllib3.readthedocs.io/en/latest/advanced-usage.html#tls-warnings\n",
      "  warnings.warn(\n"
     ]
    },
    {
     "name": "stdout",
     "output_type": "stream",
     "text": [
      "prompt : \n",
      "질문: 반짇고리 안에는 여러 가지 모양의 단추가 있습니다. 동그란 단추는 6개가 들어있고, 네모난 단추와 세모난 단추는 각각 3개씩 들어 있습니다. 동그란 단추는 네모난 단추보다 몇 개가 더 많습니까? 풀이: 동그란 단추는 6개, 네모난 단추는 3개, 세모난 단추는 3개가 있습니다. 동그란 단추는 네모난 단추보다 3개가 더 많습니다. 이를 수식으로 나타내면, 동그란 단추의 개수(6개) - 네모난 단추의 개수(3개) = 3개입니다. 따라서 동그란 단추는 네모난 단추보다 3개가 더 많습니다. 정답: 3 \\n질문: 반짇고리 안에는 여러 가지 모양의 단추가 있습니다. 동그란 단추는 6개가 들어있고, 네모난 단추와 세모난 단추는 각각 3개씩 들어 있습니다. 동그란 단추는 네모난 단추보다 몇 개가 더 많습니까? 풀이 : \n",
      "res_context : \n",
      "동그란 단추는 6개, 네모난 단추는 3개, 세모난 단추는 3개가 있습니다. 동그란 단추는 네모난 단추보다 3개가 더 많습니다. 이를 수식으로 나타내면, 동그란 단추의 개수(6개) - 네모난 단추의 개수(3개) = 3개입니다. 따라서 동그란 단추는 네모난 단추보다 3개가 더 많습니다. 정답: 3\n",
      "------------\n",
      "answer:\n",
      "3\n",
      "============\n"
     ]
    },
    {
     "name": "stderr",
     "output_type": "stream",
     "text": [
      "/userhomes/philhoon/miniconda3/envs/self-debate/lib/python3.8/site-packages/urllib3/connectionpool.py:1095: InsecureRequestWarning: Unverified HTTPS request is being made to host 'aiapi.genielabs.ai'. Adding certificate verification is strongly advised. See: https://urllib3.readthedocs.io/en/latest/advanced-usage.html#tls-warnings\n",
      "  warnings.warn(\n"
     ]
    },
    {
     "name": "stdout",
     "output_type": "stream",
     "text": [
      "prompt : \n",
      "질문: 반짇고리 안에는 여러 가지 모양의 단추가 있습니다. 동그란 단추는 6개가 들어있고, 네모난 단추와 세모난 단추는 각각 3개씩 들어 있습니다. 동그란 단추는 네모난 단추보다 몇 개가 더 많습니까? 풀이: 동그란 단추는 6개, 네모난 단추는 3개, 세모난 단추는 3개가 있습니다. 동그란 단추는 네모난 단추보다 3개가 더 많습니다. 이를 수식으로 나타내면, 동그란 단추의 개수(6개) - 네모난 단추의 개수(3개) = 3개입니다. 따라서 동그란 단추는 네모난 단추보다 3개가 더 많습니다. 정답: 3 \\n질문: 연필 6자루를 필통 3개에 똑같이 나누어 담으려고 합니다. 몇 자루씩 담아야 하는지 구하세요. 풀이 : \n",
      "res_context : \n",
      "6자루를 3개에 똑같이 나누면 4개가 됩니다. 따라서 연필 6자루를 필통에 담을 때는 4개씩 담으면 됩니다. 정답: 4\n",
      "------------\n",
      "answer:\n",
      "2\n",
      "============\n"
     ]
    },
    {
     "name": "stderr",
     "output_type": "stream",
     "text": [
      "/userhomes/philhoon/miniconda3/envs/self-debate/lib/python3.8/site-packages/urllib3/connectionpool.py:1095: InsecureRequestWarning: Unverified HTTPS request is being made to host 'aiapi.genielabs.ai'. Adding certificate verification is strongly advised. See: https://urllib3.readthedocs.io/en/latest/advanced-usage.html#tls-warnings\n",
      "  warnings.warn(\n"
     ]
    },
    {
     "name": "stdout",
     "output_type": "stream",
     "text": [
      "prompt : \n",
      "질문: 반짇고리 안에는 여러 가지 모양의 단추가 있습니다. 동그란 단추는 6개가 들어있고, 네모난 단추와 세모난 단추는 각각 3개씩 들어 있습니다. 동그란 단추는 네모난 단추보다 몇 개가 더 많습니까? 풀이: 동그란 단추는 6개, 네모난 단추는 3개, 세모난 단추는 3개가 있습니다. 동그란 단추는 네모난 단추보다 3개가 더 많습니다. 이를 수식으로 나타내면, 동그란 단추의 개수(6개) - 네모난 단추의 개수(3개) = 3개입니다. 따라서 동그란 단추는 네모난 단추보다 3개가 더 많습니다. 정답: 3 \\n질문: 집게의 길이는 4cm 8mm이고, 빨대의 길이는 3cm 6mm입니다. 집게와 빨대의 길이의 차는 몇 mm일까요? 풀이 : \n",
      "res_context : \n",
      "12mm입니다.\n",
      "------------\n",
      "answer:\n",
      "12\n",
      "============\n"
     ]
    },
    {
     "name": "stderr",
     "output_type": "stream",
     "text": [
      "/userhomes/philhoon/miniconda3/envs/self-debate/lib/python3.8/site-packages/urllib3/connectionpool.py:1095: InsecureRequestWarning: Unverified HTTPS request is being made to host 'aiapi.genielabs.ai'. Adding certificate verification is strongly advised. See: https://urllib3.readthedocs.io/en/latest/advanced-usage.html#tls-warnings\n",
      "  warnings.warn(\n"
     ]
    },
    {
     "name": "stdout",
     "output_type": "stream",
     "text": [
      "prompt : \n",
      "질문: 반짇고리 안에는 여러 가지 모양의 단추가 있습니다. 동그란 단추는 6개가 들어있고, 네모난 단추와 세모난 단추는 각각 3개씩 들어 있습니다. 동그란 단추는 네모난 단추보다 몇 개가 더 많습니까? 풀이: 동그란 단추는 6개, 네모난 단추는 3개, 세모난 단추는 3개가 있습니다. 동그란 단추는 네모난 단추보다 3개가 더 많습니다. 이를 수식으로 나타내면, 동그란 단추의 개수(6개) - 네모난 단추의 개수(3개) = 3개입니다. 따라서 동그란 단추는 네모난 단추보다 3개가 더 많습니다. 정답: 3 \\n질문: 연지가 하트모양 초콜릿을 만듭니다. 녹인 초콜릿을 10칸 짜리 틀에 부었더니 7개의 틀을 가득 채웠고, 여덟번째 틀에는 빈 칸이 3개 남았습니다. 연지가 만든 초콜릿의 개수는 전부 몇 개입니까? 풀이 : \n",
      "res_context : \n",
      "초콜릿을 10칸 짜리 틀에 부었을 때, 7개의 틀을 가득 채웠고, 여덟번째 틀에는 빈 칸이 3개 남았습니다. 연지가 만든 초콜릿의 개수는 전부 15개입니다. 정답: 15\n",
      "------------\n",
      "answer:\n",
      "77\n",
      "============\n"
     ]
    },
    {
     "name": "stderr",
     "output_type": "stream",
     "text": [
      "/userhomes/philhoon/miniconda3/envs/self-debate/lib/python3.8/site-packages/urllib3/connectionpool.py:1095: InsecureRequestWarning: Unverified HTTPS request is being made to host 'aiapi.genielabs.ai'. Adding certificate verification is strongly advised. See: https://urllib3.readthedocs.io/en/latest/advanced-usage.html#tls-warnings\n",
      "  warnings.warn(\n"
     ]
    },
    {
     "name": "stdout",
     "output_type": "stream",
     "text": [
      "prompt : \n",
      "질문: 반짇고리 안에는 여러 가지 모양의 단추가 있습니다. 동그란 단추는 6개가 들어있고, 네모난 단추와 세모난 단추는 각각 3개씩 들어 있습니다. 동그란 단추는 네모난 단추보다 몇 개가 더 많습니까? 풀이: 동그란 단추는 6개, 네모난 단추는 3개, 세모난 단추는 3개가 있습니다. 동그란 단추는 네모난 단추보다 3개가 더 많습니다. 이를 수식으로 나타내면, 동그란 단추의 개수(6개) - 네모난 단추의 개수(3개) = 3개입니다. 따라서 동그란 단추는 네모난 단추보다 3개가 더 많습니다. 정답: 3 \\n질문: 숲 속 동물들이 100m 달리기 시합을 했더니 호랑이는 15초, 고라니는 20초, 삵은 18초, 늑대는 21초를 기록했습니다. 2번째로 빠른 동물의 기록은 몇 초였나요? 풀이 : \n",
      "res_context : \n",
      "늑대는 21초를 기록하고 2번째로 빠른 동물이었습니다. 따라서 호랑이는 15초, 고라니는 20초, 꿩은 18초를 기록하고 동그란 단추는 3개가 있으므로 동그란 단추는 네모난 단추보다 2개가 더 많습니다. 정답은 3입니다.\n",
      "------------\n",
      "answer:\n",
      "18\n",
      "============\n"
     ]
    },
    {
     "name": "stderr",
     "output_type": "stream",
     "text": [
      "/userhomes/philhoon/miniconda3/envs/self-debate/lib/python3.8/site-packages/urllib3/connectionpool.py:1095: InsecureRequestWarning: Unverified HTTPS request is being made to host 'aiapi.genielabs.ai'. Adding certificate verification is strongly advised. See: https://urllib3.readthedocs.io/en/latest/advanced-usage.html#tls-warnings\n",
      "  warnings.warn(\n"
     ]
    },
    {
     "name": "stdout",
     "output_type": "stream",
     "text": [
      "prompt : \n",
      "질문: 반짇고리 안에는 여러 가지 모양의 단추가 있습니다. 동그란 단추는 6개가 들어있고, 네모난 단추와 세모난 단추는 각각 3개씩 들어 있습니다. 동그란 단추는 네모난 단추보다 몇 개가 더 많습니까? 풀이: 동그란 단추는 6개, 네모난 단추는 3개, 세모난 단추는 3개가 있습니다. 동그란 단추는 네모난 단추보다 3개가 더 많습니다. 이를 수식으로 나타내면, 동그란 단추의 개수(6개) - 네모난 단추의 개수(3개) = 3개입니다. 따라서 동그란 단추는 네모난 단추보다 3개가 더 많습니다. 정답: 3 \\n질문: 태양계의 행성들은 태양의 주위를 도는 공전을 합니다. 지구의 공전주기는 1년, 토성의 공전주기는 30년, 천왕성의 공전주기는 84년입니다. 태양에서부터 토성과 천왕성이 차례로 일직선을 이루었다가 같은 자리에서 다시 일직선을 이루는 것은 최소 몇 년 후입니까? (단, 1년은 365일입니다.) 풀이 : \n",
      "res_context : \n",
      "주어진 정보를 바탕으로 수식을 만들면 다음과 같습니다. 동그란 단추의 개수(6개) - 네모난 단추의 개수(3개) = 3개입니다. 따라서 동그란 단추는 네모난 단추보다 3개가 더 많습니다. 정답: 3\n",
      "------------\n",
      "answer:\n",
      "420\n",
      "============\n"
     ]
    },
    {
     "name": "stderr",
     "output_type": "stream",
     "text": [
      "/userhomes/philhoon/miniconda3/envs/self-debate/lib/python3.8/site-packages/urllib3/connectionpool.py:1095: InsecureRequestWarning: Unverified HTTPS request is being made to host 'aiapi.genielabs.ai'. Adding certificate verification is strongly advised. See: https://urllib3.readthedocs.io/en/latest/advanced-usage.html#tls-warnings\n",
      "  warnings.warn(\n"
     ]
    },
    {
     "name": "stdout",
     "output_type": "stream",
     "text": [
      "prompt : \n",
      "질문: 반짇고리 안에는 여러 가지 모양의 단추가 있습니다. 동그란 단추는 6개가 들어있고, 네모난 단추와 세모난 단추는 각각 3개씩 들어 있습니다. 동그란 단추는 네모난 단추보다 몇 개가 더 많습니까? 풀이: 동그란 단추는 6개, 네모난 단추는 3개, 세모난 단추는 3개가 있습니다. 동그란 단추는 네모난 단추보다 3개가 더 많습니다. 이를 수식으로 나타내면, 동그란 단추의 개수(6개) - 네모난 단추의 개수(3개) = 3개입니다. 따라서 동그란 단추는 네모난 단추보다 3개가 더 많습니다. 정답: 3 \\n질문: 정원이는 한 달 동안 용돈을 군것질 40%, 학용품 30%, 도서 20%인 10000원, 기타 10%인 5000원을 사용했다. 군것질에 쓴 금액을 구하시오. 풀이 : \n",
      "res_context : \n",
      "군것질에 쓴 금액은 40원입니다.\n",
      "------------\n",
      "answer:\n",
      "20000\n",
      "============\n"
     ]
    },
    {
     "name": "stderr",
     "output_type": "stream",
     "text": [
      "/userhomes/philhoon/miniconda3/envs/self-debate/lib/python3.8/site-packages/urllib3/connectionpool.py:1095: InsecureRequestWarning: Unverified HTTPS request is being made to host 'aiapi.genielabs.ai'. Adding certificate verification is strongly advised. See: https://urllib3.readthedocs.io/en/latest/advanced-usage.html#tls-warnings\n",
      "  warnings.warn(\n"
     ]
    },
    {
     "name": "stdout",
     "output_type": "stream",
     "text": [
      "prompt : \n",
      "질문: 반짇고리 안에는 여러 가지 모양의 단추가 있습니다. 동그란 단추는 6개가 들어있고, 네모난 단추와 세모난 단추는 각각 3개씩 들어 있습니다. 동그란 단추는 네모난 단추보다 몇 개가 더 많습니까? 풀이: 동그란 단추는 6개, 네모난 단추는 3개, 세모난 단추는 3개가 있습니다. 동그란 단추는 네모난 단추보다 3개가 더 많습니다. 이를 수식으로 나타내면, 동그란 단추의 개수(6개) - 네모난 단추의 개수(3개) = 3개입니다. 따라서 동그란 단추는 네모난 단추보다 3개가 더 많습니다. 정답: 3 \\n질문: 은경이는 15일마다, 세찬이는 18일마다 가족 농장에 간다고 합니다. 8월 1일에 두 사람이 함께 가족 농장에 갔다면 다음번에 함께 가족 농장에 가는 날을 구하고, 월과 일을 더해보시오. 풀이 : \n",
      "res_context : \n",
      "두 사람이 함께 가족 농장에 가는 날은 다음과 같습니다. - 8월 1일 - 세찬이와 은경이가 15일마다 함께 가족 농장에 갑니다. - 8월 2일 - 세찬이와 은경이가 18일마다 함께 가족 농장에 갑니다. - 8월 3일 - 세찬이와 은경이가 20일마다 함께 가족 농장에 갑니다. - 8월 4일 - 세찬이와 은경이가 24일마다 함께 가족 농장에 갑니다. - 8월 5일 - 세찬이와 은경이가 28일마다 함께 가족 농장에 갑니다. - 8월 6일 - 세찬이와 은경이가 30일마다 함께 가족 농장에 갑니다. - 8월 7일 - 세찬이와 은경이가 31일마다 함께 가족 농장에 갑니다. - 8월 8일 - 세찬이와 은경이가 36일마다 함께 가족 농장에 갑니다. - 8월 9일 - 세찬이와 은경이가 37일마다 함께 가족 농장에 갑니다. - 8월 10일 - 세찬이와 은경이가 38일마다 함께 가족 농장에 갑니다. - 8월 11일 - 세찬이와 은경이가 39일마다 함께 가족 농장에 갑니다. - 8월 12일 - 세찬이와 은경이가 40일마다 함께 가족 농장에 갑니다. - 8월 13일 - 세찬이와 은경이가 41일마다 함께 가족 농장에 갑니다. - 8월 14일 - 세찬이와 은경이가 42일마다 함께 가족 농장에 갑니다. - 8월 15일 - 세찬이와 은경이가 43일마다 함께 가족 농장에 갑니다. - 8월 16일 - 세찬이와 은경이가 44일마다 함께 가족 농장에 갑니다. - 8월 17일 -\n",
      "------------\n",
      "answer:\n",
      "40\n",
      "============\n"
     ]
    },
    {
     "name": "stderr",
     "output_type": "stream",
     "text": [
      "/userhomes/philhoon/miniconda3/envs/self-debate/lib/python3.8/site-packages/urllib3/connectionpool.py:1095: InsecureRequestWarning: Unverified HTTPS request is being made to host 'aiapi.genielabs.ai'. Adding certificate verification is strongly advised. See: https://urllib3.readthedocs.io/en/latest/advanced-usage.html#tls-warnings\n",
      "  warnings.warn(\n"
     ]
    },
    {
     "name": "stdout",
     "output_type": "stream",
     "text": [
      "prompt : \n",
      "질문: 반짇고리 안에는 여러 가지 모양의 단추가 있습니다. 동그란 단추는 6개가 들어있고, 네모난 단추와 세모난 단추는 각각 3개씩 들어 있습니다. 동그란 단추는 네모난 단추보다 몇 개가 더 많습니까? 풀이: 동그란 단추는 6개, 네모난 단추는 3개, 세모난 단추는 3개가 있습니다. 동그란 단추는 네모난 단추보다 3개가 더 많습니다. 이를 수식으로 나타내면, 동그란 단추의 개수(6개) - 네모난 단추의 개수(3개) = 3개입니다. 따라서 동그란 단추는 네모난 단추보다 3개가 더 많습니다. 정답: 3 \\n질문: 어제는 1cm 3mm, 오늘은 2cm 4mm의 비가 내렸습니다. 어제와 오늘 내린 비의 양은 모두 몇 mm일까요? 풀이 : \n",
      "res_context : \n",
      "1cm 3mm와 2cm 4mm는 서로 다릅니다. 따라서 어제와 오늘 내린 비의 양은 서로 다릅니다. 정답: 2cm 4mm\n",
      "------------\n",
      "answer:\n",
      "37\n",
      "============\n"
     ]
    },
    {
     "name": "stderr",
     "output_type": "stream",
     "text": [
      "/userhomes/philhoon/miniconda3/envs/self-debate/lib/python3.8/site-packages/urllib3/connectionpool.py:1095: InsecureRequestWarning: Unverified HTTPS request is being made to host 'aiapi.genielabs.ai'. Adding certificate verification is strongly advised. See: https://urllib3.readthedocs.io/en/latest/advanced-usage.html#tls-warnings\n",
      "  warnings.warn(\n"
     ]
    },
    {
     "name": "stdout",
     "output_type": "stream",
     "text": [
      "prompt : \n",
      "질문: 반짇고리 안에는 여러 가지 모양의 단추가 있습니다. 동그란 단추는 6개가 들어있고, 네모난 단추와 세모난 단추는 각각 3개씩 들어 있습니다. 동그란 단추는 네모난 단추보다 몇 개가 더 많습니까? 풀이: 동그란 단추는 6개, 네모난 단추는 3개, 세모난 단추는 3개가 있습니다. 동그란 단추는 네모난 단추보다 3개가 더 많습니다. 이를 수식으로 나타내면, 동그란 단추의 개수(6개) - 네모난 단추의 개수(3개) = 3개입니다. 따라서 동그란 단추는 네모난 단추보다 3개가 더 많습니다. 정답: 3 \\n질문: 귤을 8개의 바구니에 똑같이 나누어 담으려고 합니다. 그러나 잘못 하여 12개씩 7개의 바구니에 넣어 4개의 귤이 남았다고 합니다. 바르게 나누었을 때 한 바구니에 몇 개의 귤을 담게 되는지 구하시오. 풀이 : \n",
      "res_context : \n",
      "주어진 상황에서 귤을 8개의 바구니에 똑같이 나누어 담는다고 했으므로, 귤을 8개의 바구니에 담을 수 있습니다. 따라서 한 바구니에 8개의 귤을 담게 됩니다. 정답: 8\n",
      "------------\n",
      "answer:\n",
      "11\n",
      "============\n"
     ]
    }
   ],
   "source": [
    "cnt = 0\n",
    "split_cnt = 0\n",
    "for ins in data:\n",
    "\n",
    "    kor_que = ins['question']\n",
    "    \n",
    "    prompt = get_gsm8k_one_shot_cot(PROMPT1, kor_que)\n",
    "    \n",
    "    body = get_body(prompt, BODY_TEMP)\n",
    "    response = model.generate(body)\n",
    "    res_context = response.json()['data'][0]['result'][0]\n",
    "    \n",
    "    print(f'prompt : ')\n",
    "    print(prompt)\n",
    "    print(f'res_context : ')\n",
    "    print(res_context)\n",
    "    print('------------')\n",
    "    print(f\"answer:\\n{ins['answer']}\")\n",
    "    print('============')\n",
    "#     ins['zs_infer'] = res_context\n",
    "#     jsonl_writer.write_json_line(ins)\n",
    "\n",
    "    if cnt == 10:\n",
    "        break\n",
    "    else:\n",
    "        cnt += 1\n",
    "    \n"
   ]
  },
  {
   "cell_type": "code",
   "execution_count": null,
   "id": "d942c2fb",
   "metadata": {},
   "outputs": [],
   "source": []
  }
 ],
 "metadata": {
  "kernelspec": {
   "display_name": "Python 3 (ipykernel)",
   "language": "python",
   "name": "python3"
  },
  "language_info": {
   "codemirror_mode": {
    "name": "ipython",
    "version": 3
   },
   "file_extension": ".py",
   "mimetype": "text/x-python",
   "name": "python",
   "nbconvert_exporter": "python",
   "pygments_lexer": "ipython3",
   "version": "3.8.17"
  }
 },
 "nbformat": 4,
 "nbformat_minor": 5
}
