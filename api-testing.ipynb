{
 "cells": [
  {
   "cell_type": "code",
   "execution_count": 1,
   "id": "fe9b8939",
   "metadata": {},
   "outputs": [],
   "source": [
    "import json\n",
    "import requests\n",
    "from src import utils\n",
    "import time\n",
    "import os"
   ]
  },
  {
   "cell_type": "code",
   "execution_count": 2,
   "id": "9785e201",
   "metadata": {},
   "outputs": [],
   "source": [
    "api_path = '/userhomes/philhoon/kt-ai-challenge/api.json'"
   ]
  },
  {
   "cell_type": "code",
   "execution_count": 3,
   "id": "64fbaef0",
   "metadata": {},
   "outputs": [],
   "source": [
    "api = utils.read_json_file(api_path)"
   ]
  },
  {
   "cell_type": "code",
   "execution_count": 4,
   "id": "4d60e264",
   "metadata": {},
   "outputs": [],
   "source": [
    "input_file = '/userhomes/philhoon/kt-ai-challenge/data/openai-gpt-3.5-turbo-0301-2048-0.0-KOR-gsm8k-test.jsonl'\n",
    "# in_path = '/userhomes/philhoon/kt-ai-challenge/data/openai-gpt-3.5-turbo-0301-2048-0.0-KOR-gsm8k-train.jsonl'"
   ]
  },
  {
   "cell_type": "code",
   "execution_count": 5,
   "id": "0db289a9",
   "metadata": {},
   "outputs": [],
   "source": [
    "output_path = '/userhomes/philhoon/kt-ai-challenge/result'"
   ]
  },
  {
   "cell_type": "code",
   "execution_count": 6,
   "id": "71aa8c9c",
   "metadata": {},
   "outputs": [
    {
     "name": "stdout",
     "output_type": "stream",
     "text": [
      "output_file : /userhomes/philhoon/kt-ai-challenge/result/result-openai-gpt-3.5-turbo-0301-2048-0.0-KOR-gsm8k-test.jsonl\n"
     ]
    }
   ],
   "source": [
    "os.makedirs(output_path, exist_ok=True)\n",
    "output_file_name = 'result-' + input_file.split('/')[-1]\n",
    "output_file = output_path + '/' + output_file_name\n",
    "print(f'output_file : {output_file}')"
   ]
  },
  {
   "cell_type": "code",
   "execution_count": 7,
   "id": "5a6ba08f",
   "metadata": {},
   "outputs": [],
   "source": [
    "jsonl_writer = utils.JSONLWriter(output_file)"
   ]
  },
  {
   "cell_type": "code",
   "execution_count": 8,
   "id": "faa7e49a",
   "metadata": {},
   "outputs": [],
   "source": [
    "data = utils.read_jsonlines(input_file)"
   ]
  },
  {
   "cell_type": "code",
   "execution_count": null,
   "id": "ea896d5f",
   "metadata": {},
   "outputs": [],
   "source": []
  },
  {
   "cell_type": "code",
   "execution_count": 9,
   "id": "addb392e",
   "metadata": {},
   "outputs": [],
   "source": [
    "# file_name"
   ]
  },
  {
   "cell_type": "code",
   "execution_count": null,
   "id": "415853b3",
   "metadata": {},
   "outputs": [],
   "source": []
  },
  {
   "cell_type": "code",
   "execution_count": 10,
   "id": "e980b9e2",
   "metadata": {},
   "outputs": [
    {
     "data": {
      "text/plain": [
       "1319"
      ]
     },
     "execution_count": 10,
     "metadata": {},
     "output_type": "execute_result"
    }
   ],
   "source": [
    "len(data)"
   ]
  },
  {
   "cell_type": "code",
   "execution_count": 11,
   "id": "ebdb0266",
   "metadata": {},
   "outputs": [],
   "source": [
    "# api"
   ]
  },
  {
   "cell_type": "code",
   "execution_count": 12,
   "id": "30c4c0c3",
   "metadata": {},
   "outputs": [],
   "source": [
    "# url = api['url']"
   ]
  },
  {
   "cell_type": "code",
   "execution_count": 13,
   "id": "22ed7271",
   "metadata": {},
   "outputs": [],
   "source": [
    "# headers = api['headers']"
   ]
  },
  {
   "cell_type": "code",
   "execution_count": 14,
   "id": "a0dcb799",
   "metadata": {},
   "outputs": [],
   "source": [
    "# question = \"질문 : 파운드 스털링은 가치가 있나요? 용어설명 :  사실목록 : ['1파운드는 법정 화폐입니다.', '법정 화폐는 정부 법령에 의해 뒷받침되며 내재적 가치가 없습니다', '2020년 5월 기준 1파운드 스털링은 약 1.24달러의 가치가 있습니다.']. 사실목록을 바탕으로 질문에 대한 답변을 사실 또는 거짓으로 대답하세요\"/"
   ]
  },
  {
   "cell_type": "code",
   "execution_count": 15,
   "id": "241e4e16",
   "metadata": {},
   "outputs": [],
   "source": [
    "# headers"
   ]
  },
  {
   "cell_type": "code",
   "execution_count": 16,
   "id": "34f76e17",
   "metadata": {},
   "outputs": [],
   "source": [
    "class model_api():\n",
    "    def __init__(self, url, headers):\n",
    "        self.url = url\n",
    "        self.headers = headers\n",
    "        \n",
    "    def generate(self, body):\n",
    "        \n",
    "        try:\n",
    "            response = requests.post(self.url, data=body, headers=self.headers, verify=False)\n",
    "        \n",
    "        except:\n",
    "            print(\"retrying due to an error......\")\n",
    "            time.sleep(20)\n",
    "            return self.generate(body)\n",
    "        \n",
    "        return response\n",
    "        \n",
    "        "
   ]
  },
  {
   "cell_type": "code",
   "execution_count": 17,
   "id": "4bc9fca4",
   "metadata": {},
   "outputs": [],
   "source": [
    "model = model_api(api['url'], api['headers'])"
   ]
  },
  {
   "cell_type": "code",
   "execution_count": 18,
   "id": "3fc804a1",
   "metadata": {},
   "outputs": [],
   "source": [
    "BODY_TEMP = {\n",
    "    \"serviceInstanceId\" : \"ddm3kz9g\", \n",
    "    \"nluType\" : \"009\",\n",
    "    \"apiType\" : \"002\", \n",
    "    \"utterance\" : None\n",
    "}"
   ]
  },
  {
   "cell_type": "code",
   "execution_count": 19,
   "id": "9b49103d",
   "metadata": {},
   "outputs": [],
   "source": [
    "# body = json.dumps(body_temp)"
   ]
  },
  {
   "cell_type": "code",
   "execution_count": 20,
   "id": "544f5e3e",
   "metadata": {},
   "outputs": [],
   "source": [
    "# print(body)"
   ]
  },
  {
   "cell_type": "code",
   "execution_count": 21,
   "id": "4bfb224c",
   "metadata": {},
   "outputs": [],
   "source": [
    "# response = api.generate(body)"
   ]
  },
  {
   "cell_type": "code",
   "execution_count": 22,
   "id": "5e978a36",
   "metadata": {},
   "outputs": [],
   "source": [
    "# context = response.json()['data'][0]['result'][0]"
   ]
  },
  {
   "cell_type": "code",
   "execution_count": 23,
   "id": "fcc19a4a",
   "metadata": {},
   "outputs": [],
   "source": [
    "# print(context)"
   ]
  },
  {
   "cell_type": "code",
   "execution_count": 24,
   "id": "5d806326",
   "metadata": {},
   "outputs": [],
   "source": [
    "def get_gsm8k_zs(que):\n",
    "    prompt = f'질문 : {que} \\n정답 : '\n",
    "    return prompt"
   ]
  },
  {
   "cell_type": "code",
   "execution_count": 25,
   "id": "bd7502a5",
   "metadata": {},
   "outputs": [],
   "source": [
    "def get_body(prompt, body_temp):\n",
    "    body_temp[\"utterance\"] = prompt\n",
    "    return json.dumps(body_temp)"
   ]
  },
  {
   "cell_type": "code",
   "execution_count": 26,
   "id": "3d236417",
   "metadata": {},
   "outputs": [],
   "source": [
    "# from pprint import pprint"
   ]
  },
  {
   "cell_type": "markdown",
   "id": "8c63c119",
   "metadata": {},
   "source": [
    "### GSM8K-TEST\n",
    "    26 out of 1319 : contains the answer in the question due to translation\n",
    "### GSM8K-TRAIN\n",
    "    163 out of 7473 : contains the answer in the question due to translation"
   ]
  },
  {
   "cell_type": "code",
   "execution_count": null,
   "id": "c0ce08b0",
   "metadata": {
    "scrolled": false
   },
   "outputs": [],
   "source": [
    "cnt = 0\n",
    "split_cnt = 0\n",
    "for ins in data:\n",
    "    kor_que = ins['kor_question']\n",
    "    \n",
    "    # checking whether there is an answer \n",
    "    test = kor_que.split('\\n')\n",
    "    \n",
    "    if len(test[0]) != len(kor_que):\n",
    "        split_cnt += 1\n",
    "        continue\n",
    "\n",
    "    kor_ans = ins['kor_answer']\n",
    "    prompt = get_gsm8k_zs(kor_que)\n",
    "    \n",
    "    body = get_body(prompt, BODY_TEMP)\n",
    "    response = model.generate(body)\n",
    "    res_context = response.json()['data'][0]['result'][0]\n",
    "    \n",
    "    print(f'prompt : ')\n",
    "    print(prompt)\n",
    "    print(f'res_context : ')\n",
    "    print(res_context)\n",
    "    print('----')\n",
    "    \n",
    "    ins['kor_infer'] = res_context\n",
    "    jsonl_writer.write_json_line(ins)\n",
    "    \n",
    "#     print(prompt)\n",
    "    if cnt == 5:\n",
    "        break\n",
    "    else:\n",
    "        cnt += 1"
   ]
  },
  {
   "cell_type": "code",
   "execution_count": null,
   "id": "8b070e23",
   "metadata": {},
   "outputs": [],
   "source": []
  }
 ],
 "metadata": {
  "kernelspec": {
   "display_name": "Python 3 (ipykernel)",
   "language": "python",
   "name": "python3"
  },
  "language_info": {
   "codemirror_mode": {
    "name": "ipython",
    "version": 3
   },
   "file_extension": ".py",
   "mimetype": "text/x-python",
   "name": "python",
   "nbconvert_exporter": "python",
   "pygments_lexer": "ipython3",
   "version": "3.8.17"
  }
 },
 "nbformat": 4,
 "nbformat_minor": 5
}
