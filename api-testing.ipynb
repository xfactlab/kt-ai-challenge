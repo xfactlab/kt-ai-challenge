{
 "cells": [
  {
   "cell_type": "code",
   "execution_count": 1,
   "id": "de0d3743",
   "metadata": {},
   "outputs": [],
   "source": [
    "import json\n",
    "import requests\n",
    "from src import utils\n",
    "import time\n",
    "import os"
   ]
  },
  {
   "cell_type": "code",
   "execution_count": 2,
   "id": "1f6e3734",
   "metadata": {},
   "outputs": [],
   "source": [
    "api_path = '/userhomes/philhoon/kt-ai-challenge/api.json'"
   ]
  },
  {
   "cell_type": "code",
   "execution_count": 3,
   "id": "88e90579",
   "metadata": {},
   "outputs": [],
   "source": [
    "api = utils.read_json_file(api_path)"
   ]
  },
  {
   "cell_type": "code",
   "execution_count": 4,
   "id": "c51fe990",
   "metadata": {},
   "outputs": [],
   "source": [
    "input_file = '/userhomes/philhoon/kt-ai-challenge/data/openai-gpt-3.5-turbo-0301-2048-0.0-KOR-gsm8k-test.jsonl'\n",
    "# in_path = '/userhomes/philhoon/kt-ai-challenge/data/openai-gpt-3.5-turbo-0301-2048-0.0-KOR-gsm8k-train.jsonl'"
   ]
  },
  {
   "cell_type": "code",
   "execution_count": 5,
   "id": "70f07d94",
   "metadata": {},
   "outputs": [],
   "source": [
    "output_path = '/userhomes/philhoon/kt-ai-challenge/result'"
   ]
  },
  {
   "cell_type": "code",
   "execution_count": 6,
   "id": "77a8c4e8",
   "metadata": {},
   "outputs": [
    {
     "name": "stdout",
     "output_type": "stream",
     "text": [
      "output_file : /userhomes/philhoon/kt-ai-challenge/result/result-openai-gpt-3.5-turbo-0301-2048-0.0-KOR-gsm8k-test.jsonl\n"
     ]
    }
   ],
   "source": [
    "os.makedirs(output_path, exist_ok=True)\n",
    "output_file_name = 'result-' + input_file.split('/')[-1]\n",
    "output_file = output_path + '/' + output_file_name\n",
    "print(f'output_file : {output_file}')"
   ]
  },
  {
   "cell_type": "code",
   "execution_count": 7,
   "id": "c1dd2680",
   "metadata": {},
   "outputs": [],
   "source": [
    "jsonl_writer = utils.JSONLWriter(output_file)"
   ]
  },
  {
   "cell_type": "code",
   "execution_count": 8,
   "id": "90d1cca3",
   "metadata": {},
   "outputs": [],
   "source": [
    "data = utils.read_jsonlines(input_file)"
   ]
  },
  {
   "cell_type": "code",
   "execution_count": null,
   "id": "697e32c7",
   "metadata": {},
   "outputs": [],
   "source": []
  },
  {
   "cell_type": "code",
   "execution_count": 9,
   "id": "7de092e4",
   "metadata": {},
   "outputs": [],
   "source": [
    "# file_name"
   ]
  },
  {
   "cell_type": "code",
   "execution_count": null,
   "id": "e71f2ef3",
   "metadata": {},
   "outputs": [],
   "source": []
  },
  {
   "cell_type": "code",
   "execution_count": 10,
   "id": "672bd4a3",
   "metadata": {},
   "outputs": [
    {
     "data": {
      "text/plain": [
       "1319"
      ]
     },
     "execution_count": 10,
     "metadata": {},
     "output_type": "execute_result"
    }
   ],
   "source": [
    "len(data)"
   ]
  },
  {
   "cell_type": "code",
   "execution_count": 11,
   "id": "0d312a2f",
   "metadata": {},
   "outputs": [],
   "source": [
    "# api"
   ]
  },
  {
   "cell_type": "code",
   "execution_count": 12,
   "id": "3baf76e7",
   "metadata": {},
   "outputs": [],
   "source": [
    "# url = api['url']"
   ]
  },
  {
   "cell_type": "code",
   "execution_count": 13,
   "id": "23fb58fd",
   "metadata": {},
   "outputs": [],
   "source": [
    "# headers = api['headers']"
   ]
  },
  {
   "cell_type": "code",
   "execution_count": 14,
   "id": "e39dbe5d",
   "metadata": {},
   "outputs": [],
   "source": [
    "# question = \"질문 : 파운드 스털링은 가치가 있나요? 용어설명 :  사실목록 : ['1파운드는 법정 화폐입니다.', '법정 화폐는 정부 법령에 의해 뒷받침되며 내재적 가치가 없습니다', '2020년 5월 기준 1파운드 스털링은 약 1.24달러의 가치가 있습니다.']. 사실목록을 바탕으로 질문에 대한 답변을 사실 또는 거짓으로 대답하세요\"/"
   ]
  },
  {
   "cell_type": "code",
   "execution_count": 15,
   "id": "a648a380",
   "metadata": {},
   "outputs": [],
   "source": [
    "# headers"
   ]
  },
  {
   "cell_type": "code",
   "execution_count": 16,
   "id": "ba526f0c",
   "metadata": {},
   "outputs": [],
   "source": [
    "class model_api():\n",
    "    def __init__(self, url, headers):\n",
    "        self.url = url\n",
    "        self.headers = headers\n",
    "        \n",
    "    def generate(self, body):\n",
    "        \n",
    "        try:\n",
    "            response = requests.post(self.url, data=body, headers=self.headers, verify=False)\n",
    "        \n",
    "        except:\n",
    "            print(\"retrying due to an error......\")\n",
    "            time.sleep(20)\n",
    "            return self.generate(body)\n",
    "        \n",
    "        return response\n",
    "        \n",
    "        "
   ]
  },
  {
   "cell_type": "code",
   "execution_count": 17,
   "id": "62353eab",
   "metadata": {},
   "outputs": [],
   "source": [
    "model = model_api(api['url'], api['headers'])"
   ]
  },
  {
   "cell_type": "code",
   "execution_count": 18,
   "id": "0d917811",
   "metadata": {},
   "outputs": [],
   "source": [
    "BODY_TEMP = {\n",
    "    \"serviceInstanceId\" : \"ddm3kz9g\", \n",
    "    \"nluType\" : \"009\",\n",
    "    \"apiType\" : \"002\", \n",
    "    \"utterance\" : None\n",
    "}"
   ]
  },
  {
   "cell_type": "code",
   "execution_count": 19,
   "id": "e1b92c2b",
   "metadata": {},
   "outputs": [],
   "source": [
    "# body = json.dumps(body_temp)"
   ]
  },
  {
   "cell_type": "code",
   "execution_count": 20,
   "id": "e17f99b4",
   "metadata": {},
   "outputs": [],
   "source": [
    "# print(body)"
   ]
  },
  {
   "cell_type": "code",
   "execution_count": 21,
   "id": "3a1c7748",
   "metadata": {},
   "outputs": [],
   "source": [
    "# response = api.generate(body)"
   ]
  },
  {
   "cell_type": "code",
   "execution_count": 22,
   "id": "f1badbc7",
   "metadata": {},
   "outputs": [],
   "source": [
    "# context = response.json()['data'][0]['result'][0]"
   ]
  },
  {
   "cell_type": "code",
   "execution_count": 23,
   "id": "71e1480a",
   "metadata": {},
   "outputs": [],
   "source": [
    "# print(context)"
   ]
  },
  {
   "cell_type": "code",
   "execution_count": 24,
   "id": "6a3ff058",
   "metadata": {},
   "outputs": [],
   "source": [
    "def get_gsm8k_zs(que):\n",
    "    prompt = f'질문 : {que} \\n정답 : '\n",
    "    return prompt"
   ]
  },
  {
   "cell_type": "code",
   "execution_count": 25,
   "id": "14cbc2bf",
   "metadata": {},
   "outputs": [],
   "source": [
    "def get_body(prompt, body_temp):\n",
    "    body_temp[\"utterance\"] = prompt\n",
    "    return json.dumps(body_temp)"
   ]
  },
  {
   "cell_type": "code",
   "execution_count": 26,
   "id": "f87574fc",
   "metadata": {},
   "outputs": [],
   "source": [
    "# from pprint import pprint"
   ]
  },
  {
   "cell_type": "markdown",
   "id": "b923ab0c",
   "metadata": {},
   "source": [
    "### GSM8K-TEST\n",
    "    26 out of 1319 : contains the answer in the question due to translation\n",
    "### GSM8K-TRAIN\n",
    "    163 out of 7473 : contains the answer in the question due to translation"
   ]
  },
  {
   "cell_type": "code",
   "execution_count": 27,
   "id": "16dc168a",
   "metadata": {
    "scrolled": false
   },
   "outputs": [
    {
     "name": "stderr",
     "output_type": "stream",
     "text": [
      "/userhomes/philhoon/miniconda3/envs/self-debate/lib/python3.8/site-packages/urllib3/connectionpool.py:1095: InsecureRequestWarning: Unverified HTTPS request is being made to host 'aiapi.genielabs.ai'. Adding certificate verification is strongly advised. See: https://urllib3.readthedocs.io/en/latest/advanced-usage.html#tls-warnings\n",
      "  warnings.warn(\n"
     ]
    },
    {
     "name": "stdout",
     "output_type": "stream",
     "text": [
      "prompt : \n",
      "질문 : 한 벌의 로브를 만드는 데 파란색 섬유 2 덩이와 그 절반만큼의 흰색 섬유가 필요합니다. 총 몇 덩이의 섬유가 필요한가요? \n",
      "정답 : \n",
      "res_context : \n",
      "파란색 섬유 2 덩이와 그 절반만큼의 흰색 섬유가 필요하므로 총 4 덩이의 섬유가 필요합니다.\n",
      "----\n"
     ]
    },
    {
     "name": "stderr",
     "output_type": "stream",
     "text": [
      "/userhomes/philhoon/miniconda3/envs/self-debate/lib/python3.8/site-packages/urllib3/connectionpool.py:1095: InsecureRequestWarning: Unverified HTTPS request is being made to host 'aiapi.genielabs.ai'. Adding certificate verification is strongly advised. See: https://urllib3.readthedocs.io/en/latest/advanced-usage.html#tls-warnings\n",
      "  warnings.warn(\n"
     ]
    },
    {
     "name": "stdout",
     "output_type": "stream",
     "text": [
      "prompt : \n",
      "질문 : 조쉬는 집을 뒤집어 판매해보기로 결정합니다. 그는 $80,000에 집을 구매하고 $50,000을 수리합니다. 이로 인해 집의 가치가 150% 증가합니다. 그가 얼마의 이익을 얻었습니까? \n",
      "정답 : \n",
      "res_context : \n",
      "조쉬는 집을 팔아 $150,000의 이익을 얻었습니다.\n",
      "----\n"
     ]
    },
    {
     "name": "stderr",
     "output_type": "stream",
     "text": [
      "/userhomes/philhoon/miniconda3/envs/self-debate/lib/python3.8/site-packages/urllib3/connectionpool.py:1095: InsecureRequestWarning: Unverified HTTPS request is being made to host 'aiapi.genielabs.ai'. Adding certificate verification is strongly advised. See: https://urllib3.readthedocs.io/en/latest/advanced-usage.html#tls-warnings\n",
      "  warnings.warn(\n"
     ]
    },
    {
     "name": "stdout",
     "output_type": "stream",
     "text": [
      "prompt : \n",
      "질문 : 제임스는 매주 3번씩 3번의 짧은 달리기를 결심합니다. 그는 각각 60미터를 달립니다. 그가 일주일에 총 몇 미터를 달릴까요? \n",
      "정답 : \n",
      "res_context : \n",
      "일주일에 총 60미터를 달립니다.\n",
      "----\n"
     ]
    },
    {
     "name": "stderr",
     "output_type": "stream",
     "text": [
      "/userhomes/philhoon/miniconda3/envs/self-debate/lib/python3.8/site-packages/urllib3/connectionpool.py:1095: InsecureRequestWarning: Unverified HTTPS request is being made to host 'aiapi.genielabs.ai'. Adding certificate verification is strongly advised. See: https://urllib3.readthedocs.io/en/latest/advanced-usage.html#tls-warnings\n",
      "  warnings.warn(\n"
     ]
    },
    {
     "name": "stdout",
     "output_type": "stream",
     "text": [
      "retrying due to an error......\n"
     ]
    },
    {
     "name": "stderr",
     "output_type": "stream",
     "text": [
      "/userhomes/philhoon/miniconda3/envs/self-debate/lib/python3.8/site-packages/urllib3/connectionpool.py:1095: InsecureRequestWarning: Unverified HTTPS request is being made to host 'aiapi.genielabs.ai'. Adding certificate verification is strongly advised. See: https://urllib3.readthedocs.io/en/latest/advanced-usage.html#tls-warnings\n",
      "  warnings.warn(\n"
     ]
    },
    {
     "name": "stdout",
     "output_type": "stream",
     "text": [
      "prompt : \n",
      "질문 : 매일, 웬디는 각 닭에게 씨앗, 멸치, 채소가 섞인 닭 사료 3컵씩을 주어 건강하게 유지합니다. 그녀는 닭에게 3번의 식사로 사료를 제공합니다. 아침에는 15컵의 사료를 주고, 오후에는 25컵의 사료를 또 다시 주며, 만약 웬디의 닭 떼가 20마리라면, 하루의 마지막 식사에서 닭에게 몇 컵의 사료를 주어야 할까요? \n",
      "정답 : \n",
      "res_context : \n",
      "웬디는 닭에게 3번의 식사를 제공하므로, 하루에 3 \\* 3 = 15 (3컵)를 주게 됩니다. 닭 떼가 20마리라면, 한 끼 식사에 20마리의 닭을 사용하게 됩니다. 따라서 웬디는 닭에게 15 \\* 20 = 150 (15컵)을 주게 됩니다. 마지막으로 3 \\* 3 = 30 (3컵)을 제공하게 됩니다. 따라서 닭에게 15 \\* 30 = 180 (3컵)을 주게 됩니다. 따라서 웬디의 닭 떼가 20마리라면, 하루의 마지막 식사에서 닭에게 180 (3컵)의 사료를 주어야 합니다.\n",
      "----\n"
     ]
    },
    {
     "name": "stderr",
     "output_type": "stream",
     "text": [
      "/userhomes/philhoon/miniconda3/envs/self-debate/lib/python3.8/site-packages/urllib3/connectionpool.py:1095: InsecureRequestWarning: Unverified HTTPS request is being made to host 'aiapi.genielabs.ai'. Adding certificate verification is strongly advised. See: https://urllib3.readthedocs.io/en/latest/advanced-usage.html#tls-warnings\n",
      "  warnings.warn(\n"
     ]
    },
    {
     "name": "stdout",
     "output_type": "stream",
     "text": [
      "prompt : \n",
      "질문 : 카일러는 새 아파트를 위해 유리잔을 사러 가게에 갔습니다. 하나의 유리잔 가격은 $5이지만, 두 번째 유리잔부터는 가격의 60%만 지불하면 됩니다. 카일러는 16개의 유리잔을 사고 싶습니다. 그들을 위해 얼마를 지불해야 할까요? \n",
      "정답 : \n",
      "res_context : \n",
      "정답은 $16입니다.\n",
      "----\n"
     ]
    },
    {
     "name": "stderr",
     "output_type": "stream",
     "text": [
      "/userhomes/philhoon/miniconda3/envs/self-debate/lib/python3.8/site-packages/urllib3/connectionpool.py:1095: InsecureRequestWarning: Unverified HTTPS request is being made to host 'aiapi.genielabs.ai'. Adding certificate verification is strongly advised. See: https://urllib3.readthedocs.io/en/latest/advanced-usage.html#tls-warnings\n",
      "  warnings.warn(\n"
     ]
    },
    {
     "name": "stdout",
     "output_type": "stream",
     "text": [
      "prompt : \n",
      "질문 : 툴루즈는 찰스턴의 양의 두 배를 가지고 있습니다. 찰스턴은 시애틀의 양의 4 배를 가지고 있습니다. 시애틀은 양이 20마리 있으므로, 툴루즈, 찰스턴 및 시애틀이 함께 가지고 있는 양은 얼마입니까? \n",
      "정답 : \n",
      "res_context : \n",
      "툴루즈, 찰스턴, 시애틀이 함께 가지고 있는 양은 4 + 2 + 4 = 10마리입니다.\n",
      "----\n"
     ]
    }
   ],
   "source": [
    "cnt = 0\n",
    "split_cnt = 0\n",
    "for ins in data:\n",
    "    kor_que = ins['kor_question']\n",
    "    \n",
    "    # checking whether there is an answer \n",
    "    test = kor_que.split('\\n')\n",
    "    \n",
    "    if len(test[0]) != len(kor_que):\n",
    "        split_cnt += 1\n",
    "        continue\n",
    "\n",
    "    kor_ans = ins['kor_answer']\n",
    "    prompt = get_gsm8k_zs(kor_que)\n",
    "    \n",
    "    body = get_body(prompt, BODY_TEMP)\n",
    "    response = model.generate(body)\n",
    "    res_context = response.json()['data'][0]['result'][0]\n",
    "    \n",
    "    print(f'prompt : ')\n",
    "    print(prompt)\n",
    "    print(f'res_context : ')\n",
    "    print(res_context)\n",
    "    print('----')\n",
    "    \n",
    "    ins['kor_infer'] = res_context\n",
    "#     jsonl_writer.write_json_line(ins)\n",
    "    \n",
    "#     print(prompt)\n",
    "    if cnt == 5:\n",
    "        break\n",
    "    else:\n",
    "        cnt += 1"
   ]
  },
  {
   "cell_type": "code",
   "execution_count": null,
   "id": "d942c2fb",
   "metadata": {},
   "outputs": [],
   "source": []
  }
 ],
 "metadata": {
  "kernelspec": {
   "display_name": "Python 3 (ipykernel)",
   "language": "python",
   "name": "python3"
  },
  "language_info": {
   "codemirror_mode": {
    "name": "ipython",
    "version": 3
   },
   "file_extension": ".py",
   "mimetype": "text/x-python",
   "name": "python",
   "nbconvert_exporter": "python",
   "pygments_lexer": "ipython3",
   "version": "3.8.17"
  }
 },
 "nbformat": 4,
 "nbformat_minor": 5
}
