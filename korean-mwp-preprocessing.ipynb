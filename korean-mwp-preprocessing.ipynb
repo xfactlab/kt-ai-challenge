{
 "cells": [
  {
   "cell_type": "code",
   "execution_count": 69,
   "id": "ae2860af",
   "metadata": {},
   "outputs": [],
   "source": [
    "import json\n",
    "import requests\n",
    "from src import utils\n",
    "import time\n",
    "import os\n",
    "from pprint import pprint\n",
    "import random"
   ]
  },
  {
   "cell_type": "code",
   "execution_count": 20,
   "id": "d16f1a63",
   "metadata": {},
   "outputs": [],
   "source": [
    "input_file = '/userhomes/philhoon/kt-ai-challenge/data/public_mwp_data_v2.json'"
   ]
  },
  {
   "cell_type": "code",
   "execution_count": 21,
   "id": "d25a572a",
   "metadata": {},
   "outputs": [],
   "source": [
    "def read_json_file(file_path):\n",
    "    with open(file_path, 'r',) as file:\n",
    "        data = json.load(file)\n",
    "\n",
    "    return data"
   ]
  },
  {
   "cell_type": "code",
   "execution_count": 22,
   "id": "a8ca6c30",
   "metadata": {},
   "outputs": [],
   "source": [
    "data = utils.read_json_file(input_file)"
   ]
  },
  {
   "cell_type": "code",
   "execution_count": 23,
   "id": "a65c18b3",
   "metadata": {},
   "outputs": [
    {
     "data": {
      "text/plain": [
       "9058"
      ]
     },
     "execution_count": 23,
     "metadata": {},
     "output_type": "execute_result"
    }
   ],
   "source": [
    "len(data)"
   ]
  },
  {
   "cell_type": "code",
   "execution_count": 24,
   "id": "07d0f2ed",
   "metadata": {},
   "outputs": [],
   "source": [
    "# class_type = set()"
   ]
  },
  {
   "cell_type": "code",
   "execution_count": 25,
   "id": "7923afee",
   "metadata": {
    "scrolled": false
   },
   "outputs": [],
   "source": [
    "# for idx, ins in data.items():\n",
    "# #     print(idx)\n",
    "# #     pprint(ins)\n",
    "#     class_type.add(ins['class'])"
   ]
  },
  {
   "cell_type": "code",
   "execution_count": 26,
   "id": "8dc69682",
   "metadata": {},
   "outputs": [],
   "source": [
    "# class_type"
   ]
  },
  {
   "cell_type": "code",
   "execution_count": 27,
   "id": "bfdcc9be",
   "metadata": {},
   "outputs": [],
   "source": [
    "class_map = {\n",
    "    '도형' : [],\n",
    "    '산술연산' : [],\n",
    "    '수찾기1' : [],\n",
    "    '수찾기2' : [],\n",
    "    '수찾기3' : [],\n",
    "    '순서정하기1' : [],\n",
    "    '순서정하기2' : [],\n",
    "    '조합하기' : [],\n",
    "    '크기비교' : []\n",
    "}"
   ]
  },
  {
   "cell_type": "code",
   "execution_count": 28,
   "id": "fab831b5",
   "metadata": {},
   "outputs": [],
   "source": [
    "def is_number(value):\n",
    "    try:\n",
    "        float(value)\n",
    "        return True\n",
    "    except ValueError:\n",
    "        return False\n"
   ]
  },
  {
   "cell_type": "code",
   "execution_count": 29,
   "id": "ebbd4ca0",
   "metadata": {},
   "outputs": [],
   "source": [
    "# 'class', 'question', 'answer', 'equation', 'option', 'option_value', 'unknown']"
   ]
  },
  {
   "cell_type": "code",
   "execution_count": 30,
   "id": "f23b974f",
   "metadata": {},
   "outputs": [
    {
     "data": {
      "text/plain": [
       "9058"
      ]
     },
     "execution_count": 30,
     "metadata": {},
     "output_type": "execute_result"
    }
   ],
   "source": [
    "len(data)"
   ]
  },
  {
   "cell_type": "code",
   "execution_count": 31,
   "id": "b77f1b9e",
   "metadata": {},
   "outputs": [],
   "source": [
    "### Only numeric answer \n",
    "### XX/YY fractions are excluded"
   ]
  },
  {
   "cell_type": "code",
   "execution_count": 32,
   "id": "bbd4f3ef",
   "metadata": {
    "scrolled": false
   },
   "outputs": [
    {
     "name": "stdout",
     "output_type": "stream",
     "text": [
      "3083\n"
     ]
    }
   ],
   "source": [
    "# extract only number answer\n",
    "cnt = 0\n",
    "for idx, ins in data.items():\n",
    "    if is_number(ins['answer']):\n",
    "        class_map[ins['class']].append(ins)\n",
    "    else:\n",
    "        cnt +=1\n",
    "#         print('question')\n",
    "#         print(ins['question'])\n",
    "#         print('class')\n",
    "#         print(ins['class'])\n",
    "#         print('answer')\n",
    "#         print(ins['answer'])\n",
    "#         print('=====')\n",
    "print(cnt)"
   ]
  },
  {
   "cell_type": "code",
   "execution_count": 33,
   "id": "ad784fb4",
   "metadata": {},
   "outputs": [
    {
     "name": "stdout",
     "output_type": "stream",
     "text": [
      "after pre-processing\n",
      "5975\n"
     ]
    }
   ],
   "source": [
    "print('after pre-processing')\n",
    "print(len(data) - cnt)"
   ]
  },
  {
   "cell_type": "code",
   "execution_count": 38,
   "id": "d459ce6e",
   "metadata": {},
   "outputs": [
    {
     "name": "stdout",
     "output_type": "stream",
     "text": [
      "도형\n",
      "610\n",
      "산술연산\n",
      "1330\n",
      "수찾기1\n",
      "38\n",
      "수찾기2\n",
      "1980\n",
      "수찾기3\n",
      "1136\n",
      "순서정하기1\n",
      "516\n",
      "순서정하기2\n",
      "120\n",
      "조합하기\n",
      "241\n",
      "크기비교\n",
      "4\n"
     ]
    }
   ],
   "source": [
    "for key in class_map:\n",
    "    print(key)\n",
    "    print(len(class_map[key]))"
   ]
  },
  {
   "cell_type": "markdown",
   "id": "d1c64ec8",
   "metadata": {},
   "source": [
    "### 크기비교 제외"
   ]
  },
  {
   "cell_type": "code",
   "execution_count": 62,
   "id": "d7d90bb4",
   "metadata": {},
   "outputs": [],
   "source": [
    "test = '크기비교'"
   ]
  },
  {
   "cell_type": "code",
   "execution_count": 63,
   "id": "f46bd3d9",
   "metadata": {
    "scrolled": false
   },
   "outputs": [
    {
     "name": "stdout",
     "output_type": "stream",
     "text": [
      "{'answer': '87',\n",
      " 'class': '크기비교',\n",
      " 'equation': '(((180-48+39)/3)+48)-(((180-48+39)/3)-39)',\n",
      " 'option': 'none',\n",
      " 'option_value': 'none',\n",
      " 'question': '삼각형의 세 각 A, B, C 중에서 A은 C보다 48°큽니다. B는 C보다 39° 작을 때, A와 B의 차를 '\n",
      "             '구하시오.',\n",
      " 'unknown': 'none'}\n",
      "{'answer': '2',\n",
      " 'class': '크기비교',\n",
      " 'equation': 'max(1, 2, 3)',\n",
      " 'option': '1, 2, 3',\n",
      " 'option_value': '1=(14/20), 2=(19/25), 3=(18/24)',\n",
      " 'question': '사랑 초등학교에서 6학년을 대상으로 온라인 수업에 찬성하는 학생 수를 조사했습니다. 1반의 전체 학생 수는 '\n",
      "             '20명이고 찬성하는 학생 수는 14명, 2반의 전체 학생 수는 25명이고 찬성하는 학생 수는 19명, 3반의 전체 '\n",
      "             '학생 수는 24명이고 찬성하는 학생 수는 18명입니다. 찬성률이 가장 높은 반은 몇 반인가요?',\n",
      " 'unknown': 'none'}\n",
      "{'answer': '4300',\n",
      " 'class': '크기비교',\n",
      " 'equation': 'max(A, B)',\n",
      " 'option': 'A, B',\n",
      " 'option_value': 'A=(25/1), B=(288/(3*3600))',\n",
      " 'question': 'A 자동차는 1초에 25m를 갑니다. B 자동차는 3시간에 288km를 갑니다. 속력이 더 빠른 자동차의 기호를 '\n",
      "             '찾아 쓰시오.',\n",
      " 'unknown': 'none'}\n",
      "{'answer': '3',\n",
      " 'class': '크기비교',\n",
      " 'equation': 'max(가, 나)',\n",
      " 'option': '가, 나',\n",
      " 'option_value': '가=(5*5)*6, 나=((9*7)*2)+((9*6)*2)+((6*7)*2)',\n",
      " 'question': '직육면체 가는 가로, 세로, 높이 5cm이고 직육면체 나는 가로 9cm, 세로 7cm, 높이 6cm입니다. 직육면체 '\n",
      "             '가와 나 중에서 어느 것의 겉넓이가 넓은가요?',\n",
      " 'unknown': 'none'}\n"
     ]
    }
   ],
   "source": [
    "for ins in class_map[test]:\n",
    "    pprint(ins)"
   ]
  },
  {
   "cell_type": "code",
   "execution_count": 64,
   "id": "120065d8",
   "metadata": {},
   "outputs": [],
   "source": [
    "output_file = '/userhomes/philhoon/kt-ai-challenge/data/public_mwp_data_v2_preprocess.json'"
   ]
  },
  {
   "cell_type": "code",
   "execution_count": 65,
   "id": "3fe6c63c",
   "metadata": {},
   "outputs": [],
   "source": [
    "jsonl_writer = utils.JSONLWriter(output_file)"
   ]
  },
  {
   "cell_type": "code",
   "execution_count": 66,
   "id": "a419acb1",
   "metadata": {
    "scrolled": false
   },
   "outputs": [],
   "source": [
    "data_lst = []\n",
    "for key in class_map:\n",
    "    if key == '크기비교':\n",
    "        continue\n",
    "    for ins in class_map[key]:\n",
    "        data_lst.append(ins)"
   ]
  },
  {
   "cell_type": "code",
   "execution_count": 67,
   "id": "80264672",
   "metadata": {},
   "outputs": [
    {
     "data": {
      "text/plain": [
       "5971"
      ]
     },
     "execution_count": 67,
     "metadata": {},
     "output_type": "execute_result"
    }
   ],
   "source": [
    "len(data_lst)"
   ]
  },
  {
   "cell_type": "code",
   "execution_count": 68,
   "id": "cb575693",
   "metadata": {},
   "outputs": [
    {
     "data": {
      "text/plain": [
       "{'class': '도형',\n",
       " 'question': '꼭짓점이 18개인 각기둥이 있습니다. 이 각기둥의 면과 모서리의 합을 구하세요.',\n",
       " 'answer': '38',\n",
       " 'equation': '((18/2)*3)+((18/2)+2)',\n",
       " 'option': 'none',\n",
       " 'option_value': 'none',\n",
       " 'unknown': 'none'}"
      ]
     },
     "execution_count": 68,
     "metadata": {},
     "output_type": "execute_result"
    }
   ],
   "source": [
    "data_lst[0]"
   ]
  },
  {
   "cell_type": "code",
   "execution_count": 70,
   "id": "87edf3d3",
   "metadata": {},
   "outputs": [],
   "source": [
    "def shuffle_with_seed(data_lst, seed):\n",
    "    random.seed(seed)\n",
    "    random.shuffle(data_lst)"
   ]
  },
  {
   "cell_type": "code",
   "execution_count": 71,
   "id": "0ce4354a",
   "metadata": {},
   "outputs": [],
   "source": [
    "shuffle_with_seed(data_lst, 43)"
   ]
  },
  {
   "cell_type": "code",
   "execution_count": 72,
   "id": "339925f1",
   "metadata": {},
   "outputs": [
    {
     "data": {
      "text/plain": [
       "{'class': '도형',\n",
       " 'question': '500원짜리 동전은 원주가 8.321cm이고 100원짜리 동전은 지름이 2.4cm이며 50원짜리 동전은 반지름이 1.08cm입니다. 원주율이 3.14일 때, 저금통에 동전을 넣을 수 있도록 구멍을 내려면 저금통 구멍의 길이는 적어도 몇 cm여야 합니까?',\n",
       " 'answer': '2.65',\n",
       " 'equation': '(8.321/3.14)',\n",
       " 'option': 'none',\n",
       " 'option_value': 'none',\n",
       " 'unknown': 'none'}"
      ]
     },
     "execution_count": 72,
     "metadata": {},
     "output_type": "execute_result"
    }
   ],
   "source": [
    "data_lst[0]"
   ]
  },
  {
   "cell_type": "code",
   "execution_count": 74,
   "id": "e651e0f9",
   "metadata": {},
   "outputs": [],
   "source": [
    "for ins in data_lst:\n",
    "    jsonl_writer.write_json_line(ins)"
   ]
  },
  {
   "cell_type": "code",
   "execution_count": null,
   "id": "4f9ba044",
   "metadata": {},
   "outputs": [],
   "source": []
  }
 ],
 "metadata": {
  "kernelspec": {
   "display_name": "kt",
   "language": "python",
   "name": "kt"
  },
  "language_info": {
   "codemirror_mode": {
    "name": "ipython",
    "version": 3
   },
   "file_extension": ".py",
   "mimetype": "text/x-python",
   "name": "python",
   "nbconvert_exporter": "python",
   "pygments_lexer": "ipython3",
   "version": "3.8.17"
  }
 },
 "nbformat": 4,
 "nbformat_minor": 5
}
