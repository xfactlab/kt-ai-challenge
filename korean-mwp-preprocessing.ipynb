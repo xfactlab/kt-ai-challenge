{
 "cells": [
  {
   "cell_type": "code",
   "execution_count": 1,
   "id": "7ef4dea4",
   "metadata": {},
   "outputs": [],
   "source": [
    "import json\n",
    "import requests\n",
    "from src import utils\n",
    "import time\n",
    "import os\n",
    "from pprint import pprint\n",
    "import random"
   ]
  },
  {
   "cell_type": "code",
   "execution_count": 2,
   "id": "0ed0e9d5",
   "metadata": {},
   "outputs": [],
   "source": [
    "input_file = '/userhomes/philhoon/kt-ai-challenge/data/public_mwp_data_v2.json'"
   ]
  },
  {
   "cell_type": "code",
   "execution_count": 3,
   "id": "101a74a6",
   "metadata": {},
   "outputs": [],
   "source": [
    "def read_json_file(file_path):\n",
    "    with open(file_path, 'r',) as file:\n",
    "        data = json.load(file)\n",
    "\n",
    "    return data"
   ]
  },
  {
   "cell_type": "code",
   "execution_count": 4,
   "id": "7400803d",
   "metadata": {},
   "outputs": [],
   "source": [
    "data = utils.read_json_file(input_file)"
   ]
  },
  {
   "cell_type": "code",
   "execution_count": 5,
   "id": "8961bb2d",
   "metadata": {},
   "outputs": [
    {
     "data": {
      "text/plain": [
       "9058"
      ]
     },
     "execution_count": 5,
     "metadata": {},
     "output_type": "execute_result"
    }
   ],
   "source": [
    "len(data)"
   ]
  },
  {
   "cell_type": "code",
   "execution_count": 6,
   "id": "82e77293",
   "metadata": {},
   "outputs": [],
   "source": [
    "# class_type = set()"
   ]
  },
  {
   "cell_type": "code",
   "execution_count": 7,
   "id": "6aa927ac",
   "metadata": {
    "scrolled": false
   },
   "outputs": [],
   "source": [
    "# for idx, ins in data.items():\n",
    "# #     print(idx)\n",
    "# #     pprint(ins)\n",
    "#     class_type.add(ins['class'])"
   ]
  },
  {
   "cell_type": "code",
   "execution_count": 8,
   "id": "bb1ff163",
   "metadata": {},
   "outputs": [],
   "source": [
    "# class_type"
   ]
  },
  {
   "cell_type": "code",
   "execution_count": 9,
   "id": "32217e6a",
   "metadata": {},
   "outputs": [],
   "source": [
    "class_map = {\n",
    "    '도형' : [],\n",
    "    '산술연산' : [],\n",
    "    '수찾기1' : [],\n",
    "    '수찾기2' : [],\n",
    "    '수찾기3' : [],\n",
    "    '순서정하기1' : [],\n",
    "    '순서정하기2' : [],\n",
    "    '조합하기' : [],\n",
    "    '크기비교' : []\n",
    "}"
   ]
  },
  {
   "cell_type": "code",
   "execution_count": 10,
   "id": "d262e239",
   "metadata": {},
   "outputs": [],
   "source": [
    "def is_number(value):\n",
    "    try:\n",
    "        float(value)\n",
    "        return True\n",
    "    except ValueError:\n",
    "        return False\n"
   ]
  },
  {
   "cell_type": "code",
   "execution_count": 11,
   "id": "24e8eda2",
   "metadata": {},
   "outputs": [],
   "source": [
    "# 'class', 'question', 'answer', 'equation', 'option', 'option_value', 'unknown']"
   ]
  },
  {
   "cell_type": "code",
   "execution_count": 12,
   "id": "e34d492e",
   "metadata": {},
   "outputs": [
    {
     "data": {
      "text/plain": [
       "9058"
      ]
     },
     "execution_count": 12,
     "metadata": {},
     "output_type": "execute_result"
    }
   ],
   "source": [
    "len(data)"
   ]
  },
  {
   "cell_type": "code",
   "execution_count": 13,
   "id": "452f1c1c",
   "metadata": {},
   "outputs": [],
   "source": [
    "### Only numeric answer \n",
    "### XX/YY fractions are excluded"
   ]
  },
  {
   "cell_type": "code",
   "execution_count": 14,
   "id": "a7567458",
   "metadata": {
    "scrolled": false
   },
   "outputs": [
    {
     "name": "stdout",
     "output_type": "stream",
     "text": [
      "3083\n"
     ]
    }
   ],
   "source": [
    "# extract only number answer\n",
    "cnt = 0\n",
    "for idx, ins in data.items():\n",
    "    if is_number(ins['answer']):\n",
    "        class_map[ins['class']].append(ins)\n",
    "    else:\n",
    "        cnt +=1\n",
    "#         print('question')\n",
    "#         print(ins['question'])\n",
    "#         print('class')\n",
    "#         print(ins['class'])\n",
    "#         print('answer')\n",
    "#         print(ins['answer'])\n",
    "#         print('=====')\n",
    "print(cnt)"
   ]
  },
  {
   "cell_type": "code",
   "execution_count": 15,
   "id": "1320c7ea",
   "metadata": {},
   "outputs": [
    {
     "name": "stdout",
     "output_type": "stream",
     "text": [
      "after pre-processing\n",
      "5975\n"
     ]
    }
   ],
   "source": [
    "print('after pre-processing')\n",
    "print(len(data) - cnt)"
   ]
  },
  {
   "cell_type": "code",
   "execution_count": 16,
   "id": "a7311562",
   "metadata": {},
   "outputs": [
    {
     "name": "stdout",
     "output_type": "stream",
     "text": [
      "도형\n",
      "610\n",
      "산술연산\n",
      "1330\n",
      "수찾기1\n",
      "38\n",
      "수찾기2\n",
      "1980\n",
      "수찾기3\n",
      "1136\n",
      "순서정하기1\n",
      "516\n",
      "순서정하기2\n",
      "120\n",
      "조합하기\n",
      "241\n",
      "크기비교\n",
      "4\n"
     ]
    }
   ],
   "source": [
    "for key in class_map:\n",
    "    print(key)\n",
    "    print(len(class_map[key]))"
   ]
  },
  {
   "cell_type": "markdown",
   "id": "13c4bbef",
   "metadata": {},
   "source": [
    "### 크기비교 제외"
   ]
  },
  {
   "cell_type": "code",
   "execution_count": null,
   "id": "008cdc1e",
   "metadata": {},
   "outputs": [],
   "source": []
  },
  {
   "cell_type": "code",
   "execution_count": 35,
   "id": "ea481795",
   "metadata": {},
   "outputs": [],
   "source": [
    "# 크기비교 -> 오류\n",
    "# 수찾기2, 조합하기 -> Conventional 한 수학문제가 아님\n",
    "# \n",
    "test = set(['크기비교','수찾기2','조합하기'])"
   ]
  },
  {
   "cell_type": "code",
   "execution_count": 36,
   "id": "aed601ee",
   "metadata": {
    "scrolled": false
   },
   "outputs": [],
   "source": [
    "# for ins in class_map['조합하기']:\n",
    "#     pprint(ins)"
   ]
  },
  {
   "cell_type": "code",
   "execution_count": 38,
   "id": "50354c78",
   "metadata": {},
   "outputs": [],
   "source": [
    "output_file = '/userhomes/philhoon/kt-ai-challenge/data/public_mwp_data_v2_preprocess.jsonl'"
   ]
  },
  {
   "cell_type": "code",
   "execution_count": 39,
   "id": "dcc32670",
   "metadata": {},
   "outputs": [],
   "source": [
    "jsonl_writer = utils.JSONLWriter(output_file)"
   ]
  },
  {
   "cell_type": "code",
   "execution_count": 42,
   "id": "c56ffafe",
   "metadata": {
    "scrolled": false
   },
   "outputs": [],
   "source": [
    "data_lst = []\n",
    "for key in class_map:\n",
    "    if key in test:\n",
    "        continue\n",
    "    for ins in class_map[key]:\n",
    "        data_lst.append(ins)"
   ]
  },
  {
   "cell_type": "code",
   "execution_count": 43,
   "id": "9be01d2d",
   "metadata": {},
   "outputs": [
    {
     "data": {
      "text/plain": [
       "3750"
      ]
     },
     "execution_count": 43,
     "metadata": {},
     "output_type": "execute_result"
    }
   ],
   "source": [
    "len(data_lst)"
   ]
  },
  {
   "cell_type": "code",
   "execution_count": 44,
   "id": "9becb689",
   "metadata": {},
   "outputs": [
    {
     "data": {
      "text/plain": [
       "{'class': '도형',\n",
       " 'question': '꼭짓점이 18개인 각기둥이 있습니다. 이 각기둥의 면과 모서리의 합을 구하세요.',\n",
       " 'answer': '38',\n",
       " 'equation': '((18/2)*3)+((18/2)+2)',\n",
       " 'option': 'none',\n",
       " 'option_value': 'none',\n",
       " 'unknown': 'none'}"
      ]
     },
     "execution_count": 44,
     "metadata": {},
     "output_type": "execute_result"
    }
   ],
   "source": [
    "data_lst[0]"
   ]
  },
  {
   "cell_type": "code",
   "execution_count": 45,
   "id": "1b7bf0ab",
   "metadata": {},
   "outputs": [],
   "source": [
    "def shuffle_with_seed(data_lst, seed):\n",
    "    random.seed(seed)\n",
    "    random.shuffle(data_lst)"
   ]
  },
  {
   "cell_type": "code",
   "execution_count": 46,
   "id": "66b5d474",
   "metadata": {},
   "outputs": [],
   "source": [
    "shuffle_with_seed(data_lst, 43)"
   ]
  },
  {
   "cell_type": "code",
   "execution_count": 47,
   "id": "7725f9d3",
   "metadata": {},
   "outputs": [
    {
     "data": {
      "text/plain": [
       "{'class': '순서정하기1',\n",
       " 'question': '지영이네 반 친구들이 키가 작은 순서대로 줄을 서있습니다. 지영이는 앞에서부터 6번째에 줄을 섰으며, 지영이네 반은 모두 18명입니다. 키가 큰 사람부터 다시 줄을 세운다면, 지영이는 앞에서부터 몇 번째로 줄을 서게 될까요?',\n",
       " 'answer': '13',\n",
       " 'equation': '18-6+1',\n",
       " 'option': 'none',\n",
       " 'option_value': 'none',\n",
       " 'unknown': 'none'}"
      ]
     },
     "execution_count": 47,
     "metadata": {},
     "output_type": "execute_result"
    }
   ],
   "source": [
    "data_lst[0]"
   ]
  },
  {
   "cell_type": "code",
   "execution_count": 48,
   "id": "b629ebe9",
   "metadata": {},
   "outputs": [],
   "source": [
    "for ins in data_lst:\n",
    "    jsonl_writer.write_json_line(ins)"
   ]
  },
  {
   "cell_type": "code",
   "execution_count": null,
   "id": "75f0597d",
   "metadata": {},
   "outputs": [],
   "source": []
  }
 ],
 "metadata": {
  "kernelspec": {
   "display_name": "kt",
   "language": "python",
   "name": "kt"
  },
  "language_info": {
   "codemirror_mode": {
    "name": "ipython",
    "version": 3
   },
   "file_extension": ".py",
   "mimetype": "text/x-python",
   "name": "python",
   "nbconvert_exporter": "python",
   "pygments_lexer": "ipython3",
   "version": "3.8.17"
  }
 },
 "nbformat": 4,
 "nbformat_minor": 5
}
