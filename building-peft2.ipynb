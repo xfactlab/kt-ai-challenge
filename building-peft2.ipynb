{
 "cells": [
  {
   "cell_type": "markdown",
   "id": "a6d2dd4d",
   "metadata": {},
   "source": [
    "### Format\n",
    "\n",
    "    Input\n",
    "    \"\"\"\n",
    "    질문: <question>\n",
    "    풀이: <reasoning>\n",
    "    정답: <answer>\n",
    "\n",
    "    질문: <question>\n",
    "    풀이: \n",
    "    \"\"\"\n",
    "\n",
    "    \"\"\"\n",
    "    <reasoning>\n",
    "    정답 : <answer>\n",
    "    \"\"\""
   ]
  },
  {
   "cell_type": "code",
   "execution_count": 1,
   "id": "de0d3743",
   "metadata": {},
   "outputs": [],
   "source": [
    "import json\n",
    "import requests\n",
    "from src import utils\n",
    "import time\n",
    "import os\n",
    "import csv\n",
    "import re"
   ]
  },
  {
   "cell_type": "markdown",
   "id": "d863b514",
   "metadata": {},
   "source": [
    "### Making Training set"
   ]
  },
  {
   "cell_type": "code",
   "execution_count": 2,
   "id": "c51fe990",
   "metadata": {},
   "outputs": [],
   "source": [
    "# input_file = '/userhomes/philhoon/kt-ai-challenge/data/openai-gpt-3.5-turbo-0301-2048-0.0-KOR-gsm8k-test.jsonl'\n",
    "input_file = '/userhomes/philhoon/kt-ai-challenge/data/openai-gpt-3.5-turbo-0301-2048-0.0-KOR-gsm8k-train.jsonl'"
   ]
  },
  {
   "cell_type": "code",
   "execution_count": 3,
   "id": "90d1cca3",
   "metadata": {},
   "outputs": [],
   "source": [
    "data = utils.read_jsonlines(input_file)"
   ]
  },
  {
   "cell_type": "code",
   "execution_count": 4,
   "id": "0d312a2f",
   "metadata": {},
   "outputs": [
    {
     "data": {
      "text/plain": [
       "7473"
      ]
     },
     "execution_count": 4,
     "metadata": {},
     "output_type": "execute_result"
    }
   ],
   "source": [
    "len(data)"
   ]
  },
  {
   "cell_type": "code",
   "execution_count": 5,
   "id": "e7d1f198",
   "metadata": {},
   "outputs": [],
   "source": [
    "PROMPT1 = \"질문: 나탈리아는 4월에 친구 48명에게 클립을 팔았고, 그리고 5월에는 그 절반만큼을 팔았습니다. 나탈리아는 4월과 5월에 모두 몇 개의 클립을 팔았을까요? \\\n",
    "풀이: 나탈리아는 5월에 48/2 = 24개의 클립을 판매했습니다. 나탈리아는 4월과 5월에 모두 48+24 = 72개의 클립을 판매했습니다. \\\n",
    "정답: 72 \\\\n\"\n"
   ]
  },
  {
   "cell_type": "code",
   "execution_count": 6,
   "id": "6a3ff058",
   "metadata": {},
   "outputs": [],
   "source": [
    "def get_gsm8k_zs(que):\n",
    "    prompt = f'질문 : {que} \\n정답 : '\n",
    "    return prompt"
   ]
  },
  {
   "cell_type": "code",
   "execution_count": 7,
   "id": "06afe0f0",
   "metadata": {},
   "outputs": [],
   "source": [
    "def get_gsm8k_build_data_with_reason(kor_que, kor_ans, ans_s):\n",
    "    prompt = f\"질문: {kor_que}\"\n",
    "    output = f\"풀이: {kor_ans} 정답: {ans_s}\"\n",
    "    return prompt, output"
   ]
  },
  {
   "cell_type": "code",
   "execution_count": 8,
   "id": "8fc14fc4",
   "metadata": {},
   "outputs": [],
   "source": [
    "def get_gsm8k_build_data_with_one_shot_cot_finetuning(kor_que, kor_ans, ans_s, PROMPT1):\n",
    "    PROMPT1 \n",
    "    prompt = f\"질문: {kor_que} 풀이: \"\n",
    "    output = f\"{kor_ans} 정답: {ans_s}\"\n",
    "    \n",
    "    prompt = PROMPT1 + prompt\n",
    "    return prompt, output"
   ]
  },
  {
   "cell_type": "code",
   "execution_count": 9,
   "id": "14cbc2bf",
   "metadata": {},
   "outputs": [],
   "source": [
    "def get_body(prompt, body_temp):\n",
    "    body_temp[\"utterance\"] = prompt\n",
    "    return json.dumps(body_temp)"
   ]
  },
  {
   "cell_type": "code",
   "execution_count": 10,
   "id": "f87574fc",
   "metadata": {},
   "outputs": [],
   "source": [
    "# from pprint import pprint"
   ]
  },
  {
   "cell_type": "code",
   "execution_count": 11,
   "id": "122da20d",
   "metadata": {},
   "outputs": [],
   "source": [
    "def remove_line_slit(context):\n",
    "    context = re.sub(r\"\\n\", \" \", context)\n",
    "    return context"
   ]
  },
  {
   "cell_type": "markdown",
   "id": "b923ab0c",
   "metadata": {},
   "source": [
    "### GSM8K-TEST\n",
    "    26 out of 1319 : contains the answer in the question due to translation\n",
    "### GSM8K-TRAIN\n",
    "    163 out of 7473 : contains the answer in the question due to translation"
   ]
  },
  {
   "cell_type": "code",
   "execution_count": 12,
   "id": "16dc168a",
   "metadata": {
    "scrolled": false
   },
   "outputs": [],
   "source": [
    "# cnt = 0\n",
    "split_cnt = 0\n",
    "input_lst = []\n",
    "output_lst = []\n",
    "\n",
    "for ins in data:\n",
    "    \n",
    "    \n",
    "    kor_que = ins['kor_question']\n",
    "    kor_ans = ins['kor_answer']\n",
    "    ans_s = ins['answer_s']\n",
    "    \n",
    "    # checking whether there is an answer \n",
    "    test = kor_que.split('\\n')\n",
    "    \n",
    "    if len(test[0]) != len(kor_que):\n",
    "        split_cnt += 1\n",
    "        continue\n",
    "    \n",
    "#     print(f'kor_que')\n",
    "#     print(f'{kor_que}')\n",
    "#     print(f'kor_ans')\n",
    "#     print(f'{kor_ans}')\n",
    "#     print(f'ans_s')\n",
    "#     print(f'{ans_s}')\n",
    "    \n",
    "    kor_ans = ins['kor_answer']\n",
    "    in_, out_ = get_gsm8k_build_data_with_one_shot_cot_finetuning(kor_que, kor_ans, ans_s, PROMPT1)\n",
    "    \n",
    "    \n",
    "    input_lst.append(remove_line_slit(in_))\n",
    "    output_lst.append(remove_line_slit(out_))\n",
    "\n",
    "#     if cnt == 5:\n",
    "#         break\n",
    "#     else:\n",
    "#         cnt += 1"
   ]
  },
  {
   "cell_type": "code",
   "execution_count": 13,
   "id": "2b4bd594",
   "metadata": {},
   "outputs": [
    {
     "data": {
      "text/plain": [
       "7310"
      ]
     },
     "execution_count": 13,
     "metadata": {},
     "output_type": "execute_result"
    }
   ],
   "source": [
    "len(data) - split_cnt"
   ]
  },
  {
   "cell_type": "code",
   "execution_count": 14,
   "id": "d942c2fb",
   "metadata": {},
   "outputs": [
    {
     "data": {
      "text/plain": [
       "7310"
      ]
     },
     "execution_count": 14,
     "metadata": {},
     "output_type": "execute_result"
    }
   ],
   "source": [
    "len(input_lst)"
   ]
  },
  {
   "cell_type": "code",
   "execution_count": 15,
   "id": "22777d6d",
   "metadata": {},
   "outputs": [
    {
     "data": {
      "text/plain": [
       "7310"
      ]
     },
     "execution_count": 15,
     "metadata": {},
     "output_type": "execute_result"
    }
   ],
   "source": [
    "len(output_lst)"
   ]
  },
  {
   "cell_type": "code",
   "execution_count": 20,
   "id": "a4b5be95",
   "metadata": {},
   "outputs": [
    {
     "data": {
      "text/plain": [
       "'질문: 나탈리아는 4월에 친구 48명에게 클립을 팔았고, 그리고 5월에는 그 절반만큼을 팔았습니다. 나탈리아는 4월과 5월에 모두 몇 개의 클립을 팔았을까요? 풀이: 나탈리아는 5월에 48/2 = 24개의 클립을 판매했습니다. 나탈리아는 4월과 5월에 모두 48+24 = 72개의 클립을 판매했습니다. 정답: 72 \\\\n질문: 항아리 안에 몇 개의 젤리빈이 있습니다. 젤리빈의 3/4은 빨간색이며, 빨간색 젤리빈의 1/4은 코코넛 맛입니다. 코코넛 맛 젤리빈이 750개이면, 항아리 안에는 몇 개의 젤리빈이 있나요? 풀이: '"
      ]
     },
     "execution_count": 20,
     "metadata": {},
     "output_type": "execute_result"
    }
   ],
   "source": [
    "input_lst[115]"
   ]
  },
  {
   "cell_type": "code",
   "execution_count": 22,
   "id": "fb6a4eef",
   "metadata": {},
   "outputs": [
    {
     "data": {
      "text/plain": [
       "'젤리콩이 750*4=3000개가 있습니다. 그리고 병 안에는 3000/3*4=4000개의 젤리콩이 있습니다. 정답: 4000'"
      ]
     },
     "execution_count": 22,
     "metadata": {},
     "output_type": "execute_result"
    }
   ],
   "source": [
    "output_lst[115]"
   ]
  },
  {
   "cell_type": "code",
   "execution_count": null,
   "id": "a55b80bb",
   "metadata": {},
   "outputs": [],
   "source": [
    "def save_csv_file(file_path, sentence_a_list, sentence_b_list):\n",
    "    with open(file_path, 'w', newline='', encoding='utf-8') as csv_file:\n",
    "        writer = csv.writer(csv_file)\n",
    "        for sentence_a, sentence_b in zip(sentence_a_list, sentence_b_list):\n",
    "            writer.writerow([sentence_a, sentence_b])"
   ]
  },
  {
   "cell_type": "code",
   "execution_count": null,
   "id": "7e71d4f2",
   "metadata": {},
   "outputs": [],
   "source": [
    "output_path = '/userhomes/philhoon/kt-ai-challenge/result'"
   ]
  },
  {
   "cell_type": "code",
   "execution_count": null,
   "id": "83b04f11",
   "metadata": {},
   "outputs": [],
   "source": [
    "output_file = output_path + '/kor-gsm8k-one_shot_cot_finetuning-train.csv'"
   ]
  },
  {
   "cell_type": "code",
   "execution_count": null,
   "id": "339b6d5b",
   "metadata": {},
   "outputs": [],
   "source": [
    "output_file"
   ]
  },
  {
   "cell_type": "code",
   "execution_count": null,
   "id": "f20d1402",
   "metadata": {},
   "outputs": [],
   "source": [
    "save_csv_file(output_file, input_lst, output_lst)"
   ]
  },
  {
   "cell_type": "code",
   "execution_count": null,
   "id": "b8d7a499",
   "metadata": {},
   "outputs": [],
   "source": [
    "input_lst[1]"
   ]
  },
  {
   "cell_type": "code",
   "execution_count": null,
   "id": "705bf356",
   "metadata": {},
   "outputs": [],
   "source": [
    "output_lst[1]"
   ]
  },
  {
   "cell_type": "markdown",
   "id": "f7b45dec",
   "metadata": {},
   "source": [
    "### Making Test Set"
   ]
  },
  {
   "cell_type": "code",
   "execution_count": null,
   "id": "0411063c",
   "metadata": {},
   "outputs": [],
   "source": [
    "input_file = '/userhomes/philhoon/kt-ai-challenge/data/openai-gpt-3.5-turbo-0301-2048-0.0-KOR-gsm8k-test.jsonl'"
   ]
  },
  {
   "cell_type": "code",
   "execution_count": null,
   "id": "00657779",
   "metadata": {},
   "outputs": [],
   "source": [
    "data = utils.read_jsonlines(input_file)"
   ]
  },
  {
   "cell_type": "code",
   "execution_count": null,
   "id": "da524449",
   "metadata": {},
   "outputs": [],
   "source": [
    "len(data)"
   ]
  },
  {
   "cell_type": "code",
   "execution_count": null,
   "id": "27ae3812",
   "metadata": {},
   "outputs": [],
   "source": [
    "output_path = '/userhomes/philhoon/kt-ai-challenge/result'"
   ]
  },
  {
   "cell_type": "code",
   "execution_count": null,
   "id": "90a9a034",
   "metadata": {},
   "outputs": [],
   "source": [
    "output_file = output_path + '/kor-gsm8k-one_shot_cot_finetuning-test.jsonl'"
   ]
  },
  {
   "cell_type": "code",
   "execution_count": null,
   "id": "ef37034a",
   "metadata": {},
   "outputs": [],
   "source": [
    "print(output_file)"
   ]
  },
  {
   "cell_type": "code",
   "execution_count": null,
   "id": "5c04d798",
   "metadata": {},
   "outputs": [],
   "source": [
    "jsonl_writer = utils.JSONLWriter(output_file)"
   ]
  },
  {
   "cell_type": "code",
   "execution_count": null,
   "id": "617a5cd2",
   "metadata": {},
   "outputs": [],
   "source": [
    "len(data)"
   ]
  },
  {
   "cell_type": "code",
   "execution_count": null,
   "id": "31e90953",
   "metadata": {},
   "outputs": [],
   "source": [
    "# cnt = 0\n",
    "split_cnt = 0\n",
    "input_lst = []\n",
    "output_lst = []\n",
    "\n",
    "for ins in data:\n",
    "    \n",
    "    \n",
    "    kor_que = ins['kor_question']\n",
    "    kor_ans = ins['kor_answer']\n",
    "    ans_s = ins['answer_s']\n",
    "    \n",
    "    # checking whether there is an answer \n",
    "    test = kor_que.split('\\n')\n",
    "    \n",
    "    if len(test[0]) != len(kor_que):\n",
    "        split_cnt += 1\n",
    "        continue\n",
    "    \n",
    "    kor_ans = ins['kor_answer']\n",
    "    in_, out_ = get_gsm8k_build_data_with_one_shot_cot_finetuning(kor_que, kor_ans, ans_s, PROMPT1)\n",
    "    print('in_')\n",
    "    print(f'{in_}')\n",
    "    print('out_')\n",
    "    print(f'{out_}')\n",
    "    \n",
    "    ins['kor_question_reason'] = in_\n",
    "    ins['kor_question_reason_answer'] = out_\n",
    "\n",
    "    jsonl_writer.write_json_line(ins)"
   ]
  },
  {
   "cell_type": "code",
   "execution_count": null,
   "id": "8d0a1687",
   "metadata": {},
   "outputs": [],
   "source": [
    "len(data) - split_cnt"
   ]
  },
  {
   "cell_type": "code",
   "execution_count": null,
   "id": "ae78a599",
   "metadata": {},
   "outputs": [],
   "source": [
    "split_cnt"
   ]
  },
  {
   "cell_type": "code",
   "execution_count": null,
   "id": "62099bce",
   "metadata": {},
   "outputs": [],
   "source": []
  }
 ],
 "metadata": {
  "kernelspec": {
   "display_name": "Python 3 (ipykernel)",
   "language": "python",
   "name": "python3"
  },
  "language_info": {
   "codemirror_mode": {
    "name": "ipython",
    "version": 3
   },
   "file_extension": ".py",
   "mimetype": "text/x-python",
   "name": "python",
   "nbconvert_exporter": "python",
   "pygments_lexer": "ipython3",
   "version": "3.8.17"
  }
 },
 "nbformat": 4,
 "nbformat_minor": 5
}
