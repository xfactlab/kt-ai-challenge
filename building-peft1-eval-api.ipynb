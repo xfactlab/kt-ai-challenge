{
 "cells": [
  {
   "cell_type": "markdown",
   "id": "cd133517",
   "metadata": {},
   "source": [
    "### Format\n",
    "    \n",
    "    Input\n",
    "    \"\"\"\n",
    "    질문 : <question>\n",
    "    \"\"\"\n",
    "    \n",
    "    Output\n",
    "    \"\"\" \n",
    "    풀이 : <reasoning>\n",
    "    정답 : <answer>\n",
    "    "
   ]
  },
  {
   "cell_type": "markdown",
   "id": "63612760",
   "metadata": {},
   "source": [
    "## 각각의 데이터는 같음\n",
    "    - /userhomes/philhoon/kt-ai-challenge/result\n",
    "    # kor-gsm8k-peft1-test.jsonl\n",
    "    # kor-gsm8k-reason-test.jsonl\n",
    "\n",
    "    # kor-gsm8k-peft1-train.csv\n",
    "    # kor-gsm8k-reason-train.csv"
   ]
  },
  {
   "cell_type": "code",
   "execution_count": 4,
   "id": "de0d3743",
   "metadata": {},
   "outputs": [],
   "source": [
    "import json\n",
    "import requests\n",
    "from src import utils\n",
    "import time\n",
    "import os\n",
    "import csv\n",
    "import re"
   ]
  },
  {
   "cell_type": "code",
   "execution_count": 15,
   "id": "202a2661",
   "metadata": {},
   "outputs": [],
   "source": [
    "BODY_TEMP = {\n",
    "    \"serviceInstanceId\" : \"ddm3kz9g\", \n",
    "    \"nluType\" : \"009\",\n",
    "    \"apiType\" : \"002\", \n",
    "    \"utterance\" : None\n",
    "}"
   ]
  },
  {
   "cell_type": "code",
   "execution_count": 19,
   "id": "d7796926",
   "metadata": {},
   "outputs": [],
   "source": [
    "class model_api():\n",
    "    def __init__(self, url, headers):\n",
    "        self.url = url\n",
    "        self.headers = headers\n",
    "        \n",
    "    def generate(self, body):\n",
    "        \n",
    "        try:\n",
    "            response = requests.post(self.url, data=body, headers=self.headers, verify=False)\n",
    "        \n",
    "        except:\n",
    "            print(\"retrying due to an error......\")\n",
    "            time.sleep(20)\n",
    "            return self.generate(body)\n",
    "        \n",
    "        return response\n",
    "        \n",
    "        "
   ]
  },
  {
   "cell_type": "code",
   "execution_count": 20,
   "id": "ac26089a",
   "metadata": {},
   "outputs": [],
   "source": [
    "api_path = '/userhomes/philhoon/kt-ai-challenge/api.json'\n",
    "api = utils.read_json_file(api_path)"
   ]
  },
  {
   "cell_type": "code",
   "execution_count": 22,
   "id": "598a350e",
   "metadata": {},
   "outputs": [],
   "source": [
    "model = model_api(api['url'], api['headers'])"
   ]
  },
  {
   "cell_type": "code",
   "execution_count": 21,
   "id": "c51fe990",
   "metadata": {},
   "outputs": [],
   "source": [
    "# input_file = '/userhomes/philhoon/kt-ai-challenge/data/openai-gpt-3.5-turbo-0301-2048-0.0-KOR-gsm8k-test.jsonl'\n",
    "input_file = '/userhomes/philhoon/kt-ai-challenge/result/kor-gsm8k-peft1-test.jsonl'"
   ]
  },
  {
   "cell_type": "code",
   "execution_count": 6,
   "id": "90d1cca3",
   "metadata": {},
   "outputs": [],
   "source": [
    "data = utils.read_jsonlines(input_file)"
   ]
  },
  {
   "cell_type": "code",
   "execution_count": 7,
   "id": "0d312a2f",
   "metadata": {},
   "outputs": [
    {
     "data": {
      "text/plain": [
       "1293"
      ]
     },
     "execution_count": 7,
     "metadata": {},
     "output_type": "execute_result"
    }
   ],
   "source": [
    "len(data)"
   ]
  },
  {
   "cell_type": "code",
   "execution_count": 8,
   "id": "6a3ff058",
   "metadata": {},
   "outputs": [],
   "source": [
    "# def get_gsm8k_zs(que):\n",
    "#     prompt = f'질문 : {que} \\n정답 : '\n",
    "#     return prompt"
   ]
  },
  {
   "cell_type": "code",
   "execution_count": 9,
   "id": "06afe0f0",
   "metadata": {},
   "outputs": [],
   "source": [
    "# def get_gsm8k_build_data_with_reason(kor_que, kor_ans, ans_s):\n",
    "#     prompt = f\"질문: {kor_que}\"\n",
    "#     output = f\"풀이: {kor_ans} 정답: {ans_s}\"\n",
    "#     return prompt, output"
   ]
  },
  {
   "cell_type": "code",
   "execution_count": 10,
   "id": "14cbc2bf",
   "metadata": {},
   "outputs": [],
   "source": [
    "def get_body(prompt, body_temp):\n",
    "    body_temp[\"utterance\"] = prompt\n",
    "    return json.dumps(body_temp)"
   ]
  },
  {
   "cell_type": "code",
   "execution_count": 11,
   "id": "f87574fc",
   "metadata": {},
   "outputs": [],
   "source": [
    "# from pprint import pprint"
   ]
  },
  {
   "cell_type": "code",
   "execution_count": 12,
   "id": "122da20d",
   "metadata": {},
   "outputs": [],
   "source": [
    "def remove_line_slit(context):\n",
    "    context = re.sub(r\"\\n\", \" \", context)\n",
    "    return context"
   ]
  },
  {
   "cell_type": "markdown",
   "id": "b923ab0c",
   "metadata": {},
   "source": [
    "### GSM8K-TEST\n",
    "    26 out of 1319 : contains the answer in the question due to translation\n",
    "### GSM8K-TRAIN\n",
    "    163 out of 7473 : contains the answer in the question due to translation"
   ]
  },
  {
   "cell_type": "code",
   "execution_count": 13,
   "id": "ae60843e",
   "metadata": {},
   "outputs": [],
   "source": [
    "from pprint import pprint"
   ]
  },
  {
   "cell_type": "code",
   "execution_count": 23,
   "id": "16dc168a",
   "metadata": {
    "scrolled": false
   },
   "outputs": [
    {
     "name": "stdout",
     "output_type": "stream",
     "text": [
      "질문: 한 벌의 로브를 만드는 데 파란색 섬유 2 덩이와 그 절반만큼의 흰색 섬유가 필요합니다. 총 몇 덩이의 섬유가 필요한가요?\n",
      "{\"serviceInstanceId\": \"ddm3kz9g\", \"nluType\": \"009\", \"apiType\": \"002\", \"utterance\": \"\\uc9c8\\ubb38: \\ud55c \\ubc8c\\uc758 \\ub85c\\ube0c\\ub97c \\ub9cc\\ub4dc\\ub294 \\ub370 \\ud30c\\ub780\\uc0c9 \\uc12c\\uc720 2 \\ub369\\uc774\\uc640 \\uadf8 \\uc808\\ubc18\\ub9cc\\ud07c\\uc758 \\ud770\\uc0c9 \\uc12c\\uc720\\uac00 \\ud544\\uc694\\ud569\\ub2c8\\ub2e4. \\ucd1d \\uba87 \\ub369\\uc774\\uc758 \\uc12c\\uc720\\uac00 \\ud544\\uc694\\ud55c\\uac00\\uc694?\"}\n"
     ]
    },
    {
     "name": "stderr",
     "output_type": "stream",
     "text": [
      "/userhomes/philhoon/miniconda3/envs/kt/lib/python3.8/site-packages/urllib3/connectionpool.py:1095: InsecureRequestWarning: Unverified HTTPS request is being made to host 'aiapi.genielabs.ai'. Adding certificate verification is strongly advised. See: https://urllib3.readthedocs.io/en/latest/advanced-usage.html#tls-warnings\n",
      "  warnings.warn(\n"
     ]
    },
    {
     "ename": "KeyError",
     "evalue": "'data'",
     "output_type": "error",
     "traceback": [
      "\u001b[0;31m---------------------------------------------------------------------------\u001b[0m",
      "\u001b[0;31mKeyError\u001b[0m                                  Traceback (most recent call last)",
      "Cell \u001b[0;32mIn[23], line 13\u001b[0m\n\u001b[1;32m     11\u001b[0m \u001b[38;5;28mprint\u001b[39m(body)\n\u001b[1;32m     12\u001b[0m response \u001b[38;5;241m=\u001b[39m model\u001b[38;5;241m.\u001b[39mgenerate(body)\n\u001b[0;32m---> 13\u001b[0m res_context \u001b[38;5;241m=\u001b[39m \u001b[43mresponse\u001b[49m\u001b[38;5;241;43m.\u001b[39;49m\u001b[43mjson\u001b[49m\u001b[43m(\u001b[49m\u001b[43m)\u001b[49m\u001b[43m[\u001b[49m\u001b[38;5;124;43m'\u001b[39;49m\u001b[38;5;124;43mdata\u001b[39;49m\u001b[38;5;124;43m'\u001b[39;49m\u001b[43m]\u001b[49m[\u001b[38;5;241m0\u001b[39m][\u001b[38;5;124m'\u001b[39m\u001b[38;5;124mresult\u001b[39m\u001b[38;5;124m'\u001b[39m][\u001b[38;5;241m0\u001b[39m]\n\u001b[1;32m     15\u001b[0m \u001b[38;5;28mprint\u001b[39m(\u001b[38;5;124mf\u001b[39m\u001b[38;5;124m'\u001b[39m\u001b[38;5;124mprompt : \u001b[39m\u001b[38;5;124m'\u001b[39m)\n\u001b[1;32m     16\u001b[0m \u001b[38;5;28mprint\u001b[39m(prompt)\n",
      "\u001b[0;31mKeyError\u001b[0m: 'data'"
     ]
    }
   ],
   "source": [
    "# cnt = 0\n",
    "split_cnt = 0\n",
    "input_lst = []\n",
    "output_lst = []\n",
    "\n",
    "for ins in data:\n",
    "    prompt = ins['kor_question_reason']\n",
    "\n",
    "    print(prompt)\n",
    "    body = get_body(prompt, BODY_TEMP)\n",
    "    print(body)\n",
    "    response = model.generate(body)\n",
    "    res_context = response.json()['data'][0]['result'][0]\n",
    "    \n",
    "    print(f'prompt : ')\n",
    "    print(prompt)\n",
    "    print(f'res_context : ')\n",
    "    print(res_context)\n",
    "    print('----')\n",
    "    \n",
    "    break\n",
    "    # checking whether there is an answer \n",
    "#     test = kor_que.split('\\n')\n",
    "    \n",
    "#     if len(test[0]) != len(kor_que):\n",
    "#         split_cnt += 1\n",
    "#         continue\n",
    "    \n",
    "#     print(f'kor_que')\n",
    "#     print(f'{kor_que}')\n",
    "#     print(f'kor_ans')\n",
    "#     print(f'{kor_ans}')\n",
    "#     print(f'ans_s')\n",
    "#     print(f'{ans_s}')\n",
    "    \n",
    "    kor_ans = ins['kor_answer']\n",
    "    in_, out_ = get_gsm8k_build_data_with_reason(kor_que, kor_ans, ans_s)\n",
    "    \n",
    "    \n",
    "    input_lst.append(remove_line_slit(in_))\n",
    "    output_lst.append(remove_line_slit(out_))\n",
    "\n",
    "#     if cnt == 5:\n",
    "#         break\n",
    "#     else:\n",
    "#         cnt += 1"
   ]
  },
  {
   "cell_type": "code",
   "execution_count": null,
   "id": "2b4bd594",
   "metadata": {},
   "outputs": [],
   "source": [
    "len(data) - split_cnt"
   ]
  },
  {
   "cell_type": "code",
   "execution_count": null,
   "id": "d942c2fb",
   "metadata": {},
   "outputs": [],
   "source": [
    "len(input_lst)"
   ]
  },
  {
   "cell_type": "code",
   "execution_count": null,
   "id": "22777d6d",
   "metadata": {},
   "outputs": [],
   "source": [
    "len(output_lst)"
   ]
  },
  {
   "cell_type": "code",
   "execution_count": null,
   "id": "a55b80bb",
   "metadata": {},
   "outputs": [],
   "source": [
    "def save_csv_file(file_path, sentence_a_list, sentence_b_list):\n",
    "    with open(file_path, 'w', newline='', encoding='utf-8') as csv_file:\n",
    "        writer = csv.writer(csv_file)\n",
    "        for sentence_a, sentence_b in zip(sentence_a_list, sentence_b_list):\n",
    "            writer.writerow([sentence_a, sentence_b])"
   ]
  },
  {
   "cell_type": "code",
   "execution_count": null,
   "id": "7e71d4f2",
   "metadata": {},
   "outputs": [],
   "source": [
    "output_path = '/userhomes/philhoon/kt-ai-challenge/result'"
   ]
  },
  {
   "cell_type": "code",
   "execution_count": null,
   "id": "83b04f11",
   "metadata": {},
   "outputs": [],
   "source": [
    "output_file = output_path + '/kor-gsm8k-reason-train.csv'"
   ]
  },
  {
   "cell_type": "code",
   "execution_count": null,
   "id": "339b6d5b",
   "metadata": {},
   "outputs": [],
   "source": [
    "output_file"
   ]
  },
  {
   "cell_type": "code",
   "execution_count": null,
   "id": "f20d1402",
   "metadata": {},
   "outputs": [],
   "source": [
    "save_csv_file(output_file, input_lst, output_lst)"
   ]
  },
  {
   "cell_type": "code",
   "execution_count": null,
   "id": "b8d7a499",
   "metadata": {},
   "outputs": [],
   "source": [
    "input_lst[1]"
   ]
  },
  {
   "cell_type": "code",
   "execution_count": null,
   "id": "705bf356",
   "metadata": {},
   "outputs": [],
   "source": [
    "output_lst[1]"
   ]
  },
  {
   "cell_type": "markdown",
   "id": "f7b45dec",
   "metadata": {},
   "source": [
    "### Making Test Set"
   ]
  },
  {
   "cell_type": "code",
   "execution_count": null,
   "id": "90a9a034",
   "metadata": {},
   "outputs": [],
   "source": [
    "output_file = output_path + '/kor-gsm8k-reason-test.jsonl'"
   ]
  },
  {
   "cell_type": "code",
   "execution_count": null,
   "id": "ef37034a",
   "metadata": {},
   "outputs": [],
   "source": [
    "print(output_file)"
   ]
  },
  {
   "cell_type": "code",
   "execution_count": null,
   "id": "5c04d798",
   "metadata": {},
   "outputs": [],
   "source": [
    "jsonl_writer = utils.JSONLWriter(output_file)"
   ]
  },
  {
   "cell_type": "code",
   "execution_count": null,
   "id": "617a5cd2",
   "metadata": {},
   "outputs": [],
   "source": [
    "len(data)"
   ]
  },
  {
   "cell_type": "code",
   "execution_count": null,
   "id": "31e90953",
   "metadata": {},
   "outputs": [],
   "source": [
    "# cnt = 0\n",
    "split_cnt = 0\n",
    "input_lst = []\n",
    "output_lst = []\n",
    "\n",
    "for ins in data:\n",
    "    \n",
    "    \n",
    "    kor_que = ins['kor_question']\n",
    "    kor_ans = ins['kor_answer']\n",
    "    ans_s = ins['answer_s']\n",
    "    \n",
    "    # checking whether there is an answer \n",
    "    test = kor_que.split('\\n')\n",
    "    \n",
    "    if len(test[0]) != len(kor_que):\n",
    "        split_cnt += 1\n",
    "        continue\n",
    "    \n",
    "    kor_ans = ins['kor_answer']\n",
    "    in_, out_ = get_gsm8k_build_data_with_reason(kor_que, kor_ans, ans_s)\n",
    "    \n",
    "    ins['kor_question_reason'] = in_\n",
    "    ins['kor_question_reason_answer'] = out_\n",
    "\n",
    "    jsonl_writer.write_json_line(ins)"
   ]
  },
  {
   "cell_type": "code",
   "execution_count": null,
   "id": "8d0a1687",
   "metadata": {},
   "outputs": [],
   "source": [
    "len(data) - split_cnt"
   ]
  },
  {
   "cell_type": "code",
   "execution_count": null,
   "id": "ae78a599",
   "metadata": {},
   "outputs": [],
   "source": [
    "split_cnt"
   ]
  },
  {
   "cell_type": "code",
   "execution_count": null,
   "id": "62099bce",
   "metadata": {},
   "outputs": [],
   "source": []
  }
 ],
 "metadata": {
  "kernelspec": {
   "display_name": "Python 3 (ipykernel)",
   "language": "python",
   "name": "python3"
  },
  "language_info": {
   "codemirror_mode": {
    "name": "ipython",
    "version": 3
   },
   "file_extension": ".py",
   "mimetype": "text/x-python",
   "name": "python",
   "nbconvert_exporter": "python",
   "pygments_lexer": "ipython3",
   "version": "3.8.17"
  }
 },
 "nbformat": 4,
 "nbformat_minor": 5
}
