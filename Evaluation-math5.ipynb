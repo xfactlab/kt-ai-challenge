{
 "cells": [
  {
   "cell_type": "code",
   "execution_count": 1,
   "id": "a7d02a58",
   "metadata": {},
   "outputs": [],
   "source": [
    "import json\n",
    "import requests\n",
    "from src import utils\n",
    "import time\n",
    "import os\n",
    "from pprint import pprint\n",
    "import random"
   ]
  },
  {
   "cell_type": "code",
   "execution_count": null,
   "id": "be9a8ee6",
   "metadata": {},
   "outputs": [],
   "source": [
    "# peft tunning\n",
    "# peft1 = '/userhomes/philhoon/kt-ai-challenge/result/kor-gsm8k-peft1-test.jsonl'\n",
    "# peft2 = '/userhomes/philhoon/kt-ai-challenge/result/kor-gsm8k-peft2-test.jsonl'\n",
    "\n",
    "# ICL\n",
    "zs = '/userhomes/philhoon/kt-ai-challenge/result/zero-shot-public_mwp_data_v2_preprocess'\n",
    "zs_cot = '/userhomes/philhoon/kt-ai-challenge/result/zero-shot-cot-public_mwp_data_v2_preprocess'\n",
    "# one_shot_cot = '/userhomes/philhoon/kt-ai-challenge/result/one-shot-cot-result-ko-gsm8k-test.jsonl'\n"
   ]
  },
  {
   "cell_type": "code",
   "execution_count": 2,
   "id": "524f020c",
   "metadata": {},
   "outputs": [],
   "source": [
    "## Test dataset\n",
    "\n",
    "# GSM8K 8792 (7473/1319)\n",
    "gsm8k = '/userhomes/philhoon/kt-ai-challenge/data/openai-gpt-3.5-turbo-0301-2048-0.0-KOR-gsm8k-test.jsonl'\n",
    "\n",
    "# MWP_KR_DATA 3750\n",
    "mwp_kr = '/userhomes/philhoon/kt-ai-challenge/data/public_mwp_data_v2_reasoning-test.jsonl'\n",
    "\n",
    "# AddSub 395\n",
    "addsub = '/userhomes/philhoon/kt-ai-challenge/eng_data/kor-D_addsub-test.json'\n",
    "\n",
    "# MultiArith 600\n",
    "multiarith = '/userhomes/philhoon/kt-ai-challenge/eng_data/kor-D_multiarith-test.json'\n",
    "\n",
    "# SingleEq 395\n",
    "single_eq = '/userhomes/philhoon/kt-ai-challenge/eng_data/kor-D_single_eq-test.json'"
   ]
  },
  {
   "cell_type": "code",
   "execution_count": 8,
   "id": "eb8f981c",
   "metadata": {},
   "outputs": [],
   "source": [
    "gsm8k_data = utils.read_jsonlines(gsm8k_train)\n",
    "mwp_kr_data = utils.read_jsonlines(mwp_kr)\n",
    "gsm8k_data = utils.read_jsonlines(gsm8k_train)\n",
    "gsm8k_data = utils.read_jsonlines(gsm8k_train)\n",
    "gsm8k_data = utils.read_jsonlines(gsm8k_train)"
   ]
  },
  {
   "cell_type": "code",
   "execution_count": 4,
   "id": "e5fafab5",
   "metadata": {},
   "outputs": [
    {
     "name": "stdout",
     "output_type": "stream",
     "text": [
      "96\n",
      "96\n"
     ]
    }
   ],
   "source": [
    "print(len(gsm8k_train))\n",
    "print(len(mwp_kr))\n",
    "print(len(addsub))\n",
    "print(len(multiarith))\n",
    "print(len(single_eq))"
   ]
  },
  {
   "cell_type": "markdown",
   "id": "460158b1",
   "metadata": {},
   "source": [
    "    Zero-shot\n",
    "        ACC : 3/50\n",
    "    Zero-shot-CoT\n",
    "        ACC : 2/50\n",
    "    One-shot-CoT\n",
    "        ACC : 1/50\n",
    "    PEFT1 (fine-tuning)\n",
    "        ACC : 2/50\n",
    "    PEFT2 (few-shot fine-tunning)\n",
    "        ACC : 3/50"
   ]
  },
  {
   "cell_type": "code",
   "execution_count": null,
   "id": "6289c926",
   "metadata": {},
   "outputs": [],
   "source": [
    "# d_p1 = utils.read_jsonlines(peft1)\n",
    "# d_p2 = utils.read_jsonlines(peft2)\n",
    "\n",
    "d_zs = utils.read_jsonlines(zs)\n",
    "d_zsc = utils.read_jsonlines(zs_cot)\n",
    "# d_osc = utils.read_jsonlines(one_shot_cot)"
   ]
  },
  {
   "cell_type": "code",
   "execution_count": null,
   "id": "93d545ef",
   "metadata": {},
   "outputs": [],
   "source": [
    "# print(len(d_p1))\n",
    "# print(len(d_p2))\n",
    "print(len(d_zs))\n",
    "print(len(d_zsc))\n",
    "# print(len(d_osc))"
   ]
  },
  {
   "cell_type": "code",
   "execution_count": null,
   "id": "dcfe574a",
   "metadata": {},
   "outputs": [],
   "source": [
    "random.seed(42)\n",
    "\n",
    "random_indices = random.sample(range(len(d_zs)), 50)"
   ]
  },
  {
   "cell_type": "code",
   "execution_count": null,
   "id": "3a8bac40",
   "metadata": {},
   "outputs": [],
   "source": [
    "# random_indices"
   ]
  },
  {
   "cell_type": "code",
   "execution_count": null,
   "id": "7ab0211d",
   "metadata": {},
   "outputs": [],
   "source": [
    "d_zs[2619]"
   ]
  },
  {
   "cell_type": "code",
   "execution_count": null,
   "id": "ac51e310",
   "metadata": {},
   "outputs": [],
   "source": [
    "data = d_zs"
   ]
  },
  {
   "cell_type": "code",
   "execution_count": null,
   "id": "1393325f",
   "metadata": {
    "scrolled": false
   },
   "outputs": [],
   "source": [
    "for idx in random_indices:\n",
    "    ins = data[idx]\n",
    "#     pprint(ins)\n",
    "\n",
    "    print(f\"question\\n{ins['question']}\")\n",
    "    print(f\"zs_infer\\n{ins['zs_infer']}\")\n",
    "    print('---------------------------------')\n",
    "    print(f\"answer\\n{ins['answer']}\")\n",
    "    print('=================================')"
   ]
  },
  {
   "cell_type": "code",
   "execution_count": null,
   "id": "d94c7f8d",
   "metadata": {},
   "outputs": [],
   "source": [
    "for ins in d_osc:\n",
    "    print(f\"question : {}\")\n",
    "    break"
   ]
  },
  {
   "cell_type": "code",
   "execution_count": null,
   "id": "13019aaf",
   "metadata": {},
   "outputs": [],
   "source": []
  },
  {
   "cell_type": "code",
   "execution_count": null,
   "id": "b4e25b5b",
   "metadata": {},
   "outputs": [],
   "source": []
  },
  {
   "cell_type": "code",
   "execution_count": null,
   "id": "a8fc723a",
   "metadata": {},
   "outputs": [],
   "source": []
  },
  {
   "cell_type": "code",
   "execution_count": null,
   "id": "78711ed6",
   "metadata": {},
   "outputs": [],
   "source": []
  },
  {
   "cell_type": "code",
   "execution_count": null,
   "id": "4efc418c",
   "metadata": {},
   "outputs": [],
   "source": []
  },
  {
   "cell_type": "code",
   "execution_count": null,
   "id": "79c7bfc1",
   "metadata": {},
   "outputs": [],
   "source": []
  },
  {
   "cell_type": "code",
   "execution_count": null,
   "id": "77432b89",
   "metadata": {},
   "outputs": [],
   "source": []
  },
  {
   "cell_type": "code",
   "execution_count": null,
   "id": "e7e7bba5",
   "metadata": {},
   "outputs": [],
   "source": []
  },
  {
   "cell_type": "code",
   "execution_count": null,
   "id": "38cb6da0",
   "metadata": {},
   "outputs": [],
   "source": []
  },
  {
   "cell_type": "code",
   "execution_count": null,
   "id": "3a7da9c3",
   "metadata": {},
   "outputs": [],
   "source": []
  },
  {
   "cell_type": "code",
   "execution_count": null,
   "id": "f1a4e6e3",
   "metadata": {},
   "outputs": [],
   "source": []
  },
  {
   "cell_type": "code",
   "execution_count": null,
   "id": "3dc55d8a",
   "metadata": {},
   "outputs": [],
   "source": []
  },
  {
   "cell_type": "code",
   "execution_count": null,
   "id": "3410125a",
   "metadata": {},
   "outputs": [],
   "source": []
  },
  {
   "cell_type": "code",
   "execution_count": null,
   "id": "0fa51669",
   "metadata": {},
   "outputs": [],
   "source": []
  },
  {
   "cell_type": "code",
   "execution_count": null,
   "id": "81781b3f",
   "metadata": {},
   "outputs": [],
   "source": []
  },
  {
   "cell_type": "code",
   "execution_count": null,
   "id": "c268c3b4",
   "metadata": {},
   "outputs": [],
   "source": [
    "zs_cot_data = utils.read_jsonlines(zs_cot)\n",
    "zs_data = utils.read_jsonlines(zs)"
   ]
  },
  {
   "cell_type": "code",
   "execution_count": null,
   "id": "c53aeda7",
   "metadata": {},
   "outputs": [],
   "source": [
    "print(len(zs_cot_data))\n",
    "len(zs_cot_data) == len(zs_data)"
   ]
  },
  {
   "cell_type": "code",
   "execution_count": null,
   "id": "df19f06a",
   "metadata": {},
   "outputs": [],
   "source": [
    "from pprint import pprint"
   ]
  },
  {
   "cell_type": "code",
   "execution_count": null,
   "id": "b5fa5b59",
   "metadata": {
    "scrolled": false
   },
   "outputs": [],
   "source": [
    "cnt = 0\n",
    "for ins in zs_data:\n",
    "#     pprint(ins)\n",
    "    print(f\"question :\\n{ins['question']}\")\n",
    "#     print(f\"zs_cot_infer :\\n{ins['zs_cot_infer']}\")\n",
    "    print(f\"zs_infer :\\n{ins['zs_infer']}\")\n",
    "    print(f\"answer :\\n{ins['answer']}\")\n",
    "    print(\"===========================\")\n",
    "    cnt += 1\n",
    "    if cnt == 50:\n",
    "        break"
   ]
  },
  {
   "cell_type": "code",
   "execution_count": null,
   "id": "1ab2950a",
   "metadata": {},
   "outputs": [],
   "source": []
  }
 ],
 "metadata": {
  "kernelspec": {
   "display_name": "kt",
   "language": "python",
   "name": "kt"
  },
  "language_info": {
   "codemirror_mode": {
    "name": "ipython",
    "version": 3
   },
   "file_extension": ".py",
   "mimetype": "text/x-python",
   "name": "python",
   "nbconvert_exporter": "python",
   "pygments_lexer": "ipython3",
   "version": "3.8.17"
  }
 },
 "nbformat": 4,
 "nbformat_minor": 5
}
