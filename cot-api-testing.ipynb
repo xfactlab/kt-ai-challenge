{
 "cells": [
  {
   "cell_type": "code",
   "execution_count": 1,
   "id": "de0d3743",
   "metadata": {},
   "outputs": [],
   "source": [
    "import json\n",
    "import requests\n",
    "from src import utils\n",
    "import time\n",
    "import os"
   ]
  },
  {
   "cell_type": "code",
   "execution_count": 2,
   "id": "1f6e3734",
   "metadata": {},
   "outputs": [],
   "source": [
    "api_path = '/userhomes/philhoon/kt-ai-challenge/api.json'"
   ]
  },
  {
   "cell_type": "code",
   "execution_count": 3,
   "id": "88e90579",
   "metadata": {},
   "outputs": [],
   "source": [
    "api = utils.read_json_file(api_path)"
   ]
  },
  {
   "cell_type": "code",
   "execution_count": 4,
   "id": "c51fe990",
   "metadata": {},
   "outputs": [],
   "source": [
    "input_file = '/userhomes/philhoon/kt-ai-challenge/data/openai-gpt-3.5-turbo-0301-2048-0.0-KOR-gsm8k-test.jsonl'\n",
    "# in_path = '/userhomes/philhoon/kt-ai-challenge/data/openai-gpt-3.5-turbo-0301-2048-0.0-KOR-gsm8k-train.jsonl'"
   ]
  },
  {
   "cell_type": "code",
   "execution_count": 5,
   "id": "70f07d94",
   "metadata": {},
   "outputs": [],
   "source": [
    "output_path = '/userhomes/philhoon/kt-ai-challenge/result'"
   ]
  },
  {
   "cell_type": "code",
   "execution_count": 6,
   "id": "77a8c4e8",
   "metadata": {},
   "outputs": [
    {
     "name": "stdout",
     "output_type": "stream",
     "text": [
      "output_file : /userhomes/philhoon/kt-ai-challenge/result/result-openai-gpt-3.5-turbo-0301-2048-0.0-KOR-gsm8k-test.jsonl\n"
     ]
    }
   ],
   "source": [
    "os.makedirs(output_path, exist_ok=True)\n",
    "output_file_name = 'result-' + input_file.split('/')[-1]\n",
    "output_file = output_path + '/' + output_file_name\n",
    "print(f'output_file : {output_file}')"
   ]
  },
  {
   "cell_type": "code",
   "execution_count": 8,
   "id": "e4f51987",
   "metadata": {},
   "outputs": [
    {
     "name": "stdout",
     "output_type": "stream",
     "text": [
      "output_file : /userhomes/philhoon/kt-ai-challenge/result/test.jsonl\n"
     ]
    }
   ],
   "source": [
    "output_file = output_path + '/' + 'test.jsonl'\n",
    "print(f'output_file : {output_file}')"
   ]
  },
  {
   "cell_type": "code",
   "execution_count": 9,
   "id": "c1dd2680",
   "metadata": {},
   "outputs": [],
   "source": [
    "jsonl_writer = utils.JSONLWriter(output_file)"
   ]
  },
  {
   "cell_type": "code",
   "execution_count": 10,
   "id": "90d1cca3",
   "metadata": {},
   "outputs": [],
   "source": [
    "data = utils.read_jsonlines(input_file)"
   ]
  },
  {
   "cell_type": "code",
   "execution_count": null,
   "id": "697e32c7",
   "metadata": {},
   "outputs": [],
   "source": []
  },
  {
   "cell_type": "code",
   "execution_count": 11,
   "id": "7de092e4",
   "metadata": {},
   "outputs": [],
   "source": [
    "# file_name"
   ]
  },
  {
   "cell_type": "code",
   "execution_count": null,
   "id": "e71f2ef3",
   "metadata": {},
   "outputs": [],
   "source": []
  },
  {
   "cell_type": "code",
   "execution_count": 12,
   "id": "672bd4a3",
   "metadata": {},
   "outputs": [
    {
     "data": {
      "text/plain": [
       "1319"
      ]
     },
     "execution_count": 12,
     "metadata": {},
     "output_type": "execute_result"
    }
   ],
   "source": [
    "len(data)"
   ]
  },
  {
   "cell_type": "code",
   "execution_count": 13,
   "id": "0d312a2f",
   "metadata": {},
   "outputs": [],
   "source": [
    "# api"
   ]
  },
  {
   "cell_type": "code",
   "execution_count": 14,
   "id": "3baf76e7",
   "metadata": {},
   "outputs": [],
   "source": [
    "# url = api['url']"
   ]
  },
  {
   "cell_type": "code",
   "execution_count": 15,
   "id": "23fb58fd",
   "metadata": {},
   "outputs": [],
   "source": [
    "# headers = api['headers']"
   ]
  },
  {
   "cell_type": "code",
   "execution_count": 16,
   "id": "e39dbe5d",
   "metadata": {},
   "outputs": [],
   "source": [
    "# question = \"질문 : 파운드 스털링은 가치가 있나요? 용어설명 :  사실목록 : ['1파운드는 법정 화폐입니다.', '법정 화폐는 정부 법령에 의해 뒷받침되며 내재적 가치가 없습니다', '2020년 5월 기준 1파운드 스털링은 약 1.24달러의 가치가 있습니다.']. 사실목록을 바탕으로 질문에 대한 답변을 사실 또는 거짓으로 대답하세요\"/"
   ]
  },
  {
   "cell_type": "code",
   "execution_count": 17,
   "id": "a648a380",
   "metadata": {},
   "outputs": [],
   "source": [
    "# headers"
   ]
  },
  {
   "cell_type": "code",
   "execution_count": 18,
   "id": "ba526f0c",
   "metadata": {},
   "outputs": [],
   "source": [
    "class model_api():\n",
    "    def __init__(self, url, headers):\n",
    "        self.url = url\n",
    "        self.headers = headers\n",
    "        \n",
    "    def generate(self, body):\n",
    "        \n",
    "        try:\n",
    "            response = requests.post(self.url, data=body, headers=self.headers, verify=False)\n",
    "        \n",
    "        except:\n",
    "            print(\"retrying due to an error......\")\n",
    "            time.sleep(20)\n",
    "            return self.generate(body)\n",
    "        \n",
    "        return response\n",
    "        \n",
    "        "
   ]
  },
  {
   "cell_type": "code",
   "execution_count": 19,
   "id": "62353eab",
   "metadata": {},
   "outputs": [],
   "source": [
    "model = model_api(api['url'], api['headers'])"
   ]
  },
  {
   "cell_type": "code",
   "execution_count": 20,
   "id": "0d917811",
   "metadata": {},
   "outputs": [],
   "source": [
    "BODY_TEMP = {\n",
    "    \"serviceInstanceId\" : \"ddm3kz9g\", \n",
    "    \"nluType\" : \"009\",\n",
    "    \"apiType\" : \"002\", \n",
    "    \"utterance\" : None\n",
    "}"
   ]
  },
  {
   "cell_type": "code",
   "execution_count": 21,
   "id": "e1b92c2b",
   "metadata": {},
   "outputs": [],
   "source": [
    "# body = json.dumps(body_temp)"
   ]
  },
  {
   "cell_type": "code",
   "execution_count": 22,
   "id": "e17f99b4",
   "metadata": {},
   "outputs": [],
   "source": [
    "# print(body)"
   ]
  },
  {
   "cell_type": "code",
   "execution_count": 23,
   "id": "3a1c7748",
   "metadata": {},
   "outputs": [],
   "source": [
    "# response = api.generate(body)"
   ]
  },
  {
   "cell_type": "code",
   "execution_count": 24,
   "id": "f1badbc7",
   "metadata": {},
   "outputs": [],
   "source": [
    "# context = response.json()['data'][0]['result'][0]"
   ]
  },
  {
   "cell_type": "code",
   "execution_count": 25,
   "id": "71e1480a",
   "metadata": {},
   "outputs": [],
   "source": [
    "# print(context)"
   ]
  },
  {
   "cell_type": "code",
   "execution_count": 64,
   "id": "6a3ff058",
   "metadata": {},
   "outputs": [],
   "source": [
    "def get_gsm8k_zs(que):\n",
    "    prompt = f\"질문 : {que} 정답 : 질문를 단계별로 풀어보면 \"\n",
    "    return prompt"
   ]
  },
  {
   "cell_type": "code",
   "execution_count": 65,
   "id": "14cbc2bf",
   "metadata": {},
   "outputs": [],
   "source": [
    "def get_body(prompt, body_temp):\n",
    "    body_temp[\"utterance\"] = prompt\n",
    "    return json.dumps(body_temp)"
   ]
  },
  {
   "cell_type": "code",
   "execution_count": 66,
   "id": "f87574fc",
   "metadata": {},
   "outputs": [],
   "source": [
    "# from pprint import pprint"
   ]
  },
  {
   "cell_type": "markdown",
   "id": "b923ab0c",
   "metadata": {},
   "source": [
    "### GSM8K-TEST\n",
    "    26 out of 1319 : contains the answer in the question due to translation\n",
    "### GSM8K-TRAIN\n",
    "    163 out of 7473 : contains the answer in the question due to translation"
   ]
  },
  {
   "cell_type": "code",
   "execution_count": 67,
   "id": "16dc168a",
   "metadata": {
    "scrolled": false
   },
   "outputs": [
    {
     "name": "stderr",
     "output_type": "stream",
     "text": [
      "/userhomes/philhoon/miniconda3/envs/self-debate/lib/python3.8/site-packages/urllib3/connectionpool.py:1095: InsecureRequestWarning: Unverified HTTPS request is being made to host 'aiapi.genielabs.ai'. Adding certificate verification is strongly advised. See: https://urllib3.readthedocs.io/en/latest/advanced-usage.html#tls-warnings\n",
      "  warnings.warn(\n"
     ]
    },
    {
     "name": "stdout",
     "output_type": "stream",
     "text": [
      "prompt : \n",
      "질문 : 한 벌의 로브를 만드는 데 파란색 섬유 2 덩이와 그 절반만큼의 흰색 섬유가 필요합니다. 총 몇 덩이의 섬유가 필요한가요? 정답 : 질문를 단계별로 풀어보면 \n",
      "res_context : \n",
      "질문: 한 벌의 로브를 만드는 데 파란색 섬유 2 덩이와 그 절반만큼의 흰색 섬유가 필요합니다. 총 몇 덩이의 섬유가 필요한가요? 단계: 1. 섬유의 한 쪽을 파란색 섬유의 나머지 한 쪽으로 잡습니다. 2. 파란색 섬유의 나머지 한 쪽을 흰색 섬유의 나머지 한 쪽으로 잡습니다. 3. 파란색 섬유와 흰색 섬유를 각각 2덩이씩 잡습니다. 4. 총 섬유의 양을 계산합니다. 5. 2 + 3 = 5 6. 5 + 2 = 7 7. 7. 2 = 9 8. 9 = 12 9. 12 = 16 10. 16 = 24 11. 24 = 36 12. 36 = 48 13. 48 = 64 14. 48 = 64 15. 48 = 64 16. 48 = 64 17. 48 = 64 18. 48 = 64 19. 48 = 64 20. 48 = 64 21. 64 = 64 22. 64 = 64 23. 64 = 64 24. 64 = 64 25. 64 = 64 26. 64 = 64 27. 27 = 64 28. 28 = 64 29. 29 = 64 30. 30 = 64 31. 31 = 64 32. 32 = 64 33. 33 = 64 34. 34 = 64 35. 35 = 64 36. 36 = 64 37. 37 = 64 38. 38 = 64 39. 39 = 64 40. 40 = 64 41. 41 = 64 42. 42 = 64 43. 43 = 64 44. 44 = 64 45. 45 = 64 46. 46 = 64 47. 47 = 64 48. 48 = 64 49. 48\n",
      "ans_s : \n",
      "3\n",
      "----\n"
     ]
    },
    {
     "name": "stderr",
     "output_type": "stream",
     "text": [
      "/userhomes/philhoon/miniconda3/envs/self-debate/lib/python3.8/site-packages/urllib3/connectionpool.py:1095: InsecureRequestWarning: Unverified HTTPS request is being made to host 'aiapi.genielabs.ai'. Adding certificate verification is strongly advised. See: https://urllib3.readthedocs.io/en/latest/advanced-usage.html#tls-warnings\n",
      "  warnings.warn(\n"
     ]
    },
    {
     "name": "stdout",
     "output_type": "stream",
     "text": [
      "prompt : \n",
      "질문 : 조쉬는 집을 뒤집어 판매해보기로 결정합니다. 그는 $80,000에 집을 구매하고 $50,000을 수리합니다. 이로 인해 집의 가치가 150% 증가합니다. 그가 얼마의 이익을 얻었습니까? 정답 : 질문를 단계별로 풀어보면 \n",
      "res_context : \n",
      "조쉬는 집을 뒤집어 판매해 보기로 결정합니다. 조쉬는 $80,000에 집을 구매하고 $50,000을 수리합니다. 이로 인해 집의 가치가 150% 증가합니다. 조쉬는 집을 판매함으로써 얼마의 이익을 얻었습니까?\n",
      "ans_s : \n",
      "70000\n",
      "----\n"
     ]
    },
    {
     "name": "stderr",
     "output_type": "stream",
     "text": [
      "/userhomes/philhoon/miniconda3/envs/self-debate/lib/python3.8/site-packages/urllib3/connectionpool.py:1095: InsecureRequestWarning: Unverified HTTPS request is being made to host 'aiapi.genielabs.ai'. Adding certificate verification is strongly advised. See: https://urllib3.readthedocs.io/en/latest/advanced-usage.html#tls-warnings\n",
      "  warnings.warn(\n"
     ]
    },
    {
     "name": "stdout",
     "output_type": "stream",
     "text": [
      "prompt : \n",
      "질문 : 제임스는 매주 3번씩 3번의 짧은 달리기를 결심합니다. 그는 각각 60미터를 달립니다. 그가 일주일에 총 몇 미터를 달릴까요? 정답 : 질문를 단계별로 풀어보면 \n",
      "res_context : \n",
      "1단계: 제임스는 매주 3번씩 3번의 짧은 달리기를 결심합니다. 2단계: 제임스는 각각 60미터를 달립니다. 3단계: 제임스는 일주일에 총 600미터를 달립니다. 단계 1: 제임스는 매주 3번씩 3번의 짧은 달리기를 결심합니다. 2단계: 제임스는 각각 60미터를 달립니다. 3단계: 제임스는 일주일에 총 600미터를 달립니다. 이 질문을 단계별로 풀어보면 다음과 같습니다: 1단계: 제임스는 매주 3번씩 3번의 짧은 달리기를 결심합니다. 2단계: 제임스는 각각 60미터를 달립니다. 3단계: 제임스는 일주일에 총 600미터를 달립니다. 이 질문을 단계별로 풀어보면 다음과 같습니다: 1단계: 제임스는 매주 3번씩 3번의 짧은 달리기를 결심합니다. 2단계: 제임스는 각각 60미터를 달립니다. 3단계: 제임스는 일주일에 총 600미터를 달립니다. 이 질문을 단계별로 풀어보면 다음과 같습니다: 1단계: 제임스는 매주 3번씩 3번의 짧은 달리기를 결심합니다. 2단계: 제임스는 각각 60미터를 달립니다. 3단계: 제임스는 일주일에 총 600미터를 달립니다. 이 질문을 단계별로 풀어보면 다음과 같습니다: 1단계: 제임스는 매주 3번씩 3번의 짧은 달리기를 결심합니다. 2단계: 제임스는 각각 60미터를 달립니다. 3단계: 제임스는 일주일에 총 600미터를 달립니다. 이 질문을 단계별로 풀어보면 다음과 같습니다: 1단계: 제임스는 매주 3번씩 3번의 짧은 달리기를 결심합니다. 2단계: 제임스는 매주 3번씩 3번의 짧은 달리기를 결심합니다. 3단계: 제임스는 각각 60미터를 달립니다. 4단계: 제임스는 일주일에 총 600미터를 달\n",
      "ans_s : \n",
      "540\n",
      "----\n"
     ]
    },
    {
     "name": "stderr",
     "output_type": "stream",
     "text": [
      "/userhomes/philhoon/miniconda3/envs/self-debate/lib/python3.8/site-packages/urllib3/connectionpool.py:1095: InsecureRequestWarning: Unverified HTTPS request is being made to host 'aiapi.genielabs.ai'. Adding certificate verification is strongly advised. See: https://urllib3.readthedocs.io/en/latest/advanced-usage.html#tls-warnings\n",
      "  warnings.warn(\n"
     ]
    },
    {
     "name": "stdout",
     "output_type": "stream",
     "text": [
      "prompt : \n",
      "질문 : 매일, 웬디는 각 닭에게 씨앗, 멸치, 채소가 섞인 닭 사료 3컵씩을 주어 건강하게 유지합니다. 그녀는 닭에게 3번의 식사로 사료를 제공합니다. 아침에는 15컵의 사료를 주고, 오후에는 25컵의 사료를 또 다시 주며, 만약 웬디의 닭 떼가 20마리라면, 하루의 마지막 식사에서 닭에게 몇 컵의 사료를 주어야 할까요? 정답 : 질문를 단계별로 풀어보면 \n",
      "res_context : \n",
      "1. 웬디가 닭 사료를 주는 시간을 계산합니다. 2. 닭이 한 번에 3마리 이상이므로, 한 마리당 3 \\* 3 = <<3*3=15>>15마리의 닭이 필요합니다. 3. 웬디가 하루에 제공하는 닭 사료의 양을 계산합니다. 4. 하루에 제공하는 닭 사료의 양이 3 \\* 3 = <<3*3=30>>30컵입니다. 5. 웬디의 닭 떼가 20마리이므로, 한 마리당 3 \\* 20 = <<20*3=60>>60마리의 닭이 필요합니다. 6. 60마리의 닭이 매일 3번의 식사를 한다고 가정합니다. 7. 3번의 식사를 하는 동안 웬디는 3 \\* 3 = <<3*3=15>>15컵의 사료를 닭에게 제공합니다. 8. 웬디는 매일 3번의 식사로 사료를 제공합니다. 9. 아침에는 15 \\* 3 = <<15*3=15>>15컵의 사료를 닭에게 제공합니다. 10. 오후에는 25 \\* 3 = <<25*3=35>>35컵의 사료를 닭에게 제공합니다. 11. 만약 웬디의 닭 떼가 20마리라면, 하루의 마지막 식사에서 닭에게 몇 컵의 사료를 주어야 할까요? 12. 20마리의 닭이 매일 3번의 식사를 한다고 가정합니다. 13. 마지막 식사에서 닭에게 3 \\* 3 = <<3*3=60>>60컵의 사료를 제공합니다. 14. 60마리의 닭이 매일 3번의 식사를 한다고 가정합니다. 15. 마지막으로, 웬디는 매일 3번의 식사로 3 \\* 3 = <<3*3=60>>60컵의 사료를 닭에게 제공합니다.\n",
      "ans_s : \n",
      "20\n",
      "----\n"
     ]
    },
    {
     "name": "stderr",
     "output_type": "stream",
     "text": [
      "/userhomes/philhoon/miniconda3/envs/self-debate/lib/python3.8/site-packages/urllib3/connectionpool.py:1095: InsecureRequestWarning: Unverified HTTPS request is being made to host 'aiapi.genielabs.ai'. Adding certificate verification is strongly advised. See: https://urllib3.readthedocs.io/en/latest/advanced-usage.html#tls-warnings\n",
      "  warnings.warn(\n"
     ]
    },
    {
     "name": "stdout",
     "output_type": "stream",
     "text": [
      "prompt : \n",
      "질문 : 카일러는 새 아파트를 위해 유리잔을 사러 가게에 갔습니다. 하나의 유리잔 가격은 $5이지만, 두 번째 유리잔부터는 가격의 60%만 지불하면 됩니다. 카일러는 16개의 유리잔을 사고 싶습니다. 그들을 위해 얼마를 지불해야 할까요? 정답 : 질문를 단계별로 풀어보면 \n",
      "res_context : \n",
      "1. 유리잔 가격을 $5로 설정합니다. 2. 카일러가 가게에 갔으므로, 유리잔 한 개의 가격은 $5입니다. 3. 두 번째 유리잔부터는 가격의 60%만 지불하면 됩니다. 4. 카일러가 가게에 갔으므로, 유리잔 16개의 가격은 $600입니다. 5. 따라서 카일러는 16개의 유리잔을 구입하기 위해 $600 * $5 = $<<16\\*60=1200>>1200을 지불해야 합니다.\n",
      "ans_s : \n",
      "64\n",
      "----\n"
     ]
    },
    {
     "name": "stderr",
     "output_type": "stream",
     "text": [
      "/userhomes/philhoon/miniconda3/envs/self-debate/lib/python3.8/site-packages/urllib3/connectionpool.py:1095: InsecureRequestWarning: Unverified HTTPS request is being made to host 'aiapi.genielabs.ai'. Adding certificate verification is strongly advised. See: https://urllib3.readthedocs.io/en/latest/advanced-usage.html#tls-warnings\n",
      "  warnings.warn(\n"
     ]
    },
    {
     "name": "stdout",
     "output_type": "stream",
     "text": [
      "prompt : \n",
      "질문 : 툴루즈는 찰스턴의 양의 두 배를 가지고 있습니다. 찰스턴은 시애틀의 양의 4 배를 가지고 있습니다. 시애틀은 양이 20마리 있으므로, 툴루즈, 찰스턴 및 시애틀이 함께 가지고 있는 양은 얼마입니까? 정답 : 질문를 단계별로 풀어보면 \n",
      "res_context : \n",
      "1. 툴루즈는 찰스턴의 양의 두 배를 가지고 있습니다. 2. 찰스턴은 시애틀의 양의 4 배를 가지고 있습니다. 3. 시애틀은 양이 20마리 있으므로, 툴루즈, 찰스턴 및 시애틀이 함께 가지고 있는 양은 20 × 20 = 400마리입니다.\n",
      "ans_s : \n",
      "260\n",
      "----\n"
     ]
    },
    {
     "name": "stderr",
     "output_type": "stream",
     "text": [
      "/userhomes/philhoon/miniconda3/envs/self-debate/lib/python3.8/site-packages/urllib3/connectionpool.py:1095: InsecureRequestWarning: Unverified HTTPS request is being made to host 'aiapi.genielabs.ai'. Adding certificate verification is strongly advised. See: https://urllib3.readthedocs.io/en/latest/advanced-usage.html#tls-warnings\n",
      "  warnings.warn(\n"
     ]
    },
    {
     "name": "stdout",
     "output_type": "stream",
     "text": [
      "prompt : \n",
      "질문 : 칼라는 200GB 파일을 다운로드하고 있습니다. 보통 그녀는 1분에 2GB를 다운로드할 수 있지만, 다운로드의 40% 지점에서 윈도우가 업데이트를 설치하기 위해 강제로 재시작되어 20분이 걸립니다. 그 후 칼라는 처음부터 다시 다운로드를 시작해야 합니다. 이 파일을 다운로드하는 데 얼마나 걸릴까요? 정답 : 질문를 단계별로 풀어보면 \n",
      "res_context : \n",
      "이 질문에 대한 단계별 답변은 다음과 같습니다:1. Windows 업데이트를 설치하기 위해 강제로 재시작되는 20분 동안 시간을 계산합니다.2. 20분이 지나면 Windows가 재시작되고 20분이 지나면 다시 시작됩니다.3. 이 시간은 다운로드 속도에 영향을 미칩니다. 다운로드 속도가 느려지면 시간이 더 오래 걸릴 수 있습니다.4. 이 문제를 해결하려면 다운로드를 다시 시작하기 전에 Windows를 다시 시작해야 합니다.5. 이 문제를 해결하는 가장 좋은 방법은 재시작되기 전에 다시 시작하는 것입니다.\n",
      "ans_s : \n",
      "160\n",
      "----\n"
     ]
    },
    {
     "name": "stderr",
     "output_type": "stream",
     "text": [
      "/userhomes/philhoon/miniconda3/envs/self-debate/lib/python3.8/site-packages/urllib3/connectionpool.py:1095: InsecureRequestWarning: Unverified HTTPS request is being made to host 'aiapi.genielabs.ai'. Adding certificate verification is strongly advised. See: https://urllib3.readthedocs.io/en/latest/advanced-usage.html#tls-warnings\n",
      "  warnings.warn(\n"
     ]
    },
    {
     "name": "stdout",
     "output_type": "stream",
     "text": [
      "prompt : \n",
      "질문 : 존은 60mph의 속도로 3시간 동안 운전을 하다가 집에서 매우 중요한 것을 깜빡했다는 것을 깨달았습니다. 그는 4시간 안에 집에 도착하려고 노력하지만 처음 2시간 동안 정체 교통에 갇혀 있었습니다. 그는 그 다음 30분 동안 30mph의 속도로 운전한 후 나머지 4시간 동안 80mph의 속도로 운전할 수 있었습니다. 그가 4시간 후에 집으로부터 얼마나 떨어져 있나요? 정답 : 질문를 단계별로 풀어보면 \n",
      "res_context : \n",
      "존은 60mph의 속도로 3시간 동안 운전하다가 60mph의 속도로 1시간 동안 운전할 수 있습니다. 그는 60mph의 속도로 1시간 동안 운전하다가 60mph의 속도로 1시간 동안 운전할 수 있습니다. 그는 60mph의 속도로 3시간 동안 운전하다가 60mph의 속도로 1시간 동안 운전할 수 있습니다. 그는 1시간 동안 60mph의 속도로 운전하다가 60mph의 속도로 1시간 동안 운전할 수 있습니다. 그는 1시간 동안 60mph의 속도로 운전하다가 60mph의 속도로 1시간 동안 운전할 수 있습니다. 그는 1시간 동안 60mph의 속도로 운전하다가 60mph의 속도로 1시간 동안 운전할 수 있습니다. 그는 1시간 동안 60mph의 속도로 운전하다가 60mph의 속도로 1시간 동안 운전할 수 있습니다. 그는 1시간 동안 60mph의 속도로 운전하다가 60mph의 속도로 1시간 동안 운전할 수 있습니다. 그는 1시간 동안 60mph의 속도로 운전하다가 60mph의 속도로 1시간 동안 운전할 수 있습니다. 그는 1시간 동안 60mph의 속도로 운전하다가 60mph의 속도로 1시간 동안 운전할 수 있습니다. 그는 1시간 동안 60mph의 속도로 운전하다가 60mph의 속도로 1시간 동안 운전할 수 있습니다. 그는 1시간 동안 60mph의 속도로 운전하다가 60mph의 속도로 1시간 동안 운전할 수 있습니다. 그는 1시간 동안 60mph의 속도로 운전하다가 60mph의 속도로 1시간 동안 운전할 수 있습니다. 그는 1시간 동안 60mph의 속도로 운전하다가 60mph의 속도로 1시간 동안 운전할 수 있습니다. 그는 1시간 동안 60mph의 속도로 운전하다가 60mph의 속도로 1시간 동안 운전할 수 있습니다. 그는 1시간 동안 60mph의 속도로 운전하다가 60mph의 속도로 1\n",
      "ans_s : \n",
      "45\n",
      "----\n"
     ]
    },
    {
     "name": "stderr",
     "output_type": "stream",
     "text": [
      "/userhomes/philhoon/miniconda3/envs/self-debate/lib/python3.8/site-packages/urllib3/connectionpool.py:1095: InsecureRequestWarning: Unverified HTTPS request is being made to host 'aiapi.genielabs.ai'. Adding certificate verification is strongly advised. See: https://urllib3.readthedocs.io/en/latest/advanced-usage.html#tls-warnings\n",
      "  warnings.warn(\n"
     ]
    },
    {
     "name": "stdout",
     "output_type": "stream",
     "text": [
      "prompt : \n",
      "질문 : 엘리자의 시간당 급여는 일주일에 처음 40시간 동안은 10달러입니다. 그녀는 또한 근무 시간 외에 기본 시간당 급여의 1.2배를 받습니다. 이번 주에 엘리자가 45시간 일했다면, 이번 주 그녀의 수입은 얼마입니까? 정답 : 질문를 단계별로 풀어보면 \n",
      "res_context : \n",
      "1. 엘리자가 일주일에 처음 40시간 동안 일한다는 것을 압니다. 2. 엘리자의 시간당 급여는 일주일에 처음 40시간 동안은 10달러이므로, 일주일에 40시간을 일했다면 월 10달러를 받게 됩니다. 3. 근무 시간 외에 엘리자가 기본 시간당 급여의 1.2배를 받는다는 것을 알고 있습니다. 4. 엘리자가 45시간 일했다면, 일주일에 45시간을 일했으므로 월 45달러를 받게 됩니다. 따라서, 이번 주에 엘리자가 일한 시간과 근무 시간을 알면 이번 주에 그녀의 수입을 계산할 수 있습니다.\n",
      "ans_s : \n",
      "460\n",
      "----\n"
     ]
    },
    {
     "name": "stderr",
     "output_type": "stream",
     "text": [
      "/userhomes/philhoon/miniconda3/envs/self-debate/lib/python3.8/site-packages/urllib3/connectionpool.py:1095: InsecureRequestWarning: Unverified HTTPS request is being made to host 'aiapi.genielabs.ai'. Adding certificate verification is strongly advised. See: https://urllib3.readthedocs.io/en/latest/advanced-usage.html#tls-warnings\n",
      "  warnings.warn(\n"
     ]
    },
    {
     "name": "stdout",
     "output_type": "stream",
     "text": [
      "prompt : \n",
      "질문 : 한 달 동안 새로운 프로그램은 60번 다운로드되었습니다. 두 번째 달의 다운로드 횟수는 첫 번째 달의 다운로드 횟수의 3배였지만, 세 번째 달에는 30% 감소했습니다. 이 프로그램은 총 3개월 동안 얼마나 많이 다운로드되었습니까? 정답 : 질문를 단계별로 풀어보면 \n",
      "res_context : \n",
      "1. 첫 번째 달과 두 번째 달의 다운로드 횟수를 각각 x, y로 표시합니다. 2. 세 번째 달의 다운로드 횟수를 z, k로 표시합니다. 3. 첫 번째 달과 세 번째 달의 다운로드 횟수를 더합니다. 4. (x + y) / 3 = 6 5. 6번째 달의 다운로드 횟수는 첫 번째 달의 다운로드 횟수의 3배이므로 3배입니다. 6. 세 번째 달의 다운로드 횟수는 첫 번째 달의 다운로드 횟수의 30%이므로 30%입니다. 7. 세 번째 달의 총 다운로드 횟수는 6 + (x + y) / 3 = 18 8. 총 다운로드 횟수는 18 + (x + y) / 3 = 24 9. 총 다운로드 횟수는 24 + (x + y) / 3 = 24 10. 총 다운로드 횟수는 24 + (x + y) / 3 = 24 11. 총 다운로드 횟수는 24 + (x + y) / 3 = 24 12. 총 다운로드 횟수는 24 + (x + y) / 3 = 24 13. 총 다운로드 횟수는 24 + (x + y) / 3 = 24 14. 총 다운로드 횟수는 24 + (x + y) / 3 = 24 15. 총 다운로드 횟수는 24 + (x + y) / 3 = 24 16. 총 다운로드 횟수는 24 + (x + y) / 3 = 24 17. 총 다운로드 횟수는 24 + (y + y) / 3 = 24 18. 총 다운로드 횟수는 24 + (y + y) / 3 = 24 19. 총 다운로드 횟수는 24 + (y + y) / 3\n",
      "ans_s : \n",
      "366\n",
      "----\n"
     ]
    },
    {
     "name": "stderr",
     "output_type": "stream",
     "text": [
      "/userhomes/philhoon/miniconda3/envs/self-debate/lib/python3.8/site-packages/urllib3/connectionpool.py:1095: InsecureRequestWarning: Unverified HTTPS request is being made to host 'aiapi.genielabs.ai'. Adding certificate verification is strongly advised. See: https://urllib3.readthedocs.io/en/latest/advanced-usage.html#tls-warnings\n",
      "  warnings.warn(\n"
     ]
    },
    {
     "name": "stdout",
     "output_type": "stream",
     "text": [
      "prompt : \n",
      "질문 : 툴라는 빵집에 가서 다양한 종류의 과자를 샀습니다. 그녀는 3다스의 도넛을 1다스당 68달러에, 2다스의 미니 컵케이크를 1다스당 80달러에, 그리고 6다스의 미니 치즈케이크를 1다스당 55달러에 샀습니다. 총 비용은 얼마인가요? 정답 : 질문를 단계별로 풀어보면 \n",
      "res_context : \n",
      "1. 빵집에 갔습니다. 2. 다양한 종류의 과자를 샀습니다. 3. 3다스의 도넛을 산 데 68달러를 지불했습니다. 4. 2다스의 미니 컵케이크를 산 데 80달러를 지불했습니다. 5. 6다스의 미니 치즈케이크를 산 데 55달러를 지불했습니다. 총 비용은 108달러 + 80달러 + 55달러 = 132달러입니다.\n",
      "ans_s : \n",
      "694\n",
      "----\n"
     ]
    },
    {
     "name": "stderr",
     "output_type": "stream",
     "text": [
      "/userhomes/philhoon/miniconda3/envs/self-debate/lib/python3.8/site-packages/urllib3/connectionpool.py:1095: InsecureRequestWarning: Unverified HTTPS request is being made to host 'aiapi.genielabs.ai'. Adding certificate verification is strongly advised. See: https://urllib3.readthedocs.io/en/latest/advanced-usage.html#tls-warnings\n",
      "  warnings.warn(\n"
     ]
    },
    {
     "name": "stdout",
     "output_type": "stream",
     "text": [
      "prompt : \n",
      "질문 : 카를로스는 레몬 나무를 심고 있습니다. 나무를 심는 데 90달러가 듭니다. 매년 7개의 레몬이 열리며, 그것을 1.5달러에 팔 수 있습니다. 나무를 물고 먹이는 데 매년 3달러가 듭니다. 레몬 나무에서 돈을 벌기 시작하는 데 몇 년이 걸릴까요? 정답 : 질문를 단계별로 풀어보면 \n",
      "res_context : \n",
      "1단계: 나무를 사십시오 - 90달러 * 7개 = $<<90\\*7=110>>110 2단계: 레몬을 사십시오 - 1.5달러 * 7개 = $<<1.5\\*7=35>>35 3단계: 레몬을 팔십시오 - 35달러 * 7개 = $<<35*7=55>>55 4단계: 나무를 물어 먹이십시오 - 3달러 * 3개 = $<<3*3=6>>6 따라서 카를로스는 레몬 나무를 사서 $110 - $35 = $<<110-35=85>>85를 벌게 됩니다.\n",
      "ans_s : \n",
      "13\n",
      "----\n"
     ]
    },
    {
     "name": "stderr",
     "output_type": "stream",
     "text": [
      "/userhomes/philhoon/miniconda3/envs/self-debate/lib/python3.8/site-packages/urllib3/connectionpool.py:1095: InsecureRequestWarning: Unverified HTTPS request is being made to host 'aiapi.genielabs.ai'. Adding certificate verification is strongly advised. See: https://urllib3.readthedocs.io/en/latest/advanced-usage.html#tls-warnings\n",
      "  warnings.warn(\n"
     ]
    },
    {
     "name": "stdout",
     "output_type": "stream",
     "text": [
      "prompt : \n",
      "질문 : 멜라니는 문방구 판매원입니다. 그녀는 그녀의 진공 청소기 중 1/3을 초록색 집에서 팔았으며, 빨간 집에서 2개를 더 팔았으며, 남은 것 중 절반을 오렌지색 집에서 팔았습니다. 멜라니가 5개의 진공 청소기를 가지고 있다면, 그녀는 처음에 몇 개를 가지고 시작했을까요? 정답 : 질문를 단계별로 풀어보면 \n",
      "res_context : \n",
      "멜라니는 문방구 판매원이므로, 진공 청소기를 5개 가지고 있을 것입니다. 그녀는 초록색 집에서 1/3을 팔았고, 빨간 집에서 2개를 더 팔았으며, 남은 것 중 절반을 오렌지색 집에서 팔았습니다. 그녀가 5개의 진공 청소기를 가지고 있다고 가정하면, 처음에는 3개를 가지고 시작했을 것입니다.\n",
      "ans_s : \n",
      "18\n",
      "----\n"
     ]
    },
    {
     "name": "stderr",
     "output_type": "stream",
     "text": [
      "/userhomes/philhoon/miniconda3/envs/self-debate/lib/python3.8/site-packages/urllib3/connectionpool.py:1095: InsecureRequestWarning: Unverified HTTPS request is being made to host 'aiapi.genielabs.ai'. Adding certificate verification is strongly advised. See: https://urllib3.readthedocs.io/en/latest/advanced-usage.html#tls-warnings\n",
      "  warnings.warn(\n"
     ]
    },
    {
     "name": "stdout",
     "output_type": "stream",
     "text": [
      "prompt : \n",
      "질문 : 20명의 댄스 수업에서 20%가 현대무용에 등록했고, 나머지 학생 중 25%가 재즈댄스에 등록했으며, 나머지는 힙합댄스에 등록했습니다. 전체 학생 중 어느 정도의 백분율이 힙합댄스에 등록했습니까? 정답 : 질문를 단계별로 풀어보면 \n",
      "res_context : \n",
      "20명의 댄스 수업에서 20%가 현대무용에, 25%가 재즈댄스에, 나머지는 힙합댄스에 등록했습니다. 전체 학생 중 백분율을 구하려면 수업을 듣는 학생들의 수를 전체 학생 수로 나누어야 합니다. 20명 / 20% = 25% 따라서 전체 학생 중 백분율은 25%입니다.\n",
      "ans_s : \n",
      "60\n",
      "----\n"
     ]
    },
    {
     "name": "stderr",
     "output_type": "stream",
     "text": [
      "/userhomes/philhoon/miniconda3/envs/self-debate/lib/python3.8/site-packages/urllib3/connectionpool.py:1095: InsecureRequestWarning: Unverified HTTPS request is being made to host 'aiapi.genielabs.ai'. Adding certificate verification is strongly advised. See: https://urllib3.readthedocs.io/en/latest/advanced-usage.html#tls-warnings\n",
      "  warnings.warn(\n"
     ]
    },
    {
     "name": "stdout",
     "output_type": "stream",
     "text": [
      "prompt : \n",
      "질문 : 상인은 2개의 구매 계획 중 하나를 선택하려고 합니다: 5,000달러짜리 보석 또는 8,000달러짜리 전자 기기. 그의 재무 자문가는 보석 시장이 같은 달 내에 2.5% 상승할 것으로 추정하고 전자 기기 시장은 1.2% 상승할 것으로 예상합니다. 상인은 선택을 통해 이번 달 말에 이익을 극대화하려고 합니다. 이익은 얼마나 될까요? 정답 : 질문를 단계별로 풀어보면 \n",
      "res_context : \n",
      "1단계: 질문에 답하기 - 상인은 2개의 구매 계획 중 하나를 선택하려고 합니다: 5,000달러짜리 보석 또는 8,000달러짜리 전자 기기. 2단계: 질문에 답하기 - 상인은 2개의 구매 계획 중 하나를 선택하려고 합니다: 5,000달러짜리 보석 또는 8,000달러짜리 전자 기기. 3단계: 질문에 답하기 - 상인은 2개의 구매 계획 중 하나를 선택하려고 합니다: 5,000달러짜리 보석 또는 8,000달러짜리 전자 기기. 4단계: 질문에 답하기 - 상인은 2개의 구매 계획 중 하나를 선택하려고 합니다: 5,000달러짜리 보석 또는 8,000달러짜리 전자 기기. 5단계: 질문에 답하기 - 상인은 2개의 구매 계획 중 하나를 선택하려고 합니다: 5,000달러짜리 보석 또는 8,000달러짜리 전자 기기. 6단계: 질문에 답하기 - 상인은 2개의 구매 계획 중 하나를 선택하려고 합니다: 5,000달러짜리 보석 또는 8,000달러짜리 전자 기기. 7단계: 질문에 답하기 - 상인은 2개의 구매 계획 중 하나를 선택하려고 합니다: 5,000달러짜리 보석 또는 8,000달러짜리 전자 기기. 8단계: 질문에 답하기 - 상인은 2개의 구매 계획 중 하나를 선택하려고 합니다: 5,000달러짜리 보석 또는 8,000달러짜리 전자 기기. 9단계: 질문에 답하기 - 상인은 2개의 구매 계획 중 하나를 선택하려고 합니다: 5,000달러짜리 보석 또는 8,000달러짜리 전자 기기. 10단계: 질문에 답하기 - 상인은 2개의 구매 계획 중 하나를 선택하려고 합니다: 5,000달러짜리 보석 또는 8,000달러짜리 전자 기기.\n",
      "ans_s : \n",
      "125\n",
      "----\n"
     ]
    },
    {
     "name": "stderr",
     "output_type": "stream",
     "text": [
      "/userhomes/philhoon/miniconda3/envs/self-debate/lib/python3.8/site-packages/urllib3/connectionpool.py:1095: InsecureRequestWarning: Unverified HTTPS request is being made to host 'aiapi.genielabs.ai'. Adding certificate verification is strongly advised. See: https://urllib3.readthedocs.io/en/latest/advanced-usage.html#tls-warnings\n",
      "  warnings.warn(\n"
     ]
    },
    {
     "name": "stdout",
     "output_type": "stream",
     "text": [
      "prompt : \n",
      "질문 : 두 대의 기차가 동시에 샌라파엘을 출발합니다. 그들은 서쪽으로 여행을 시작하며, 모두 80마일을 여행합니다. 다음 날, 그들은 북쪽으로 여행하여 150마일을 이동합니다. 두 대의 기차가 두 날 동안 이동한 거리는 각각 얼마인가요? 정답 : 질문를 단계별로 풀어보면 \n",
      "res_context : \n",
      "두 대의 기차가 두 날 동안 이동한 거리는 다음과 같이 계산할 수 있습니다. 1일차: 80마일 2일차: 150마일 = 200마일 따라서, 두 대의 기차가 두 날 동안 이동한 거리는 200마일 + 200마일 = 250마일입니다.\n",
      "ans_s : \n",
      "230\n",
      "----\n"
     ]
    },
    {
     "name": "stderr",
     "output_type": "stream",
     "text": [
      "/userhomes/philhoon/miniconda3/envs/self-debate/lib/python3.8/site-packages/urllib3/connectionpool.py:1095: InsecureRequestWarning: Unverified HTTPS request is being made to host 'aiapi.genielabs.ai'. Adding certificate verification is strongly advised. See: https://urllib3.readthedocs.io/en/latest/advanced-usage.html#tls-warnings\n",
      "  warnings.warn(\n"
     ]
    },
    {
     "name": "stdout",
     "output_type": "stream",
     "text": [
      "prompt : \n",
      "질문 : 질은 가르치는 데 시간당 $20을 받고, 치어리딩 코치로 일할 때는 시간당 $30을 받습니다. 그녀가 1년에 50주 동안 일주일에 35시간을 가르치고, 주당 15시간을 코치로 일한다면, 연봉은 얼마입니까? 정답 : 질문를 단계별로 풀어보면 \n",
      "res_context : \n",
      "질은 가르치는 데 시간당 $20을 받고, 치어리딩 코치로 일할 때는 시간당 $30을 받습니다. 그녀가 1년에 50주 동안 일주일에 35시간을 가르치고, 주당 15시간을 코치로 일한다면, 연봉은 $1,020 x 50 = $<<1,020,000>>1,000입니다.\n",
      "ans_s : \n",
      "57500\n",
      "----\n"
     ]
    },
    {
     "name": "stderr",
     "output_type": "stream",
     "text": [
      "/userhomes/philhoon/miniconda3/envs/self-debate/lib/python3.8/site-packages/urllib3/connectionpool.py:1095: InsecureRequestWarning: Unverified HTTPS request is being made to host 'aiapi.genielabs.ai'. Adding certificate verification is strongly advised. See: https://urllib3.readthedocs.io/en/latest/advanced-usage.html#tls-warnings\n",
      "  warnings.warn(\n"
     ]
    },
    {
     "name": "stdout",
     "output_type": "stream",
     "text": [
      "prompt : \n",
      "질문 : 클레어는 매일 아침 3개의 계란 오믈렛을 만듭니다. 4주 동안에는 몇 다스의 계란을 먹게 될까요? 정답 : 질문를 단계별로 풀어보면 \n",
      "res_context : \n",
      "1. 클레어는 매일 아침 3개의 계란 오믈렛을 만듭니다. 2. 클레어는 매일 아침 3개의 계란 오믈렛을 만들기 때문에 4주 동안 총 3 + 3 = 6개의 계란을 먹게 됩니다. 3. 클레어는 매일 아침 3개의 계란 오믈렛을 만들기 때문에 4주 동안 총 6개의 계란을 먹게 됩니다. 4. 클레어는 매일 아침 3개의 계란 오믈렛을 만들기 때문에 4주 동안 총 6개의 계란을 먹게 됩니다. 5. 따라서 클레어는 매일 아침 3개의 계란 오믈렛을 만들고 4주 동안 총 6개의 계란을 먹게 됩니다.\n",
      "ans_s : \n",
      "7\n",
      "----\n"
     ]
    },
    {
     "name": "stderr",
     "output_type": "stream",
     "text": [
      "/userhomes/philhoon/miniconda3/envs/self-debate/lib/python3.8/site-packages/urllib3/connectionpool.py:1095: InsecureRequestWarning: Unverified HTTPS request is being made to host 'aiapi.genielabs.ai'. Adding certificate verification is strongly advised. See: https://urllib3.readthedocs.io/en/latest/advanced-usage.html#tls-warnings\n",
      "  warnings.warn(\n"
     ]
    },
    {
     "name": "stdout",
     "output_type": "stream",
     "text": [
      "prompt : \n",
      "질문 : 마리사는 12마일 길을 하이킹하고 있습니다. 그녀는 처음 4마일을 걷는 데 1시간이 걸렸으며, 다음 2마일을 걷는 데 또 다른 1시간이 걸렸습니다. 그녀가 평균 속도를 시간당 4마일로 유지하려면, 남은 거리를 걷기 위해 어떤 속도(마일당 시간)로 걷어야 합니까? 정답 : 질문를 단계별로 풀어보면 \n",
      "res_context : \n",
      "마리사는 12마일 길을 하이킹하고 있으며, 처음 4마일을 걷는 데 1시간이 걸렸습니다. 두 번째 2마일을 걷는 데 또 다른 1시간이 걸렸습니다. 평균 속도를 시간당 4마일로 유지하려면, 그녀는 남은 거리를 걷기 위해 다음과 같은 속도(마일당 시간)로 걸어야 합니다: 1시간 = 4마일/시간 = 4마일/시간/시간 = 2시간/시간 따라서, 그녀는 남은 거리를 걷기 위해 2시간/시간 (2마일/시간 x 2시간/시간)으로 걸어야 합니다.\n",
      "ans_s : \n",
      "6\n",
      "----\n"
     ]
    },
    {
     "name": "stderr",
     "output_type": "stream",
     "text": [
      "/userhomes/philhoon/miniconda3/envs/self-debate/lib/python3.8/site-packages/urllib3/connectionpool.py:1095: InsecureRequestWarning: Unverified HTTPS request is being made to host 'aiapi.genielabs.ai'. Adding certificate verification is strongly advised. See: https://urllib3.readthedocs.io/en/latest/advanced-usage.html#tls-warnings\n",
      "  warnings.warn(\n"
     ]
    },
    {
     "name": "stdout",
     "output_type": "stream",
     "text": [
      "prompt : \n",
      "질문 : 저는 2/3이 물인 오렌지 음료를 10리터 가지고 있고, 3/5가 물인 파인애플 음료 15리터에 추가하려고 합니다. 그러나 따르는 도중에 오렌지 음료 1리터를 쏟았습니다. 남은 24리터에는 얼마나 많은 물이 있나요? 정답 : 질문를 단계별로 풀어보면 \n",
      "res_context : \n",
      "1. 오렌지 음료 10리터를 2/3이 물인 파인애플 음료 15리터에 추가합니다. 2. 파인애플 음료 15리터에는 3/5가 물인 오렌지 음료가 15리터 포함되어 있습니다. 3. 따라서 파인애플 음료 15리터에는 2/3이 물인 오렌지 음료 10리터와 3/5가 물인 파인애플 음료 15리터가 포함되어 있습니다. 4. 따라서 남은 24리터에는 2/3이 물인 오렌지 음료 10리터와 3/5가 물인 파인애플 음료 15리터를 더하면 24리터 + (2/3 x 15리터) = 28리터가 됩니다. 5. 따라서 24리터에는 2/3이 물인 오렌지 음료 10리터와 3/5가 물인 파인애플 음료 15리터를 더하면 28리터가 됩니다.\n",
      "ans_s : \n",
      "15\n",
      "----\n"
     ]
    },
    {
     "name": "stderr",
     "output_type": "stream",
     "text": [
      "/userhomes/philhoon/miniconda3/envs/self-debate/lib/python3.8/site-packages/urllib3/connectionpool.py:1095: InsecureRequestWarning: Unverified HTTPS request is being made to host 'aiapi.genielabs.ai'. Adding certificate verification is strongly advised. See: https://urllib3.readthedocs.io/en/latest/advanced-usage.html#tls-warnings\n",
      "  warnings.warn(\n"
     ]
    },
    {
     "name": "stdout",
     "output_type": "stream",
     "text": [
      "prompt : \n",
      "질문 : 레이몬드와 사만다는 사촌입니다. 레이몬드는 사만다보다 6년 먼저 태어났습니다. 레이몬드는 23살 때 아들을 가졌습니다. 사만다가 지금 31살이라면, 레이몬드의 아들이 태어난 지 몇 년이 지났을까요? 정답 : 질문를 단계별로 풀어보면 \n",
      "res_context : \n",
      "1. 레이몬드는 사만다보다 6년 먼저 태어났습니다. 2. 레이몬드는 23살 때 아들을 가졌습니다. 3. 사만다가 지금 31살이라면, 레이몬드의 아들이 태어난 지 6년이 지났습니다. (사만다가 31세이므로, 레이몬드의 아들은 31세가 되기 전에 태어났습니다.)\n",
      "ans_s : \n",
      "14\n",
      "----\n"
     ]
    }
   ],
   "source": [
    "cnt = 0\n",
    "split_cnt = 0\n",
    "for ins in data:\n",
    "    kor_que = ins['kor_question']\n",
    "    \n",
    "    # checking whether there is an answer \n",
    "    test = kor_que.split('\\n')\n",
    "    \n",
    "    if len(test[0]) != len(kor_que):\n",
    "        split_cnt += 1\n",
    "        continue\n",
    "\n",
    "    kor_ans = ins['kor_answer']\n",
    "    prompt = get_gsm8k_zs(kor_que)\n",
    "    ans_s = ins['answer_s']\n",
    "    body = get_body(prompt, BODY_TEMP)\n",
    "    response = model.generate(body)\n",
    "    res_context = response.json()['data'][0]['result'][0]\n",
    "    \n",
    "    print(f'prompt : ')\n",
    "    print(prompt)\n",
    "    print(f'res_context : ')\n",
    "    print(res_context)\n",
    "    print(f'ans_s : ')\n",
    "    print(ans_s)\n",
    "    print('----')\n",
    "    \n",
    "    ins['kor_infer'] = res_context\n",
    "#     jsonl_writer.write_json_line(ins)\n",
    "    \n",
    "#     print(prompt)\n",
    "    if cnt == 20:\n",
    "        break\n",
    "    else:\n",
    "        cnt += 1"
   ]
  },
  {
   "cell_type": "code",
   "execution_count": null,
   "id": "d942c2fb",
   "metadata": {},
   "outputs": [],
   "source": []
  }
 ],
 "metadata": {
  "kernelspec": {
   "display_name": "Python 3 (ipykernel)",
   "language": "python",
   "name": "python3"
  },
  "language_info": {
   "codemirror_mode": {
    "name": "ipython",
    "version": 3
   },
   "file_extension": ".py",
   "mimetype": "text/x-python",
   "name": "python",
   "nbconvert_exporter": "python",
   "pygments_lexer": "ipython3",
   "version": "3.8.17"
  }
 },
 "nbformat": 4,
 "nbformat_minor": 5
}
