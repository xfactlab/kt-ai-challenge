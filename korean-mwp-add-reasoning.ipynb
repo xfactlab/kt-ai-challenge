{
 "cells": [
  {
   "cell_type": "code",
   "execution_count": 1,
   "id": "bc4b4f47",
   "metadata": {},
   "outputs": [],
   "source": [
    "import openai\n",
    "import yaml\n",
    "from src import utils\n",
    "import time\n",
    "from pprint import pprint\n",
    "import os\n",
    "import argparse\n",
    "from tqdm import tqdm"
   ]
  },
  {
   "cell_type": "code",
   "execution_count": 2,
   "id": "341f69af",
   "metadata": {},
   "outputs": [],
   "source": [
    "# PROMPT = {\n",
    "#     '3p' : get_3p_prompt,\n",
    "#     'cot' : get_CoT_prompt,\n",
    "# }"
   ]
  },
  {
   "cell_type": "code",
   "execution_count": 3,
   "id": "784da61d",
   "metadata": {},
   "outputs": [],
   "source": [
    "api = 'openai'\n",
    "api_key_file = '/userhomes/philhoon/kt-ai-challenge/api-openai.yaml'"
   ]
  },
  {
   "cell_type": "code",
   "execution_count": 4,
   "id": "6da6c806",
   "metadata": {},
   "outputs": [],
   "source": [
    "# model_name=\"gpt-3.5-turbo-0301\",\n",
    "model_name = \"gpt-3.5-turbo-0613\"\n",
    "\n",
    "max_token=2048\n",
    "temperature=0.0"
   ]
  },
  {
   "cell_type": "code",
   "execution_count": 5,
   "id": "bfd66a82",
   "metadata": {},
   "outputs": [],
   "source": [
    "input_file = '/userhomes/philhoon/kt-ai-challenge/data/public_mwp_data_v2_preprocess.jsonl'\n",
    "# output_path = '/userhomes/philhoon/self-debate/result'"
   ]
  },
  {
   "cell_type": "code",
   "execution_count": 6,
   "id": "5a7c2d0e",
   "metadata": {},
   "outputs": [],
   "source": [
    "# openai key\n",
    "key_dict = utils.get_keys(api_key_file)\n",
    "openai.api_key = key_dict[api]"
   ]
  },
  {
   "cell_type": "code",
   "execution_count": 7,
   "id": "e421b7cc",
   "metadata": {},
   "outputs": [
    {
     "name": "stdout",
     "output_type": "stream",
     "text": [
      "output_file : /userhomes/philhoon/kt-ai-challenge/data/public_mwp_data_v2_reasoning.jsonl\n"
     ]
    }
   ],
   "source": [
    "output_file = '/userhomes/philhoon/kt-ai-challenge/data/public_mwp_data_v2_reasoning.jsonl'\n",
    "print(f'output_file : {output_file}')"
   ]
  },
  {
   "cell_type": "code",
   "execution_count": 8,
   "id": "e7283f61",
   "metadata": {},
   "outputs": [],
   "source": [
    "# openai-gpt-3.5-turbo-0301-2048-0.0-gsm8k-test.jsonl -> openai-gpt-3.5-turbo-0301-3p-2048-0.0-gsm8k-test.jsonl\n",
    "# openai-gpt-3.5-turbo-0301-gsm8k-test.jsonl -> openai-gpt-3.5-turbo-0301-3p-inf-1.0-gsm8k-test.jsonl\n",
    "# openai-gpt-3.5-turbo-0301-2048-0.0-gsm8k-test.jsonl -> openai-gpt-3.5-turbo-0301-3p-2048-0.0-gsm8k-test.jsonl"
   ]
  },
  {
   "cell_type": "code",
   "execution_count": 9,
   "id": "e2203391",
   "metadata": {},
   "outputs": [],
   "source": [
    "# output_file = output_path + '/' + 'gsm8k-korean.jsonl'\n",
    "# print(output_file)"
   ]
  },
  {
   "cell_type": "code",
   "execution_count": 10,
   "id": "fd9e0984",
   "metadata": {},
   "outputs": [],
   "source": [
    "# Jsonlines writier\n",
    "jsonl_writer = utils.JSONLWriter(output_file)"
   ]
  },
  {
   "cell_type": "code",
   "execution_count": 11,
   "id": "74b79621",
   "metadata": {},
   "outputs": [],
   "source": [
    "data = utils.read_jsonlines(input_file)"
   ]
  },
  {
   "cell_type": "code",
   "execution_count": 12,
   "id": "e84f321e",
   "metadata": {
    "scrolled": false
   },
   "outputs": [],
   "source": [
    "# cnt = 0\n",
    "# for ins in data:\n",
    "# #     pprint(ins)\n",
    "#     print(ins['question'])\n",
    "#     print(ins['answer'])\n",
    "#     print('----')\n",
    "#     cnt += 1\n",
    "#     if cnt == 20:\n",
    "#         break"
   ]
  },
  {
   "cell_type": "code",
   "execution_count": 13,
   "id": "f36a2d50",
   "metadata": {},
   "outputs": [],
   "source": [
    "# def get_message(prompt):\n",
    "#     \"\"\"\n",
    "#     Message for chat api\n",
    "#     \"\"\"\n",
    "#     message = {\n",
    "#         \"role\" : \"user\",\n",
    "#         \"content\" : prompt\n",
    "#         }\n",
    "#     return [message]"
   ]
  },
  {
   "cell_type": "code",
   "execution_count": 14,
   "id": "cfea9ba3",
   "metadata": {},
   "outputs": [],
   "source": [
    "def generate_answer(message, model_name, max_token, temperature):\n",
    "    \"\"\"\n",
    "    Generate response\n",
    "    \"\"\"\n",
    "    try:\n",
    "        completion = openai.ChatCompletion.create(\n",
    "            model=model_name,\n",
    "            messages=message,\n",
    "            temperature=temperature,\n",
    "            max_tokens=max_token,\n",
    "            n=1)\n",
    "    except:\n",
    "        print(\"retrying due to an error......\")\n",
    "        time.sleep(20)\n",
    "        return generate_answer(message, model_name, max_token, temperature)\n",
    "\n",
    "    return completion"
   ]
  },
  {
   "cell_type": "code",
   "execution_count": 15,
   "id": "2211034d",
   "metadata": {},
   "outputs": [],
   "source": [
    "# def get_trans_msg(context):\n",
    "#     \"\"\"\n",
    "#     Message for chat api\n",
    "#     \"\"\"\n",
    "\n",
    "#     msg = [\n",
    "#         {\n",
    "#             \"role\" : \"system\",\n",
    "#             \"content\" : \"Translate given setences into Korean.\"\n",
    "#         },\n",
    "#         {\n",
    "#             \"role\" : \"user\",\n",
    "#             \"content\" : context\n",
    "#         }\n",
    "#     ]\n",
    "    \n",
    "#     return msg"
   ]
  },
  {
   "cell_type": "code",
   "execution_count": 16,
   "id": "299a1ed4",
   "metadata": {},
   "outputs": [],
   "source": [
    "def get_reason_mgs(question, answer):\n",
    "    \"\"\"\n",
    "    Message for chat api\n",
    "    주어진 질문과 답에 대해, 풀이를 수식으로 300자이내로 서술하시오.\n",
    "    질문: 지름이 12cm, 높이가 14cm인 원기둥의 전개도를 그렸을 때 전개도의 옆면의 둘레는 몇 cm인지 답을 구하시오. (원주율: 3) 답: 100\n",
    "    \"\"\"\n",
    "\n",
    "    msg = [\n",
    "        {\n",
    "            \"role\" : \"system\",\n",
    "            \"content\" : \"주어진 질문과 정답에 대해, 풀이를 수식으로 300자이내로 서술하시오.\"\n",
    "        },\n",
    "        {\n",
    "            \"role\" : \"user\",\n",
    "            \"content\" : f\"질문: {question} 정답:{answer}\"\n",
    "        }\n",
    "    ]\n",
    "    \n",
    "    return msg"
   ]
  },
  {
   "cell_type": "code",
   "execution_count": 17,
   "id": "3bf28b9f",
   "metadata": {},
   "outputs": [
    {
     "data": {
      "text/plain": [
       "'gpt-3.5-turbo-0613'"
      ]
     },
     "execution_count": 17,
     "metadata": {},
     "output_type": "execute_result"
    }
   ],
   "source": [
    "model_name"
   ]
  },
  {
   "cell_type": "code",
   "execution_count": 18,
   "id": "790edff1",
   "metadata": {},
   "outputs": [
    {
     "data": {
      "text/plain": [
       "2048"
      ]
     },
     "execution_count": 18,
     "metadata": {},
     "output_type": "execute_result"
    }
   ],
   "source": [
    "max_token"
   ]
  },
  {
   "cell_type": "code",
   "execution_count": 19,
   "id": "cdc9bea5",
   "metadata": {},
   "outputs": [
    {
     "data": {
      "text/plain": [
       "0.0"
      ]
     },
     "execution_count": 19,
     "metadata": {},
     "output_type": "execute_result"
    }
   ],
   "source": [
    "temperature"
   ]
  },
  {
   "cell_type": "code",
   "execution_count": 20,
   "id": "29179401",
   "metadata": {},
   "outputs": [
    {
     "data": {
      "text/plain": [
       "dict_keys(['class', 'question', 'answer', 'equation', 'option', 'option_value', 'unknown'])"
      ]
     },
     "execution_count": 20,
     "metadata": {},
     "output_type": "execute_result"
    }
   ],
   "source": [
    "data[0].keys()"
   ]
  },
  {
   "cell_type": "code",
   "execution_count": 21,
   "id": "b206f84e",
   "metadata": {
    "scrolled": false
   },
   "outputs": [
    {
     "name": "stderr",
     "output_type": "stream",
     "text": [
      "  0%|                                                                                                                                                                                                                                              | 1/3750 [00:05<5:40:19,  5.45s/it]"
     ]
    },
    {
     "name": "stdout",
     "output_type": "stream",
     "text": [
      "[{'role': 'system', 'content': '주어진 질문과 정답에 대해, 풀이를 수식으로 300자이내로 서술하시오.'}, {'role': 'user', 'content': '질문: 지영이네 반 친구들이 키가 작은 순서대로 줄을 서있습니다. 지영이는 앞에서부터 6번째에 줄을 섰으며, 지영이네 반은 모두 18명입니다. 키가 큰 사람부터 다시 줄을 세운다면, 지영이는 앞에서부터 몇 번째로 줄을 서게 될까요? 정답:13'}]\n",
      "{'answer': '13',\n",
      " 'class': '순서정하기1',\n",
      " 'equation': '18-6+1',\n",
      " 'option': 'none',\n",
      " 'option_value': 'none',\n",
      " 'question': '지영이네 반 친구들이 키가 작은 순서대로 줄을 서있습니다. 지영이는 앞에서부터 6번째에 줄을 섰으며, 지영이네 반은 '\n",
      "             '모두 18명입니다. 키가 큰 사람부터 다시 줄을 세운다면, 지영이는 앞에서부터 몇 번째로 줄을 서게 될까요?',\n",
      " 'reason': '풀이: 지영이는 앞에서부터 6번째에 줄을 섰으므로, 키가 큰 사람부터 다시 줄을 세운다면 지영이는 앞에서부터 13번째로 '\n",
      "           '줄을 서게 됩니다. 이는 전체 인원 수인 18에서 지영이의 위치인 6을 뺀 값인 12에 1을 더한 값과 같습니다. '\n",
      "           '따라서 지영이는 앞에서부터 13번째로 줄을 서게 됩니다.',\n",
      " 'unknown': 'none'}\n"
     ]
    },
    {
     "name": "stderr",
     "output_type": "stream",
     "text": [
      "\r",
      "  0%|▏                                                                                                                                                                                                                                             | 2/3750 [00:12<6:35:23,  6.33s/it]"
     ]
    },
    {
     "name": "stdout",
     "output_type": "stream",
     "text": [
      "[{'role': 'system', 'content': '주어진 질문과 정답에 대해, 풀이를 수식으로 300자이내로 서술하시오.'}, {'role': 'user', 'content': '질문: 반짇고리 안에는 여러 가지 모양의 단추가 있습니다. 동그란 단추는 6개가 들어있고, 네모난 단추와 세모난 단추는 각각 3개씩 들어 있습니다. 동그란 단추는 네모난 단추보다 몇 개가 더 많습니까? 정답:3'}]\n",
      "{'answer': '3',\n",
      " 'class': '산술연산',\n",
      " 'equation': '6-3',\n",
      " 'option': 'none',\n",
      " 'option_value': 'none',\n",
      " 'question': '반짇고리 안에는 여러 가지 모양의 단추가 있습니다. 동그란 단추는 6개가 들어있고, 네모난 단추와 세모난 단추는 '\n",
      "             '각각 3개씩 들어 있습니다. 동그란 단추는 네모난 단추보다 몇 개가 더 많습니까?',\n",
      " 'reason': '동그란 단추는 6개, 네모난 단추는 3개, 세모난 단추는 3개가 있습니다. 동그란 단추는 네모난 단추보다 3개가 더 '\n",
      "           '많습니다. 이를 수식으로 나타내면, 동그란 단추의 개수(6개) - 네모난 단추의 개수(3개) = 3개입니다. 따라서 '\n",
      "           '동그란 단추는 네모난 단추보다 3개가 더 많습니다.',\n",
      " 'unknown': 'none'}\n"
     ]
    },
    {
     "name": "stderr",
     "output_type": "stream",
     "text": [
      "\r",
      "  0%|▏                                                                                                                                                                                                                                             | 3/3750 [00:16<5:37:32,  5.40s/it]"
     ]
    },
    {
     "name": "stdout",
     "output_type": "stream",
     "text": [
      "[{'role': 'system', 'content': '주어진 질문과 정답에 대해, 풀이를 수식으로 300자이내로 서술하시오.'}, {'role': 'user', 'content': '질문: 연필 6자루를 필통 3개에 똑같이 나누어 담으려고 합니다. 몇 자루씩 담아야 하는지 구하세요. 정답:2'}]\n",
      "{'answer': '2',\n",
      " 'class': '산술연산',\n",
      " 'equation': '6/3',\n",
      " 'option': 'none',\n",
      " 'option_value': 'none',\n",
      " 'question': '연필 6자루를 필통 3개에 똑같이 나누어 담으려고 합니다. 몇 자루씩 담아야 하는지 구하세요.',\n",
      " 'reason': '연필 6자루를 필통 3개에 똑같이 나누어 담으려면, 연필을 필통의 개수로 나누어야 합니다. 따라서, 6자루를 3개의 '\n",
      "           '필통에 나누어 담으려면 6 ÷ 3 = 2 자루씩 담아야 합니다.',\n",
      " 'unknown': 'none'}\n"
     ]
    },
    {
     "name": "stderr",
     "output_type": "stream",
     "text": [
      "\r",
      "  0%|▎                                                                                                                                                                                                                                             | 4/3750 [00:20<4:51:48,  4.67s/it]"
     ]
    },
    {
     "name": "stdout",
     "output_type": "stream",
     "text": [
      "[{'role': 'system', 'content': '주어진 질문과 정답에 대해, 풀이를 수식으로 300자이내로 서술하시오.'}, {'role': 'user', 'content': '질문: 집게의 길이는 4cm 8mm이고, 빨대의 길이는 3cm 6mm입니다. 집게와 빨대의 길이의 차는 몇 mm일까요? 정답:12'}]\n",
      "{'answer': '12',\n",
      " 'class': '산술연산',\n",
      " 'equation': '(4*10+8)-(3*10+6)',\n",
      " 'option': 'none',\n",
      " 'option_value': 'none',\n",
      " 'question': '집게의 길이는 4cm 8mm이고, 빨대의 길이는 3cm 6mm입니다. 집게와 빨대의 길이의 차는 몇 mm일까요?',\n",
      " 'reason': '집게의 길이를 mm로 변환하면 4cm * 10mm/cm + 8mm = 48mm입니다. 빨대의 길이를 mm로 변환하면 '\n",
      "           '3cm * 10mm/cm + 6mm = 36mm입니다. 따라서 집게와 빨대의 길이의 차는 48mm - 36mm = '\n",
      "           '12mm입니다.',\n",
      " 'unknown': 'none'}\n"
     ]
    },
    {
     "name": "stderr",
     "output_type": "stream",
     "text": [
      "\r",
      "  0%|▎                                                                                                                                                                                                                                             | 5/3750 [00:25<5:07:11,  4.92s/it]"
     ]
    },
    {
     "name": "stdout",
     "output_type": "stream",
     "text": [
      "[{'role': 'system', 'content': '주어진 질문과 정답에 대해, 풀이를 수식으로 300자이내로 서술하시오.'}, {'role': 'user', 'content': '질문: 연지가 하트모양 초콜릿을 만듭니다. 녹인 초콜릿을 10칸 짜리 틀에 부었더니 7개의 틀을 가득 채웠고, 여덟번째 틀에는 빈 칸이 3개 남았습니다. 연지가 만든 초콜릿의 개수는 전부 몇 개입니까? 정답:77'}]\n",
      "{'answer': '77',\n",
      " 'class': '산술연산',\n",
      " 'equation': '10*7+(10-3)',\n",
      " 'option': 'none',\n",
      " 'option_value': 'none',\n",
      " 'question': '연지가 하트모양 초콜릿을 만듭니다. 녹인 초콜릿을 10칸 짜리 틀에 부었더니 7개의 틀을 가득 채웠고, 여덟번째 '\n",
      "             '틀에는 빈 칸이 3개 남았습니다. 연지가 만든 초콜릿의 개수는 전부 몇 개입니까?',\n",
      " 'reason': '연지가 만든 초콜릿의 개수는 7개의 틀을 가득 채웠으므로 7 * 10 = 70개입니다. 여덟번째 틀에는 빈 칸이 3개 '\n",
      "           '남았으므로 70 + 3 = 73개입니다. 따라서, 연지가 만든 초콜릿의 개수는 73개입니다.',\n",
      " 'unknown': 'none'}\n"
     ]
    },
    {
     "name": "stderr",
     "output_type": "stream",
     "text": [
      "\r",
      "  0%|▍                                                                                                                                                                                                                                             | 6/3750 [00:30<5:05:40,  4.90s/it]"
     ]
    },
    {
     "name": "stdout",
     "output_type": "stream",
     "text": [
      "[{'role': 'system', 'content': '주어진 질문과 정답에 대해, 풀이를 수식으로 300자이내로 서술하시오.'}, {'role': 'user', 'content': '질문: 숲 속 동물들이 100m 달리기 시합을 했더니 호랑이는 15초, 고라니는 20초, 삵은 18초, 늑대는 21초를 기록했습니다. 2번째로 빠른 동물의 기록은 몇 초였나요? 정답:18'}]\n",
      "{'answer': '18',\n",
      " 'class': '순서정하기2',\n",
      " 'equation': 'find_min(sort(X),2)',\n",
      " 'option': '15, 20, 18, 21',\n",
      " 'option_value': 'none',\n",
      " 'question': '숲 속 동물들이 100m 달리기 시합을 했더니 호랑이는 15초, 고라니는 20초, 삵은 18초, 늑대는 21초를 '\n",
      "             '기록했습니다. 2번째로 빠른 동물의 기록은 몇 초였나요?',\n",
      " 'reason': '두 번째로 빠른 동물의 기록은 18초입니다. 숲 속 동물들의 달리기 시합에서 호랑이가 15초로 가장 빠르게 달렸고, 그 '\n",
      "           '다음으로 빠른 동물은 고라니인데, 고라니는 20초를 기록했습니다. 따라서, 두 번째로 빠른 동물의 기록은 18초입니다.',\n",
      " 'unknown': 'none'}\n"
     ]
    },
    {
     "name": "stderr",
     "output_type": "stream",
     "text": [
      "\r",
      "  0%|▍                                                                                                                                                                                                                                             | 7/3750 [00:35<5:08:58,  4.95s/it]"
     ]
    },
    {
     "name": "stdout",
     "output_type": "stream",
     "text": [
      "[{'role': 'system', 'content': '주어진 질문과 정답에 대해, 풀이를 수식으로 300자이내로 서술하시오.'}, {'role': 'user', 'content': '질문: 태양계의 행성들은 태양의 주위를 도는 공전을 합니다. 지구의 공전주기는 1년, 토성의 공전주기는 30년, 천왕성의 공전주기는 84년입니다. 태양에서부터 토성과 천왕성이 차례로 일직선을 이루었다가 같은 자리에서 다시 일직선을 이루는 것은 최소 몇 년 후입니까? (단, 1년은 365일입니다.) 정답:420'}]\n",
      "{'answer': '420',\n",
      " 'class': '산술연산',\n",
      " 'equation': 'none',\n",
      " 'option': 'none',\n",
      " 'option_value': 'none',\n",
      " 'question': '태양계의 행성들은 태양의 주위를 도는 공전을 합니다. 지구의 공전주기는 1년, 토성의 공전주기는 30년, 천왕성의 '\n",
      "             '공전주기는 84년입니다. 태양에서부터 토성과 천왕성이 차례로 일직선을 이루었다가 같은 자리에서 다시 일직선을 이루는 '\n",
      "             '것은 최소 몇 년 후입니까? (단, 1년은 365일입니다.)',\n",
      " 'reason': '풀이: 토성과 천왕성이 일직선을 이루는 주기는 두 행성의 공전주기의 최소공배수입니다. 토성의 공전주기는 30년, '\n",
      "           '천왕성의 공전주기는 84년이므로, 최소공배수는 420년입니다. 따라서, 태양에서부터 토성과 천왕성이 다시 일직선을 '\n",
      "           '이루는 것은 420년 후입니다.',\n",
      " 'unknown': 'none'}\n"
     ]
    },
    {
     "name": "stderr",
     "output_type": "stream",
     "text": [
      "\r",
      "  0%|▌                                                                                                                                                                                                                                             | 8/3750 [00:39<4:52:21,  4.69s/it]"
     ]
    },
    {
     "name": "stdout",
     "output_type": "stream",
     "text": [
      "[{'role': 'system', 'content': '주어진 질문과 정답에 대해, 풀이를 수식으로 300자이내로 서술하시오.'}, {'role': 'user', 'content': '질문: 정원이는 한 달 동안 용돈을 군것질 40%, 학용품 30%, 도서 20%인 10000원, 기타 10%인 5000원을 사용했다. 군것질에 쓴 금액을 구하시오. 정답:20000'}]\n",
      "{'answer': '20000',\n",
      " 'class': '산술연산',\n",
      " 'equation': '5000/(10/100)*(40/100)',\n",
      " 'option': 'none',\n",
      " 'option_value': 'none',\n",
      " 'question': '정원이는 한 달 동안 용돈을 군것질 40%, 학용품 30%, 도서 20%인 10000원, 기타 10%인 5000원을 '\n",
      "             '사용했다. 군것질에 쓴 금액을 구하시오.',\n",
      " 'reason': '정원이가 군것질에 사용한 금액을 구하기 위해서는 용돈의 40%를 계산해야 한다. 용돈은 10000원이므로, 10000 '\n",
      "           '* 0.4 = 4000원을 군것질에 사용한 것이다. 따라서 정원이가 군것질에 사용한 금액은 4000원이다.',\n",
      " 'unknown': 'none'}\n"
     ]
    },
    {
     "name": "stderr",
     "output_type": "stream",
     "text": [
      "\r",
      "  0%|▌                                                                                                                                                                                                                                             | 9/3750 [00:47<6:03:05,  5.82s/it]"
     ]
    },
    {
     "name": "stdout",
     "output_type": "stream",
     "text": [
      "[{'role': 'system', 'content': '주어진 질문과 정답에 대해, 풀이를 수식으로 300자이내로 서술하시오.'}, {'role': 'user', 'content': '질문: 은경이는 15일마다, 세찬이는 18일마다 가족 농장에 간다고 합니다. 8월 1일에 두 사람이 함께 가족 농장에 갔다면 다음번에 함께 가족 농장에 가는 날을 구하고, 월과 일을 더해보시오. 정답:40'}]\n",
      "{'answer': '40',\n",
      " 'class': '수찾기1',\n",
      " 'equation': 'LCM(15, 18), (10+30)',\n",
      " 'option': 'none',\n",
      " 'option_value': 'none',\n",
      " 'question': '은경이는 15일마다, 세찬이는 18일마다 가족 농장에 간다고 합니다. 8월 1일에 두 사람이 함께 가족 농장에 '\n",
      "             '갔다면 다음번에 함께 가족 농장에 가는 날을 구하고, 월과 일을 더해보시오.',\n",
      " 'reason': '은경이는 15일마다 가족 농장에 간다고 했으므로, 8월 1일로부터 다음번에 함께 가는 날은 15일 후인 8월 '\n",
      "           '16일이다. 세찬이는 18일마다 가족 농장에 간다고 했으므로, 8월 1일로부터 다음번에 함께 가는 날은 18일 후인 '\n",
      "           '8월 19일이다. 따라서, 두 사람이 함께 가족 농장에 다시 갈 날은 16일과 19일 중에서 더 늦은 날인 19일이다. '\n",
      "           '월과 일을 더하면 8월 19일은 8+19=27이므로, 정답은 40이다.',\n",
      " 'unknown': 'none'}\n"
     ]
    },
    {
     "name": "stderr",
     "output_type": "stream",
     "text": [
      "\r",
      "  0%|▌                                                                                                                                                                                                                                             | 9/3750 [00:51<5:59:49,  5.77s/it]"
     ]
    },
    {
     "name": "stdout",
     "output_type": "stream",
     "text": [
      "[{'role': 'system', 'content': '주어진 질문과 정답에 대해, 풀이를 수식으로 300자이내로 서술하시오.'}, {'role': 'user', 'content': '질문: 어제는 1cm 3mm, 오늘은 2cm 4mm의 비가 내렸습니다. 어제와 오늘 내린 비의 양은 모두 몇 mm일까요? 정답:37'}]\n",
      "{'answer': '37',\n",
      " 'class': '산술연산',\n",
      " 'equation': '(1*10+3)+(2*10+4)',\n",
      " 'option': 'none',\n",
      " 'option_value': 'none',\n",
      " 'question': '어제는 1cm 3mm, 오늘은 2cm 4mm의 비가 내렸습니다. 어제와 오늘 내린 비의 양은 모두 몇 mm일까요?',\n",
      " 'reason': '어제 내린 비의 양은 1cm 3mm이므로, 이를 mm로 변환하면 13mm입니다. 오늘 내린 비의 양은 2cm '\n",
      "           '4mm이므로, 이를 mm로 변환하면 24mm입니다. 따라서 어제와 오늘 내린 비의 양을 합하면 13mm + 24mm = '\n",
      "           '37mm입니다.',\n",
      " 'unknown': 'none'}\n"
     ]
    },
    {
     "name": "stderr",
     "output_type": "stream",
     "text": [
      "\n"
     ]
    }
   ],
   "source": [
    "cnt = 0\n",
    "for instance in tqdm(data):\n",
    "    query = instance['question']\n",
    "    ans = instance['answer']\n",
    "        \n",
    "    query_msg = get_reason_mgs(query, ans)\n",
    "    \n",
    "    \n",
    "    query_completion = generate_answer(query_msg, model_name, max_token, temperature)\n",
    "    q_response = query_completion[\"choices\"][0][\"message\"][\"content\"]\n",
    "    \n",
    "#     print('query_mgs')\n",
    "#     print(query_msg)\n",
    "#     print('q_response')\n",
    "#     print(q_response)\n",
    "    \n",
    "    instance['reason'] = q_response\n",
    "    print(query_msg)\n",
    "    pprint(instance)\n",
    "\n",
    "#     jsonl_writer.write_json_line(instance)\n",
    "    cnt += 1\n",
    "    if cnt == 10:\n",
    "        break"
   ]
  },
  {
   "cell_type": "code",
   "execution_count": null,
   "id": "ec67b30e",
   "metadata": {},
   "outputs": [],
   "source": []
  },
  {
   "cell_type": "code",
   "execution_count": null,
   "id": "cb1d84ee",
   "metadata": {},
   "outputs": [],
   "source": []
  },
  {
   "cell_type": "code",
   "execution_count": null,
   "id": "ac0686d4",
   "metadata": {},
   "outputs": [],
   "source": []
  },
  {
   "cell_type": "code",
   "execution_count": null,
   "id": "5f2240a5",
   "metadata": {
    "scrolled": false
   },
   "outputs": [],
   "source": [
    "# cnt = 0\n",
    "# for instance in data:\n",
    "#     question = instance['question']\n",
    "#     answer_s = utils.extract_answer(instance['answer'])\n",
    "#     prompt = get_CoT_prompt(question)\n",
    "#     prompt = get_prompt(question)\n",
    "#     print(f'prompt : \\n {prompt}')\n",
    "#     message = get_message(prompt)\n",
    "    \n",
    "#     continue\n",
    "#     completion = generate_answer(message, model_name)\n",
    "    \n",
    "# #     completion = openai.ChatCompletion.create(\n",
    "# #                   model=model_name,\n",
    "# #                   messages=message,\n",
    "# #                   temperature=0,Pathways Language Model (PaLM): Scaling to 540 Billion Parameters for Breakthrough Performance\n",
    "# #                   max_tokens=4096,\n",
    "# #                   n=1)\n",
    "    \n",
    "    \n",
    "#     response = completion[\"choices\"][0][\"message\"][\"content\"]\n",
    "# #     instance['response'] = response\n",
    "# #     instance['answer_specific'] = answer_s\n",
    "# #     jsonl_writer.write_json_line(instance)\n",
    "#     print(f'respones : \\n {response}')\n",
    "#     cnt += 1\n",
    "#     if cnt == 10:\n",
    "#         break"
   ]
  },
  {
   "cell_type": "code",
   "execution_count": null,
   "id": "7fcec2ed",
   "metadata": {},
   "outputs": [],
   "source": [
    "pprint(instance)"
   ]
  },
  {
   "cell_type": "code",
   "execution_count": null,
   "id": "5d4af3f0",
   "metadata": {},
   "outputs": [],
   "source": []
  }
 ],
 "metadata": {
  "kernelspec": {
   "display_name": "self-debate",
   "language": "python",
   "name": "self-debate"
  },
  "language_info": {
   "codemirror_mode": {
    "name": "ipython",
    "version": 3
   },
   "file_extension": ".py",
   "mimetype": "text/x-python",
   "name": "python",
   "nbconvert_exporter": "python",
   "pygments_lexer": "ipython3",
   "version": "3.8.17"
  }
 },
 "nbformat": 4,
 "nbformat_minor": 5
}
