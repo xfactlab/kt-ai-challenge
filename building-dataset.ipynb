{
 "cells": [
  {
   "cell_type": "code",
   "execution_count": 60,
   "id": "fbfbaf78",
   "metadata": {},
   "outputs": [],
   "source": [
    "import json\n",
    "import requests\n",
    "from src import utils\n",
    "import time\n",
    "import os\n",
    "import random\n",
    "import re\n",
    "import csv"
   ]
  },
  {
   "cell_type": "code",
   "execution_count": 9,
   "id": "0d2c8b49",
   "metadata": {},
   "outputs": [],
   "source": [
    "# GSM8K 8792 (7473/1319)\n",
    "gsm8k_train = '/userhomes/philhoon/kt-ai-challenge/data/openai-gpt-3.5-turbo-0301-2048-0.0-KOR-gsm8k-train.jsonl'\n",
    "\n",
    "# MWP_KR_DATA 3750\n",
    "mwp_kr = '/userhomes/philhoon/kt-ai-challenge/data/public_mwp_data_v2_reasoning.jsonl'\n",
    "\n",
    "# AddSub 395\n",
    "addsub = '/userhomes/philhoon/kt-ai-challenge/eng_data/kor-D_addsub.json'\n",
    "\n",
    "# MultiArith 600\n",
    "multiarith = '/userhomes/philhoon/kt-ai-challenge/eng_data/kor-D_multiarith.json'\n",
    "\n",
    "# SingleEq 395\n",
    "single_eq = '/userhomes/philhoon/kt-ai-challenge/eng_data/kor-D_single_eq.json'"
   ]
  },
  {
   "cell_type": "code",
   "execution_count": null,
   "id": "221b8e48",
   "metadata": {},
   "outputs": [],
   "source": [
    "gsm8k_train_data = utils.read_jsonlines(gsm8k_train)\n",
    "mwp_data = utils.read_jsonlines(mwp_kr)\n",
    "addsub_data = utils.read_jsonlines(addsub)\n",
    "multi_data = utils.read_jsonlines(multiarith)\n",
    "single_data = utils.read_jsonlines(single_eq)"
   ]
  },
  {
   "cell_type": "code",
   "execution_count": null,
   "id": "044302d8",
   "metadata": {},
   "outputs": [],
   "source": [
    "print(len(gsm8k_train_data))\n",
    "print(len(mwp_data))\n",
    "\n",
    "print(len(addsub_data))\n",
    "print(len(multi_data))\n",
    "print(len(single_data))"
   ]
  },
  {
   "cell_type": "markdown",
   "id": "f5156ffb",
   "metadata": {},
   "source": [
    "# mwp_kr"
   ]
  },
  {
   "cell_type": "code",
   "execution_count": null,
   "id": "4592e267",
   "metadata": {},
   "outputs": [],
   "source": [
    "input_file = mwp_kr\n",
    "print(input_file)"
   ]
  },
  {
   "cell_type": "code",
   "execution_count": null,
   "id": "a44da7d6",
   "metadata": {},
   "outputs": [],
   "source": [
    "path = '/userhomes/philhoon/kt-ai-challenge/data/'\n",
    "output_train = path + re.sub('.json', '-train.json', input_file.split('/')[-1])\n",
    "output_test = path + re.sub('.json', '-test.json', input_file.split('/')[-1])\n",
    "print(output_train)\n",
    "print(output_test)"
   ]
  },
  {
   "cell_type": "code",
   "execution_count": null,
   "id": "68f1ea89",
   "metadata": {},
   "outputs": [],
   "source": [
    "train_writer = utils.JSONLWriter(output_train)\n",
    "test_writer = utils.JSONLWriter(output_test)"
   ]
  },
  {
   "cell_type": "code",
   "execution_count": null,
   "id": "a2fa2124",
   "metadata": {},
   "outputs": [],
   "source": [
    "train_data, test_data = random_split_8_2(mwp_data)\n",
    "print(len(train_data))\n",
    "print(len(test_data))"
   ]
  },
  {
   "cell_type": "code",
   "execution_count": null,
   "id": "b84d9deb",
   "metadata": {},
   "outputs": [],
   "source": [
    "for ins in train_data:\n",
    "    train_writer.write_json_line(ins)\n",
    "    \n",
    "for ins in test_data:\n",
    "    test_writer.write_json_line(ins)"
   ]
  },
  {
   "cell_type": "markdown",
   "id": "0309cfba",
   "metadata": {},
   "source": [
    "# AddSub"
   ]
  },
  {
   "cell_type": "code",
   "execution_count": null,
   "id": "10c7d44b",
   "metadata": {},
   "outputs": [],
   "source": [
    "input_file = addsub"
   ]
  },
  {
   "cell_type": "code",
   "execution_count": null,
   "id": "f6643b18",
   "metadata": {},
   "outputs": [],
   "source": [
    "print(input_file)"
   ]
  },
  {
   "cell_type": "code",
   "execution_count": null,
   "id": "818efacf",
   "metadata": {},
   "outputs": [],
   "source": [
    "path = '/userhomes/philhoon/kt-ai-challenge/eng_data/'\n",
    "output_train = path + re.sub('.json', '-train.json', input_file.split('/')[-1])\n",
    "output_test = path + re.sub('.json', '-test.json', input_file.split('/')[-1])"
   ]
  },
  {
   "cell_type": "code",
   "execution_count": null,
   "id": "69e6a31b",
   "metadata": {},
   "outputs": [],
   "source": [
    "print(output_train)\n",
    "print(output_test)"
   ]
  },
  {
   "cell_type": "code",
   "execution_count": null,
   "id": "ce6cbf91",
   "metadata": {},
   "outputs": [],
   "source": [
    "train_writer = utils.JSONLWriter(output_train)\n",
    "test_writer = utils.JSONLWriter(output_test)"
   ]
  },
  {
   "cell_type": "code",
   "execution_count": null,
   "id": "b199d57c",
   "metadata": {},
   "outputs": [],
   "source": [
    "def random_split_8_2(input_list):\n",
    "    # Calculate the sizes of the two splits\n",
    "    total_length = len(input_list)\n",
    "    split_1_size = int(0.8 * total_length)\n",
    "    split_2_size = total_length - split_1_size\n",
    "\n",
    "    # Randomly sample the elements for each split\n",
    "    split_1 = random.sample(input_list, split_1_size)\n",
    "    split_2 = [item for item in input_list if item not in split_1]\n",
    "\n",
    "    return split_1, split_2"
   ]
  },
  {
   "cell_type": "code",
   "execution_count": null,
   "id": "3eab1cf3",
   "metadata": {},
   "outputs": [],
   "source": [
    "print(len(addsub_data))"
   ]
  },
  {
   "cell_type": "code",
   "execution_count": null,
   "id": "a777fc95",
   "metadata": {},
   "outputs": [],
   "source": [
    "train_data, test_data = random_split_8_2(addsub_data)\n",
    "print(len(train_data))\n",
    "print(len(test_data))"
   ]
  },
  {
   "cell_type": "code",
   "execution_count": null,
   "id": "88bac97b",
   "metadata": {},
   "outputs": [],
   "source": [
    "for ins in train_data:\n",
    "    train_writer.write_json_line(ins)\n",
    "    \n",
    "for ins in test_data:\n",
    "    test_writer.write_json_line(ins)"
   ]
  },
  {
   "cell_type": "markdown",
   "id": "d1ef29db",
   "metadata": {},
   "source": [
    "# multi"
   ]
  },
  {
   "cell_type": "code",
   "execution_count": null,
   "id": "60616fc9",
   "metadata": {},
   "outputs": [],
   "source": [
    "input_file = multiarith\n",
    "print(input_file)"
   ]
  },
  {
   "cell_type": "code",
   "execution_count": null,
   "id": "46e6c28a",
   "metadata": {},
   "outputs": [],
   "source": [
    "path = '/userhomes/philhoon/kt-ai-challenge/eng_data/'\n",
    "output_train = path + re.sub('.json', '-train.json', input_file.split('/')[-1])\n",
    "output_test = path + re.sub('.json', '-test.json', input_file.split('/')[-1])\n",
    "print(output_train)\n",
    "print(output_test)\n",
    "train_writer = utils.JSONLWriter(output_train)\n",
    "test_writer = utils.JSONLWriter(output_test)"
   ]
  },
  {
   "cell_type": "code",
   "execution_count": null,
   "id": "ceadbab3",
   "metadata": {},
   "outputs": [],
   "source": [
    "train_data, test_data = random_split_8_2(multi_data)\n",
    "print(len(train_data))\n",
    "print(len(test_data))"
   ]
  },
  {
   "cell_type": "code",
   "execution_count": null,
   "id": "e9c1997c",
   "metadata": {},
   "outputs": [],
   "source": [
    "for ins in train_data:\n",
    "    train_writer.write_json_line(ins)\n",
    "    \n",
    "for ins in test_data:\n",
    "    test_writer.write_json_line(ins)"
   ]
  },
  {
   "cell_type": "markdown",
   "id": "47b70f95",
   "metadata": {},
   "source": [
    "# single"
   ]
  },
  {
   "cell_type": "code",
   "execution_count": null,
   "id": "5a301dbe",
   "metadata": {},
   "outputs": [],
   "source": [
    "input_file = single_eq\n",
    "print(input_file)"
   ]
  },
  {
   "cell_type": "code",
   "execution_count": null,
   "id": "2c65976d",
   "metadata": {},
   "outputs": [],
   "source": [
    "path = '/userhomes/philhoon/kt-ai-challenge/eng_data/'\n",
    "output_train = path + re.sub('.json', '-train.json', input_file.split('/')[-1])\n",
    "output_test = path + re.sub('.json', '-test.json', input_file.split('/')[-1])\n",
    "print(output_train)\n",
    "print(output_test)\n",
    "train_writer = utils.JSONLWriter(output_train)\n",
    "test_writer = utils.JSONLWriter(output_test)"
   ]
  },
  {
   "cell_type": "code",
   "execution_count": null,
   "id": "eeb592a0",
   "metadata": {},
   "outputs": [],
   "source": [
    "train_data, test_data = random_split_8_2(single_data)\n",
    "print(len(train_data))\n",
    "print(len(test_data))"
   ]
  },
  {
   "cell_type": "code",
   "execution_count": null,
   "id": "c3d3a533",
   "metadata": {},
   "outputs": [],
   "source": [
    "for ins in train_data:\n",
    "    train_writer.write_json_line(ins)\n",
    "    \n",
    "for ins in test_data:\n",
    "    test_writer.write_json_line(ins)"
   ]
  },
  {
   "cell_type": "code",
   "execution_count": null,
   "id": "aecab540",
   "metadata": {},
   "outputs": [],
   "source": [
    "kor-D_addsub-test.json\n",
    "kor-D_addsub-train.json\n",
    "kor-D_multiarith-test.json\n",
    "kor-D_multiarith-train.json\n",
    "kor-D_single_eq-test.json\n",
    "kor-D_single_eq-train.json"
   ]
  },
  {
   "cell_type": "markdown",
   "id": "e3d9ab8d",
   "metadata": {},
   "source": [
    "# Merge (Train/Test)"
   ]
  },
  {
   "cell_type": "code",
   "execution_count": 1,
   "id": "5fa9ea0c",
   "metadata": {},
   "outputs": [],
   "source": [
    "output_train = '/userhomes/philhoon/kt-ai-challenge/final_data/train.csv'\n",
    "output_test = '/userhomes/philhoon/kt-ai-challenge/final_data/train.jsonl'"
   ]
  },
  {
   "cell_type": "code",
   "execution_count": 58,
   "id": "18d77aa4",
   "metadata": {},
   "outputs": [],
   "source": [
    "def save_csv_file(file_path, sentence_a_list, sentence_b_list):\n",
    "    with open(file_path, 'w', newline='', encoding='utf-8') as csv_file:\n",
    "        writer = csv.writer(csv_file)\n",
    "        for sentence_a, sentence_b in zip(sentence_a_list, sentence_b_list):\n",
    "            writer.writerow([sentence_a, sentence_b])"
   ]
  },
  {
   "cell_type": "code",
   "execution_count": 3,
   "id": "fc0c788f",
   "metadata": {},
   "outputs": [],
   "source": [
    "path = '/userhomes/philhoon/kt-ai-challenge/final_data'\n",
    "\n",
    "file_lst = [\n",
    "    'kor-D_addsub-train.json',\n",
    "    'kor-D_multiarith-train.json',\n",
    "    'kor-D_single_eq-train.json',\n",
    "    'openai-gpt-3.5-turbo-0301-2048-0.0-KOR-gsm8k-train.jsonl',\n",
    "    'public_mwp_data_v2_reasoning-train.jsonl'\n",
    "]"
   ]
  },
  {
   "cell_type": "code",
   "execution_count": 4,
   "id": "0259e83c",
   "metadata": {},
   "outputs": [],
   "source": [
    "# def get_prompt(ques, answer):\n",
    "#     ques = f\"질문: {ques}\"\n",
    "#     answer = f\"{answer}\"\n",
    "#     return ques, answer"
   ]
  },
  {
   "cell_type": "markdown",
   "id": "928aa2e0",
   "metadata": {},
   "source": [
    "## Merge Train"
   ]
  },
  {
   "cell_type": "code",
   "execution_count": 10,
   "id": "ecf8d8b1",
   "metadata": {},
   "outputs": [],
   "source": [
    "data_lst = []"
   ]
  },
  {
   "cell_type": "code",
   "execution_count": 11,
   "id": "dfb897c7",
   "metadata": {},
   "outputs": [
    {
     "name": "stdout",
     "output_type": "stream",
     "text": [
      "316\n"
     ]
    }
   ],
   "source": [
    "addsub_data = utils.read_jsonlines('/userhomes/philhoon/kt-ai-challenge/final_data/kor-D_addsub-train.json')\n",
    "print(len(addsub_data))"
   ]
  },
  {
   "cell_type": "code",
   "execution_count": 12,
   "id": "225ceb99",
   "metadata": {},
   "outputs": [],
   "source": [
    "for ins in addsub_data:\n",
    "    temp = {}\n",
    "    if 'kor_question' in ins:\n",
    "        temp['input'] = ins['kor_question']\n",
    "    if 'kor_answer' in ins:\n",
    "        temp['output'] = ins['kor_answer']\n",
    "    if 'answer' in ins:\n",
    "        temp['answer'] = ins['answer']\n",
    "    data_lst.append(temp)"
   ]
  },
  {
   "cell_type": "code",
   "execution_count": 13,
   "id": "427b9083",
   "metadata": {},
   "outputs": [
    {
     "data": {
      "text/plain": [
       "{'input': '한 휴대전화 회사는 전 세계에 총 7422명의 고객을 보유하고 있습니다. 만약 그 중 723명의 고객이 미국에 거주한다면, 다른 나라에는 몇 명의 고객이 거주하고 있는지 알 수 있을까요?',\n",
       " 'output': '전 세계에는 총 7422명의 고객이 있습니다. 그 중 723명이 미국에 거주하는 것으로 알려져 있습니다. 따라서 나머지 고객들은 다른 나라에 거주하고 있습니다. 따라서 다른 나라에 거주하는 고객의 수는 7422 - 723 = 6,699명입니다.',\n",
       " 'answer': '6699.0'}"
      ]
     },
     "execution_count": 13,
     "metadata": {},
     "output_type": "execute_result"
    }
   ],
   "source": [
    "data_lst[-1]"
   ]
  },
  {
   "cell_type": "code",
   "execution_count": 14,
   "id": "f9070213",
   "metadata": {},
   "outputs": [
    {
     "name": "stdout",
     "output_type": "stream",
     "text": [
      "316\n"
     ]
    }
   ],
   "source": [
    "print(len(data_lst))"
   ]
  },
  {
   "cell_type": "code",
   "execution_count": 15,
   "id": "23a53e77",
   "metadata": {},
   "outputs": [
    {
     "name": "stdout",
     "output_type": "stream",
     "text": [
      "480\n"
     ]
    }
   ],
   "source": [
    "multi_data = utils.read_jsonlines('/userhomes/philhoon/kt-ai-challenge/final_data/kor-D_multiarith-train.json')\n",
    "print(len(multi_data))"
   ]
  },
  {
   "cell_type": "code",
   "execution_count": 16,
   "id": "f915d3a9",
   "metadata": {},
   "outputs": [],
   "source": [
    "for ins in multi_data:\n",
    "    temp = {}\n",
    "    if 'kor_question' in ins:\n",
    "        temp['input'] = ins['kor_question']\n",
    "    if 'kor_answer' in ins:\n",
    "        temp['output'] = ins['kor_answer']\n",
    "    if 'answer' in ins:\n",
    "        temp['answer'] = ins['answer']\n",
    "    data_lst.append(temp)"
   ]
  },
  {
   "cell_type": "code",
   "execution_count": 17,
   "id": "a4660d81",
   "metadata": {},
   "outputs": [
    {
     "data": {
      "text/plain": [
       "{'input': '케이티는 차고 세일에서 목걸이를 팔았습니다. 그녀는 구슬 목걸이 4개와 보석 목걸이 3개를 팔았습니다. 각 목걸이의 가격은 3달러이므로, 그녀는 얼마나 많은 돈을 벌었을까요?',\n",
       " 'output': '첫째, 케이티는 구슬 목걸이 4개를 팔았습니다. 구슬 목걸이 판매로 얼마의 돈을 벌었나요? 둘째, 케이티는 보석 목걸이 3개를 팔았습니다. 보석 목걸이 판매로 얼마의 돈을 벌었나요? 셋째, 케이티는 총 4개의 구슬 목걸이와 3개의 보석 목걸이를 팔았습니다. 모든 목걸이 판매로 얼마의 돈을 벌었나요? 케이티는 목걸이 판매로 12달러를 벌었습니다.',\n",
       " 'answer': '21'}"
      ]
     },
     "execution_count": 17,
     "metadata": {},
     "output_type": "execute_result"
    }
   ],
   "source": [
    "data_lst[-1]"
   ]
  },
  {
   "cell_type": "code",
   "execution_count": 18,
   "id": "44e403d1",
   "metadata": {},
   "outputs": [
    {
     "name": "stdout",
     "output_type": "stream",
     "text": [
      "796\n"
     ]
    }
   ],
   "source": [
    "print(len(data_lst))"
   ]
  },
  {
   "cell_type": "code",
   "execution_count": 19,
   "id": "41e623d9",
   "metadata": {},
   "outputs": [
    {
     "name": "stdout",
     "output_type": "stream",
     "text": [
      "406\n"
     ]
    }
   ],
   "source": [
    "single = utils.read_jsonlines('/userhomes/philhoon/kt-ai-challenge/final_data/kor-D_single_eq-train.json')\n",
    "print(len(single))"
   ]
  },
  {
   "cell_type": "code",
   "execution_count": 20,
   "id": "c615d9fc",
   "metadata": {},
   "outputs": [],
   "source": [
    "for ins in single:\n",
    "    temp = {}\n",
    "    if 'kor_question' in ins:\n",
    "        temp['input'] = ins['kor_question']\n",
    "    if 'kor_answer' in ins:\n",
    "        temp['output'] = ins['kor_answer']\n",
    "    if 'answer' in ins:\n",
    "        temp['answer'] = ins['answer']\n",
    "    data_lst.append(temp)"
   ]
  },
  {
   "cell_type": "code",
   "execution_count": 21,
   "id": "3b830245",
   "metadata": {},
   "outputs": [
    {
     "data": {
      "text/plain": [
       "{'input': '힐트 여사는 1달러 30센트에 노트북을 샀습니다. 그녀는 니켈로 지불했습니다. 그녀는 몇 개의 니켈을 사용해서 노트북을 샀을까요?',\n",
       " 'output': '먼저, 우리는 Mrs. Hilt가 니켈로 노트북을 얼마나 지불했는지 알아야 합니다. 우리는 Mrs. Hilt가 노트북에 $1.30을 지불했다는 것을 알고 있습니다. 또한 1달러에는 5개의 니켈이 있다는 것을 알고 있습니다. 즉, Mrs. Hilt는 지출한 달러 당 5개의 니켈을 지불했습니다. Mrs. Hilt가 노트북에 $1.30을 지출했으므로, 그녀는 노트북에 5개의 니켈 x 1.30 달러 = 6.50개의 니켈을 지불했을 것입니다. 따라서,',\n",
       " 'answer': '26.0'}"
      ]
     },
     "execution_count": 21,
     "metadata": {},
     "output_type": "execute_result"
    }
   ],
   "source": [
    "data_lst[-1]"
   ]
  },
  {
   "cell_type": "code",
   "execution_count": 22,
   "id": "daa3cb5b",
   "metadata": {},
   "outputs": [
    {
     "name": "stdout",
     "output_type": "stream",
     "text": [
      "1202\n"
     ]
    }
   ],
   "source": [
    "print(len(data_lst))"
   ]
  },
  {
   "cell_type": "code",
   "execution_count": 23,
   "id": "bc63d77b",
   "metadata": {},
   "outputs": [
    {
     "name": "stdout",
     "output_type": "stream",
     "text": [
      "7473\n"
     ]
    }
   ],
   "source": [
    "gsm8k = utils.read_jsonlines('/userhomes/philhoon/kt-ai-challenge/final_data/openai-gpt-3.5-turbo-0301-2048-0.0-KOR-gsm8k-train.jsonl')\n",
    "print(len(gsm8k))"
   ]
  },
  {
   "cell_type": "code",
   "execution_count": 24,
   "id": "caa44bad",
   "metadata": {},
   "outputs": [],
   "source": [
    "for ins in gsm8k:\n",
    "    temp = {}\n",
    "    if 'kor_question' in ins:\n",
    "        temp['input'] = ins['kor_question']\n",
    "    if 'kor_answer' in ins:\n",
    "        temp['output'] = ins['kor_answer']\n",
    "    if 'answer' in ins:\n",
    "        temp['answer'] = ins['answer_s']\n",
    "    data_lst.append(temp)"
   ]
  },
  {
   "cell_type": "code",
   "execution_count": 25,
   "id": "1b66ac42",
   "metadata": {},
   "outputs": [
    {
     "data": {
      "text/plain": [
       "{'input': '30살인 아니카는 매디의 나이의 4/3입니다. 15년 후에 그들의 평균 나이는 얼마일까요?',\n",
       " 'output': '애니카가 지금 30살이라면, 15년 후에는 30+15=45살이 됩니다.\\n애니카가 30살일 때, 매디의 나이는 4/3*30=40살입니다.\\n15년 후에 매디는 40+15=55살이 됩니다.\\n15년 후, 두 사람의 총 연령은 55+45=100살입니다.\\n15년 후, 두 사람의 평균 연령은 100/2=50살입니다.',\n",
       " 'answer': '50'}"
      ]
     },
     "execution_count": 25,
     "metadata": {},
     "output_type": "execute_result"
    }
   ],
   "source": [
    "data_lst[-1]"
   ]
  },
  {
   "cell_type": "code",
   "execution_count": 26,
   "id": "718fe3ad",
   "metadata": {},
   "outputs": [
    {
     "name": "stdout",
     "output_type": "stream",
     "text": [
      "8675\n"
     ]
    }
   ],
   "source": [
    "print(len(data_lst))"
   ]
  },
  {
   "cell_type": "code",
   "execution_count": 27,
   "id": "fc89c4ab",
   "metadata": {},
   "outputs": [
    {
     "name": "stdout",
     "output_type": "stream",
     "text": [
      "3000\n"
     ]
    }
   ],
   "source": [
    "mwp_d = utils.read_jsonlines('/userhomes/philhoon/kt-ai-challenge/final_data/public_mwp_data_v2_reasoning-train.jsonl')\n",
    "print(len(mwp_d))"
   ]
  },
  {
   "cell_type": "code",
   "execution_count": 28,
   "id": "a831b6bb",
   "metadata": {},
   "outputs": [],
   "source": [
    "for ins in mwp_d:\n",
    "    temp = {}\n",
    "    if 'question' in ins:\n",
    "        temp['input'] = ins['question']\n",
    "    if 'reason' in ins:\n",
    "        temp['output'] = ins['reason']\n",
    "    if 'answer' in ins:\n",
    "        temp['answer'] = ins['answer']\n",
    "    data_lst.append(temp)"
   ]
  },
  {
   "cell_type": "code",
   "execution_count": 29,
   "id": "225fce86",
   "metadata": {},
   "outputs": [
    {
     "data": {
      "text/plain": [
       "{'input': '과일 농장에 여섯 개의 밭이 있습니다. 1번 밭에는 사과가 4개, 2번 밭에는 포도가 20개, 3번 밭에는 포도가 70개, 4번 밭에는 감이 23개, 5번 밭에는 감이 45개, 6번 밭에는 사과가 50개 있습니다. 전체 밭에서 포도의 개수는 몇 개인지 구하세요.',\n",
       " 'output': '풀이: 2번 밭에는 포도가 20개, 3번 밭에는 포도가 70개 있으므로, 포도의 총 개수는 20개 + 70개 = 90개입니다.',\n",
       " 'answer': '90'}"
      ]
     },
     "execution_count": 29,
     "metadata": {},
     "output_type": "execute_result"
    }
   ],
   "source": [
    "data_lst[-1]"
   ]
  },
  {
   "cell_type": "code",
   "execution_count": 41,
   "id": "38e654b0",
   "metadata": {},
   "outputs": [
    {
     "name": "stdout",
     "output_type": "stream",
     "text": [
      "11675\n"
     ]
    }
   ],
   "source": [
    "print(len(data_lst))"
   ]
  },
  {
   "cell_type": "code",
   "execution_count": 42,
   "id": "8dfd0fe6",
   "metadata": {},
   "outputs": [],
   "source": [
    "import random\n",
    "random.seed(42)\n",
    "\n",
    "\n",
    "shuffled_list = data_lst.copy()\n",
    "\n",
    "# Shuffle the copy\n",
    "random.shuffle(shuffled_list)"
   ]
  },
  {
   "cell_type": "code",
   "execution_count": 43,
   "id": "ca2b16d6",
   "metadata": {},
   "outputs": [],
   "source": [
    "output_train = '/userhomes/philhoon/kt-ai-challenge/final_data/train_merged.jsonl'"
   ]
  },
  {
   "cell_type": "code",
   "execution_count": 45,
   "id": "48325a22",
   "metadata": {},
   "outputs": [],
   "source": [
    "train_writer = utils.JSONLWriter(output_train)"
   ]
  },
  {
   "cell_type": "code",
   "execution_count": 49,
   "id": "30991b12",
   "metadata": {},
   "outputs": [],
   "source": [
    "# data_lst[0]"
   ]
  },
  {
   "cell_type": "code",
   "execution_count": 50,
   "id": "a81b5b0e",
   "metadata": {},
   "outputs": [],
   "source": [
    "# for ins in shuffled_list:\n",
    "#     train_writer.write_json_line(ins)"
   ]
  },
  {
   "cell_type": "code",
   "execution_count": 48,
   "id": "706d777d",
   "metadata": {},
   "outputs": [
    {
     "data": {
      "text/plain": [
       "{'input': '니나는 자녀들에게 선물을 주고 싶어합니다. 그녀는 각각 $10에 세 개의 장난감, 각각 $5에 두 개의 농구 카드 팩, 그리고 각각 $6에 다섯 개의 셔츠를 구입합니다. 그녀는 모두 얼마나 지출하나요?',\n",
       " 'output': '세 개의 장난감은 3 x $10 = $30 입니다.\\n농구 카드 두 팩은 2 x $5 = $10 입니다.\\n그리고, 다섯 개의 셔츠는 5 x $6 = $30 입니다.\\n그러므로, 니나는 모두 $30 + $10 + $30 = $70을 쓰게 됩니다.',\n",
       " 'answer': '70'}"
      ]
     },
     "execution_count": 48,
     "metadata": {},
     "output_type": "execute_result"
    }
   ],
   "source": [
    "# shuffled_list[0]"
   ]
  },
  {
   "cell_type": "code",
   "execution_count": 51,
   "id": "642efdb8",
   "metadata": {},
   "outputs": [],
   "source": [
    "input_lst = []\n",
    "output_lst = []"
   ]
  },
  {
   "cell_type": "code",
   "execution_count": 52,
   "id": "3aae7adb",
   "metadata": {},
   "outputs": [],
   "source": [
    "output_csv = '/userhomes/philhoon/kt-ai-challenge/final_data/train_merged.csv'"
   ]
  },
  {
   "cell_type": "code",
   "execution_count": 53,
   "id": "ce4f42d6",
   "metadata": {},
   "outputs": [
    {
     "data": {
      "text/plain": [
       "{'input': '마이크는 123개의 오렌지를 골랐고, 멜라니는 104개의 오렌지를 골랐습니다. 프레드는 130개의 사과를 골랐습니다. 총 몇 개의 오렌지가 골라졌을까요?',\n",
       " 'output': '마이크는 123개의 오렌지를 골랐습니다. 멜라니는 104개의 오렌지를 골랐습니다. 총 몇 개의 오렌지가 골라졌을까요? 답은 227개입니다.',\n",
       " 'answer': '227'}"
      ]
     },
     "execution_count": 53,
     "metadata": {},
     "output_type": "execute_result"
    }
   ],
   "source": [
    "data_lst[0]"
   ]
  },
  {
   "cell_type": "code",
   "execution_count": 40,
   "id": "0bce21a5",
   "metadata": {},
   "outputs": [],
   "source": [
    "def get_gsm8k_zs3(que):\n",
    "    prompt = f'다음 질문에 차근차근 답하시오. {que}'\n",
    "    return prompt"
   ]
  },
  {
   "cell_type": "code",
   "execution_count": 55,
   "id": "ae85f04c",
   "metadata": {},
   "outputs": [],
   "source": [
    "for ins in shuffled_list:\n",
    "    question = get_gsm8k_zs3(ins['input'])\n",
    "    answer = ins['output']\n",
    "    input_lst.append(question)\n",
    "    output_lst.append(answer)"
   ]
  },
  {
   "cell_type": "code",
   "execution_count": 57,
   "id": "6b0609d8",
   "metadata": {},
   "outputs": [
    {
     "name": "stdout",
     "output_type": "stream",
     "text": [
      "11675\n",
      "11675\n"
     ]
    }
   ],
   "source": [
    "print(len(input_lst))\n",
    "print(len(output_lst))"
   ]
  },
  {
   "cell_type": "code",
   "execution_count": 61,
   "id": "afdf4968",
   "metadata": {},
   "outputs": [],
   "source": [
    "save_csv_file(output_csv, input_lst, output_lst)"
   ]
  },
  {
   "cell_type": "code",
   "execution_count": null,
   "id": "024b60ea",
   "metadata": {},
   "outputs": [],
   "source": []
  }
 ],
 "metadata": {
  "kernelspec": {
   "display_name": "kt",
   "language": "python",
   "name": "kt"
  },
  "language_info": {
   "codemirror_mode": {
    "name": "ipython",
    "version": 3
   },
   "file_extension": ".py",
   "mimetype": "text/x-python",
   "name": "python",
   "nbconvert_exporter": "python",
   "pygments_lexer": "ipython3",
   "version": "3.8.17"
  }
 },
 "nbformat": 4,
 "nbformat_minor": 5
}
