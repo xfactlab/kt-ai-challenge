{
 "cells": [
  {
   "cell_type": "code",
   "execution_count": 1,
   "id": "de0d3743",
   "metadata": {},
   "outputs": [],
   "source": [
    "import json\n",
    "import requests\n",
    "from src import utils\n",
    "import time\n",
    "import os"
   ]
  },
  {
   "cell_type": "code",
   "execution_count": 2,
   "id": "1f6e3734",
   "metadata": {},
   "outputs": [],
   "source": [
    "api_path = '/userhomes/philhoon/kt-ai-challenge/api.json'"
   ]
  },
  {
   "cell_type": "code",
   "execution_count": 3,
   "id": "88e90579",
   "metadata": {},
   "outputs": [],
   "source": [
    "api = utils.read_json_file(api_path)"
   ]
  },
  {
   "cell_type": "code",
   "execution_count": 4,
   "id": "c51fe990",
   "metadata": {},
   "outputs": [],
   "source": [
    "input_file = '/userhomes/philhoon/kt-ai-challenge/data/public_mwp_data_v2_preprocess.jsonl'\n",
    "# in_path = '/userhomes/philhoon/kt-ai-challenge/data/openai-gpt-3.5-turbo-0301-2048-0.0-KOR-gsm8k-train.jsonl'"
   ]
  },
  {
   "cell_type": "code",
   "execution_count": 6,
   "id": "70f07d94",
   "metadata": {},
   "outputs": [],
   "source": [
    "output_path = '/userhomes/philhoon/kt-ai-challenge/result'"
   ]
  },
  {
   "cell_type": "code",
   "execution_count": 7,
   "id": "09e1ddbf",
   "metadata": {},
   "outputs": [],
   "source": [
    "output_file_name = 'zero-shot-cot-public_mwp_data_v2_preprocess'"
   ]
  },
  {
   "cell_type": "code",
   "execution_count": 8,
   "id": "77a8c4e8",
   "metadata": {},
   "outputs": [
    {
     "name": "stdout",
     "output_type": "stream",
     "text": [
      "output_file : /userhomes/philhoon/kt-ai-challenge/result/zero-shot-cot-public_mwp_data_v2_preprocess\n"
     ]
    }
   ],
   "source": [
    "# os.makedirs(output_path, exist_ok=True)\n",
    "# output_file_name = 'result-' + input_file.split('/')[-1]\n",
    "output_file = output_path + '/' + output_file_name\n",
    "print(f'output_file : {output_file}')"
   ]
  },
  {
   "cell_type": "code",
   "execution_count": 9,
   "id": "c1dd2680",
   "metadata": {},
   "outputs": [],
   "source": [
    "jsonl_writer = utils.JSONLWriter(output_file)"
   ]
  },
  {
   "cell_type": "code",
   "execution_count": 10,
   "id": "90d1cca3",
   "metadata": {},
   "outputs": [],
   "source": [
    "data = utils.read_jsonlines(input_file)"
   ]
  },
  {
   "cell_type": "code",
   "execution_count": null,
   "id": "697e32c7",
   "metadata": {},
   "outputs": [],
   "source": []
  },
  {
   "cell_type": "code",
   "execution_count": 11,
   "id": "672bd4a3",
   "metadata": {},
   "outputs": [
    {
     "data": {
      "text/plain": [
       "3750"
      ]
     },
     "execution_count": 11,
     "metadata": {},
     "output_type": "execute_result"
    }
   ],
   "source": [
    "len(data)"
   ]
  },
  {
   "cell_type": "code",
   "execution_count": 12,
   "id": "0d312a2f",
   "metadata": {},
   "outputs": [],
   "source": [
    "# api"
   ]
  },
  {
   "cell_type": "code",
   "execution_count": 13,
   "id": "3baf76e7",
   "metadata": {},
   "outputs": [],
   "source": [
    "# url = api['url']"
   ]
  },
  {
   "cell_type": "code",
   "execution_count": 14,
   "id": "23fb58fd",
   "metadata": {},
   "outputs": [],
   "source": [
    "# headers = api['headers']"
   ]
  },
  {
   "cell_type": "code",
   "execution_count": 15,
   "id": "e39dbe5d",
   "metadata": {},
   "outputs": [],
   "source": [
    "# question = \"질문 : 파운드 스털링은 가치가 있나요? 용어설명 :  사실목록 : ['1파운드는 법정 화폐입니다.', '법정 화폐는 정부 법령에 의해 뒷받침되며 내재적 가치가 없습니다', '2020년 5월 기준 1파운드 스털링은 약 1.24달러의 가치가 있습니다.']. 사실목록을 바탕으로 질문에 대한 답변을 사실 또는 거짓으로 대답하세요\"/"
   ]
  },
  {
   "cell_type": "code",
   "execution_count": 16,
   "id": "a648a380",
   "metadata": {},
   "outputs": [],
   "source": [
    "# headers"
   ]
  },
  {
   "cell_type": "code",
   "execution_count": 17,
   "id": "ba526f0c",
   "metadata": {},
   "outputs": [],
   "source": [
    "class model_api():\n",
    "    def __init__(self, url, headers):\n",
    "        self.url = url\n",
    "        self.headers = headers\n",
    "        \n",
    "    def generate(self, body):\n",
    "        \n",
    "        try:\n",
    "            response = requests.post(self.url, data=body, headers=self.headers, verify=False)\n",
    "        \n",
    "        except:\n",
    "            print(\"retrying due to an error......\")\n",
    "            time.sleep(20)\n",
    "            return self.generate(body)\n",
    "        \n",
    "        return response\n",
    "        \n",
    "        "
   ]
  },
  {
   "cell_type": "code",
   "execution_count": 18,
   "id": "62353eab",
   "metadata": {},
   "outputs": [],
   "source": [
    "model = model_api(api['url'], api['headers'])"
   ]
  },
  {
   "cell_type": "code",
   "execution_count": 19,
   "id": "0d917811",
   "metadata": {},
   "outputs": [],
   "source": [
    "BODY_TEMP = api['body']"
   ]
  },
  {
   "cell_type": "code",
   "execution_count": 20,
   "id": "e1b92c2b",
   "metadata": {},
   "outputs": [],
   "source": [
    "# body = json.dumps(body_temp)"
   ]
  },
  {
   "cell_type": "code",
   "execution_count": 21,
   "id": "e17f99b4",
   "metadata": {},
   "outputs": [],
   "source": [
    "# print(body)"
   ]
  },
  {
   "cell_type": "code",
   "execution_count": 22,
   "id": "3a1c7748",
   "metadata": {},
   "outputs": [],
   "source": [
    "# response = api.generate(body)"
   ]
  },
  {
   "cell_type": "code",
   "execution_count": 23,
   "id": "f1badbc7",
   "metadata": {},
   "outputs": [],
   "source": [
    "# context = response.json()['data'][0]['result'][0]"
   ]
  },
  {
   "cell_type": "code",
   "execution_count": 24,
   "id": "71e1480a",
   "metadata": {},
   "outputs": [],
   "source": [
    "# print(context)"
   ]
  },
  {
   "cell_type": "code",
   "execution_count": 26,
   "id": "c4be2cf2",
   "metadata": {},
   "outputs": [],
   "source": [
    "def get_mwp_zs_cot(que):\n",
    "    prompt = f\"질문: {que} 정답: 질문을 단계적으로 풀어보면, \"\n",
    "    return prompt"
   ]
  },
  {
   "cell_type": "code",
   "execution_count": 27,
   "id": "9ad5cdfd",
   "metadata": {},
   "outputs": [],
   "source": [
    "def get_mwp_zs(que):\n",
    "    prompt = f'질문: {que} 정답 : '\n",
    "    return prompt"
   ]
  },
  {
   "cell_type": "code",
   "execution_count": 28,
   "id": "14cbc2bf",
   "metadata": {},
   "outputs": [],
   "source": [
    "def get_body(prompt, body_temp):\n",
    "    body_temp[\"utterance\"] = prompt\n",
    "    return json.dumps(body_temp)"
   ]
  },
  {
   "cell_type": "code",
   "execution_count": null,
   "id": "f87574fc",
   "metadata": {},
   "outputs": [],
   "source": [
    "# from pprint import pprint"
   ]
  },
  {
   "cell_type": "markdown",
   "id": "b923ab0c",
   "metadata": {},
   "source": [
    "### GSM8K-TEST\n",
    "    26 out of 1319 : contains the answer in the question due to translation\n",
    "### GSM8K-TRAIN\n",
    "    163 out of 7473 : contains the answer in the question due to translation"
   ]
  },
  {
   "cell_type": "code",
   "execution_count": 29,
   "id": "16dc168a",
   "metadata": {
    "scrolled": false
   },
   "outputs": [
    {
     "name": "stderr",
     "output_type": "stream",
     "text": [
      "/userhomes/philhoon/miniconda3/envs/kt/lib/python3.8/site-packages/urllib3/connectionpool.py:1095: InsecureRequestWarning: Unverified HTTPS request is being made to host 'aiapi.genielabs.ai'. Adding certificate verification is strongly advised. See: https://urllib3.readthedocs.io/en/latest/advanced-usage.html#tls-warnings\n",
      "  warnings.warn(\n"
     ]
    },
    {
     "name": "stdout",
     "output_type": "stream",
     "text": [
      "prompt : \n",
      "질문: 지영이네 반 친구들이 키가 작은 순서대로 줄을 서있습니다. 지영이는 앞에서부터 6번째에 줄을 섰으며, 지영이네 반은 모두 18명입니다. 키가 큰 사람부터 다시 줄을 세운다면, 지영이는 앞에서부터 몇 번째로 줄을 서게 될까요? 정답: 질문을 단계적으로 풀어보면, \n",
      "res_context : \n",
      "정답: 1단계: 지영이네 반 친구들의 키가 작은 순서대로 줄을 서있습니다. 지영이는 앞에서부터 6번째에 줄을 섰으며, 지영이네 반은 모두 18명입니다. 2단계: 키가 큰 사람부터 다시 줄을 세운다면, 지영이는 앞에서부터 몇 번째로 줄을 서게 될까요? 6번째 + 18번째 = 36번째 3단계: 지영이는 앞에서부터 몇 번째로 줄을 서게 될까요? 36번째\n"
     ]
    },
    {
     "name": "stderr",
     "output_type": "stream",
     "text": [
      "/userhomes/philhoon/miniconda3/envs/kt/lib/python3.8/site-packages/urllib3/connectionpool.py:1095: InsecureRequestWarning: Unverified HTTPS request is being made to host 'aiapi.genielabs.ai'. Adding certificate verification is strongly advised. See: https://urllib3.readthedocs.io/en/latest/advanced-usage.html#tls-warnings\n",
      "  warnings.warn(\n"
     ]
    },
    {
     "name": "stdout",
     "output_type": "stream",
     "text": [
      "prompt : \n",
      "질문: 반짇고리 안에는 여러 가지 모양의 단추가 있습니다. 동그란 단추는 6개가 들어있고, 네모난 단추와 세모난 단추는 각각 3개씩 들어 있습니다. 동그란 단추는 네모난 단추보다 몇 개가 더 많습니까? 정답: 질문을 단계적으로 풀어보면, \n",
      "res_context : \n",
      "1. 동그란 단추는 6개가 들어있고, 네모난 단추는 3개가 들어있습니다. 2. 네모난 단추와 세모난 단추는 각각 3개씩 들어 있습니다. 3. 동그란 단추는 네모난 단추보다 2개가 더 많습니다. 따라서, 동그란 단추는 네모난 단추보다 2개가 더 많습니다.\n"
     ]
    },
    {
     "name": "stderr",
     "output_type": "stream",
     "text": [
      "/userhomes/philhoon/miniconda3/envs/kt/lib/python3.8/site-packages/urllib3/connectionpool.py:1095: InsecureRequestWarning: Unverified HTTPS request is being made to host 'aiapi.genielabs.ai'. Adding certificate verification is strongly advised. See: https://urllib3.readthedocs.io/en/latest/advanced-usage.html#tls-warnings\n",
      "  warnings.warn(\n"
     ]
    },
    {
     "name": "stdout",
     "output_type": "stream",
     "text": [
      "prompt : \n",
      "질문: 연필 6자루를 필통 3개에 똑같이 나누어 담으려고 합니다. 몇 자루씩 담아야 하는지 구하세요. 정답: 질문을 단계적으로 풀어보면, \n",
      "res_context : \n",
      "1. 연필 6자루를 필통 3개에 똑같이 나누어 담을 때, 필통의 용량을 계산합니다. 2. 6자루 * 3개 = 18자루 3. 필통에 담을 때, 연필 6자루는 3개의 필통에 모두 담을 수 있습니다. 따라서, 18자루는 필통에 담아야 합니다. 정답: 18자루\n"
     ]
    },
    {
     "name": "stderr",
     "output_type": "stream",
     "text": [
      "/userhomes/philhoon/miniconda3/envs/kt/lib/python3.8/site-packages/urllib3/connectionpool.py:1095: InsecureRequestWarning: Unverified HTTPS request is being made to host 'aiapi.genielabs.ai'. Adding certificate verification is strongly advised. See: https://urllib3.readthedocs.io/en/latest/advanced-usage.html#tls-warnings\n",
      "  warnings.warn(\n"
     ]
    },
    {
     "name": "stdout",
     "output_type": "stream",
     "text": [
      "prompt : \n",
      "질문: 집게의 길이는 4cm 8mm이고, 빨대의 길이는 3cm 6mm입니다. 집게와 빨대의 길이의 차는 몇 mm일까요? 정답: 질문을 단계적으로 풀어보면, \n",
      "res_context : \n",
      "1. 집게의 길이는 4cm 8mm이고, 빨대의 길이는 3cm 6mm이므로, 집게와 빨대의 길이의 차는 4cm + 3cm = 12cm입니다. 2. 집게와 빨대의 길이의 차를 계산하기 위해, 집게의 길이를 빨대의 길이로 나누어야 합니다. 집게의 길이 = 4cm 8mm / 3cm = 12cm 3. 집게와 빨대의 길이의 차를 계산하기 위해, 빨대의 길이를 집게의 길이로 나누어야 합니다. 빨대의 길이 = 3cm 6mm / 4cm = 8cm 따라서, 집게와 빨대의 길이의 차는 12cm입니다.\n"
     ]
    },
    {
     "name": "stderr",
     "output_type": "stream",
     "text": [
      "/userhomes/philhoon/miniconda3/envs/kt/lib/python3.8/site-packages/urllib3/connectionpool.py:1095: InsecureRequestWarning: Unverified HTTPS request is being made to host 'aiapi.genielabs.ai'. Adding certificate verification is strongly advised. See: https://urllib3.readthedocs.io/en/latest/advanced-usage.html#tls-warnings\n",
      "  warnings.warn(\n"
     ]
    },
    {
     "name": "stdout",
     "output_type": "stream",
     "text": [
      "prompt : \n",
      "질문: 연지가 하트모양 초콜릿을 만듭니다. 녹인 초콜릿을 10칸 짜리 틀에 부었더니 7개의 틀을 가득 채웠고, 여덟번째 틀에는 빈 칸이 3개 남았습니다. 연지가 만든 초콜릿의 개수는 전부 몇 개입니까? 정답: 질문을 단계적으로 풀어보면, \n",
      "res_context : \n",
      "연지가 만든 초콜릿의 개수는 7개입니다. 7개의 틀을 가득 채웠고, 여덟번째 틀에는 빈 칸이 3개 남았습니다. 총 7 + 3 = 11개의 초콜릿이 만들어졌습니다.\n"
     ]
    },
    {
     "name": "stderr",
     "output_type": "stream",
     "text": [
      "/userhomes/philhoon/miniconda3/envs/kt/lib/python3.8/site-packages/urllib3/connectionpool.py:1095: InsecureRequestWarning: Unverified HTTPS request is being made to host 'aiapi.genielabs.ai'. Adding certificate verification is strongly advised. See: https://urllib3.readthedocs.io/en/latest/advanced-usage.html#tls-warnings\n",
      "  warnings.warn(\n"
     ]
    },
    {
     "name": "stdout",
     "output_type": "stream",
     "text": [
      "prompt : \n",
      "질문: 숲 속 동물들이 100m 달리기 시합을 했더니 호랑이는 15초, 고라니는 20초, 삵은 18초, 늑대는 21초를 기록했습니다. 2번째로 빠른 동물의 기록은 몇 초였나요? 정답: 질문을 단계적으로 풀어보면, \n",
      "res_context : \n",
      "1. 주어진 시간을 계산합니다. 2. 주어진 시간에서 1을 빼줍니다. 3. 15초 + 20초 = 15 4. 18초 + 21초 = 21 5. 2번째로 빠른 동물의 기록을 계산합니다. 6. 2번째로 빠른 동물의 기록에서 1을 빼줍니다. 7. 15초 + 20초 = 15 8. 따라서, 2번째로 빠른 동물의 기록은 15초였습니다.\n"
     ]
    }
   ],
   "source": [
    "cnt = 0\n",
    "split_cnt = 0\n",
    "for ins in data:\n",
    "\n",
    "    kor_que = ins['question']\n",
    "    \n",
    "    \n",
    "    prompt = get_mwp_zs_cot(kor_que)\n",
    "\n",
    "\n",
    "    body = get_body(prompt, BODY_TEMP)\n",
    "    response = model.generate(body)\n",
    "    res_context = response.json()['data'][0]['result'][0]\n",
    "    \n",
    "    print(f'prompt : ')\n",
    "    print(prompt)\n",
    "    print(f'res_context : ')\n",
    "    print(res_context)\n",
    "    \n",
    "    ins['zs_infer'] = res_context\n",
    "#     jsonl_writer.write_json_line(ins)\n",
    "\n",
    "    if cnt == 5:\n",
    "        break\n",
    "    else:\n",
    "        cnt += 1\n",
    "    \n"
   ]
  },
  {
   "cell_type": "code",
   "execution_count": null,
   "id": "d942c2fb",
   "metadata": {},
   "outputs": [],
   "source": []
  }
 ],
 "metadata": {
  "kernelspec": {
   "display_name": "Python 3 (ipykernel)",
   "language": "python",
   "name": "python3"
  },
  "language_info": {
   "codemirror_mode": {
    "name": "ipython",
    "version": 3
   },
   "file_extension": ".py",
   "mimetype": "text/x-python",
   "name": "python",
   "nbconvert_exporter": "python",
   "pygments_lexer": "ipython3",
   "version": "3.8.17"
  }
 },
 "nbformat": 4,
 "nbformat_minor": 5
}
