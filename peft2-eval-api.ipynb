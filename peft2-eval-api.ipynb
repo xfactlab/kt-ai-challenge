{
 "cells": [
  {
   "cell_type": "markdown",
   "id": "cd133517",
   "metadata": {},
   "source": [
    "### Format\n",
    "\n",
    "    Input\n",
    "    \"\"\"\n",
    "    질문: <question>\n",
    "    풀이: <reasoning>\n",
    "    정답: <answer>\n",
    "\n",
    "    질문: <question>\n",
    "    풀이: \n",
    "    \"\"\"\n",
    "    \n",
    "    \n",
    "    Output\n",
    "    \"\"\"\n",
    "    <reasoning>\n",
    "    정답 : <answer>\n",
    "    \"\"\"\n",
    "    "
   ]
  },
  {
   "cell_type": "markdown",
   "id": "0f3d98f1",
   "metadata": {},
   "source": [
    "## 각각의 데이터는 같음\n",
    "    - /userhomes/philhoon/kt-ai-challenge/result\n",
    "    # kor-gsm8k-one_shot_cot_finetuning-test.jsonl\n",
    "    # kor-gsm8k-peft2-test.jsonl\n",
    "\n",
    "    # kor-gsm8k-one_shot_cot_finetuning-train.csv\n",
    "    # kor-gsm8k-peft2-train.csv"
   ]
  },
  {
   "cell_type": "code",
   "execution_count": 1,
   "id": "de0d3743",
   "metadata": {},
   "outputs": [],
   "source": [
    "import json\n",
    "import requests\n",
    "from src import utils\n",
    "import time\n",
    "import os\n",
    "import csv\n",
    "import re"
   ]
  },
  {
   "cell_type": "code",
   "execution_count": 2,
   "id": "4df15af6",
   "metadata": {},
   "outputs": [],
   "source": [
    "class model_api():\n",
    "    def __init__(self, url, headers):\n",
    "        self.url = url\n",
    "        self.headers = headers\n",
    "        \n",
    "    def generate(self, body):\n",
    "        \n",
    "        try:\n",
    "            response = requests.post(self.url, data=body, headers=self.headers, verify=False)\n",
    "        \n",
    "        except:\n",
    "            print(\"retrying due to an error......\")\n",
    "            time.sleep(20)\n",
    "            return self.generate(body)\n",
    "        \n",
    "        return response\n",
    "        \n",
    "        "
   ]
  },
  {
   "cell_type": "code",
   "execution_count": null,
   "id": "1d45164e",
   "metadata": {},
   "outputs": [],
   "source": [
    "api_path = '/userhomes/philhoon/kt-ai-challenge/api-peft1.json'\n",
    "api = utils.read_json_file(api_path)"
   ]
  },
  {
   "cell_type": "code",
   "execution_count": null,
   "id": "9dc61459",
   "metadata": {},
   "outputs": [],
   "source": [
    "BODY_TEMP = api['body']"
   ]
  },
  {
   "cell_type": "code",
   "execution_count": null,
   "id": "38e438c8",
   "metadata": {},
   "outputs": [],
   "source": [
    "model = model_api(api['url'], api['headers'])"
   ]
  },
  {
   "cell_type": "code",
   "execution_count": null,
   "id": "c51fe990",
   "metadata": {},
   "outputs": [],
   "source": [
    "# input_file = '/userhomes/philhoon/kt-ai-challenge/data/openai-gpt-3.5-turbo-0301-2048-0.0-KOR-gsm8k-test.jsonl'\n",
    "input_file = '/userhomes/philhoon/kt-ai-challenge/result/kor-gsm8k-peft1-test.jsonl'"
   ]
  },
  {
   "cell_type": "code",
   "execution_count": null,
   "id": "90d1cca3",
   "metadata": {},
   "outputs": [],
   "source": [
    "data = utils.read_jsonlines(input_file)"
   ]
  },
  {
   "cell_type": "code",
   "execution_count": null,
   "id": "0d312a2f",
   "metadata": {},
   "outputs": [],
   "source": [
    "len(data)"
   ]
  },
  {
   "cell_type": "code",
   "execution_count": null,
   "id": "e455f89d",
   "metadata": {},
   "outputs": [],
   "source": [
    "# os.makedirs(output_path, exist_ok=True)\n",
    "output_path = '/userhomes/philhoon/kt-ai-challenge/result'\n",
    "output_file_name = 'peft1-result-ko-gsm8k-test.jsonl'\n",
    "output_file = output_path + '/' + output_file_name\n",
    "print(f'output_file : {output_file}')\n",
    "# jsonl_writer = utils.JSONLWriter(output_file)"
   ]
  },
  {
   "cell_type": "code",
   "execution_count": null,
   "id": "6a3ff058",
   "metadata": {},
   "outputs": [],
   "source": [
    "# def get_gsm8k_zs(que):\n",
    "#     prompt = f'질문 : {que} \\n정답 : '\n",
    "#     return prompt"
   ]
  },
  {
   "cell_type": "code",
   "execution_count": null,
   "id": "06afe0f0",
   "metadata": {},
   "outputs": [],
   "source": [
    "# def get_gsm8k_build_data_with_reason(kor_que, kor_ans, ans_s):\n",
    "#     prompt = f\"질문: {kor_que}\"\n",
    "#     output = f\"풀이: {kor_ans} 정답: {ans_s}\"\n",
    "#     return prompt, output"
   ]
  },
  {
   "cell_type": "code",
   "execution_count": null,
   "id": "14cbc2bf",
   "metadata": {},
   "outputs": [],
   "source": [
    "def get_body(prompt, body_temp):\n",
    "    body_temp[\"utterance\"] = prompt\n",
    "    return json.dumps(body_temp)"
   ]
  },
  {
   "cell_type": "code",
   "execution_count": null,
   "id": "f87574fc",
   "metadata": {},
   "outputs": [],
   "source": [
    "# from pprint import pprint"
   ]
  },
  {
   "cell_type": "code",
   "execution_count": null,
   "id": "122da20d",
   "metadata": {},
   "outputs": [],
   "source": [
    "def remove_line_slit(context):\n",
    "    context = re.sub(r\"\\n\", \" \", context)\n",
    "    return context"
   ]
  },
  {
   "cell_type": "markdown",
   "id": "b923ab0c",
   "metadata": {},
   "source": [
    "### GSM8K-TEST\n",
    "    26 out of 1319 : contains the answer in the question due to translation\n",
    "### GSM8K-TRAIN\n",
    "    163 out of 7473 : contains the answer in the question due to translation"
   ]
  },
  {
   "cell_type": "code",
   "execution_count": null,
   "id": "f2c49d11",
   "metadata": {},
   "outputs": [],
   "source": [
    "from pprint import pprint"
   ]
  },
  {
   "cell_type": "code",
   "execution_count": null,
   "id": "16dc168a",
   "metadata": {
    "scrolled": false
   },
   "outputs": [],
   "source": [
    "cnt = 0\n",
    "split_cnt = 0\n",
    "input_lst = []\n",
    "output_lst = []\n",
    "\n",
    "for ins in data:\n",
    "    prompt = ins['kor_question_reason']\n",
    "\n",
    "#     print(prompt)\n",
    "    body = get_body(prompt, BODY_TEMP)\n",
    "#     print(body)\n",
    "    response = model.generate(body)\n",
    "    res_context = response.json()['data'][0]['result'][0]\n",
    "    \n",
    "    print(f'prompt : ')\n",
    "    print(prompt)\n",
    "    print(f'res_context : ')\n",
    "    print(res_context)\n",
    "    print('----')\n",
    "    \n",
    "#     break\n",
    "    # checking whether there is an answer \n",
    "#     test = kor_que.split('\\n')\n",
    "    \n",
    "#     if len(test[0]) != len(kor_que):\n",
    "#         split_cnt += 1\n",
    "#         continue\n",
    "    \n",
    "#     print(f'kor_que')\n",
    "#     print(f'{kor_que}')\n",
    "#     print(f'kor_ans')\n",
    "#     print(f'{kor_ans}')\n",
    "#     print(f'ans_s')\n",
    "#     print(f'{ans_s}')\n",
    "    \n",
    "    ins['peft1_infer'] = res_context\n",
    "#     jsonl_writer.write_json_line(ins)\n",
    "    \n",
    "    if cnt == 10:\n",
    "        break\n",
    "    else:\n",
    "        cnt += 1"
   ]
  },
  {
   "cell_type": "code",
   "execution_count": null,
   "id": "2b4bd594",
   "metadata": {},
   "outputs": [],
   "source": [
    "len(data) - split_cnt"
   ]
  },
  {
   "cell_type": "code",
   "execution_count": null,
   "id": "d942c2fb",
   "metadata": {},
   "outputs": [],
   "source": [
    "len(input_lst)"
   ]
  },
  {
   "cell_type": "code",
   "execution_count": null,
   "id": "22777d6d",
   "metadata": {},
   "outputs": [],
   "source": [
    "len(output_lst)"
   ]
  },
  {
   "cell_type": "code",
   "execution_count": null,
   "id": "a55b80bb",
   "metadata": {},
   "outputs": [],
   "source": [
    "def save_csv_file(file_path, sentence_a_list, sentence_b_list):\n",
    "    with open(file_path, 'w', newline='', encoding='utf-8') as csv_file:\n",
    "        writer = csv.writer(csv_file)\n",
    "        for sentence_a, sentence_b in zip(sentence_a_list, sentence_b_list):\n",
    "            writer.writerow([sentence_a, sentence_b])"
   ]
  },
  {
   "cell_type": "code",
   "execution_count": null,
   "id": "7e71d4f2",
   "metadata": {},
   "outputs": [],
   "source": [
    "output_path = '/userhomes/philhoon/kt-ai-challenge/result'"
   ]
  },
  {
   "cell_type": "code",
   "execution_count": null,
   "id": "83b04f11",
   "metadata": {},
   "outputs": [],
   "source": [
    "output_file = output_path + '/kor-gsm8k-reason-train.csv'"
   ]
  },
  {
   "cell_type": "code",
   "execution_count": null,
   "id": "339b6d5b",
   "metadata": {},
   "outputs": [],
   "source": [
    "output_file"
   ]
  },
  {
   "cell_type": "code",
   "execution_count": null,
   "id": "f20d1402",
   "metadata": {},
   "outputs": [],
   "source": [
    "save_csv_file(output_file, input_lst, output_lst)"
   ]
  },
  {
   "cell_type": "code",
   "execution_count": null,
   "id": "b8d7a499",
   "metadata": {},
   "outputs": [],
   "source": [
    "input_lst[1]"
   ]
  },
  {
   "cell_type": "code",
   "execution_count": null,
   "id": "705bf356",
   "metadata": {},
   "outputs": [],
   "source": [
    "output_lst[1]"
   ]
  }
 ],
 "metadata": {
  "kernelspec": {
   "display_name": "Python 3 (ipykernel)",
   "language": "python",
   "name": "python3"
  },
  "language_info": {
   "codemirror_mode": {
    "name": "ipython",
    "version": 3
   },
   "file_extension": ".py",
   "mimetype": "text/x-python",
   "name": "python",
   "nbconvert_exporter": "python",
   "pygments_lexer": "ipython3",
   "version": "3.8.17"
  }
 },
 "nbformat": 4,
 "nbformat_minor": 5
}
