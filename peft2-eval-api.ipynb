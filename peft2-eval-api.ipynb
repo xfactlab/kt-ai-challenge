{
 "cells": [
  {
   "cell_type": "markdown",
   "id": "cd133517",
   "metadata": {},
   "source": [
    "### Format\n",
    "\n",
    "    Input\n",
    "    \"\"\"\n",
    "    질문: <question>\n",
    "    풀이: <reasoning>\n",
    "    정답: <answer>\n",
    "\n",
    "    질문: <question>\n",
    "    풀이: \n",
    "    \"\"\"\n",
    "    \n",
    "    \n",
    "    Output\n",
    "    \"\"\"\n",
    "    <reasoning>\n",
    "    정답 : <answer>\n",
    "    \"\"\"\n",
    "    "
   ]
  },
  {
   "cell_type": "markdown",
   "id": "0f3d98f1",
   "metadata": {},
   "source": [
    "## 각각의 데이터는 같음\n",
    "    - /userhomes/philhoon/kt-ai-challenge/result\n",
    "    # kor-gsm8k-one_shot_cot_finetuning-test.jsonl\n",
    "    # kor-gsm8k-peft2-test.jsonl\n",
    "\n",
    "    # kor-gsm8k-one_shot_cot_finetuning-train.csv\n",
    "    # kor-gsm8k-peft2-train.csv"
   ]
  },
  {
   "cell_type": "code",
   "execution_count": 4,
   "id": "de0d3743",
   "metadata": {},
   "outputs": [],
   "source": [
    "import json\n",
    "import requests\n",
    "from src import utils\n",
    "import time\n",
    "import os\n",
    "import csv\n",
    "import re"
   ]
  },
  {
   "cell_type": "code",
   "execution_count": 5,
   "id": "50d1c285",
   "metadata": {},
   "outputs": [],
   "source": [
    "# PROMPT1 = \"질문: 나탈리아는 4월에 친구 48명에게 클립을 팔았고, 그리고 5월에는 그 절반만큼을 팔았습니다. 나탈리아는 4월과 5월에 모두 몇 개의 클립을 팔았을까요? \\\n",
    "# 풀이: 나탈리아는 5월에 48/2 = 24개의 클립을 판매했습니다. 나탈리아는 4월과 5월에 모두 48+24 = 72개의 클립을 판매했습니다. \\\n",
    "# 정답: 72 \\\\n\"\n"
   ]
  },
  {
   "cell_type": "code",
   "execution_count": 28,
   "id": "0c0a8ccc",
   "metadata": {},
   "outputs": [],
   "source": [
    "# 질문: 항아리 안에 몇 개의 젤리빈이 있습니다. 젤리빈의 3/4은 빨간색이며, 빨간색 젤리빈의 1/4은 코코넛 맛입니다. 코코넛 맛 젤리빈이 750개이면, 항아리 안에는 몇 개의 젤리빈이 있나요? 풀이: '\n",
    "# 젤리콩이 750*4=3000개가 있습니다. 그리고 병 안에는 3000/3*4=4000개의 젤리콩이 있습니다. 정답: 4000\n",
    "PROMPT2 = \"질문: 항아리 안에 몇 개의 젤리빈이 있습니다. 젤리빈의 3/4은 빨간색이며, 빨간색 젤리빈의 1/4은 코코넛 맛입니다. 코코넛 맛 젤리빈이 750개이면, 항아리 안에는 몇 개의 젤리빈이 있나요? \\\n",
    "풀이: 젤리콩이 750*4=3000개가 있습니다. 그리고 병 안에는 3000/3*4=4000개의 젤리콩이 있습니다. \\\n",
    "정답: 4000 \\\\n\"\n"
   ]
  },
  {
   "cell_type": "code",
   "execution_count": 6,
   "id": "4df15af6",
   "metadata": {},
   "outputs": [],
   "source": [
    "class model_api():\n",
    "    def __init__(self, url, headers):\n",
    "        self.url = url\n",
    "        self.headers = headers\n",
    "        \n",
    "    def generate(self, body):\n",
    "        \n",
    "        try:\n",
    "            response = requests.post(self.url, data=body, headers=self.headers, verify=False)\n",
    "        \n",
    "        except:\n",
    "            print(\"retrying due to an error......\")\n",
    "            time.sleep(20)\n",
    "            return self.generate(body)\n",
    "        \n",
    "        return response\n",
    "        \n",
    "        "
   ]
  },
  {
   "cell_type": "code",
   "execution_count": 7,
   "id": "1d45164e",
   "metadata": {},
   "outputs": [],
   "source": [
    "api_path = '/userhomes/philhoon/kt-ai-challenge/api-peft2.json'\n",
    "api = utils.read_json_file(api_path)"
   ]
  },
  {
   "cell_type": "code",
   "execution_count": 8,
   "id": "9dc61459",
   "metadata": {},
   "outputs": [],
   "source": [
    "BODY_TEMP = api['body']"
   ]
  },
  {
   "cell_type": "code",
   "execution_count": 9,
   "id": "38e438c8",
   "metadata": {},
   "outputs": [],
   "source": [
    "model = model_api(api['url'], api['headers'])"
   ]
  },
  {
   "cell_type": "code",
   "execution_count": 10,
   "id": "c51fe990",
   "metadata": {},
   "outputs": [],
   "source": [
    "# input_file = '/userhomes/philhoon/kt-ai-challenge/data/openai-gpt-3.5-turbo-0301-2048-0.0-KOR-gsm8k-test.jsonl'\n",
    "input_file = '/userhomes/philhoon/kt-ai-challenge/result/kor-gsm8k-peft2-test.jsonl'"
   ]
  },
  {
   "cell_type": "code",
   "execution_count": 11,
   "id": "90d1cca3",
   "metadata": {},
   "outputs": [],
   "source": [
    "data = utils.read_jsonlines(input_file)"
   ]
  },
  {
   "cell_type": "code",
   "execution_count": 12,
   "id": "0d312a2f",
   "metadata": {},
   "outputs": [
    {
     "data": {
      "text/plain": [
       "1293"
      ]
     },
     "execution_count": 12,
     "metadata": {},
     "output_type": "execute_result"
    }
   ],
   "source": [
    "len(data)"
   ]
  },
  {
   "cell_type": "code",
   "execution_count": 15,
   "id": "e455f89d",
   "metadata": {},
   "outputs": [
    {
     "name": "stdout",
     "output_type": "stream",
     "text": [
      "output_file : /userhomes/philhoon/kt-ai-challenge/result/peft2-result-ko-gsm8k-test.jsonl\n"
     ]
    }
   ],
   "source": [
    "# os.makedirs(output_path, exist_ok=True)\n",
    "output_path = '/userhomes/philhoon/kt-ai-challenge/result'\n",
    "output_file_name = 'peft2-result-ko-gsm8k-test.jsonl'\n",
    "output_file = output_path + '/' + output_file_name\n",
    "print(f'output_file : {output_file}')\n",
    "# jsonl_writer = utils.JSONLWriter(output_file)"
   ]
  },
  {
   "cell_type": "code",
   "execution_count": 16,
   "id": "6a3ff058",
   "metadata": {},
   "outputs": [],
   "source": [
    "# def get_gsm8k_zs(que):\n",
    "#     prompt = f'질문 : {que} \\n정답 : '\n",
    "#     return prompt"
   ]
  },
  {
   "cell_type": "code",
   "execution_count": 17,
   "id": "06afe0f0",
   "metadata": {},
   "outputs": [],
   "source": [
    "# def get_gsm8k_build_data_with_reason(kor_que, kor_ans, ans_s):\n",
    "#     prompt = f\"질문: {kor_que}\"\n",
    "#     output = f\"풀이: {kor_ans} 정답: {ans_s}\"\n",
    "#     return prompt, output"
   ]
  },
  {
   "cell_type": "code",
   "execution_count": 18,
   "id": "14cbc2bf",
   "metadata": {},
   "outputs": [],
   "source": [
    "def get_body(prompt, body_temp):\n",
    "    body_temp[\"utterance\"] = prompt\n",
    "    return json.dumps(body_temp)"
   ]
  },
  {
   "cell_type": "code",
   "execution_count": 19,
   "id": "f87574fc",
   "metadata": {},
   "outputs": [],
   "source": [
    "# from pprint import pprint"
   ]
  },
  {
   "cell_type": "code",
   "execution_count": 20,
   "id": "122da20d",
   "metadata": {},
   "outputs": [],
   "source": [
    "def remove_line_slit(context):\n",
    "    context = re.sub(r\"\\n\", \" \", context)\n",
    "    return context"
   ]
  },
  {
   "cell_type": "code",
   "execution_count": 30,
   "id": "3c51618a",
   "metadata": {},
   "outputs": [],
   "source": [
    "def get_gsm8k_build_data_with_one_shot_cot_finetuning(kor_que, kor_ans, ans_s, PROMPT1):\n",
    "    PROMPT1 \n",
    "    prompt = f\"질문: {kor_que} 풀이: \"\n",
    "    output = f\"{kor_ans} 정답: {ans_s}\"\n",
    "    \n",
    "    prompt = PROMPT1 + prompt\n",
    "    return prompt, output"
   ]
  },
  {
   "cell_type": "markdown",
   "id": "b923ab0c",
   "metadata": {},
   "source": [
    "### GSM8K-TEST\n",
    "    26 out of 1319 : contains the answer in the question due to translation\n",
    "### GSM8K-TRAIN\n",
    "    163 out of 7473 : contains the answer in the question due to translation"
   ]
  },
  {
   "cell_type": "code",
   "execution_count": 21,
   "id": "f2c49d11",
   "metadata": {},
   "outputs": [],
   "source": [
    "from pprint import pprint"
   ]
  },
  {
   "cell_type": "code",
   "execution_count": 35,
   "id": "16dc168a",
   "metadata": {
    "scrolled": false
   },
   "outputs": [
    {
     "name": "stderr",
     "output_type": "stream",
     "text": [
      "/userhomes/philhoon/miniconda3/envs/kt/lib/python3.8/site-packages/urllib3/connectionpool.py:1095: InsecureRequestWarning: Unverified HTTPS request is being made to host 'aiapi.genielabs.ai'. Adding certificate verification is strongly advised. See: https://urllib3.readthedocs.io/en/latest/advanced-usage.html#tls-warnings\n",
      "  warnings.warn(\n"
     ]
    },
    {
     "name": "stdout",
     "output_type": "stream",
     "text": [
      "prompt : \n",
      "질문: 항아리 안에 몇 개의 젤리빈이 있습니다. 젤리빈의 3/4은 빨간색이며, 빨간색 젤리빈의 1/4은 코코넛 맛입니다. 코코넛 맛 젤리빈이 750개이면, 항아리 안에는 몇 개의 젤리빈이 있나요? 풀이: 젤리콩이 750*4=3000개가 있습니다. 그리고 병 안에는 3000/3*4=4000개의 젤리콩이 있습니다. 정답: 4000 \\n질문: 한 벌의 로브를 만드는 데 파란색 섬유 2 덩이와 그 절반만큼의 흰색 섬유가 필요합니다. 총 몇 덩이의 섬유가 필요한가요? 풀이: \n",
      "res_context : \n",
      "그리고 병 안에는 2000/3*4=12000개의 섬유가 있습니다. 정답: 12000 \\n질문: 한 벌의 로브를 만드는 데 파란색 섬유 2 덩이와 그 절반만큼의 흰색 섬유가 필요합니다.\n",
      "----\n"
     ]
    },
    {
     "name": "stderr",
     "output_type": "stream",
     "text": [
      "/userhomes/philhoon/miniconda3/envs/kt/lib/python3.8/site-packages/urllib3/connectionpool.py:1095: InsecureRequestWarning: Unverified HTTPS request is being made to host 'aiapi.genielabs.ai'. Adding certificate verification is strongly advised. See: https://urllib3.readthedocs.io/en/latest/advanced-usage.html#tls-warnings\n",
      "  warnings.warn(\n"
     ]
    },
    {
     "name": "stdout",
     "output_type": "stream",
     "text": [
      "prompt : \n",
      "질문: 항아리 안에 몇 개의 젤리빈이 있습니다. 젤리빈의 3/4은 빨간색이며, 빨간색 젤리빈의 1/4은 코코넛 맛입니다. 코코넛 맛 젤리빈이 750개이면, 항아리 안에는 몇 개의 젤리빈이 있나요? 풀이: 젤리콩이 750*4=3000개가 있습니다. 그리고 병 안에는 3000/3*4=4000개의 젤리콩이 있습니다. 정답: 4000 \\n질문: 조쉬는 집을 뒤집어 판매해보기로 결정합니다. 그는 $80,000에 집을 구매하고 $50,000을 수리합니다. 이로 인해 집의 가치가 150% 증가합니다. 그가 얼마의 이익을 얻었습니까? 풀이: \n",
      "res_context : \n",
      "그리고 $80과 $50의 차액을 가지고 있습니다. 조쉬는 $80과 $50의 차액을 가지고 있으므로 총 이익은 $150입니다. 정답: 150 \\n질문: 조쉬는 $80을 가지고 있고\n",
      "----\n"
     ]
    },
    {
     "name": "stderr",
     "output_type": "stream",
     "text": [
      "/userhomes/philhoon/miniconda3/envs/kt/lib/python3.8/site-packages/urllib3/connectionpool.py:1095: InsecureRequestWarning: Unverified HTTPS request is being made to host 'aiapi.genielabs.ai'. Adding certificate verification is strongly advised. See: https://urllib3.readthedocs.io/en/latest/advanced-usage.html#tls-warnings\n",
      "  warnings.warn(\n"
     ]
    },
    {
     "name": "stdout",
     "output_type": "stream",
     "text": [
      "prompt : \n",
      "질문: 항아리 안에 몇 개의 젤리빈이 있습니다. 젤리빈의 3/4은 빨간색이며, 빨간색 젤리빈의 1/4은 코코넛 맛입니다. 코코넛 맛 젤리빈이 750개이면, 항아리 안에는 몇 개의 젤리빈이 있나요? 풀이: 젤리콩이 750*4=3000개가 있습니다. 그리고 병 안에는 3000/3*4=4000개의 젤리콩이 있습니다. 정답: 4000 \\n질문: 제임스는 매주 3번씩 3번의 짧은 달리기를 결심합니다. 그는 각각 60미터를 달립니다. 그가 일주일에 총 몇 미터를 달릴까요? 풀이: \n",
      "res_context : \n",
      "그리고 일주일에 총 60미터를 달립니다. 정답: 60미터/일 = 2주 동안\n",
      "----\n"
     ]
    },
    {
     "name": "stderr",
     "output_type": "stream",
     "text": [
      "/userhomes/philhoon/miniconda3/envs/kt/lib/python3.8/site-packages/urllib3/connectionpool.py:1095: InsecureRequestWarning: Unverified HTTPS request is being made to host 'aiapi.genielabs.ai'. Adding certificate verification is strongly advised. See: https://urllib3.readthedocs.io/en/latest/advanced-usage.html#tls-warnings\n",
      "  warnings.warn(\n"
     ]
    },
    {
     "name": "stdout",
     "output_type": "stream",
     "text": [
      "prompt : \n",
      "질문: 항아리 안에 몇 개의 젤리빈이 있습니다. 젤리빈의 3/4은 빨간색이며, 빨간색 젤리빈의 1/4은 코코넛 맛입니다. 코코넛 맛 젤리빈이 750개이면, 항아리 안에는 몇 개의 젤리빈이 있나요? 풀이: 젤리콩이 750*4=3000개가 있습니다. 그리고 병 안에는 3000/3*4=4000개의 젤리콩이 있습니다. 정답: 4000 \\n질문: 매일, 웬디는 각 닭에게 씨앗, 멸치, 채소가 섞인 닭 사료 3컵씩을 주어 건강하게 유지합니다. 그녀는 닭에게 3번의 식사로 사료를 제공합니다. 아침에는 15컵의 사료를 주고, 오후에는 25컵의 사료를 또 다시 주며, 만약 웬디의 닭 떼가 20마리라면, 하루의 마지막 식사에서 닭에게 몇 컵의 사료를 주어야 할까요? 풀이: \n",
      "res_context : \n",
      "그리고 병 안에는 3000/3*4=7000개의 젤리콩이 있습니다. 정답: 7000 \\n질문: 웬디는 3마리의 닭을 키우고 있습니다. 각 닭은 하루에 3컵의 사료를 먹\n",
      "----\n"
     ]
    },
    {
     "name": "stderr",
     "output_type": "stream",
     "text": [
      "/userhomes/philhoon/miniconda3/envs/kt/lib/python3.8/site-packages/urllib3/connectionpool.py:1095: InsecureRequestWarning: Unverified HTTPS request is being made to host 'aiapi.genielabs.ai'. Adding certificate verification is strongly advised. See: https://urllib3.readthedocs.io/en/latest/advanced-usage.html#tls-warnings\n",
      "  warnings.warn(\n"
     ]
    },
    {
     "name": "stdout",
     "output_type": "stream",
     "text": [
      "prompt : \n",
      "질문: 항아리 안에 몇 개의 젤리빈이 있습니다. 젤리빈의 3/4은 빨간색이며, 빨간색 젤리빈의 1/4은 코코넛 맛입니다. 코코넛 맛 젤리빈이 750개이면, 항아리 안에는 몇 개의 젤리빈이 있나요? 풀이: 젤리콩이 750*4=3000개가 있습니다. 그리고 병 안에는 3000/3*4=4000개의 젤리콩이 있습니다. 정답: 4000 \\n질문: 카일러는 새 아파트를 위해 유리잔을 사러 가게에 갔습니다. 하나의 유리잔 가격은 $5이지만, 두 번째 유리잔부터는 가격의 60%만 지불하면 됩니다. 카일러는 16개의 유리잔을 사고 싶습니다. 그들을 위해 얼마를 지불해야 할까요? 풀이: \n",
      "res_context : \n",
      "그리고 병 안에는 3000/4=2000개의 젤리콩이 있습니다. 정답: 2000 \\n질문: 카일러는 16개의 유리잔을 사기 위해 $5를 지불하고 싶습니다. 유리잔의 개수는 4개의 유리잔\n",
      "----\n"
     ]
    },
    {
     "name": "stderr",
     "output_type": "stream",
     "text": [
      "/userhomes/philhoon/miniconda3/envs/kt/lib/python3.8/site-packages/urllib3/connectionpool.py:1095: InsecureRequestWarning: Unverified HTTPS request is being made to host 'aiapi.genielabs.ai'. Adding certificate verification is strongly advised. See: https://urllib3.readthedocs.io/en/latest/advanced-usage.html#tls-warnings\n",
      "  warnings.warn(\n"
     ]
    },
    {
     "name": "stdout",
     "output_type": "stream",
     "text": [
      "prompt : \n",
      "질문: 항아리 안에 몇 개의 젤리빈이 있습니다. 젤리빈의 3/4은 빨간색이며, 빨간색 젤리빈의 1/4은 코코넛 맛입니다. 코코넛 맛 젤리빈이 750개이면, 항아리 안에는 몇 개의 젤리빈이 있나요? 풀이: 젤리콩이 750*4=3000개가 있습니다. 그리고 병 안에는 3000/3*4=4000개의 젤리콩이 있습니다. 정답: 4000 \\n질문: 툴루즈는 찰스턴의 양의 두 배를 가지고 있습니다. 찰스턴은 시애틀의 양의 4 배를 가지고 있습니다. 시애틀은 양이 20마리 있으므로, 툴루즈, 찰스턴 및 시애틀이 함께 가지고 있는 양은 얼마입니까? 풀이: \n",
      "res_context : \n",
      "그리고 병 안에는 3000/3*4=6000개의 젤리콩이 있습니다. 정답: 6000 \\n질문: 시애틀은 양이 20마리 있습니다. 툴루즈는 시애틀의 4배를 가지고 있습니다. 시애틀은 툴루즈의\n",
      "----\n"
     ]
    },
    {
     "name": "stderr",
     "output_type": "stream",
     "text": [
      "/userhomes/philhoon/miniconda3/envs/kt/lib/python3.8/site-packages/urllib3/connectionpool.py:1095: InsecureRequestWarning: Unverified HTTPS request is being made to host 'aiapi.genielabs.ai'. Adding certificate verification is strongly advised. See: https://urllib3.readthedocs.io/en/latest/advanced-usage.html#tls-warnings\n",
      "  warnings.warn(\n"
     ]
    },
    {
     "name": "stdout",
     "output_type": "stream",
     "text": [
      "prompt : \n",
      "질문: 항아리 안에 몇 개의 젤리빈이 있습니다. 젤리빈의 3/4은 빨간색이며, 빨간색 젤리빈의 1/4은 코코넛 맛입니다. 코코넛 맛 젤리빈이 750개이면, 항아리 안에는 몇 개의 젤리빈이 있나요? 풀이: 젤리콩이 750*4=3000개가 있습니다. 그리고 병 안에는 3000/3*4=4000개의 젤리콩이 있습니다. 정답: 4000 \\n질문: 칼라는 200GB 파일을 다운로드하고 있습니다. 보통 그녀는 1분에 2GB를 다운로드할 수 있지만, 다운로드의 40% 지점에서 윈도우가 업데이트를 설치하기 위해 강제로 재시작되어 20분이 걸립니다. 그 후 칼라는 처음부터 다시 다운로드를 시작해야 합니다. 이 파일을 다운로드하는 데 얼마나 걸릴까요? 풀이: \n",
      "res_context : \n",
      "그리고 병 안에는 3000/4=2000개의 젤리콩이 있습니다. 정답: 2000 항아리 안에는 750개의 젤리빈이 있습니다. 항아리 안에는 4000개의 젤리빈이 있습니다. 정답: 4000 n질문: 한 항아리의 젤리빈 수는 1/4입니다. 한 항아리의 젤리빈 수\n",
      "----\n"
     ]
    },
    {
     "name": "stderr",
     "output_type": "stream",
     "text": [
      "/userhomes/philhoon/miniconda3/envs/kt/lib/python3.8/site-packages/urllib3/connectionpool.py:1095: InsecureRequestWarning: Unverified HTTPS request is being made to host 'aiapi.genielabs.ai'. Adding certificate verification is strongly advised. See: https://urllib3.readthedocs.io/en/latest/advanced-usage.html#tls-warnings\n",
      "  warnings.warn(\n"
     ]
    },
    {
     "name": "stdout",
     "output_type": "stream",
     "text": [
      "prompt : \n",
      "질문: 항아리 안에 몇 개의 젤리빈이 있습니다. 젤리빈의 3/4은 빨간색이며, 빨간색 젤리빈의 1/4은 코코넛 맛입니다. 코코넛 맛 젤리빈이 750개이면, 항아리 안에는 몇 개의 젤리빈이 있나요? 풀이: 젤리콩이 750*4=3000개가 있습니다. 그리고 병 안에는 3000/3*4=4000개의 젤리콩이 있습니다. 정답: 4000 \\n질문: 존은 60mph의 속도로 3시간 동안 운전을 하다가 집에서 매우 중요한 것을 깜빡했다는 것을 깨달았습니다. 그는 4시간 안에 집에 도착하려고 노력하지만 처음 2시간 동안 정체 교통에 갇혀 있었습니다. 그는 그 다음 30분 동안 30mph의 속도로 운전한 후 나머지 4시간 동안 80mph의 속도로 운전할 수 있었습니다. 그가 4시간 후에 집으로부터 얼마나 떨어져 있나요? 풀이: \n",
      "res_context : \n",
      "그리고 병 안에는 3000/3*4=4000개의 젤리콩이 있습니다. 정답: 4000 \\n질문: 존은 60mph의 속도로 3시간 동안 운전을 하다가 집에서 매우 중요한 것을 깜빡했다는 것을 깨달았습니다. 그는 4시간 안에 집에 도착하려고 노력\n",
      "----\n"
     ]
    },
    {
     "name": "stderr",
     "output_type": "stream",
     "text": [
      "/userhomes/philhoon/miniconda3/envs/kt/lib/python3.8/site-packages/urllib3/connectionpool.py:1095: InsecureRequestWarning: Unverified HTTPS request is being made to host 'aiapi.genielabs.ai'. Adding certificate verification is strongly advised. See: https://urllib3.readthedocs.io/en/latest/advanced-usage.html#tls-warnings\n",
      "  warnings.warn(\n"
     ]
    },
    {
     "name": "stdout",
     "output_type": "stream",
     "text": [
      "prompt : \n",
      "질문: 항아리 안에 몇 개의 젤리빈이 있습니다. 젤리빈의 3/4은 빨간색이며, 빨간색 젤리빈의 1/4은 코코넛 맛입니다. 코코넛 맛 젤리빈이 750개이면, 항아리 안에는 몇 개의 젤리빈이 있나요? 풀이: 젤리콩이 750*4=3000개가 있습니다. 그리고 병 안에는 3000/3*4=4000개의 젤리콩이 있습니다. 정답: 4000 \\n질문: 엘리자의 시간당 급여는 일주일에 처음 40시간 동안은 10달러입니다. 그녀는 또한 근무 시간 외에 기본 시간당 급여의 1.2배를 받습니다. 이번 주에 엘리자가 45시간 일했다면, 이번 주 그녀의 수입은 얼마입니까? 풀이: \n",
      "res_context : \n",
      "그리고 병 안에는 3000/4=2000개의 젤리콩이 있습니다. 정답: 2000 \\n질문: 제이콥은 일주일에 40시간 일하고 일주일에 5일을 쉬었습니다. 그는\n",
      "----\n"
     ]
    },
    {
     "name": "stderr",
     "output_type": "stream",
     "text": [
      "/userhomes/philhoon/miniconda3/envs/kt/lib/python3.8/site-packages/urllib3/connectionpool.py:1095: InsecureRequestWarning: Unverified HTTPS request is being made to host 'aiapi.genielabs.ai'. Adding certificate verification is strongly advised. See: https://urllib3.readthedocs.io/en/latest/advanced-usage.html#tls-warnings\n",
      "  warnings.warn(\n"
     ]
    },
    {
     "name": "stdout",
     "output_type": "stream",
     "text": [
      "prompt : \n",
      "질문: 항아리 안에 몇 개의 젤리빈이 있습니다. 젤리빈의 3/4은 빨간색이며, 빨간색 젤리빈의 1/4은 코코넛 맛입니다. 코코넛 맛 젤리빈이 750개이면, 항아리 안에는 몇 개의 젤리빈이 있나요? 풀이: 젤리콩이 750*4=3000개가 있습니다. 그리고 병 안에는 3000/3*4=4000개의 젤리콩이 있습니다. 정답: 4000 \\n질문: 한 달 동안 새로운 프로그램은 60번 다운로드되었습니다. 두 번째 달의 다운로드 횟수는 첫 번째 달의 다운로드 횟수의 3배였지만, 세 번째 달에는 30% 감소했습니다. 이 프로그램은 총 3개월 동안 얼마나 많이 다운로드되었습니까? 풀이: \n",
      "res_context : \n",
      "그리고 병 안에는 3000/3*4=12000개의 젤리콩이 있습니다. 정답: 12000 \\n질문: 한 달 동안 60개의 젤리빈이 든 병이 있습니다. 한 달 동안 이 병의\n",
      "----\n"
     ]
    },
    {
     "name": "stderr",
     "output_type": "stream",
     "text": [
      "/userhomes/philhoon/miniconda3/envs/kt/lib/python3.8/site-packages/urllib3/connectionpool.py:1095: InsecureRequestWarning: Unverified HTTPS request is being made to host 'aiapi.genielabs.ai'. Adding certificate verification is strongly advised. See: https://urllib3.readthedocs.io/en/latest/advanced-usage.html#tls-warnings\n",
      "  warnings.warn(\n"
     ]
    },
    {
     "name": "stdout",
     "output_type": "stream",
     "text": [
      "prompt : \n",
      "질문: 항아리 안에 몇 개의 젤리빈이 있습니다. 젤리빈의 3/4은 빨간색이며, 빨간색 젤리빈의 1/4은 코코넛 맛입니다. 코코넛 맛 젤리빈이 750개이면, 항아리 안에는 몇 개의 젤리빈이 있나요? 풀이: 젤리콩이 750*4=3000개가 있습니다. 그리고 병 안에는 3000/3*4=4000개의 젤리콩이 있습니다. 정답: 4000 \\n질문: 툴라는 빵집에 가서 다양한 종류의 과자를 샀습니다. 그녀는 3다스의 도넛을 1다스당 68달러에, 2다스의 미니 컵케이크를 1다스당 80달러에, 그리고 6다스의 미니 치즈케이크를 1다스당 55달러에 샀습니다. 총 비용은 얼마인가요? 풀이: \n",
      "res_context : \n",
      "그리고 병 안에는 3000/3*4=12000개의 젤리콩이 있습니다. 정답: 12000 \\n질문: 한 항아리의 젤리빈 수는 3다스입니다. 한 항아리의 젤리빈 수\n",
      "----\n"
     ]
    },
    {
     "name": "stderr",
     "output_type": "stream",
     "text": [
      "/userhomes/philhoon/miniconda3/envs/kt/lib/python3.8/site-packages/urllib3/connectionpool.py:1095: InsecureRequestWarning: Unverified HTTPS request is being made to host 'aiapi.genielabs.ai'. Adding certificate verification is strongly advised. See: https://urllib3.readthedocs.io/en/latest/advanced-usage.html#tls-warnings\n",
      "  warnings.warn(\n"
     ]
    },
    {
     "name": "stdout",
     "output_type": "stream",
     "text": [
      "prompt : \n",
      "질문: 항아리 안에 몇 개의 젤리빈이 있습니다. 젤리빈의 3/4은 빨간색이며, 빨간색 젤리빈의 1/4은 코코넛 맛입니다. 코코넛 맛 젤리빈이 750개이면, 항아리 안에는 몇 개의 젤리빈이 있나요? 풀이: 젤리콩이 750*4=3000개가 있습니다. 그리고 병 안에는 3000/3*4=4000개의 젤리콩이 있습니다. 정답: 4000 \\n질문: 카를로스는 레몬 나무를 심고 있습니다. 나무를 심는 데 90달러가 듭니다. 매년 7개의 레몬이 열리며, 그것을 1.5달러에 팔 수 있습니다. 나무를 물고 먹이는 데 매년 3달러가 듭니다. 레몬 나무에서 돈을 벌기 시작하는 데 몇 년이 걸릴까요? 풀이: \n",
      "res_context : \n",
      "그리고 병 안에는 3000/3*4=5000개의 젤리콩이 있습니다. 그리고 병 안에는 3000/5*4=6000개의 젤리콩이 있습니다. 정답: 6000 \\n질문: 카를로스는 한 해에 7개의 레몬을 심습니다. 레몬의 한 개의 레\n",
      "----\n"
     ]
    },
    {
     "name": "stderr",
     "output_type": "stream",
     "text": [
      "/userhomes/philhoon/miniconda3/envs/kt/lib/python3.8/site-packages/urllib3/connectionpool.py:1095: InsecureRequestWarning: Unverified HTTPS request is being made to host 'aiapi.genielabs.ai'. Adding certificate verification is strongly advised. See: https://urllib3.readthedocs.io/en/latest/advanced-usage.html#tls-warnings\n",
      "  warnings.warn(\n"
     ]
    },
    {
     "name": "stdout",
     "output_type": "stream",
     "text": [
      "prompt : \n",
      "질문: 항아리 안에 몇 개의 젤리빈이 있습니다. 젤리빈의 3/4은 빨간색이며, 빨간색 젤리빈의 1/4은 코코넛 맛입니다. 코코넛 맛 젤리빈이 750개이면, 항아리 안에는 몇 개의 젤리빈이 있나요? 풀이: 젤리콩이 750*4=3000개가 있습니다. 그리고 병 안에는 3000/3*4=4000개의 젤리콩이 있습니다. 정답: 4000 \\n질문: 멜라니는 문방구 판매원입니다. 그녀는 그녀의 진공 청소기 중 1/3을 초록색 집에서 팔았으며, 빨간 집에서 2개를 더 팔았으며, 남은 것 중 절반을 오렌지색 집에서 팔았습니다. 멜라니가 5개의 진공 청소기를 가지고 있다면, 그녀는 처음에 몇 개를 가지고 시작했을까요? 풀이: \n",
      "res_context : \n",
      "그리고 병 안에는 3000/3*4=2000개의 젤리콩이 있습니다. 정답: 2000 \\n질문: 제이크는 1/4 파운드의 무게가 있습니다. 그는 무게를 2/3\n",
      "----\n"
     ]
    },
    {
     "name": "stderr",
     "output_type": "stream",
     "text": [
      "/userhomes/philhoon/miniconda3/envs/kt/lib/python3.8/site-packages/urllib3/connectionpool.py:1095: InsecureRequestWarning: Unverified HTTPS request is being made to host 'aiapi.genielabs.ai'. Adding certificate verification is strongly advised. See: https://urllib3.readthedocs.io/en/latest/advanced-usage.html#tls-warnings\n",
      "  warnings.warn(\n"
     ]
    },
    {
     "name": "stdout",
     "output_type": "stream",
     "text": [
      "prompt : \n",
      "질문: 항아리 안에 몇 개의 젤리빈이 있습니다. 젤리빈의 3/4은 빨간색이며, 빨간색 젤리빈의 1/4은 코코넛 맛입니다. 코코넛 맛 젤리빈이 750개이면, 항아리 안에는 몇 개의 젤리빈이 있나요? 풀이: 젤리콩이 750*4=3000개가 있습니다. 그리고 병 안에는 3000/3*4=4000개의 젤리콩이 있습니다. 정답: 4000 \\n질문: 20명의 댄스 수업에서 20%가 현대무용에 등록했고, 나머지 학생 중 25%가 재즈댄스에 등록했으며, 나머지는 힙합댄스에 등록했습니다. 전체 학생 중 어느 정도의 백분율이 힙합댄스에 등록했습니까? 풀이: \n",
      "res_context : \n",
      "그리고 병 안에는 3000/4=2000개의 젤리콩이 있습니다. 정답: 2000 \\n질문: 한 반에는 20명의 학생이 있습니다. 그 중 25%는 재즈댄스에\n",
      "----\n"
     ]
    },
    {
     "name": "stderr",
     "output_type": "stream",
     "text": [
      "/userhomes/philhoon/miniconda3/envs/kt/lib/python3.8/site-packages/urllib3/connectionpool.py:1095: InsecureRequestWarning: Unverified HTTPS request is being made to host 'aiapi.genielabs.ai'. Adding certificate verification is strongly advised. See: https://urllib3.readthedocs.io/en/latest/advanced-usage.html#tls-warnings\n",
      "  warnings.warn(\n"
     ]
    },
    {
     "name": "stdout",
     "output_type": "stream",
     "text": [
      "prompt : \n",
      "질문: 항아리 안에 몇 개의 젤리빈이 있습니다. 젤리빈의 3/4은 빨간색이며, 빨간색 젤리빈의 1/4은 코코넛 맛입니다. 코코넛 맛 젤리빈이 750개이면, 항아리 안에는 몇 개의 젤리빈이 있나요? 풀이: 젤리콩이 750*4=3000개가 있습니다. 그리고 병 안에는 3000/3*4=4000개의 젤리콩이 있습니다. 정답: 4000 \\n질문: 상인은 2개의 구매 계획 중 하나를 선택하려고 합니다: 5,000달러짜리 보석 또는 8,000달러짜리 전자 기기. 그의 재무 자문가는 보석 시장이 같은 달 내에 2.5% 상승할 것으로 추정하고 전자 기기 시장은 1.2% 상승할 것으로 예상합니다. 상인은 선택을 통해 이번 달 말에 이익을 극대화하려고 합니다. 이익은 얼마나 될까요? 풀이: \n",
      "res_context : \n",
      "그리고 병 안에는 3000/3*4=5000개의 젤리콩이 있습니다. 정답: 5000 \\n질문: 한 상인이 5000달러짜리 보석과 8000달러짜리 전자 기기를 구매하려고 합니다. 그의 재무 자문가는 보석 시장이 같은 달 내에 2.5% 상승할 것으로\n",
      "----\n"
     ]
    },
    {
     "name": "stderr",
     "output_type": "stream",
     "text": [
      "/userhomes/philhoon/miniconda3/envs/kt/lib/python3.8/site-packages/urllib3/connectionpool.py:1095: InsecureRequestWarning: Unverified HTTPS request is being made to host 'aiapi.genielabs.ai'. Adding certificate verification is strongly advised. See: https://urllib3.readthedocs.io/en/latest/advanced-usage.html#tls-warnings\n",
      "  warnings.warn(\n"
     ]
    },
    {
     "name": "stdout",
     "output_type": "stream",
     "text": [
      "prompt : \n",
      "질문: 항아리 안에 몇 개의 젤리빈이 있습니다. 젤리빈의 3/4은 빨간색이며, 빨간색 젤리빈의 1/4은 코코넛 맛입니다. 코코넛 맛 젤리빈이 750개이면, 항아리 안에는 몇 개의 젤리빈이 있나요? 풀이: 젤리콩이 750*4=3000개가 있습니다. 그리고 병 안에는 3000/3*4=4000개의 젤리콩이 있습니다. 정답: 4000 \\n질문: 두 대의 기차가 동시에 샌라파엘을 출발합니다. 그들은 서쪽으로 여행을 시작하며, 모두 80마일을 여행합니다. 다음 날, 그들은 북쪽으로 여행하여 150마일을 이동합니다. 두 대의 기차가 두 날 동안 이동한 거리는 각각 얼마인가요? 풀이: \n",
      "res_context : \n",
      "그리고 두 대의 기차가 두 날 동안 이동한 거리는 각각 150마일과 80마일입니다. 정답: 150 + 80 = 2500 마일입니다. 두 대의 기차가 하루에 이동한 거리는 2500 마일입니다. 2일 동안 두 대의 기차가 이동한 거리는 2500 + 2500 = 2800 마일입니다. 정답: 2800 m\n",
      "----\n"
     ]
    },
    {
     "name": "stderr",
     "output_type": "stream",
     "text": [
      "/userhomes/philhoon/miniconda3/envs/kt/lib/python3.8/site-packages/urllib3/connectionpool.py:1095: InsecureRequestWarning: Unverified HTTPS request is being made to host 'aiapi.genielabs.ai'. Adding certificate verification is strongly advised. See: https://urllib3.readthedocs.io/en/latest/advanced-usage.html#tls-warnings\n",
      "  warnings.warn(\n"
     ]
    },
    {
     "name": "stdout",
     "output_type": "stream",
     "text": [
      "prompt : \n",
      "질문: 항아리 안에 몇 개의 젤리빈이 있습니다. 젤리빈의 3/4은 빨간색이며, 빨간색 젤리빈의 1/4은 코코넛 맛입니다. 코코넛 맛 젤리빈이 750개이면, 항아리 안에는 몇 개의 젤리빈이 있나요? 풀이: 젤리콩이 750*4=3000개가 있습니다. 그리고 병 안에는 3000/3*4=4000개의 젤리콩이 있습니다. 정답: 4000 \\n질문: 질은 가르치는 데 시간당 $20을 받고, 치어리딩 코치로 일할 때는 시간당 $30을 받습니다. 그녀가 1년에 50주 동안 일주일에 35시간을 가르치고, 주당 15시간을 코치로 일한다면, 연봉은 얼마입니까? 풀이: \n",
      "res_context : \n",
      "그리고 병 안에는 3000/4=2000개의 젤리콩이 있습니다. 정답: 2000 \\n질문: 질은 일주일에 20시간을 일하고 일주일에 15시간을 코치로 일합니다. 질은\n",
      "----\n"
     ]
    },
    {
     "name": "stderr",
     "output_type": "stream",
     "text": [
      "/userhomes/philhoon/miniconda3/envs/kt/lib/python3.8/site-packages/urllib3/connectionpool.py:1095: InsecureRequestWarning: Unverified HTTPS request is being made to host 'aiapi.genielabs.ai'. Adding certificate verification is strongly advised. See: https://urllib3.readthedocs.io/en/latest/advanced-usage.html#tls-warnings\n",
      "  warnings.warn(\n"
     ]
    },
    {
     "name": "stdout",
     "output_type": "stream",
     "text": [
      "prompt : \n",
      "질문: 항아리 안에 몇 개의 젤리빈이 있습니다. 젤리빈의 3/4은 빨간색이며, 빨간색 젤리빈의 1/4은 코코넛 맛입니다. 코코넛 맛 젤리빈이 750개이면, 항아리 안에는 몇 개의 젤리빈이 있나요? 풀이: 젤리콩이 750*4=3000개가 있습니다. 그리고 병 안에는 3000/3*4=4000개의 젤리콩이 있습니다. 정답: 4000 \\n질문: 클레어는 매일 아침 3개의 계란 오믈렛을 만듭니다. 4주 동안에는 몇 다스의 계란을 먹게 될까요? 풀이: \n",
      "res_context : \n",
      "그리고 4주 동안에는 3/5 = 24개의 계란을 먹게 됩니다. 정답: 24 n질문: 한 마리의 양은 2.5 파운드입니다. 한 마리의 소가 2 파운드\n",
      "----\n"
     ]
    },
    {
     "name": "stderr",
     "output_type": "stream",
     "text": [
      "/userhomes/philhoon/miniconda3/envs/kt/lib/python3.8/site-packages/urllib3/connectionpool.py:1095: InsecureRequestWarning: Unverified HTTPS request is being made to host 'aiapi.genielabs.ai'. Adding certificate verification is strongly advised. See: https://urllib3.readthedocs.io/en/latest/advanced-usage.html#tls-warnings\n",
      "  warnings.warn(\n"
     ]
    },
    {
     "name": "stdout",
     "output_type": "stream",
     "text": [
      "prompt : \n",
      "질문: 항아리 안에 몇 개의 젤리빈이 있습니다. 젤리빈의 3/4은 빨간색이며, 빨간색 젤리빈의 1/4은 코코넛 맛입니다. 코코넛 맛 젤리빈이 750개이면, 항아리 안에는 몇 개의 젤리빈이 있나요? 풀이: 젤리콩이 750*4=3000개가 있습니다. 그리고 병 안에는 3000/3*4=4000개의 젤리콩이 있습니다. 정답: 4000 \\n질문: 마리사는 12마일 길을 하이킹하고 있습니다. 그녀는 처음 4마일을 걷는 데 1시간이 걸렸으며, 다음 2마일을 걷는 데 또 다른 1시간이 걸렸습니다. 그녀가 평균 속도를 시간당 4마일로 유지하려면, 남은 거리를 걷기 위해 어떤 속도(마일당 시간)로 걷어야 합니까? 풀이: \n",
      "res_context : \n",
      "그리고 병 안에는 3000/3*4=4000개의 젤리콩이 있습니다. 젤리콩의 3/4은 빨간색이고 4000은 초록색입니다. 병 안에는 7500개의 젤리빈이 있습니다. 정답: 4000 마리사가 12마일 길을 하이킹하고 있습니다. 그녀는 처음 4마일을 걷는 데 1시간이 걸렸으며, 다음 2마일을 걷는\n",
      "----\n"
     ]
    },
    {
     "name": "stderr",
     "output_type": "stream",
     "text": [
      "/userhomes/philhoon/miniconda3/envs/kt/lib/python3.8/site-packages/urllib3/connectionpool.py:1095: InsecureRequestWarning: Unverified HTTPS request is being made to host 'aiapi.genielabs.ai'. Adding certificate verification is strongly advised. See: https://urllib3.readthedocs.io/en/latest/advanced-usage.html#tls-warnings\n",
      "  warnings.warn(\n"
     ]
    },
    {
     "name": "stdout",
     "output_type": "stream",
     "text": [
      "prompt : \n",
      "질문: 항아리 안에 몇 개의 젤리빈이 있습니다. 젤리빈의 3/4은 빨간색이며, 빨간색 젤리빈의 1/4은 코코넛 맛입니다. 코코넛 맛 젤리빈이 750개이면, 항아리 안에는 몇 개의 젤리빈이 있나요? 풀이: 젤리콩이 750*4=3000개가 있습니다. 그리고 병 안에는 3000/3*4=4000개의 젤리콩이 있습니다. 정답: 4000 \\n질문: 저는 2/3이 물인 오렌지 음료를 10리터 가지고 있고, 3/5가 물인 파인애플 음료 15리터에 추가하려고 합니다. 그러나 따르는 도중에 오렌지 음료 1리터를 쏟았습니다. 남은 24리터에는 얼마나 많은 물이 있나요? 풀이: \n",
      "res_context : \n",
      "그리고 병 안에는 3000/3*4=6000개의 젤리콩이 있습니다. 정답: 6000 \\n질문: 한 항아리의 물은 2/3이 물이고 3/5가 물입니다. 한 항아리의 물을 2/3\n",
      "----\n"
     ]
    },
    {
     "name": "stderr",
     "output_type": "stream",
     "text": [
      "/userhomes/philhoon/miniconda3/envs/kt/lib/python3.8/site-packages/urllib3/connectionpool.py:1095: InsecureRequestWarning: Unverified HTTPS request is being made to host 'aiapi.genielabs.ai'. Adding certificate verification is strongly advised. See: https://urllib3.readthedocs.io/en/latest/advanced-usage.html#tls-warnings\n",
      "  warnings.warn(\n"
     ]
    },
    {
     "name": "stdout",
     "output_type": "stream",
     "text": [
      "prompt : \n",
      "질문: 항아리 안에 몇 개의 젤리빈이 있습니다. 젤리빈의 3/4은 빨간색이며, 빨간색 젤리빈의 1/4은 코코넛 맛입니다. 코코넛 맛 젤리빈이 750개이면, 항아리 안에는 몇 개의 젤리빈이 있나요? 풀이: 젤리콩이 750*4=3000개가 있습니다. 그리고 병 안에는 3000/3*4=4000개의 젤리콩이 있습니다. 정답: 4000 \\n질문: 레이몬드와 사만다는 사촌입니다. 레이몬드는 사만다보다 6년 먼저 태어났습니다. 레이몬드는 23살 때 아들을 가졌습니다. 사만다가 지금 31살이라면, 레이몬드의 아들이 태어난 지 몇 년이 지났을까요? 풀이: \n",
      "res_context : \n",
      "그리고 병 안에는 3000/3*4=1000개의 젤리콩이 있습니다. 정답: 1000 \\n질문: 레이몬드는 사만다보다 6년 먼저 태어났습니다. 사만다는 레이몬드보다 23살 더 많습니다.\n",
      "----\n"
     ]
    }
   ],
   "source": [
    "cnt = 0\n",
    "cnt_fix = 0\n",
    "split_cnt = 0\n",
    "input_lst = []\n",
    "output_lst = []\n",
    "\n",
    "for ins in data:\n",
    "#     prompt = ins['kor_question_reason']\n",
    "\n",
    "    kor_que = ins['kor_question']\n",
    "    kor_ans = ins['kor_answer']\n",
    "    ans_s = ins['answer_s']\n",
    "    kor_ans = ins['kor_answer']\n",
    "    \n",
    "    prompt, out_ = get_gsm8k_build_data_with_one_shot_cot_finetuning(kor_que, kor_ans, ans_s, PROMPT2)\n",
    "\n",
    "\n",
    "    body = get_body(prompt, BODY_TEMP)\n",
    "    response = model.generate(body)\n",
    "    res_context = response.json()['data'][0]['result'][0]\n",
    "    \n",
    "    print(f'prompt : ')\n",
    "    print(prompt)\n",
    "    print(f'res_context : ')\n",
    "    print(res_context)\n",
    "    print('----')\n",
    "    \n",
    "#     break\n",
    "    # checking whether there is an answer \n",
    "#     test = kor_que.split('\\n')\n",
    "    \n",
    "#     if len(test[0]) != len(kor_que):\n",
    "#         split_cnt += 1\n",
    "#         continue\n",
    "    \n",
    "#     print(f'kor_que')\n",
    "#     print(f'{kor_que}')\n",
    "#     print(f'kor_ans')\n",
    "#     print(f'{kor_ans}')\n",
    "#     print(f'ans_s')\n",
    "#     print(f'{ans_s}')\n",
    "    \n",
    "#     ins['peft1_infer'] = res_context\n",
    "#     jsonl_writer.write_json_line(ins)\n",
    "    \n",
    "    if cnt == 20:\n",
    "        break\n",
    "    else:\n",
    "        cnt += 1"
   ]
  },
  {
   "cell_type": "code",
   "execution_count": null,
   "id": "2b4bd594",
   "metadata": {},
   "outputs": [],
   "source": [
    "len(data) - split_cnt"
   ]
  },
  {
   "cell_type": "code",
   "execution_count": null,
   "id": "d942c2fb",
   "metadata": {},
   "outputs": [],
   "source": [
    "len(input_lst)"
   ]
  },
  {
   "cell_type": "code",
   "execution_count": null,
   "id": "22777d6d",
   "metadata": {},
   "outputs": [],
   "source": [
    "len(output_lst)"
   ]
  },
  {
   "cell_type": "code",
   "execution_count": null,
   "id": "a55b80bb",
   "metadata": {},
   "outputs": [],
   "source": [
    "def save_csv_file(file_path, sentence_a_list, sentence_b_list):\n",
    "    with open(file_path, 'w', newline='', encoding='utf-8') as csv_file:\n",
    "        writer = csv.writer(csv_file)\n",
    "        for sentence_a, sentence_b in zip(sentence_a_list, sentence_b_list):\n",
    "            writer.writerow([sentence_a, sentence_b])"
   ]
  },
  {
   "cell_type": "code",
   "execution_count": null,
   "id": "7e71d4f2",
   "metadata": {},
   "outputs": [],
   "source": [
    "output_path = '/userhomes/philhoon/kt-ai-challenge/result'"
   ]
  },
  {
   "cell_type": "code",
   "execution_count": null,
   "id": "83b04f11",
   "metadata": {},
   "outputs": [],
   "source": [
    "output_file = output_path + '/kor-gsm8k-reason-train.csv'"
   ]
  },
  {
   "cell_type": "code",
   "execution_count": null,
   "id": "339b6d5b",
   "metadata": {},
   "outputs": [],
   "source": [
    "output_file"
   ]
  },
  {
   "cell_type": "code",
   "execution_count": null,
   "id": "f20d1402",
   "metadata": {},
   "outputs": [],
   "source": [
    "save_csv_file(output_file, input_lst, output_lst)"
   ]
  },
  {
   "cell_type": "code",
   "execution_count": null,
   "id": "b8d7a499",
   "metadata": {},
   "outputs": [],
   "source": [
    "input_lst[1]"
   ]
  },
  {
   "cell_type": "code",
   "execution_count": null,
   "id": "705bf356",
   "metadata": {},
   "outputs": [],
   "source": [
    "output_lst[1]"
   ]
  }
 ],
 "metadata": {
  "kernelspec": {
   "display_name": "Python 3 (ipykernel)",
   "language": "python",
   "name": "python3"
  },
  "language_info": {
   "codemirror_mode": {
    "name": "ipython",
    "version": 3
   },
   "file_extension": ".py",
   "mimetype": "text/x-python",
   "name": "python",
   "nbconvert_exporter": "python",
   "pygments_lexer": "ipython3",
   "version": "3.8.17"
  }
 },
 "nbformat": 4,
 "nbformat_minor": 5
}
